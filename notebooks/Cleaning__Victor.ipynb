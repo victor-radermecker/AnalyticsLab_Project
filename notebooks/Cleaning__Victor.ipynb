{
 "cells": [
  {
   "cell_type": "code",
   "execution_count": 1,
   "metadata": {},
   "outputs": [],
   "source": [
    "import pandas as pd\n",
    "from cleaning_pipeline import * \n",
    "\n",
    "import warnings\n",
    "warnings.filterwarnings('ignore')\n",
    "\n",
    "# automatically refresh imported modules\n",
    "%reload_ext autoreload\n",
    "%autoreload 2"
   ]
  },
  {
   "cell_type": "code",
   "execution_count": 12,
   "metadata": {},
   "outputs": [],
   "source": [
    "# Store data locally for confidentiality reasons!\n",
    "#data_path = \"/Users/victor/Documents/Confidential Dataset/ML_NOAC_NOVA_Extraction.csv\"\n",
    "data_path = \"/home/azanon/ML_NOAC_NOVA_Extraction.csv\"\n",
    "\n",
    "\n",
    "# Read data\n",
    "df = pd.read_csv(data_path)\n",
    "\n",
    "# split the dataset in two equal parts\n",
    "# df1 = df.iloc[: int(len(df) / 2), :]\n",
    "# df2 = df.iloc[int(len(df) / 2) :, :]\n",
    "\n",
    "# path1 = \"/Users/victor/Documents/Confidential Dataset/ML_NOAC_NOVA_Extraction_Cleaned_DF1.csv\"\n",
    "# path2 = \"/Users/victor/Documents/Confidential Dataset/ML_NOAC_NOVA_Extraction_Cleaned_DF2.csv\"\n"
   ]
  },
  {
   "cell_type": "code",
   "execution_count": 15,
   "metadata": {},
   "outputs": [],
   "source": [
    "path3 = \"/Users/victor/Documents/Confidential Dataset/ML_NOAC_NOVA_Extraction_Cleaned_DF3_Full.csv\"\n",
    "path4 = \"/Users/victor/Documents/Confidential Dataset/ML_NOAC_NOVA_Extraction_Cleaned_DF4_Full.csv\""
   ]
  },
  {
   "cell_type": "code",
   "execution_count": null,
   "metadata": {},
   "outputs": [],
   "source": [
    "data_cleaning(df, path4, lemmatize=False, stopwords=False, english_words=False)"
   ]
  },
  {
   "cell_type": "code",
   "execution_count": null,
   "metadata": {},
   "outputs": [],
   "source": [
    "data_cleaning(df)"
   ]
  },
  {
   "cell_type": "code",
   "execution_count": 8,
   "metadata": {},
   "outputs": [],
   "source": [
    "pd.set_option('display.max_rows', 1000)\n",
    "\n",
    "path1 = \"/Users/victor/Documents/Confidential Dataset/ML_NOAC_NOVA_Extraction_Cleaned_DF1.csv\"\n",
    "df = pd.read_csv(path1)"
   ]
  },
  {
   "cell_type": "code",
   "execution_count": 2,
   "metadata": {},
   "outputs": [],
   "source": [
    "path1 = \"/Users/victor/Documents/Confidential Dataset/ML_NOAC_NOVA_Extraction_Cleaned_DF1.csv\"\n",
    "path2 = \"/Users/victor/Documents/Confidential Dataset/ML_NOAC_NOVA_Extraction_Cleaned_DF2.csv\""
   ]
  },
  {
   "cell_type": "code",
   "execution_count": 3,
   "metadata": {},
   "outputs": [],
   "source": [
    "df1 = pd.read_csv(path1)\n",
    "df2 = pd.read_csv(path2)"
   ]
  },
  {
   "cell_type": "code",
   "execution_count": null,
   "metadata": {},
   "outputs": [],
   "source": [
    "df = df1.append(df2)\n",
    "\n",
    "df.head(1000)"
   ]
  },
  {
   "cell_type": "code",
   "execution_count": 17,
   "metadata": {},
   "outputs": [],
   "source": [
    "# load csv\n",
    "df = pd.read_csv(path3)"
   ]
  },
  {
   "cell_type": "code",
   "execution_count": null,
   "metadata": {},
   "outputs": [],
   "source": []
  },
  {
   "cell_type": "code",
   "execution_count": null,
   "metadata": {},
   "outputs": [],
   "source": []
  }
 ],
 "metadata": {
  "kernelspec": {
   "display_name": "Python 3 (ipykernel)",
   "language": "python",
   "name": "python3"
  },
  "language_info": {
   "codemirror_mode": {
    "name": "ipython",
    "version": 3
   },
   "file_extension": ".py",
   "mimetype": "text/x-python",
   "name": "python",
   "nbconvert_exporter": "python",
   "pygments_lexer": "ipython3",
   "version": "3.10.6"
  },
  "vscode": {
   "interpreter": {
    "hash": "bfe6f45ecf374f0b90968f2209cadc71235e6ef8554841b35fd27a05b14fd144"
   }
  }
 },
 "nbformat": 4,
 "nbformat_minor": 4
}
