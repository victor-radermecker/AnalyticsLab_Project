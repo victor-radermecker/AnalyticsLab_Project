{
 "cells": [
  {
   "cell_type": "code",
   "execution_count": 1,
   "metadata": {},
   "outputs": [
    {
     "name": "stderr",
     "output_type": "stream",
     "text": [
      "c:\\Users\\guill\\anaconda3\\lib\\site-packages\\scipy\\__init__.py:146: UserWarning: A NumPy version >=1.16.5 and <1.23.0 is required for this version of SciPy (detected version 1.23.3\n",
      "  warnings.warn(f\"A NumPy version >={np_minversion} and <{np_maxversion}\"\n"
     ]
    }
   ],
   "source": [
    "import numpy as np\n",
    "import pandas as pd\n",
    "import string\n",
    "import spacy\n",
    "import math\n",
    "import re\n",
    "from sklearn.decomposition import PCA\n",
    "import plotly.express as px\n",
    "from sklearn.model_selection import train_test_split\n",
    "from sklearn.feature_extraction._stop_words import ENGLISH_STOP_WORDS\n",
    "from tqdm import tqdm\n",
    "from sklearn.preprocessing import LabelEncoder\n",
    "from keras.preprocessing.text import Tokenizer\n",
    "from keras_preprocessing.sequence import pad_sequences\n",
    "from keras.layers import Dense, Input, LSTM, Embedding, Dropout, Activation\n",
    "from keras.layers import Bidirectional\n",
    "from keras.models import Model\n",
    "import tensorflow as tf\n",
    "from  matplotlib import pyplot as plt\n",
    "from sklearn.metrics import confusion_matrix,f1_score, precision_score,recall_score\n",
    "import seaborn as sns\n",
    "import matplotlib.pyplot as plt"
   ]
  },
  {
   "cell_type": "code",
   "execution_count": 2,
   "metadata": {},
   "outputs": [
    {
     "data": {
      "text/html": [
       "<div>\n",
       "<style scoped>\n",
       "    .dataframe tbody tr th:only-of-type {\n",
       "        vertical-align: middle;\n",
       "    }\n",
       "\n",
       "    .dataframe tbody tr th {\n",
       "        vertical-align: top;\n",
       "    }\n",
       "\n",
       "    .dataframe thead th {\n",
       "        text-align: right;\n",
       "    }\n",
       "</style>\n",
       "<table border=\"1\" class=\"dataframe\">\n",
       "  <thead>\n",
       "    <tr style=\"text-align: right;\">\n",
       "      <th></th>\n",
       "      <th>CaseNumber</th>\n",
       "      <th>Type</th>\n",
       "      <th>Topics</th>\n",
       "      <th>TeamName</th>\n",
       "      <th>RequesterEmail</th>\n",
       "      <th>EmailObject</th>\n",
       "      <th>LastEmailCCAddress</th>\n",
       "      <th>AttributesURL</th>\n",
       "      <th>ContactAttributesURL</th>\n",
       "      <th>ContactEmail</th>\n",
       "      <th>LastIncomingEmailContent</th>\n",
       "      <th>LastEmailCCAddressCount</th>\n",
       "    </tr>\n",
       "  </thead>\n",
       "  <tbody>\n",
       "    <tr>\n",
       "      <th>0</th>\n",
       "      <td>100124562</td>\n",
       "      <td>0</td>\n",
       "      <td>T039</td>\n",
       "      <td>US-NOR-CMA-BKG-PREFERRED</td>\n",
       "      <td>NaN</td>\n",
       "      <td>NAM4999926A</td>\n",
       "      <td>op@easywayintl.com</td>\n",
       "      <td>5005p00002evRjHAAU</td>\n",
       "      <td>0035p00003aZAdZAAW</td>\n",
       "      <td>usa.wcportops@cma-cgm.com</td>\n",
       "      <td>\\n\\n\\nThank you Jessica! Await your further on...</td>\n",
       "      <td>1</td>\n",
       "    </tr>\n",
       "    <tr>\n",
       "      <th>1</th>\n",
       "      <td>100080371</td>\n",
       "      <td>0</td>\n",
       "      <td>T036</td>\n",
       "      <td>US-BNA-CMA-CS-IMP-DIVERSIONS</td>\n",
       "      <td>NaN</td>\n",
       "      <td>MOGELIJKE COD'S F119086 // RTM</td>\n",
       "      <td>janneke.van.leeuwen@fclmarine.nl; executivedes...</td>\n",
       "      <td>5005p00002evWsuAAE</td>\n",
       "      <td>0030N00003N771RQAR</td>\n",
       "      <td>janneke.van.leeuwen@fclmarine.nl</td>\n",
       "      <td>\\nHi Nese,\\n \\nInmiddels de aangepaste bl’s al...</td>\n",
       "      <td>5</td>\n",
       "    </tr>\n",
       "    <tr>\n",
       "      <th>2</th>\n",
       "      <td>100095395</td>\n",
       "      <td>0</td>\n",
       "      <td>T035</td>\n",
       "      <td>US-NOR-CMA-BKG-PREFERRED</td>\n",
       "      <td>tina@generallogistics.net</td>\n",
       "      <td>AMEND NAM5088900    [ ref:_00D</td>\n",
       "      <td>bookings@generallogistics.net</td>\n",
       "      <td>5005p00002evX4SAAU</td>\n",
       "      <td>0030N00002x1JqPQAU</td>\n",
       "      <td>tina@generallogistics.net</td>\n",
       "      <td>\\nHello,\\nPlease SPLIT subject line booking to...</td>\n",
       "      <td>1</td>\n",
       "    </tr>\n",
       "    <tr>\n",
       "      <th>3</th>\n",
       "      <td>100097054</td>\n",
       "      <td>0</td>\n",
       "      <td>T847</td>\n",
       "      <td>US-NOR-CMA-BKG-SPECIALTY</td>\n",
       "      <td>bookings@delongcompany.com</td>\n",
       "      <td>FW: CMA CGM - Cut-off date cha</td>\n",
       "      <td>usa.cmaexportactive@usa.cma-cgm.com</td>\n",
       "      <td>5005p00002evXIsAAM</td>\n",
       "      <td>0030N00002tXvvIQAS</td>\n",
       "      <td>bookings@delongcompany.com</td>\n",
       "      <td>CMA CGM - Cut-off date change at - NEW YORK, N...</td>\n",
       "      <td>1</td>\n",
       "    </tr>\n",
       "    <tr>\n",
       "      <th>4</th>\n",
       "      <td>100097055</td>\n",
       "      <td>0</td>\n",
       "      <td>T847</td>\n",
       "      <td>US-NOR-CMA-BKG-SPECIALTY</td>\n",
       "      <td>bookings@delongcompany.com</td>\n",
       "      <td>FW: CMA CGM - Cut-off date cha</td>\n",
       "      <td>NaN</td>\n",
       "      <td>5005p00002evXItAAM</td>\n",
       "      <td>0030N00002tXvvIQAS</td>\n",
       "      <td>bookings@delongcompany.com</td>\n",
       "      <td>CMA CGM - Cut-off date change at - NEW YORK, N...</td>\n",
       "      <td>0</td>\n",
       "    </tr>\n",
       "  </tbody>\n",
       "</table>\n",
       "</div>"
      ],
      "text/plain": [
       "   CaseNumber  Type Topics                      TeamName  \\\n",
       "0   100124562     0   T039      US-NOR-CMA-BKG-PREFERRED   \n",
       "1   100080371     0   T036  US-BNA-CMA-CS-IMP-DIVERSIONS   \n",
       "2   100095395     0   T035      US-NOR-CMA-BKG-PREFERRED   \n",
       "3   100097054     0   T847      US-NOR-CMA-BKG-SPECIALTY   \n",
       "4   100097055     0   T847      US-NOR-CMA-BKG-SPECIALTY   \n",
       "\n",
       "               RequesterEmail                      EmailObject  \\\n",
       "0                         NaN                     NAM4999926A    \n",
       "1                         NaN  MOGELIJKE COD'S F119086 // RTM    \n",
       "2   tina@generallogistics.net  AMEND NAM5088900    [ ref:_00D    \n",
       "3  bookings@delongcompany.com  FW: CMA CGM - Cut-off date cha    \n",
       "4  bookings@delongcompany.com  FW: CMA CGM - Cut-off date cha    \n",
       "\n",
       "                                  LastEmailCCAddress       AttributesURL  \\\n",
       "0                                 op@easywayintl.com  5005p00002evRjHAAU   \n",
       "1  janneke.van.leeuwen@fclmarine.nl; executivedes...  5005p00002evWsuAAE   \n",
       "2                      bookings@generallogistics.net  5005p00002evX4SAAU   \n",
       "3                usa.cmaexportactive@usa.cma-cgm.com  5005p00002evXIsAAM   \n",
       "4                                                NaN  5005p00002evXItAAM   \n",
       "\n",
       "  ContactAttributesURL                      ContactEmail  \\\n",
       "0   0035p00003aZAdZAAW         usa.wcportops@cma-cgm.com   \n",
       "1   0030N00003N771RQAR  janneke.van.leeuwen@fclmarine.nl   \n",
       "2   0030N00002x1JqPQAU         tina@generallogistics.net   \n",
       "3   0030N00002tXvvIQAS        bookings@delongcompany.com   \n",
       "4   0030N00002tXvvIQAS        bookings@delongcompany.com   \n",
       "\n",
       "                            LastIncomingEmailContent  LastEmailCCAddressCount  \n",
       "0  \\n\\n\\nThank you Jessica! Await your further on...                        1  \n",
       "1  \\nHi Nese,\\n \\nInmiddels de aangepaste bl’s al...                        5  \n",
       "2  \\nHello,\\nPlease SPLIT subject line booking to...                        1  \n",
       "3  CMA CGM - Cut-off date change at - NEW YORK, N...                        1  \n",
       "4  CMA CGM - Cut-off date change at - NEW YORK, N...                        0  "
      ]
     },
     "execution_count": 2,
     "metadata": {},
     "output_type": "execute_result"
    }
   ],
   "source": [
    "data = pd.read_csv(\"C:/Users/guill/Documents/ML_NOAC_NOVA_Extraction_Cleaned.csv\")\n",
    "data.head()"
   ]
  },
  {
   "cell_type": "code",
   "execution_count": 3,
   "metadata": {},
   "outputs": [],
   "source": [
    "emails_train, emails_test, target_train, target_test = train_test_split(data[\"LastIncomingEmailContent\"],data[\"Type\"],test_size = 0.2) "
   ]
  },
  {
   "cell_type": "code",
   "execution_count": 4,
   "metadata": {},
   "outputs": [],
   "source": [
    "def to_lower(word):\n",
    "    result = word.lower()\n",
    "    return result"
   ]
  },
  {
   "cell_type": "code",
   "execution_count": 5,
   "metadata": {},
   "outputs": [],
   "source": [
    "def remove_punctuation(word):\n",
    "    result= word.translate(str.maketrans(dict.fromkeys(string.punctuation)))\n",
    "    return result"
   ]
  },
  {
   "cell_type": "code",
   "execution_count": 6,
   "metadata": {},
   "outputs": [],
   "source": [
    "def remove_stop_words(words):\n",
    "    result = [i for i in words if i not in ENGLISH_STOP_WORDS]\n",
    "    return result"
   ]
  },
  {
   "cell_type": "code",
   "execution_count": 7,
   "metadata": {},
   "outputs": [],
   "source": [
    "def remove_hyperlink(word):\n",
    "    return re.sub(r\"http\\S+\", \"\", word)"
   ]
  },
  {
   "cell_type": "code",
   "execution_count": 8,
   "metadata": {},
   "outputs": [],
   "source": [
    "def replace_newline(word):\n",
    "    return word.replace('\\n','')"
   ]
  },
  {
   "cell_type": "code",
   "execution_count": 9,
   "metadata": {},
   "outputs": [],
   "source": [
    "def remove_number(word):\n",
    "    result = re.sub(r'\\d+', '', word)\n",
    "    return result"
   ]
  },
  {
   "cell_type": "code",
   "execution_count": 10,
   "metadata": {},
   "outputs": [],
   "source": [
    "def remove_whitespace(word):\n",
    "    result = word.strip()\n",
    "    return result"
   ]
  },
  {
   "cell_type": "code",
   "execution_count": 11,
   "metadata": {},
   "outputs": [],
   "source": [
    "def introduce_empty(word):\n",
    "    if not word or not isinstance(word, str) or len(word) == 0:\n",
    "        return \"[EMPTY]\"\n",
    "    return word"
   ]
  },
  {
   "cell_type": "code",
   "execution_count": 12,
   "metadata": {},
   "outputs": [],
   "source": [
    "def clean_up_pipeline(sentence):\n",
    "    cleaning_utils = [introduce_empty,\n",
    "                      remove_hyperlink,\n",
    "                      replace_newline,\n",
    "                      to_lower,\n",
    "                      remove_number,\n",
    "                      remove_punctuation,\n",
    "                      remove_whitespace]\n",
    "    for o in cleaning_utils:\n",
    "        sentence = o(sentence)\n",
    "    return sentence"
   ]
  },
  {
   "cell_type": "code",
   "execution_count": 13,
   "metadata": {},
   "outputs": [
    {
     "name": "stderr",
     "output_type": "stream",
     "text": [
      "100%|██████████| 200987/200987 [00:43<00:00, 4673.04it/s]\n"
     ]
    }
   ],
   "source": [
    "x_train = [clean_up_pipeline(o) for o in tqdm(emails_train)]"
   ]
  },
  {
   "cell_type": "code",
   "execution_count": 14,
   "metadata": {},
   "outputs": [
    {
     "name": "stderr",
     "output_type": "stream",
     "text": [
      "100%|██████████| 50247/50247 [00:10<00:00, 4699.46it/s]\n"
     ]
    }
   ],
   "source": [
    "x_test = [clean_up_pipeline(o) for o in tqdm(emails_test)]"
   ]
  },
  {
   "cell_type": "code",
   "execution_count": 15,
   "metadata": {},
   "outputs": [],
   "source": [
    "le = LabelEncoder()\n",
    "train_y = le.fit_transform(target_train.values)\n",
    "test_y = le.transform(target_test.values)"
   ]
  },
  {
   "cell_type": "code",
   "execution_count": 16,
   "metadata": {},
   "outputs": [],
   "source": [
    "## some config values \n",
    "embed_size = 100 # how big is each word vector\n",
    "max_feature = 25000 # how many unique words to use (i.e num rows in embedding vector)\n",
    "max_len = 500 # max number of words in a question to use"
   ]
  },
  {
   "cell_type": "code",
   "execution_count": 17,
   "metadata": {},
   "outputs": [
    {
     "name": "stderr",
     "output_type": "stream",
     "text": [
      "C:\\Users\\guill\\AppData\\Local\\Temp\\ipykernel_64576\\904228051.py:3: VisibleDeprecationWarning: Creating an ndarray from ragged nested sequences (which is a list-or-tuple of lists-or-tuples-or ndarrays with different lengths or shapes) is deprecated. If you meant to do this, you must specify 'dtype=object' when creating the ndarray.\n",
      "  x_train_features = np.array(tokenizer.texts_to_sequences(x_train))\n",
      "C:\\Users\\guill\\AppData\\Local\\Temp\\ipykernel_64576\\904228051.py:4: VisibleDeprecationWarning: Creating an ndarray from ragged nested sequences (which is a list-or-tuple of lists-or-tuples-or ndarrays with different lengths or shapes) is deprecated. If you meant to do this, you must specify 'dtype=object' when creating the ndarray.\n",
      "  x_test_features = np.array(tokenizer.texts_to_sequences(x_test))\n"
     ]
    }
   ],
   "source": [
    "tokenizer = Tokenizer(num_words=max_feature)\n",
    "tokenizer.fit_on_texts(x_train)\n",
    "x_train_features = np.array(tokenizer.texts_to_sequences(x_train))\n",
    "x_test_features = np.array(tokenizer.texts_to_sequences(x_test))"
   ]
  },
  {
   "cell_type": "code",
   "execution_count": 18,
   "metadata": {},
   "outputs": [],
   "source": [
    "x_train_features = pad_sequences(x_train_features,maxlen=max_len)\n",
    "x_test_features = pad_sequences(x_test_features,maxlen=max_len)"
   ]
  },
  {
   "cell_type": "code",
   "execution_count": 19,
   "metadata": {},
   "outputs": [
    {
     "name": "stdout",
     "output_type": "stream",
     "text": [
      "Model: \"sequential\"\n",
      "_________________________________________________________________\n",
      " Layer (type)                Output Shape              Param #   \n",
      "=================================================================\n",
      " embedding (Embedding)       (None, 500, 32)           800000    \n",
      "                                                                 \n",
      " bidirectional (Bidirectiona  (None, 128)              49664     \n",
      " l)                                                              \n",
      "                                                                 \n",
      " dense (Dense)               (None, 16)                2064      \n",
      "                                                                 \n",
      " dropout (Dropout)           (None, 16)                0         \n",
      "                                                                 \n",
      " dense_1 (Dense)             (None, 1)                 17        \n",
      "                                                                 \n",
      "=================================================================\n",
      "Total params: 851,745\n",
      "Trainable params: 851,745\n",
      "Non-trainable params: 0\n",
      "_________________________________________________________________\n",
      "None\n"
     ]
    }
   ],
   "source": [
    "#size of the output vector from each layer\n",
    "embedding_vector_length = 32\n",
    "#Creating a sequential model\n",
    "model = tf.keras.Sequential()\n",
    "#Creating an embedding layer to vectorize\n",
    "model.add(Embedding(max_feature, embedding_vector_length, input_length=max_len))\n",
    "#Addding Bi-directional LSTM\n",
    "model.add(Bidirectional(tf.keras.layers.LSTM(64)))\n",
    "#Relu allows converging quickly and allows backpropagation\n",
    "model.add(Dense(16, activation='relu'))\n",
    "#Deep Learninng models can be overfit easily, to avoid this, we add randomization using drop out\n",
    "model.add(Dropout(0.1))\n",
    "#Adding sigmoid activation function to normalize the output\n",
    "model.add(Dense(1, activation='sigmoid'))\n",
    "model.compile(loss='binary_crossentropy', optimizer='adam', metrics=[tf.keras.metrics.Precision()])\n",
    "print(model.summary())"
   ]
  },
  {
   "cell_type": "code",
   "execution_count": 20,
   "metadata": {},
   "outputs": [
    {
     "name": "stdout",
     "output_type": "stream",
     "text": [
      "Num GPUs Available:  1\n"
     ]
    }
   ],
   "source": [
    "print(\"Num GPUs Available: \", len(tf.config.experimental.list_physical_devices('GPU'))) #print no of GPU device"
   ]
  },
  {
   "cell_type": "code",
   "execution_count": 21,
   "metadata": {},
   "outputs": [
    {
     "name": "stdout",
     "output_type": "stream",
     "text": [
      "Epoch 1/20\n",
      "393/393 [==============================] - 49s 114ms/step - loss: 0.5007 - precision: 0.6293 - val_loss: 0.4860 - val_precision: 0.8959\n",
      "Epoch 2/20\n",
      "393/393 [==============================] - 43s 109ms/step - loss: 0.4378 - precision: 0.6849 - val_loss: 0.4293 - val_precision: 0.6464\n",
      "Epoch 3/20\n",
      "393/393 [==============================] - 49s 124ms/step - loss: 0.4016 - precision: 0.7071 - val_loss: 0.4180 - val_precision: 0.6851\n",
      "Epoch 4/20\n",
      "393/393 [==============================] - 47s 119ms/step - loss: 0.3784 - precision: 0.7275 - val_loss: 0.4065 - val_precision: 0.7036\n",
      "Epoch 5/20\n",
      "393/393 [==============================] - 55s 140ms/step - loss: 0.3580 - precision: 0.7421 - val_loss: 0.4068 - val_precision: 0.7120\n",
      "Epoch 6/20\n",
      "393/393 [==============================] - 61s 155ms/step - loss: 0.3552 - precision: 0.7530 - val_loss: 0.4270 - val_precision: 0.7605\n",
      "Epoch 7/20\n",
      "393/393 [==============================] - 65s 166ms/step - loss: 0.3450 - precision: 0.7631 - val_loss: 0.4159 - val_precision: 0.7149\n",
      "Epoch 8/20\n",
      "393/393 [==============================] - 56s 143ms/step - loss: 0.3193 - precision: 0.7801 - val_loss: 0.4270 - val_precision: 0.6917\n",
      "Epoch 9/20\n",
      "393/393 [==============================] - 59s 149ms/step - loss: 0.3100 - precision: 0.7901 - val_loss: 0.4267 - val_precision: 0.7187\n",
      "Epoch 10/20\n",
      "393/393 [==============================] - 43s 109ms/step - loss: 0.2973 - precision: 0.7971 - val_loss: 0.4357 - val_precision: 0.7100\n",
      "Epoch 11/20\n",
      "393/393 [==============================] - 45s 115ms/step - loss: 0.2910 - precision: 0.8039 - val_loss: 0.4625 - val_precision: 0.6969\n",
      "Epoch 12/20\n",
      "393/393 [==============================] - 56s 143ms/step - loss: 0.2842 - precision: 0.8080 - val_loss: 0.4589 - val_precision: 0.6923\n",
      "Epoch 13/20\n",
      "393/393 [==============================] - 67s 170ms/step - loss: 0.2716 - precision: 0.8184 - val_loss: 0.4662 - val_precision: 0.7039\n",
      "Epoch 14/20\n",
      "393/393 [==============================] - 55s 140ms/step - loss: 0.2859 - precision: 0.8097 - val_loss: 0.4815 - val_precision: 0.7029\n",
      "Epoch 15/20\n",
      "393/393 [==============================] - 56s 144ms/step - loss: 0.2678 - precision: 0.8197 - val_loss: 0.4975 - val_precision: 0.6907\n",
      "Epoch 16/20\n",
      "393/393 [==============================] - 58s 149ms/step - loss: 0.2643 - precision: 0.8250 - val_loss: 0.4967 - val_precision: 0.6938\n",
      "Epoch 17/20\n",
      "393/393 [==============================] - 64s 163ms/step - loss: 0.2494 - precision: 0.8331 - val_loss: 0.5354 - val_precision: 0.7007\n",
      "Epoch 18/20\n",
      "393/393 [==============================] - 42s 108ms/step - loss: 0.2437 - precision: 0.8395 - val_loss: 0.5246 - val_precision: 0.6874\n",
      "Epoch 19/20\n",
      "393/393 [==============================] - 42s 108ms/step - loss: 0.2386 - precision: 0.8425 - val_loss: 0.5830 - val_precision: 0.7129\n",
      "Epoch 20/20\n",
      "393/393 [==============================] - 45s 115ms/step - loss: 0.2778 - precision: 0.8278 - val_loss: 0.5438 - val_precision: 0.6729\n"
     ]
    }
   ],
   "source": [
    "history = model.fit(x_train_features, train_y, batch_size=512, epochs=20, validation_data=(x_test_features, test_y))"
   ]
  },
  {
   "cell_type": "code",
   "execution_count": 22,
   "metadata": {},
   "outputs": [
    {
     "data": {
      "image/png": "[encoded data removed]",
      "text/plain": [
       "<Figure size 640x480 with 1 Axes>"
      ]
     },
     "metadata": {},
     "output_type": "display_data"
    }
   ],
   "source": [
    "plt.plot(history.history['precision'])\n",
    "plt.plot(history.history['val_precision'])\n",
    "plt.title('model precision')\n",
    "plt.ylabel('precision')\n",
    "plt.xlabel('epoch')\n",
    "plt.legend(['train', 'test'], loc='upper left')\n",
    "plt.grid()\n",
    "plt.show()"
   ]
  },
  {
   "cell_type": "code",
   "execution_count": 23,
   "metadata": {},
   "outputs": [
    {
     "name": "stdout",
     "output_type": "stream",
     "text": [
      "1571/1571 [==============================] - 44s 28ms/step\n"
     ]
    }
   ],
   "source": [
    "y_predict  = [1 if o>0.5 else 0 for o in model.predict(x_test_features)]"
   ]
  },
  {
   "cell_type": "code",
   "execution_count": 24,
   "metadata": {},
   "outputs": [],
   "source": [
    "cf_matrix =confusion_matrix(test_y,y_predict)"
   ]
  },
  {
   "cell_type": "code",
   "execution_count": 25,
   "metadata": {},
   "outputs": [
    {
     "data": {
      "image/png": "[encoded data removed]",
      "text/plain": [
       "<Figure size 640x480 with 2 Axes>"
      ]
     },
     "metadata": {},
     "output_type": "display_data"
    }
   ],
   "source": [
    "ax= plt.subplot()\n",
    "sns.heatmap(cf_matrix, annot=True, ax = ax,cmap='Blues',fmt=''); #annot=True to annotate cells\n",
    "\n",
    "# labels, title and ticks\n",
    "ax.set_xlabel('Predicted labels');\n",
    "ax.set_ylabel('True labels'); \n",
    "ax.set_title('Confusion Matrix'); \n",
    "ax.xaxis.set_ticklabels(['Action', 'No Action']); ax.yaxis.set_ticklabels(['Action', 'No Action']);"
   ]
  },
  {
   "cell_type": "code",
   "execution_count": 26,
   "metadata": {},
   "outputs": [
    {
     "name": "stdout",
     "output_type": "stream",
     "text": [
      "Precision: 67.29%\n",
      "Recall: 67.38%\n",
      "F1 Score: 67.33%\n"
     ]
    }
   ],
   "source": [
    "print(\"Precision: {:.2f}%\".format(100 * precision_score(test_y, y_predict)))\n",
    "print(\"Recall: {:.2f}%\".format(100 * recall_score(test_y, y_predict)))\n",
    "print(\"F1 Score: {:.2f}%\".format(100 * f1_score(test_y,y_predict)))"
   ]
  },
  {
   "cell_type": "code",
   "execution_count": 27,
   "metadata": {},
   "outputs": [
    {
     "name": "stderr",
     "output_type": "stream",
     "text": [
      "WARNING:absl:Found untraced functions such as lstm_cell_1_layer_call_fn, lstm_cell_1_layer_call_and_return_conditional_losses, lstm_cell_2_layer_call_fn, lstm_cell_2_layer_call_and_return_conditional_losses while saving (showing 4 of 4). These functions will not be directly callable after loading.\n"
     ]
    },
    {
     "name": "stdout",
     "output_type": "stream",
     "text": [
      "INFO:tensorflow:Assets written to: model\\assets\n"
     ]
    },
    {
     "name": "stderr",
     "output_type": "stream",
     "text": [
      "INFO:tensorflow:Assets written to: model\\assets\n"
     ]
    }
   ],
   "source": [
    "model.save('model')"
   ]
  }
 ],
 "metadata": {
  "kernelspec": {
   "display_name": "Python 3.10.6 64-bit",
   "language": "python",
   "name": "python3"
  },
  "language_info": {
   "codemirror_mode": {
    "name": "ipython",
    "version": 3
   },
   "file_extension": ".py",
   "mimetype": "text/x-python",
   "name": "python",
   "nbconvert_exporter": "python",
   "pygments_lexer": "ipython3",
   "version": "3.10.6"
  },
  "orig_nbformat": 4,
  "vscode": {
   "interpreter": {
    "hash": "aee8b7b246df8f9039afb4144a1f6fd8d2ca17a180786b69acc140d282b71a49"
   }
  }
 },
 "nbformat": 4,
 "nbformat_minor": 2
}
