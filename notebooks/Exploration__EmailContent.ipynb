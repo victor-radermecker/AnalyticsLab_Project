{
 "cells": [
  {
   "cell_type": "code",
   "execution_count": 2,
   "metadata": {},
   "outputs": [],
   "source": [
    "import pandas as pd"
   ]
  },
  {
   "cell_type": "code",
   "execution_count": 3,
   "metadata": {},
   "outputs": [],
   "source": [
    "# Store data locally for confidentiality reasons!\n",
    "data_path = \"/Users/victor/Documents/Confidential Dataset/ML_NOAC_NOVA_Extraction.csv\"\n",
    "\n",
    "# Read data\n",
    "df = pd.read_csv(data_path)"
   ]
  },
  {
   "cell_type": "code",
   "execution_count": 8,
   "metadata": {},
   "outputs": [],
   "source": [
    "df.head()\n",
    "\n",
    "#drop rows that have Nan for LastIncomingEmail__c\n",
    "df = df.dropna(subset=['LastIncomingEmail__c'])"
   ]
  },
  {
   "cell_type": "code",
   "execution_count": null,
   "metadata": {},
   "outputs": [],
   "source": [
    "# df.head()\n",
    "df.head(20)\n",
    "\n",
    "## maximum number of caracters in elements of column LastIncomingEmail__c \n",
    "df.LastIncomingEmail__c.str.len().max()\n",
    "\n",
    "df.LastIncomingEmail__c.str.len().mean()\n"
   ]
  },
  {
   "cell_type": "code",
   "execution_count": null,
   "metadata": {},
   "outputs": [],
   "source": [
    "df[\"LastEmailCCAddress__c\"].value_counts()"
   ]
  },
  {
   "cell_type": "code",
   "execution_count": null,
   "metadata": {},
   "outputs": [],
   "source": [
    "# count number of null values in each column\n",
    "df.isnull().sum()\n",
    "\n"
   ]
  },
  {
   "cell_type": "code",
   "execution_count": null,
   "metadata": {},
   "outputs": [],
   "source": [
    "df[\"Type\"].value_counts() # NOAC = NO ACTION REQUIRED\n",
    "\n",
    "# compute the proportion of NOAC in the values of Type\n",
    "84960 / len(df)  ## 27.5% of the data is No-Action-Required"
   ]
  },
  {
   "cell_type": "code",
   "execution_count": null,
   "metadata": {},
   "outputs": [],
   "source": [
    "df[\"LastIncomingEmail__c\"][0].find(\"<b>Subject:</b>\")\n",
    "\n",
    "\n",
    "\n",
    "## find a word in a string\n"
   ]
  },
  {
   "cell_type": "code",
   "execution_count": null,
   "metadata": {},
   "outputs": [],
   "source": [
    "text = df[\"LastIncomingEmail__c\"][0]\n",
    "text"
   ]
  },
  {
   "cell_type": "code",
   "execution_count": null,
   "metadata": {},
   "outputs": [],
   "source": []
  },
  {
   "cell_type": "code",
   "execution_count": null,
   "metadata": {},
   "outputs": [],
   "source": [
    "from email.parser import BytesParser, Parser\n",
    "from email.policy import default\n",
    "import email\n",
    "from email.header import decode_header\n",
    "\n",
    "email_message = email.message_from_string(text)\n",
    "print('To:', email_message['To'])\n",
    "print('Sent from:', email_message['From'])\n",
    "# print 'Date:', email_message['Date']\n",
    "# print 'Subject:', email_message['Subject']\n",
    "# print '*'*30, 'MESSAGE', '*'*30\n",
    "maintype = email_message.get_content_maintype()"
   ]
  },
  {
   "cell_type": "code",
   "execution_count": 20,
   "metadata": {},
   "outputs": [],
   "source": [
    "b = email.message_from_string(text)\n",
    "body = \"\"\n",
    "\n",
    "if b.is_multipart():\n",
    "    for part in b.walk():\n",
    "        ctype = part.get_content_type()\n",
    "        cdispo = str(part.get('Content-Disposition'))\n",
    "\n",
    "        # skip any text/plain (txt) attachments\n",
    "        if ctype == 'text/plain' and 'attachment' not in cdispo:\n",
    "            body = part.get_payload(decode=True)  # decode\n",
    "            break\n",
    "# not multipart - i.e. plain text, no attachments, keeping fingers crossed\n",
    "else:\n",
    "    body = b.get_payload(decode=True)"
   ]
  },
  {
   "cell_type": "code",
   "execution_count": 23,
   "metadata": {},
   "outputs": [
    {
     "ename": "ModuleNotFoundError",
     "evalue": "No module named 'mailparser'",
     "output_type": "error",
     "traceback": [
      "\u001b[0;31m---------------------------------------------------------------------------\u001b[0m",
      "\u001b[0;31mModuleNotFoundError\u001b[0m                       Traceback (most recent call last)",
      "\u001b[1;32m/Users/victor/My Drive (victorr@mit.edu)/Documents importants/Academic/MIT/Fall/15_572_Analytics_lab/Project/AnalyticsLab_Project/src/victor_exploration.ipynb Cell 13\u001b[0m in \u001b[0;36m<cell line: 1>\u001b[0;34m()\u001b[0m\n\u001b[0;32m----> <a href='vscode-notebook-cell:/Users/victor/My%20Drive%20%28victorr%40mit.edu%29/Documents%20importants/Academic/MIT/Fall/15_572_Analytics_lab/Project/AnalyticsLab_Project/src/victor_exploration.ipynb#X40sZmlsZQ%3D%3D?line=0'>1</a>\u001b[0m \u001b[39mimport\u001b[39;00m \u001b[39mmailparser\u001b[39;00m\n\u001b[1;32m      <a href='vscode-notebook-cell:/Users/victor/My%20Drive%20%28victorr%40mit.edu%29/Documents%20importants/Academic/MIT/Fall/15_572_Analytics_lab/Project/AnalyticsLab_Project/src/victor_exploration.ipynb#X40sZmlsZQ%3D%3D?line=2'>3</a>\u001b[0m mail \u001b[39m=\u001b[39m mailparser\u001b[39m.\u001b[39mparse_from_file(f)\n\u001b[1;32m      <a href='vscode-notebook-cell:/Users/victor/My%20Drive%20%28victorr%40mit.edu%29/Documents%20importants/Academic/MIT/Fall/15_572_Analytics_lab/Project/AnalyticsLab_Project/src/victor_exploration.ipynb#X40sZmlsZQ%3D%3D?line=3'>4</a>\u001b[0m mail \u001b[39m=\u001b[39m mailparser\u001b[39m.\u001b[39mparse_from_file_obj(fp)\n",
      "\u001b[0;31mModuleNotFoundError\u001b[0m: No module named 'mailparser'"
     ]
    }
   ],
   "source": [
    "import mailparser\n",
    "\n",
    "mail = mailparser.parse_from_file(f)\n",
    "mail = mailparser.parse_from_file_obj(fp)\n",
    "mail = mailparser.parse_from_string(raw_mail)\n",
    "mail = mailparser.parse_from_bytes(byte_mail)"
   ]
  },
  {
   "cell_type": "code",
   "execution_count": null,
   "metadata": {},
   "outputs": [],
   "source": []
  },
  {
   "cell_type": "code",
   "execution_count": null,
   "metadata": {},
   "outputs": [],
   "source": [
    "# extracting all emails from the HTML file\n",
    "import re\n",
    "emails = re.findall(r\"[a-z0-9\\.\\-+_]+@[a-z0-9\\.\\-+_]+\\.[a-z]+\", text)\n",
    "emails\n"
   ]
  },
  {
   "cell_type": "code",
   "execution_count": null,
   "metadata": {},
   "outputs": [],
   "source": [
    "# Let's try to extract only the text\n",
    "import re\n",
    "re.sub(r'<[^>]+>', '', text)"
   ]
  },
  {
   "cell_type": "code",
   "execution_count": null,
   "metadata": {},
   "outputs": [],
   "source": [
    "from bs4 import BeautifulSoup\n",
    "\n",
    "soup = BeautifulSoup(text, \"html\")\n",
    "#print(soup.prettify()\n",
    "\n",
    "\n",
    "soup.get_text()\n"
   ]
  },
  {
   "cell_type": "code",
   "execution_count": null,
   "metadata": {},
   "outputs": [],
   "source": [
    "import dateutil.parser as dparser\n",
    "\n",
    "# dparser.parse(soup.get_text(), fuzzy=True)\n",
    "\n",
    "my_String = \"cma-cgm.com>Sent: Friday, March 11, 2022 7:11:46 PMT \"\n",
    "out = dparser.parse(my_String, fuzzy=True)\n",
    "print(out)\n",
    "\n",
    "\n",
    "my_String = \"cma-cgm.com>Albert WangSent: 04/03/2022 17:36To: \"\n",
    "out = dparser.parse(my_String, fuzzy=True)\n",
    "print(out)\n",
    "\n",
    "\n",
    "my_String = \"gm.com>Sent: Friday, March 11, 2022 7:11:46 PMT cma-cgm.com>Albert Wangcma-cgm.com>Albert Wangcma-cgm.com>Albert Wangcma-cgm.com>Albert Wangcma-cgm.com>Albert Wangcma-cgm.com>Albert Wangcma-cgm.com>Albert Wangcma-cgm.com>Albert Wang cma-cgm.com>Albert WangSent: 04/03/2022 17:36To: \"\n",
    "# out = dparser.parse(my_String, fuzzy=True)\n",
    "print(out)\n",
    "\n",
    "\n",
    "\n",
    "## find the 100 caracters after the word \"Sent:\" in a string \n",
    "\n",
    "# find the index of the word \"Sent:\"\n",
    "\n",
    "dates = []\n",
    "for m in re.finditer('Sent:', my_String):\n",
    "    idx = m.start()\n",
    "    dates.append(dparser.parse(my_String[idx:idx+50], fuzzy=True))\n",
    "\n",
    "dates\n",
    "\n",
    "# my_String = \"cma-cgm.com>Sent: Friday, March 11, 2022 7:11:46 PMTo: Albert Wang <albert@easywayintl.c wayintl.com]Sent: 04/03/2022 17:36To: usa.clientsolutions@usa.cma-cgm.comCc: op@easywayintl.comSubject: Re: SOC containers Thank you Jessica, much appreciated for the fo\"\n",
    "# out = dparser.parse(my_String, fuzzy=True)\n",
    "# print(out)\n",
    "\n",
    "\n"
   ]
  },
  {
   "cell_type": "code",
   "execution_count": 77,
   "metadata": {},
   "outputs": [
    {
     "data": {
      "text/plain": [
       "datetime.datetime(2022, 3, 11, 19, 11, 46)"
      ]
     },
     "execution_count": 77,
     "metadata": {},
     "output_type": "execute_result"
    }
   ],
   "source": [
    "dparser.parse(\"Sent: Friday, March 11, 2022 7:11:46 PM\", fuzzy=True)\n",
    "\n",
    "\n",
    "# my_String = \"Sent: Friday, March 11, 2022 7:11:46 PMT cma-cgm.c\"\n",
    "# out = dparser.parse(my_String, fuzzy=True, dayfirst=True)\n",
    "# print(out)\n"
   ]
  },
  {
   "cell_type": "code",
   "execution_count": 60,
   "metadata": {},
   "outputs": [
    {
     "ename": "AttributeError",
     "evalue": "'str' object has no attribute 'find_all'",
     "output_type": "error",
     "traceback": [
      "\u001b[0;31m---------------------------------------------------------------------------\u001b[0m",
      "\u001b[0;31mAttributeError\u001b[0m                            Traceback (most recent call last)",
      "\u001b[1;32m/Users/victor/My Drive (victorr@mit.edu)/Documents importants/Academic/MIT/Fall/15_572_Analytics_lab/Project/AnalyticsLab_Project/src/victor_exploration.ipynb Cell 11\u001b[0m in \u001b[0;36m<cell line: 2>\u001b[0;34m()\u001b[0m\n\u001b[1;32m      <a href='vscode-notebook-cell:/Users/victor/My%20Drive%20%28victorr%40mit.edu%29/Documents%20importants/Academic/MIT/Fall/15_572_Analytics_lab/Project/AnalyticsLab_Project/src/victor_exploration.ipynb#X25sZmlsZQ%3D%3D?line=0'>1</a>\u001b[0m my_String \u001b[39m=\u001b[39m \u001b[39m\"\u001b[39m\u001b[39mcma-cgm.com>Sent: Friday, March 11, 2022 7:11:46 PMTo: Albert Wang <albert@easywayintl.c wayintl.com]Sent: 04/03/2022 17:36To: usa.clientsolutions@usa.cma-cgm.comCc: op@easywayintl.comSubject: Re: SOC containers Thank you Jessica, much appreciated for the fo\u001b[39m\u001b[39m\"\u001b[39m\n\u001b[0;32m----> <a href='vscode-notebook-cell:/Users/victor/My%20Drive%20%28victorr%40mit.edu%29/Documents%20importants/Academic/MIT/Fall/15_572_Analytics_lab/Project/AnalyticsLab_Project/src/victor_exploration.ipynb#X25sZmlsZQ%3D%3D?line=1'>2</a>\u001b[0m my_String\u001b[39m.\u001b[39;49mfind_all(\u001b[39m'\u001b[39m\u001b[39mSent:\u001b[39m\u001b[39m'\u001b[39m)\n",
      "\u001b[0;31mAttributeError\u001b[0m: 'str' object has no attribute 'find_all'"
     ]
    }
   ],
   "source": [
    "my_String = \"cma-cgm.com>Sent: Friday, March 11, 2022 7:11:46 PMTo: Albert Wang <albert@easywayintl.c wayintl.com]Sent: 04/03/2022 17:36To: usa.clientsolutions@usa.cma-cgm.comCc: op@easywayintl.comSubject: Re: SOC containers Thank you Jessica, much appreciated for the fo\"\n",
    "my_String.find_all('Sent:')"
   ]
  },
  {
   "cell_type": "code",
   "execution_count": 43,
   "metadata": {},
   "outputs": [],
   "source": [
    "myString = soup.get_text()\n",
    "\n",
    "m = re.search(r\"item : \", myString)\n",
    "m"
   ]
  },
  {
   "cell_type": "code",
   "execution_count": 51,
   "metadata": {},
   "outputs": [
    {
     "ename": "NameError",
     "evalue": "name 'deacondt' is not defined",
     "output_type": "error",
     "traceback": [
      "\u001b[0;31m---------------------------------------------------------------------------\u001b[0m",
      "\u001b[0;31mNameError\u001b[0m                                 Traceback (most recent call last)",
      "\u001b[1;32m/Users/victor/My Drive (victorr@mit.edu)/Documents importants/Academic/MIT/Fall/15_572_Analytics_lab/Project/AnalyticsLab_Project/src/victor_exploration.ipynb Cell 13\u001b[0m in \u001b[0;36m<cell line: 13>\u001b[0;34m()\u001b[0m\n\u001b[1;32m     <a href='vscode-notebook-cell:/Users/victor/My%20Drive%20%28victorr%40mit.edu%29/Documents%20importants/Academic/MIT/Fall/15_572_Analytics_lab/Project/AnalyticsLab_Project/src/victor_exploration.ipynb#X12sZmlsZQ%3D%3D?line=9'>10</a>\u001b[0m     \u001b[39mexcept\u001b[39;00m:\n\u001b[1;32m     <a href='vscode-notebook-cell:/Users/victor/My%20Drive%20%28victorr%40mit.edu%29/Documents%20importants/Academic/MIT/Fall/15_572_Analytics_lab/Project/AnalyticsLab_Project/src/victor_exploration.ipynb#X12sZmlsZQ%3D%3D?line=10'>11</a>\u001b[0m         deacondt1 \u001b[39m=\u001b[39m \u001b[39m'\u001b[39m\u001b[39mNA\u001b[39m\u001b[39m'\u001b[39m\n\u001b[0;32m---> <a href='vscode-notebook-cell:/Users/victor/My%20Drive%20%28victorr%40mit.edu%29/Documents%20importants/Academic/MIT/Fall/15_572_Analytics_lab/Project/AnalyticsLab_Project/src/victor_exploration.ipynb#X12sZmlsZQ%3D%3D?line=12'>13</a>\u001b[0m \u001b[39mprint\u001b[39m(deacondt \u001b[39m+\u001b[39m\u001b[39m\"\u001b[39m\u001b[39m\\n\u001b[39;00m\u001b[39m\"\u001b[39m\u001b[39m+\u001b[39m \u001b[39mstr\u001b[39m(deacondt1))\n",
      "\u001b[0;31mNameError\u001b[0m: name 'deacondt' is not defined"
     ]
    }
   ],
   "source": [
    "\n",
    "my_text  = \"cma-cgm.com>Sent: Friday, March 11, 2022 7:11:46 PMT \"\n",
    "\n",
    "\n",
    "regx= re.compile(r'(?s)date1\\d?((?:(?!by|date2|date3).)*)')\n",
    "raw_date= [re.sub(r'(?i)(?<=\\s)[a-z]?(\\d{4}|\\d{2})\\d*', r'\\1', re.sub(r'\\s+|,|(?<=\\d)[^\\d\\s\\/](?=\\d)',' ', re.sub(r'^\\s+|\\s+$|\\n+','', m))) for m in regx.findall(my_text)]\n",
    "\n",
    "for deacondt in raw_date: \n",
    "    try:\n",
    "        deacondt1 = dparser.parse(deacondt, dayfirst=False, fuzzy=True)\n",
    "    except:\n",
    "        deacondt1 = 'NA'\n",
    "\n",
    "print(deacondt +\"\\n\"+ str(deacondt1))"
   ]
  },
  {
   "cell_type": "code",
   "execution_count": 23,
   "metadata": {},
   "outputs": [
    {
     "ename": "error",
     "evalue": "bad escape \\d at position 7",
     "output_type": "error",
     "traceback": [
      "\u001b[0;31m---------------------------------------------------------------------------\u001b[0m",
      "\u001b[0;31merror\u001b[0m                                     Traceback (most recent call last)",
      "\u001b[1;32m/Users/victor/My Drive (victorr@mit.edu)/Documents importants/Academic/MIT/Fall/15_572_Analytics_lab/Project/AnalyticsLab_Project/src/victor_exploration.ipynb Cell 11\u001b[0m in \u001b[0;36m<cell line: 6>\u001b[0;34m()\u001b[0m\n\u001b[1;32m      <a href='vscode-notebook-cell:/Users/victor/My%20Drive%20%28victorr%40mit.edu%29/Documents%20importants/Academic/MIT/Fall/15_572_Analytics_lab/Project/AnalyticsLab_Project/src/victor_exploration.ipynb#X13sZmlsZQ%3D%3D?line=1'>2</a>\u001b[0m \u001b[39mimport\u001b[39;00m \u001b[39mdateparser\u001b[39;00m\n\u001b[1;32m      <a href='vscode-notebook-cell:/Users/victor/My%20Drive%20%28victorr%40mit.edu%29/Documents%20importants/Academic/MIT/Fall/15_572_Analytics_lab/Project/AnalyticsLab_Project/src/victor_exploration.ipynb#X13sZmlsZQ%3D%3D?line=3'>4</a>\u001b[0m myString \u001b[39m=\u001b[39m \u001b[39m\"\u001b[39m\u001b[39mcma-cgm.com>Sent: Friday, March 11, 2022 7:11:46 PMT \u001b[39m\u001b[39m\"\u001b[39m\n\u001b[0;32m----> <a href='vscode-notebook-cell:/Users/victor/My%20Drive%20%28victorr%40mit.edu%29/Documents%20importants/Academic/MIT/Fall/15_572_Analytics_lab/Project/AnalyticsLab_Project/src/victor_exploration.ipynb#X13sZmlsZQ%3D%3D?line=5'>6</a>\u001b[0m dateparser\u001b[39m.\u001b[39;49mparse(\u001b[39m'\u001b[39;49m\u001b[39m22 Décembre 2010\u001b[39;49m\u001b[39m'\u001b[39;49m, date_formats\u001b[39m=\u001b[39;49m[\u001b[39m'\u001b[39;49m\u001b[39m%d\u001b[39;49;00m\u001b[39m \u001b[39;49m\u001b[39m%\u001b[39;49m\u001b[39mB \u001b[39;49m\u001b[39m%\u001b[39;49m\u001b[39mY\u001b[39;49m\u001b[39m'\u001b[39;49m])\n",
      "File \u001b[0;32m/opt/homebrew/Caskroom/miniconda/base/envs/alab_env/lib/python3.10/site-packages/dateparser/conf.py:89\u001b[0m, in \u001b[0;36mapply_settings.<locals>.wrapper\u001b[0;34m(*args, **kwargs)\u001b[0m\n\u001b[1;32m     86\u001b[0m \u001b[39mif\u001b[39;00m \u001b[39mnot\u001b[39;00m \u001b[39misinstance\u001b[39m(kwargs[\u001b[39m'\u001b[39m\u001b[39msettings\u001b[39m\u001b[39m'\u001b[39m], Settings):\n\u001b[1;32m     87\u001b[0m     \u001b[39mraise\u001b[39;00m \u001b[39mTypeError\u001b[39;00m(\u001b[39m\"\u001b[39m\u001b[39msettings can only be either dict or instance of Settings class\u001b[39m\u001b[39m\"\u001b[39m)\n\u001b[0;32m---> 89\u001b[0m \u001b[39mreturn\u001b[39;00m f(\u001b[39m*\u001b[39;49margs, \u001b[39m*\u001b[39;49m\u001b[39m*\u001b[39;49mkwargs)\n",
      "File \u001b[0;32m/opt/homebrew/Caskroom/miniconda/base/envs/alab_env/lib/python3.10/site-packages/dateparser/__init__.py:54\u001b[0m, in \u001b[0;36mparse\u001b[0;34m(date_string, date_formats, languages, locales, region, settings)\u001b[0m\n\u001b[1;32m     50\u001b[0m \u001b[39mif\u001b[39;00m languages \u001b[39mor\u001b[39;00m locales \u001b[39mor\u001b[39;00m region \u001b[39mor\u001b[39;00m \u001b[39mnot\u001b[39;00m settings\u001b[39m.\u001b[39m_default:\n\u001b[1;32m     51\u001b[0m     parser \u001b[39m=\u001b[39m DateDataParser(languages\u001b[39m=\u001b[39mlanguages, locales\u001b[39m=\u001b[39mlocales,\n\u001b[1;32m     52\u001b[0m                             region\u001b[39m=\u001b[39mregion, settings\u001b[39m=\u001b[39msettings)\n\u001b[0;32m---> 54\u001b[0m data \u001b[39m=\u001b[39m parser\u001b[39m.\u001b[39;49mget_date_data(date_string, date_formats)\n\u001b[1;32m     56\u001b[0m \u001b[39mif\u001b[39;00m data:\n\u001b[1;32m     57\u001b[0m     \u001b[39mreturn\u001b[39;00m data[\u001b[39m'\u001b[39m\u001b[39mdate_obj\u001b[39m\u001b[39m'\u001b[39m]\n",
      "File \u001b[0;32m/opt/homebrew/Caskroom/miniconda/base/envs/alab_env/lib/python3.10/site-packages/dateparser/date.py:421\u001b[0m, in \u001b[0;36mDateDataParser.get_date_data\u001b[0;34m(self, date_string, date_formats)\u001b[0m\n\u001b[1;32m    418\u001b[0m date_string \u001b[39m=\u001b[39m sanitize_date(date_string)\n\u001b[1;32m    420\u001b[0m \u001b[39mfor\u001b[39;00m locale \u001b[39min\u001b[39;00m \u001b[39mself\u001b[39m\u001b[39m.\u001b[39m_get_applicable_locales(date_string):\n\u001b[0;32m--> 421\u001b[0m     parsed_date \u001b[39m=\u001b[39m _DateLocaleParser\u001b[39m.\u001b[39;49mparse(\n\u001b[1;32m    422\u001b[0m         locale, date_string, date_formats, settings\u001b[39m=\u001b[39;49m\u001b[39mself\u001b[39;49m\u001b[39m.\u001b[39;49m_settings)\n\u001b[1;32m    423\u001b[0m     \u001b[39mif\u001b[39;00m parsed_date:\n\u001b[1;32m    424\u001b[0m         parsed_date[\u001b[39m'\u001b[39m\u001b[39mlocale\u001b[39m\u001b[39m'\u001b[39m] \u001b[39m=\u001b[39m locale\u001b[39m.\u001b[39mshortname\n",
      "File \u001b[0;32m/opt/homebrew/Caskroom/miniconda/base/envs/alab_env/lib/python3.10/site-packages/dateparser/date.py:178\u001b[0m, in \u001b[0;36m_DateLocaleParser.parse\u001b[0;34m(cls, locale, date_string, date_formats, settings)\u001b[0m\n\u001b[1;32m    175\u001b[0m \u001b[39m@classmethod\u001b[39m\n\u001b[1;32m    176\u001b[0m \u001b[39mdef\u001b[39;00m \u001b[39mparse\u001b[39m(\u001b[39mcls\u001b[39m, locale, date_string, date_formats\u001b[39m=\u001b[39m\u001b[39mNone\u001b[39;00m, settings\u001b[39m=\u001b[39m\u001b[39mNone\u001b[39;00m):\n\u001b[1;32m    177\u001b[0m     instance \u001b[39m=\u001b[39m \u001b[39mcls\u001b[39m(locale, date_string, date_formats, settings)\n\u001b[0;32m--> 178\u001b[0m     \u001b[39mreturn\u001b[39;00m instance\u001b[39m.\u001b[39;49m_parse()\n",
      "File \u001b[0;32m/opt/homebrew/Caskroom/miniconda/base/envs/alab_env/lib/python3.10/site-packages/dateparser/date.py:182\u001b[0m, in \u001b[0;36m_DateLocaleParser._parse\u001b[0;34m(self)\u001b[0m\n\u001b[1;32m    180\u001b[0m \u001b[39mdef\u001b[39;00m \u001b[39m_parse\u001b[39m(\u001b[39mself\u001b[39m):\n\u001b[1;32m    181\u001b[0m     \u001b[39mfor\u001b[39;00m parser_name \u001b[39min\u001b[39;00m \u001b[39mself\u001b[39m\u001b[39m.\u001b[39m_settings\u001b[39m.\u001b[39mPARSERS:\n\u001b[0;32m--> 182\u001b[0m         date_data \u001b[39m=\u001b[39m \u001b[39mself\u001b[39;49m\u001b[39m.\u001b[39;49m_parsers[parser_name]()\n\u001b[1;32m    183\u001b[0m         \u001b[39mif\u001b[39;00m \u001b[39mself\u001b[39m\u001b[39m.\u001b[39m_is_valid_date_data(date_data):\n\u001b[1;32m    184\u001b[0m             \u001b[39mreturn\u001b[39;00m date_data\n",
      "File \u001b[0;32m/opt/homebrew/Caskroom/miniconda/base/envs/alab_env/lib/python3.10/site-packages/dateparser/date.py:196\u001b[0m, in \u001b[0;36m_DateLocaleParser._try_freshness_parser\u001b[0;34m(self)\u001b[0m\n\u001b[1;32m    194\u001b[0m \u001b[39mdef\u001b[39;00m \u001b[39m_try_freshness_parser\u001b[39m(\u001b[39mself\u001b[39m):\n\u001b[1;32m    195\u001b[0m     \u001b[39mtry\u001b[39;00m:\n\u001b[0;32m--> 196\u001b[0m         \u001b[39mreturn\u001b[39;00m freshness_date_parser\u001b[39m.\u001b[39mget_date_data(\u001b[39mself\u001b[39;49m\u001b[39m.\u001b[39;49m_get_translated_date(), \u001b[39mself\u001b[39m\u001b[39m.\u001b[39m_settings)\n\u001b[1;32m    197\u001b[0m     \u001b[39mexcept\u001b[39;00m (\u001b[39mOverflowError\u001b[39;00m, \u001b[39mValueError\u001b[39;00m):\n\u001b[1;32m    198\u001b[0m         \u001b[39mreturn\u001b[39;00m \u001b[39mNone\u001b[39;00m\n",
      "File \u001b[0;32m/opt/homebrew/Caskroom/miniconda/base/envs/alab_env/lib/python3.10/site-packages/dateparser/date.py:234\u001b[0m, in \u001b[0;36m_DateLocaleParser._get_translated_date\u001b[0;34m(self)\u001b[0m\n\u001b[1;32m    232\u001b[0m \u001b[39mdef\u001b[39;00m \u001b[39m_get_translated_date\u001b[39m(\u001b[39mself\u001b[39m):\n\u001b[1;32m    233\u001b[0m     \u001b[39mif\u001b[39;00m \u001b[39mself\u001b[39m\u001b[39m.\u001b[39m_translated_date \u001b[39mis\u001b[39;00m \u001b[39mNone\u001b[39;00m:\n\u001b[0;32m--> 234\u001b[0m         \u001b[39mself\u001b[39m\u001b[39m.\u001b[39m_translated_date \u001b[39m=\u001b[39m \u001b[39mself\u001b[39;49m\u001b[39m.\u001b[39;49mlocale\u001b[39m.\u001b[39;49mtranslate(\n\u001b[1;32m    235\u001b[0m             \u001b[39mself\u001b[39;49m\u001b[39m.\u001b[39;49mdate_string, keep_formatting\u001b[39m=\u001b[39;49m\u001b[39mFalse\u001b[39;49;00m, settings\u001b[39m=\u001b[39;49m\u001b[39mself\u001b[39;49m\u001b[39m.\u001b[39;49m_settings)\n\u001b[1;32m    236\u001b[0m     \u001b[39mreturn\u001b[39;00m \u001b[39mself\u001b[39m\u001b[39m.\u001b[39m_translated_date\n",
      "File \u001b[0;32m/opt/homebrew/Caskroom/miniconda/base/envs/alab_env/lib/python3.10/site-packages/dateparser/languages/locale.py:131\u001b[0m, in \u001b[0;36mLocale.translate\u001b[0;34m(self, date_string, keep_formatting, settings)\u001b[0m\n\u001b[1;32m    128\u001b[0m dictionary \u001b[39m=\u001b[39m \u001b[39mself\u001b[39m\u001b[39m.\u001b[39m_get_dictionary(settings)\n\u001b[1;32m    129\u001b[0m date_string_tokens \u001b[39m=\u001b[39m dictionary\u001b[39m.\u001b[39msplit(date_string, keep_formatting)\n\u001b[0;32m--> 131\u001b[0m relative_translations \u001b[39m=\u001b[39m \u001b[39mself\u001b[39;49m\u001b[39m.\u001b[39;49m_get_relative_translations(settings\u001b[39m=\u001b[39;49msettings)\n\u001b[1;32m    133\u001b[0m \u001b[39mfor\u001b[39;00m i, word \u001b[39min\u001b[39;00m \u001b[39menumerate\u001b[39m(date_string_tokens):\n\u001b[1;32m    134\u001b[0m     word \u001b[39m=\u001b[39m word\u001b[39m.\u001b[39mlower()\n",
      "File \u001b[0;32m/opt/homebrew/Caskroom/miniconda/base/envs/alab_env/lib/python3.10/site-packages/dateparser/languages/locale.py:158\u001b[0m, in \u001b[0;36mLocale._get_relative_translations\u001b[0;34m(self, settings)\u001b[0m\n\u001b[1;32m    155\u001b[0m \u001b[39mif\u001b[39;00m settings\u001b[39m.\u001b[39mNORMALIZE:\n\u001b[1;32m    156\u001b[0m     \u001b[39mif\u001b[39;00m \u001b[39mself\u001b[39m\u001b[39m.\u001b[39m_normalized_relative_translations \u001b[39mis\u001b[39;00m \u001b[39mNone\u001b[39;00m:\n\u001b[1;32m    157\u001b[0m         \u001b[39mself\u001b[39m\u001b[39m.\u001b[39m_normalized_relative_translations \u001b[39m=\u001b[39m (\n\u001b[0;32m--> 158\u001b[0m             \u001b[39mself\u001b[39;49m\u001b[39m.\u001b[39;49m_generate_relative_translations(normalize\u001b[39m=\u001b[39;49m\u001b[39mTrue\u001b[39;49;00m))\n\u001b[1;32m    159\u001b[0m     \u001b[39mreturn\u001b[39;00m \u001b[39mself\u001b[39m\u001b[39m.\u001b[39m_normalized_relative_translations\n\u001b[1;32m    160\u001b[0m \u001b[39melse\u001b[39;00m:\n",
      "File \u001b[0;32m/opt/homebrew/Caskroom/miniconda/base/envs/alab_env/lib/python3.10/site-packages/dateparser/languages/locale.py:172\u001b[0m, in \u001b[0;36mLocale._generate_relative_translations\u001b[0;34m(self, normalize)\u001b[0m\n\u001b[1;32m    170\u001b[0m     value \u001b[39m=\u001b[39m \u001b[39mlist\u001b[39m(\u001b[39mmap\u001b[39m(normalize_unicode, value))\n\u001b[1;32m    171\u001b[0m pattern \u001b[39m=\u001b[39m \u001b[39m'\u001b[39m\u001b[39m|\u001b[39m\u001b[39m'\u001b[39m\u001b[39m.\u001b[39mjoin(\u001b[39msorted\u001b[39m(value, key\u001b[39m=\u001b[39m\u001b[39mlen\u001b[39m, reverse\u001b[39m=\u001b[39m\u001b[39mTrue\u001b[39;00m))\n\u001b[0;32m--> 172\u001b[0m pattern \u001b[39m=\u001b[39m DIGIT_GROUP_PATTERN\u001b[39m.\u001b[39;49msub(\u001b[39mr\u001b[39;49m\u001b[39m'\u001b[39;49m\u001b[39m?P<n>\u001b[39;49m\u001b[39m\\\u001b[39;49m\u001b[39md+\u001b[39;49m\u001b[39m'\u001b[39;49m, pattern)\n\u001b[1;32m    173\u001b[0m pattern \u001b[39m=\u001b[39m re\u001b[39m.\u001b[39mcompile(\u001b[39mr\u001b[39m\u001b[39m'\u001b[39m\u001b[39m^(?:\u001b[39m\u001b[39m{}\u001b[39;00m\u001b[39m)$\u001b[39m\u001b[39m'\u001b[39m\u001b[39m.\u001b[39mformat(pattern), re\u001b[39m.\u001b[39mUNICODE \u001b[39m|\u001b[39m re\u001b[39m.\u001b[39mIGNORECASE)\n\u001b[1;32m    174\u001b[0m relative_dictionary[pattern] \u001b[39m=\u001b[39m key\n",
      "File \u001b[0;32m/opt/homebrew/Caskroom/miniconda/base/envs/alab_env/lib/python3.10/site-packages/regex/regex.py:702\u001b[0m, in \u001b[0;36m_compile_replacement_helper\u001b[0;34m(pattern, template)\u001b[0m\n\u001b[1;32m    697\u001b[0m     \u001b[39mbreak\u001b[39;00m\n\u001b[1;32m    698\u001b[0m \u001b[39mif\u001b[39;00m ch \u001b[39m==\u001b[39m \u001b[39m\"\u001b[39m\u001b[39m\\\\\u001b[39;00m\u001b[39m\"\u001b[39m:\n\u001b[1;32m    699\u001b[0m     \u001b[39m# '_compile_replacement' will return either an int group reference\u001b[39;00m\n\u001b[1;32m    700\u001b[0m     \u001b[39m# or a string literal. It returns items (plural) in order to handle\u001b[39;00m\n\u001b[1;32m    701\u001b[0m     \u001b[39m# a 2-character literal (an invalid escape sequence).\u001b[39;00m\n\u001b[0;32m--> 702\u001b[0m     is_group, items \u001b[39m=\u001b[39m _compile_replacement(source, pattern, is_unicode)\n\u001b[1;32m    703\u001b[0m     \u001b[39mif\u001b[39;00m is_group:\n\u001b[1;32m    704\u001b[0m         \u001b[39m# It's a group, so first flush the literal.\u001b[39;00m\n\u001b[1;32m    705\u001b[0m         \u001b[39mif\u001b[39;00m literal:\n",
      "File \u001b[0;32m/opt/homebrew/Caskroom/miniconda/base/envs/alab_env/lib/python3.10/site-packages/regex/_regex_core.py:1737\u001b[0m, in \u001b[0;36m_compile_replacement\u001b[0;34m(source, pattern, is_unicode)\u001b[0m\n\u001b[1;32m   1734\u001b[0m         \u001b[39mif\u001b[39;00m value \u001b[39mis\u001b[39;00m \u001b[39mnot\u001b[39;00m \u001b[39mNone\u001b[39;00m:\n\u001b[1;32m   1735\u001b[0m             \u001b[39mreturn\u001b[39;00m \u001b[39mFalse\u001b[39;00m, [value]\n\u001b[0;32m-> 1737\u001b[0m     \u001b[39mraise\u001b[39;00m error(\u001b[39m\"\u001b[39m\u001b[39mbad escape \u001b[39m\u001b[39m\\\\\u001b[39;00m\u001b[39m%s\u001b[39;00m\u001b[39m\"\u001b[39m \u001b[39m%\u001b[39m ch, source\u001b[39m.\u001b[39mstring, source\u001b[39m.\u001b[39mpos)\n\u001b[1;32m   1739\u001b[0m \u001b[39mif\u001b[39;00m \u001b[39misinstance\u001b[39m(source\u001b[39m.\u001b[39msep, \u001b[39mbytes\u001b[39m):\n\u001b[1;32m   1740\u001b[0m     octal_mask \u001b[39m=\u001b[39m \u001b[39m0xFF\u001b[39m\n",
      "\u001b[0;31merror\u001b[0m: bad escape \\d at position 7"
     ]
    }
   ],
   "source": [
    "\n",
    "from dateparser.search import search_dates\n",
    "import dateparser\n",
    "\n",
    "myString = \"cma-cgm.com>Sent: Friday, March 11, 2022 7:11:46 PMT \"\n",
    "\n",
    "dateparser.parse('22 Décembre 2010', date_formats=['%d %B %Y'])"
   ]
  },
  {
   "cell_type": "code",
   "execution_count": null,
   "metadata": {},
   "outputs": [],
   "source": []
  },
  {
   "cell_type": "code",
   "execution_count": null,
   "metadata": {},
   "outputs": [],
   "source": []
  },
  {
   "cell_type": "code",
   "execution_count": null,
   "metadata": {},
   "outputs": [],
   "source": []
  },
  {
   "cell_type": "code",
   "execution_count": null,
   "metadata": {},
   "outputs": [],
   "source": [
    "# get all the links\n",
    "for link in soup.find_all(\"a\"):\n",
    "    print(\"href: {}\".format(link.get(\"href\")))"
   ]
  },
  {
   "cell_type": "code",
   "execution_count": 75,
   "metadata": {},
   "outputs": [
    {
     "ename": "AttributeError",
     "evalue": "'NoneType' object has no attribute 'attrs'",
     "output_type": "error",
     "traceback": [
      "\u001b[0;31m---------------------------------------------------------------------------\u001b[0m",
      "\u001b[0;31mAttributeError\u001b[0m                            Traceback (most recent call last)",
      "\u001b[1;32m/Users/victor/My Drive (victorr@mit.edu)/Documents importants/Academic/MIT/Fall/15_572_Analytics_lab/Project/AnalyticsLab_Project/src/victor_exploration.ipynb Cell 11\u001b[0m in \u001b[0;36m<cell line: 1>\u001b[0;34m()\u001b[0m\n\u001b[0;32m----> <a href='vscode-notebook-cell:/Users/victor/My%20Drive%20%28victorr%40mit.edu%29/Documents%20importants/Academic/MIT/Fall/15_572_Analytics_lab/Project/AnalyticsLab_Project/src/victor_exploration.ipynb#X15sZmlsZQ%3D%3D?line=0'>1</a>\u001b[0m BeautifulSoup(text)\u001b[39m.\u001b[39;49mtime\u001b[39m.\u001b[39;49mattrs[\u001b[39m'\u001b[39m\u001b[39mdatetime\u001b[39m\u001b[39m'\u001b[39m]\n",
      "\u001b[0;31mAttributeError\u001b[0m: 'NoneType' object has no attribute 'attrs'"
     ]
    }
   ],
   "source": [
    "BeautifulSoup(text).time.attrs['datetime']\n"
   ]
  },
  {
   "cell_type": "code",
   "execution_count": 21,
   "metadata": {},
   "outputs": [
    {
     "ename": "TypeError",
     "evalue": "find() takes no keyword arguments",
     "output_type": "error",
     "traceback": [
      "\u001b[0;31m---------------------------------------------------------------------------\u001b[0m",
      "\u001b[0;31mTypeError\u001b[0m                                 Traceback (most recent call last)",
      "\u001b[1;32m/Users/victor/My Drive (victorr@mit.edu)/Documents importants/Academic/MIT/Fall/15_572_Analytics_lab/Project/AnalyticsLab_Project/src/victor_exploration.ipynb Cell 9\u001b[0m in \u001b[0;36m<cell line: 3>\u001b[0;34m()\u001b[0m\n\u001b[1;32m      <a href='vscode-notebook-cell:/Users/victor/My%20Drive%20%28victorr%40mit.edu%29/Documents%20importants/Academic/MIT/Fall/15_572_Analytics_lab/Project/AnalyticsLab_Project/src/victor_exploration.ipynb#X11sZmlsZQ%3D%3D?line=0'>1</a>\u001b[0m quotes\u001b[39m=\u001b[39m[]  \u001b[39m# a list to store quotes\u001b[39;00m\n\u001b[0;32m----> <a href='vscode-notebook-cell:/Users/victor/My%20Drive%20%28victorr%40mit.edu%29/Documents%20importants/Academic/MIT/Fall/15_572_Analytics_lab/Project/AnalyticsLab_Project/src/victor_exploration.ipynb#X11sZmlsZQ%3D%3D?line=2'>3</a>\u001b[0m table \u001b[39m=\u001b[39m text\u001b[39m.\u001b[39;49mfind(\u001b[39m'\u001b[39;49m\u001b[39mdiv\u001b[39;49m\u001b[39m'\u001b[39;49m, attrs \u001b[39m=\u001b[39;49m {\u001b[39m'\u001b[39;49m\u001b[39mid\u001b[39;49m\u001b[39m'\u001b[39;49m:\u001b[39m'\u001b[39;49m\u001b[39mall_quotes\u001b[39;49m\u001b[39m'\u001b[39;49m}) \n\u001b[1;32m      <a href='vscode-notebook-cell:/Users/victor/My%20Drive%20%28victorr%40mit.edu%29/Documents%20importants/Academic/MIT/Fall/15_572_Analytics_lab/Project/AnalyticsLab_Project/src/victor_exploration.ipynb#X11sZmlsZQ%3D%3D?line=5'>6</a>\u001b[0m \u001b[39mfor\u001b[39;00m row \u001b[39min\u001b[39;00m table\u001b[39m.\u001b[39mfindAll(\u001b[39m'\u001b[39m\u001b[39mdiv\u001b[39m\u001b[39m'\u001b[39m,\n\u001b[1;32m      <a href='vscode-notebook-cell:/Users/victor/My%20Drive%20%28victorr%40mit.edu%29/Documents%20importants/Academic/MIT/Fall/15_572_Analytics_lab/Project/AnalyticsLab_Project/src/victor_exploration.ipynb#X11sZmlsZQ%3D%3D?line=6'>7</a>\u001b[0m                          attrs \u001b[39m=\u001b[39m {\u001b[39m'\u001b[39m\u001b[39mclass\u001b[39m\u001b[39m'\u001b[39m:\u001b[39m'\u001b[39m\u001b[39mcol-6 col-lg-3 text-center margin-30px-bottom sm-margin-30px-top\u001b[39m\u001b[39m'\u001b[39m}):\n\u001b[1;32m      <a href='vscode-notebook-cell:/Users/victor/My%20Drive%20%28victorr%40mit.edu%29/Documents%20importants/Academic/MIT/Fall/15_572_Analytics_lab/Project/AnalyticsLab_Project/src/victor_exploration.ipynb#X11sZmlsZQ%3D%3D?line=7'>8</a>\u001b[0m     quote \u001b[39m=\u001b[39m {}\n",
      "\u001b[0;31mTypeError\u001b[0m: find() takes no keyword arguments"
     ]
    }
   ],
   "source": [
    "quotes=[]  # a list to store quotes\n",
    "\n",
    "table = text.find('div', attrs = {'id':'all_quotes'}) \n",
    "\n",
    "\n",
    "for row in table.findAll('div',\n",
    "                         attrs = {'class':'col-6 col-lg-3 text-center margin-30px-bottom sm-margin-30px-top'}):\n",
    "    quote = {}\n",
    "    quote['theme'] = row.h5.text\n",
    "    quote['url'] = row.a['href']\n",
    "    quote['img'] = row.img['src']\n",
    "    quote['lines'] = row.img['alt'].split(\" #\")[0]\n",
    "    quote['author'] = row.img['alt'].split(\" #\")[1]\n",
    "    quotes.append(quote)"
   ]
  },
  {
   "cell_type": "code",
   "execution_count": null,
   "metadata": {},
   "outputs": [],
   "source": []
  }
 ],
 "metadata": {
  "kernelspec": {
   "display_name": "Python 3 (ipykernel)",
   "language": "python",
   "name": "python3"
  },
  "language_info": {
   "codemirror_mode": {
    "name": "ipython",
    "version": 3
   },
   "file_extension": ".py",
   "mimetype": "text/x-python",
   "name": "python",
   "nbconvert_exporter": "python",
   "pygments_lexer": "ipython3",
   "version": "3.9.7"
  },
  "vscode": {
   "interpreter": {
    "hash": "bfe6f45ecf374f0b90968f2209cadc71235e6ef8554841b35fd27a05b14fd144"
   }
  }
 },
 "nbformat": 4,
 "nbformat_minor": 4
}
