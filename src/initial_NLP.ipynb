{
 "cells": [
  {
   "cell_type": "markdown",
   "metadata": {},
   "source": [
    "## Initial NLP\n",
    "\n",
    "`Author: Guillaume Bonheure`"
   ]
  },
  {
   "cell_type": "code",
   "execution_count": 1,
   "metadata": {},
   "outputs": [],
   "source": [
    "import numpy as np\n",
    "import pandas as pd\n",
    "from string import digits\n",
    "import re\n",
    "import spacy\n",
    "from sklearn.decomposition import PCA\n",
    "import plotly.express as px"
   ]
  },
  {
   "cell_type": "code",
   "execution_count": 2,
   "metadata": {
    "tags": []
   },
   "outputs": [],
   "source": [
    "df = pd.read_csv(\"C:\\ML_NOAC_NOVA_Extraction.csv\")"
   ]
  },
  {
   "cell_type": "code",
   "execution_count": 75,
   "metadata": {},
   "outputs": [
    {
     "data": {
      "text/html": [
       "<div>\n",
       "<style scoped>\n",
       "    .dataframe tbody tr th:only-of-type {\n",
       "        vertical-align: middle;\n",
       "    }\n",
       "\n",
       "    .dataframe tbody tr th {\n",
       "        vertical-align: top;\n",
       "    }\n",
       "\n",
       "    .dataframe thead th {\n",
       "        text-align: right;\n",
       "    }\n",
       "</style>\n",
       "<table border=\"1\" class=\"dataframe\">\n",
       "  <thead>\n",
       "    <tr style=\"text-align: right;\">\n",
       "      <th></th>\n",
       "      <th>CaseNumber</th>\n",
       "      <th>Type</th>\n",
       "      <th>Topics__c</th>\n",
       "      <th>TeamName__c</th>\n",
       "      <th>RequesterEmail__c</th>\n",
       "      <th>EmailTemplateSubjectDispute__c</th>\n",
       "      <th>LastEmailCCAddress__c</th>\n",
       "      <th>SuppliedEmail</th>\n",
       "      <th>LastIncomingEmail__c</th>\n",
       "      <th>attributes.type</th>\n",
       "      <th>attributes.url</th>\n",
       "      <th>Contact.attributes.type</th>\n",
       "      <th>Contact.attributes.url</th>\n",
       "      <th>Contact.Email</th>\n",
       "      <th>Contact</th>\n",
       "    </tr>\n",
       "  </thead>\n",
       "  <tbody>\n",
       "    <tr>\n",
       "      <th>0</th>\n",
       "      <td>100124562</td>\n",
       "      <td>RTCU</td>\n",
       "      <td>T039</td>\n",
       "      <td>US-NOR-CMA-BKG-PREFERRED</td>\n",
       "      <td>NaN</td>\n",
       "      <td>NAM4999926A Case #100124562</td>\n",
       "      <td>op@easywayintl.com</td>\n",
       "      <td>NaN</td>\n",
       "      <td>&lt;div&gt;\\n&lt;div&gt;\\n&lt;div dir=\"ltr\" style=\"color: rgb...</td>\n",
       "      <td>Case</td>\n",
       "      <td>/services/data/v42.0/sobjects/Case/5005p00002e...</td>\n",
       "      <td>Contact</td>\n",
       "      <td>/services/data/v42.0/sobjects/Contact/0035p000...</td>\n",
       "      <td>usa.wcportops@cma-cgm.com</td>\n",
       "      <td>NaN</td>\n",
       "    </tr>\n",
       "    <tr>\n",
       "      <th>1</th>\n",
       "      <td>100128892</td>\n",
       "      <td>CRFC</td>\n",
       "      <td>T038</td>\n",
       "      <td>US-NOR-CMA-CS-EXP-PREFERRED</td>\n",
       "      <td>NaN</td>\n",
       "      <td>NAM5085287 Case #100128892</td>\n",
       "      <td>NaN</td>\n",
       "      <td>NaN</td>\n",
       "      <td>NaN</td>\n",
       "      <td>Case</td>\n",
       "      <td>/services/data/v42.0/sobjects/Case/5005p00002e...</td>\n",
       "      <td>NaN</td>\n",
       "      <td>NaN</td>\n",
       "      <td>NaN</td>\n",
       "      <td>NaN</td>\n",
       "    </tr>\n",
       "    <tr>\n",
       "      <th>2</th>\n",
       "      <td>100123788</td>\n",
       "      <td>BCON</td>\n",
       "      <td>T847</td>\n",
       "      <td>US-NOR-CMA-CS-EXP-PREFERRED</td>\n",
       "      <td>NaN</td>\n",
       "      <td>NAM4993560 Case #100123788</td>\n",
       "      <td>NaN</td>\n",
       "      <td>NaN</td>\n",
       "      <td>NaN</td>\n",
       "      <td>Case</td>\n",
       "      <td>/services/data/v42.0/sobjects/Case/5005p00002e...</td>\n",
       "      <td>Contact</td>\n",
       "      <td>/services/data/v42.0/sobjects/Contact/0030N000...</td>\n",
       "      <td>ds@srinc.us.com</td>\n",
       "      <td>NaN</td>\n",
       "    </tr>\n",
       "    <tr>\n",
       "      <th>3</th>\n",
       "      <td>100080371</td>\n",
       "      <td>CRFC</td>\n",
       "      <td>T036</td>\n",
       "      <td>US-BNA-CMA-CS-IMP-DIVERSIONS</td>\n",
       "      <td>NaN</td>\n",
       "      <td>MOGELIJKE COD'S F119086 // RTM Case #100080371</td>\n",
       "      <td>janneke.van.leeuwen@fclmarine.nl; executivedes...</td>\n",
       "      <td>NaN</td>\n",
       "      <td>&lt;div class=\"WordSection1\"&gt;\\n&lt;p class=\"MsoNorma...</td>\n",
       "      <td>Case</td>\n",
       "      <td>/services/data/v42.0/sobjects/Case/5005p00002e...</td>\n",
       "      <td>Contact</td>\n",
       "      <td>/services/data/v42.0/sobjects/Contact/0030N000...</td>\n",
       "      <td>janneke.van.leeuwen@fclmarine.nl</td>\n",
       "      <td>NaN</td>\n",
       "    </tr>\n",
       "    <tr>\n",
       "      <th>4</th>\n",
       "      <td>100095395</td>\n",
       "      <td>BREQ</td>\n",
       "      <td>T035</td>\n",
       "      <td>US-NOR-CMA-BKG-PREFERRED</td>\n",
       "      <td>tina@generallogistics.net</td>\n",
       "      <td>AMEND NAM5088900    [ ref:_00D Case #100095395</td>\n",
       "      <td>bookings@generallogistics.net</td>\n",
       "      <td>tina@generallogistics.net</td>\n",
       "      <td>&lt;div class=\"WordSection1\"&gt;\\n&lt;p class=\"MsoNorma...</td>\n",
       "      <td>Case</td>\n",
       "      <td>/services/data/v42.0/sobjects/Case/5005p00002e...</td>\n",
       "      <td>Contact</td>\n",
       "      <td>/services/data/v42.0/sobjects/Contact/0030N000...</td>\n",
       "      <td>tina@generallogistics.net</td>\n",
       "      <td>NaN</td>\n",
       "    </tr>\n",
       "    <tr>\n",
       "      <th>5</th>\n",
       "      <td>100097054</td>\n",
       "      <td>BCON</td>\n",
       "      <td>T847</td>\n",
       "      <td>US-NOR-CMA-BKG-SPECIALTY</td>\n",
       "      <td>bookings@delongcompany.com</td>\n",
       "      <td>FW: CMA CGM - Cut-off date cha Case #100097054</td>\n",
       "      <td>usa.cmaexportactive@usa.cma-cgm.com</td>\n",
       "      <td>bookings@delongcompany.com</td>\n",
       "      <td>CMA CGM - Cut-off date change at - NEW YORK, N...</td>\n",
       "      <td>Case</td>\n",
       "      <td>/services/data/v42.0/sobjects/Case/5005p00002e...</td>\n",
       "      <td>Contact</td>\n",
       "      <td>/services/data/v42.0/sobjects/Contact/0030N000...</td>\n",
       "      <td>bookings@delongcompany.com</td>\n",
       "      <td>NaN</td>\n",
       "    </tr>\n",
       "    <tr>\n",
       "      <th>6</th>\n",
       "      <td>100097055</td>\n",
       "      <td>BCON</td>\n",
       "      <td>T847</td>\n",
       "      <td>US-NOR-CMA-BKG-SPECIALTY</td>\n",
       "      <td>bookings@delongcompany.com</td>\n",
       "      <td>FW: CMA CGM - Cut-off date cha Case #100097055</td>\n",
       "      <td>NaN</td>\n",
       "      <td>bookings@delongcompany.com</td>\n",
       "      <td>CMA CGM - Cut-off date change at - NEW YORK, N...</td>\n",
       "      <td>Case</td>\n",
       "      <td>/services/data/v42.0/sobjects/Case/5005p00002e...</td>\n",
       "      <td>Contact</td>\n",
       "      <td>/services/data/v42.0/sobjects/Contact/0030N000...</td>\n",
       "      <td>bookings@delongcompany.com</td>\n",
       "      <td>NaN</td>\n",
       "    </tr>\n",
       "    <tr>\n",
       "      <th>7</th>\n",
       "      <td>100097056</td>\n",
       "      <td>BCON</td>\n",
       "      <td>T847</td>\n",
       "      <td>US-NOR-CMA-BKG-SPECIALTY</td>\n",
       "      <td>bookings@delongcompany.com</td>\n",
       "      <td>FW: CMA CGM - Cut-off date cha Case #100097056</td>\n",
       "      <td>NaN</td>\n",
       "      <td>bookings@delongcompany.com</td>\n",
       "      <td>CMA CGM - Cut-off date change at - NEW YORK, N...</td>\n",
       "      <td>Case</td>\n",
       "      <td>/services/data/v42.0/sobjects/Case/5005p00002e...</td>\n",
       "      <td>Contact</td>\n",
       "      <td>/services/data/v42.0/sobjects/Contact/0030N000...</td>\n",
       "      <td>bookings@delongcompany.com</td>\n",
       "      <td>NaN</td>\n",
       "    </tr>\n",
       "    <tr>\n",
       "      <th>8</th>\n",
       "      <td>100097057</td>\n",
       "      <td>NaN</td>\n",
       "      <td>NaN</td>\n",
       "      <td>US-NOR-CMA-BKG-SPECIALTY</td>\n",
       "      <td>bookings@delongcompany.com</td>\n",
       "      <td>FW: CMA CGM - Cut-off date cha Case #100097057</td>\n",
       "      <td>NaN</td>\n",
       "      <td>bookings@delongcompany.com</td>\n",
       "      <td>CMA CGM - Cut-off date change at - NEW YORK, N...</td>\n",
       "      <td>Case</td>\n",
       "      <td>/services/data/v42.0/sobjects/Case/5005p00002e...</td>\n",
       "      <td>Contact</td>\n",
       "      <td>/services/data/v42.0/sobjects/Contact/0030N000...</td>\n",
       "      <td>bookings@delongcompany.com</td>\n",
       "      <td>NaN</td>\n",
       "    </tr>\n",
       "    <tr>\n",
       "      <th>9</th>\n",
       "      <td>100097058</td>\n",
       "      <td>NaN</td>\n",
       "      <td>NaN</td>\n",
       "      <td>US-NOR-CMA-BKG-SPECIALTY</td>\n",
       "      <td>bookings@delongcompany.com</td>\n",
       "      <td>FW: CMA CGM - Cut-off date cha Case #100097058</td>\n",
       "      <td>NaN</td>\n",
       "      <td>bookings@delongcompany.com</td>\n",
       "      <td>CMA CGM - Cut-off date change at - NEW YORK, N...</td>\n",
       "      <td>Case</td>\n",
       "      <td>/services/data/v42.0/sobjects/Case/5005p00002e...</td>\n",
       "      <td>Contact</td>\n",
       "      <td>/services/data/v42.0/sobjects/Contact/0030N000...</td>\n",
       "      <td>bookings@delongcompany.com</td>\n",
       "      <td>NaN</td>\n",
       "    </tr>\n",
       "  </tbody>\n",
       "</table>\n",
       "</div>"
      ],
      "text/plain": [
       "   CaseNumber  Type Topics__c                   TeamName__c  \\\n",
       "0   100124562  RTCU      T039      US-NOR-CMA-BKG-PREFERRED   \n",
       "1   100128892  CRFC      T038   US-NOR-CMA-CS-EXP-PREFERRED   \n",
       "2   100123788  BCON      T847   US-NOR-CMA-CS-EXP-PREFERRED   \n",
       "3   100080371  CRFC      T036  US-BNA-CMA-CS-IMP-DIVERSIONS   \n",
       "4   100095395  BREQ      T035      US-NOR-CMA-BKG-PREFERRED   \n",
       "5   100097054  BCON      T847      US-NOR-CMA-BKG-SPECIALTY   \n",
       "6   100097055  BCON      T847      US-NOR-CMA-BKG-SPECIALTY   \n",
       "7   100097056  BCON      T847      US-NOR-CMA-BKG-SPECIALTY   \n",
       "8   100097057   NaN       NaN      US-NOR-CMA-BKG-SPECIALTY   \n",
       "9   100097058   NaN       NaN      US-NOR-CMA-BKG-SPECIALTY   \n",
       "\n",
       "            RequesterEmail__c                  EmailTemplateSubjectDispute__c  \\\n",
       "0                         NaN                     NAM4999926A Case #100124562   \n",
       "1                         NaN                      NAM5085287 Case #100128892   \n",
       "2                         NaN                      NAM4993560 Case #100123788   \n",
       "3                         NaN  MOGELIJKE COD'S F119086 // RTM Case #100080371   \n",
       "4   tina@generallogistics.net  AMEND NAM5088900    [ ref:_00D Case #100095395   \n",
       "5  bookings@delongcompany.com  FW: CMA CGM - Cut-off date cha Case #100097054   \n",
       "6  bookings@delongcompany.com  FW: CMA CGM - Cut-off date cha Case #100097055   \n",
       "7  bookings@delongcompany.com  FW: CMA CGM - Cut-off date cha Case #100097056   \n",
       "8  bookings@delongcompany.com  FW: CMA CGM - Cut-off date cha Case #100097057   \n",
       "9  bookings@delongcompany.com  FW: CMA CGM - Cut-off date cha Case #100097058   \n",
       "\n",
       "                               LastEmailCCAddress__c  \\\n",
       "0                                 op@easywayintl.com   \n",
       "1                                                NaN   \n",
       "2                                                NaN   \n",
       "3  janneke.van.leeuwen@fclmarine.nl; executivedes...   \n",
       "4                      bookings@generallogistics.net   \n",
       "5                usa.cmaexportactive@usa.cma-cgm.com   \n",
       "6                                                NaN   \n",
       "7                                                NaN   \n",
       "8                                                NaN   \n",
       "9                                                NaN   \n",
       "\n",
       "                SuppliedEmail  \\\n",
       "0                         NaN   \n",
       "1                         NaN   \n",
       "2                         NaN   \n",
       "3                         NaN   \n",
       "4   tina@generallogistics.net   \n",
       "5  bookings@delongcompany.com   \n",
       "6  bookings@delongcompany.com   \n",
       "7  bookings@delongcompany.com   \n",
       "8  bookings@delongcompany.com   \n",
       "9  bookings@delongcompany.com   \n",
       "\n",
       "                                LastIncomingEmail__c attributes.type  \\\n",
       "0  <div>\\n<div>\\n<div dir=\"ltr\" style=\"color: rgb...            Case   \n",
       "1                                                NaN            Case   \n",
       "2                                                NaN            Case   \n",
       "3  <div class=\"WordSection1\">\\n<p class=\"MsoNorma...            Case   \n",
       "4  <div class=\"WordSection1\">\\n<p class=\"MsoNorma...            Case   \n",
       "5  CMA CGM - Cut-off date change at - NEW YORK, N...            Case   \n",
       "6  CMA CGM - Cut-off date change at - NEW YORK, N...            Case   \n",
       "7  CMA CGM - Cut-off date change at - NEW YORK, N...            Case   \n",
       "8  CMA CGM - Cut-off date change at - NEW YORK, N...            Case   \n",
       "9  CMA CGM - Cut-off date change at - NEW YORK, N...            Case   \n",
       "\n",
       "                                      attributes.url Contact.attributes.type  \\\n",
       "0  /services/data/v42.0/sobjects/Case/5005p00002e...                 Contact   \n",
       "1  /services/data/v42.0/sobjects/Case/5005p00002e...                     NaN   \n",
       "2  /services/data/v42.0/sobjects/Case/5005p00002e...                 Contact   \n",
       "3  /services/data/v42.0/sobjects/Case/5005p00002e...                 Contact   \n",
       "4  /services/data/v42.0/sobjects/Case/5005p00002e...                 Contact   \n",
       "5  /services/data/v42.0/sobjects/Case/5005p00002e...                 Contact   \n",
       "6  /services/data/v42.0/sobjects/Case/5005p00002e...                 Contact   \n",
       "7  /services/data/v42.0/sobjects/Case/5005p00002e...                 Contact   \n",
       "8  /services/data/v42.0/sobjects/Case/5005p00002e...                 Contact   \n",
       "9  /services/data/v42.0/sobjects/Case/5005p00002e...                 Contact   \n",
       "\n",
       "                              Contact.attributes.url  \\\n",
       "0  /services/data/v42.0/sobjects/Contact/0035p000...   \n",
       "1                                                NaN   \n",
       "2  /services/data/v42.0/sobjects/Contact/0030N000...   \n",
       "3  /services/data/v42.0/sobjects/Contact/0030N000...   \n",
       "4  /services/data/v42.0/sobjects/Contact/0030N000...   \n",
       "5  /services/data/v42.0/sobjects/Contact/0030N000...   \n",
       "6  /services/data/v42.0/sobjects/Contact/0030N000...   \n",
       "7  /services/data/v42.0/sobjects/Contact/0030N000...   \n",
       "8  /services/data/v42.0/sobjects/Contact/0030N000...   \n",
       "9  /services/data/v42.0/sobjects/Contact/0030N000...   \n",
       "\n",
       "                      Contact.Email  Contact  \n",
       "0         usa.wcportops@cma-cgm.com      NaN  \n",
       "1                               NaN      NaN  \n",
       "2                   ds@srinc.us.com      NaN  \n",
       "3  janneke.van.leeuwen@fclmarine.nl      NaN  \n",
       "4         tina@generallogistics.net      NaN  \n",
       "5        bookings@delongcompany.com      NaN  \n",
       "6        bookings@delongcompany.com      NaN  \n",
       "7        bookings@delongcompany.com      NaN  \n",
       "8        bookings@delongcompany.com      NaN  \n",
       "9        bookings@delongcompany.com      NaN  "
      ]
     },
     "execution_count": 75,
     "metadata": {},
     "output_type": "execute_result"
    }
   ],
   "source": [
    "df.head(10)"
   ]
  },
  {
   "cell_type": "code",
   "execution_count": 18,
   "metadata": {},
   "outputs": [],
   "source": [
    "df_new = df.dropna(subset=['LastIncomingEmail__c']).reset_index()"
   ]
  },
  {
   "cell_type": "code",
   "execution_count": 20,
   "metadata": {},
   "outputs": [],
   "source": [
    "emails = []\n",
    "for i in range(50):\n",
    "    emails.append(df_new['LastIncomingEmail__c'][i])"
   ]
  },
  {
   "cell_type": "code",
   "execution_count": 47,
   "metadata": {},
   "outputs": [
    {
     "name": "stdout",
     "output_type": "stream",
     "text": [
      "<div class=\"WordSection1\">\n",
      "<p class=\"MsoNormal\" style=\"\"><span style=\"font-size: 8.5pt;\"> </span></p>\n",
      "<p class=\"MsoNormal\" style=\"\"><span style=\"font-size: 10.0pt;\"> </span></p>\n",
      "<p class=\"MsoNormal\" style=\"\"><span style=\"font-size: 10.0pt;\"> </span></p>\n",
      "<p class=\"MsoNormal\" style=\"\"><span style=\"font-size: 10.0pt;\">Good day,</span></p>\n",
      "<p class=\"MsoNormal\" style=\"\"><span style=\"font-size: 10.0pt;\">I&#39;m out of the office with no access to emails. For immediate sales assistance, please reach out to:</span></p>\n",
      "<p class=\"MsoNormal\" style=\"\"><span style=\"font-size: 10.0pt;\"> </span></p>\n",
      "<p class=\"MsoNormal\" style=\"\"><span style=\"font-size: 10.0pt;\">Loic Ney (STRAT NVO&#39;s)</span></p>\n",
      "<p class=\"MsoNormal\" style=\"\"><span style=\"font-size: 10.0pt;\">Email: lney@cma-cgm.com</span></p>\n",
      "<p class=\"MsoNormal\" style=\"\"><span style=\"font-size: 10.0pt;\">Phone: (786) 774-5115</span></p>\n",
      "<p class=\"MsoNormal\" style=\"\"><span style=\"font-size: 10.0pt;\"> </span></p>\n",
      "<p class=\"MsoNormal\" style=\"\"><span style=\"font-size: 10.0pt;\">Maria Nunez</span></p>\n",
      "<p class=\"MsoNormal\" style=\"\"><span style=\"font-size: 10.0pt;\">Email: Mnunez@cma-cgm.com</span></p>\n",
      "<p class=\"MsoNormal\" style=\"\"><span style=\"font-size: 10.0pt;\">Phone: (786) 897-3200</span></p>\n",
      "</div>\n",
      "1\n",
      "<div style=\"background-color: #FFEB9C; width: 100%; border-style: solid; border-color: #9C6500; border-width: 1pt; font-size: 10pt; color: Black; text-align: left;\">\n",
      "<span style=\"\">CAUTION:</span> This email originated from outside of the organization. Do not click links or open attachments unless you recognize the sender and know the content is safe.</div>\n",
      "<br><div>\n",
      "<div class=\"WordSection1\">\n",
      "<p class=\"MsoNormal\">Good Morning CMA team, </p>\n",
      "<p class=\"MsoNormal\"> </p>\n",
      "<p class=\"MsoNormal\">Please advise if you have received the below customs clearance for the below shipment.</p>\n",
      "<p class=\"MsoNormal\"> </p>\n",
      "<p class=\"MsoListParagraph\" style=\"\"><span style=\"font-family: Symbol;\"><span style=\"\">·<span style=\"\">        \n",
      "</span></span></span><span style=\"color: black;\">CMDUAYN0900062</span></p>\n",
      "<p class=\"MsoListParagraph\" style=\"\"><span style=\"font-family: Symbol;\"><span style=\"\">·<span style=\"\">        \n",
      "</span></span></span><span style=\"color: black;\">CMDUAYN0905924</span></p>\n",
      "<p class=\"MsoListParagraph\" style=\"\"><span style=\"font-family: Symbol;\"><span style=\"\">·<span style=\"\">        \n",
      "</span></span></span><span style=\"color: black;\">CMDUAYN0872675</span></p>\n",
      "<p class=\"MsoListParagraph\" style=\"\"><span style=\"font-family: Symbol;\"><span style=\"\">·<span style=\"\">        \n",
      "</span></span></span><span style=\"color: black;\">CMDUAYN0905954</span></p>\n",
      "<p class=\"MsoNormal\"> </p>\n",
      "<p class=\"MsoNormal\">Thank you, </p>\n",
      "<p class=\"MsoNormal\"> </p>\n",
      "<p class=\"MsoNormal\"><b><span style=\"font-size: 9.0pt; color: black;\">Taylor Tamborino</span></b><span style=\"font-size: 9.0pt; color: black;\"></span></p>\n",
      "<p class=\"MsoNormal\"><span style=\"font-size: 9.0pt; color: black;\">First Solar – Seafreight Import Coordinator</span></p>\n",
      "<p class=\"MsoNormal\" style=\"\"><b><span style=\"font-size: 9.0pt; color: black;\">Kuehne + Nagel Inc.</span></b><span style=\"font-size: 9.0pt; color: black;\"></span></p>\n",
      "<p class=\"MsoNormal\" style=\"\"><span style=\"font-size: 9.0pt; color: black;\">One Heritage Place, Suite 300</span></p>\n",
      "<p class=\"MsoNormal\" style=\"\"><span style=\"font-size: 9.0pt; color: black;\">Southgate, MI 48195, USA</span></p>\n",
      "<p class=\"MsoNormal\"><span style=\"font-size: 9.0pt; color: black;\">p. +1 734 857 5331</span></p>\n",
      "<p class=\"MsoNormal\"><span style=\"font-size: 9.0pt; color: black;\">e. </span><span style=\"font-size: 9.0pt;\"><a href=\"mailto:taylor.tamborino@kuehne-nagel.com\" target=\"_blank\"><span style=\"color: blue;\">taylor.tamborino@kuehne-nagel.com</span></a></span></p>\n",
      "<p class=\"MsoNormal\"><span style=\"font-size: 9.0pt; color: black;\"><a href=\"https://urldefense.com/v3/__https://www.kn-portal.com/updates_on_coronavirus/__;!!CHTgRmCF!AA_mmwKa0Y1TJ-eCgEsy71czzptU8GyaCkfmTkCSqZ0aQ4_D7eiYqjBk_mHMOVj5I33GXc1eKGSWnDNj8X5CZQ2a7SocU20pYyuZ$\" target=\"_blank\"><span style=\"color: red; text-decoration: none;\">Covid-19\n",
      " Update</span></a></span></p>\n",
      "<p class=\"MsoNormal\"><span style=\"font-size: 9.0pt;\"><a href=\"https://urldefense.com/v3/__https://us.kuehne-nagel.com/?utm_source=signatureURLUSA&amp;utm_medium=signatureURLUSA&amp;utm_campaign=signatureURLUSA__;!!CHTgRmCF!AA_mmwKa0Y1TJ-eCgEsy71czzptU8GyaCkfmTkCSqZ0aQ4_D7eiYqjBk_mHMOVj5I33GXc1eKGSWnDNj8X5CZQ2a7SocU0p4sMZz$\" target=\"_blank\"><span style=\"color: blue;\">us.kuehne-nagel.com</span></a><span style=\"color: black;\"></span></span></p>\n",
      "<table class=\"MsoNormalTable\" border=\"1\" cellspacing=\"0\" cellpadding=\"0\" style=\"border: none;\"><tbody><tr><td colspan=\"1\" rowspan=\"1\" valign=\"top\" width=\"232\" style=\"width: 172.3pt; border: none;\">\n",
      "</td><td colspan=\"1\" rowspan=\"1\" valign=\"top\" width=\"53\" style=\"width: 39.9pt; border: none;\">\n",
      "</td></tr><tr><td colspan=\"1\" rowspan=\"1\" valign=\"top\" width=\"232\" style=\"width: 173.65pt; border: none;\">\n",
      "</td><td colspan=\"1\" rowspan=\"1\" valign=\"top\" width=\"53\" style=\"width: 38.5pt; border: none;\">\n",
      "</td></tr><tr><td colspan=\"1\" rowspan=\"1\" valign=\"top\" width=\"232\" style=\"width: 172.3pt; border: none;\">\n",
      "</td><td colspan=\"1\" rowspan=\"1\" valign=\"top\" width=\"53\" style=\"width: 39.9pt; border: none;\">\n",
      "</td></tr></tbody></table>\n",
      "<p class=\"MsoNormal\"> </p>\n",
      "<p class=\"MsoNormal\"> </p>\n",
      "</div>\n",
      "</div>\n",
      "2\n",
      "<div style=\"background-color: #FFEB9C; width: 100%; border-style: solid; border-color: #9C6500; border-width: 1pt; font-size: 10pt; color: Black; text-align: left;\">\n",
      "<span style=\"\">CAUTION:</span> This email originated from outside of the organization. Do not click links or open attachments unless you recognize the sender and know the content is safe.</div>\n",
      "<br><div>\n",
      "<div class=\"WordSection1\">\n",
      "<p class=\"MsoNormal\">Good Morning CMA team, </p>\n",
      "<p class=\"MsoNormal\"> </p>\n",
      "<p class=\"MsoNormal\">Please advise if you have received the below customs clearance for the below shipment.</p>\n",
      "<p class=\"MsoNormal\"> </p>\n",
      "<p class=\"MsoListParagraph\" style=\"\"><span style=\"font-family: Symbol;\"><span style=\"\">·<span style=\"\">        \n",
      "</span></span></span><span style=\"color: black;\">CMDUAYN0900062</span></p>\n",
      "<p class=\"MsoListParagraph\" style=\"\"><span style=\"font-family: Symbol;\"><span style=\"\">·<span style=\"\">        \n",
      "</span></span></span><span style=\"color: black;\">CMDUAYN0905924</span></p>\n",
      "<p class=\"MsoListParagraph\" style=\"\"><span style=\"font-family: Symbol;\"><span style=\"\">·<span style=\"\">        \n",
      "</span></span></span><span style=\"color: black;\">CMDUAYN0872675</span></p>\n",
      "<p class=\"MsoListParagraph\" style=\"\"><span style=\"font-family: Symbol;\"><span style=\"\">·<span style=\"\">        \n",
      "</span></span></span><span style=\"color: black;\">CMDUAYN0905954</span></p>\n",
      "<p class=\"MsoNormal\"> </p>\n",
      "<p class=\"MsoNormal\">Thank you, </p>\n",
      "<p class=\"MsoNormal\"> </p>\n",
      "<p class=\"MsoNormal\"><b><span style=\"font-size: 9.0pt; color: black;\">Taylor Tamborino</span></b><span style=\"font-size: 9.0pt; color: black;\"></span></p>\n",
      "<p class=\"MsoNormal\"><span style=\"font-size: 9.0pt; color: black;\">First Solar – Seafreight Import Coordinator</span></p>\n",
      "<p class=\"MsoNormal\" style=\"\"><b><span style=\"font-size: 9.0pt; color: black;\">Kuehne + Nagel Inc.</span></b><span style=\"font-size: 9.0pt; color: black;\"></span></p>\n",
      "<p class=\"MsoNormal\" style=\"\"><span style=\"font-size: 9.0pt; color: black;\">One Heritage Place, Suite 300</span></p>\n",
      "<p class=\"MsoNormal\" style=\"\"><span style=\"font-size: 9.0pt; color: black;\">Southgate, MI 48195, USA</span></p>\n",
      "<p class=\"MsoNormal\"><span style=\"font-size: 9.0pt; color: black;\">p. +1 734 857 5331</span></p>\n",
      "<p class=\"MsoNormal\"><span style=\"font-size: 9.0pt; color: black;\">e. </span><span style=\"font-size: 9.0pt;\"><a href=\"mailto:taylor.tamborino@kuehne-nagel.com\" target=\"_blank\"><span style=\"color: blue;\">taylor.tamborino@kuehne-nagel.com</span></a></span></p>\n",
      "<p class=\"MsoNormal\"><span style=\"font-size: 9.0pt; color: black;\"><a href=\"https://urldefense.com/v3/__https://www.kn-portal.com/updates_on_coronavirus/__;!!CHTgRmCF!AA_mmwKa0Y1TJ-eCgEsy71czzptU8GyaCkfmTkCSqZ0aQ4_D7eiYqjBk_mHMOVj5I33GXc1eKGSWnDNj8X5CZQ2a7SocU20pYyuZ$\" target=\"_blank\"><span style=\"color: red; text-decoration: none;\">Covid-19\n",
      " Update</span></a></span></p>\n",
      "<p class=\"MsoNormal\"><span style=\"font-size: 9.0pt;\"><a href=\"https://urldefense.com/v3/__https://us.kuehne-nagel.com/?utm_source=signatureURLUSA&amp;utm_medium=signatureURLUSA&amp;utm_campaign=signatureURLUSA__;!!CHTgRmCF!AA_mmwKa0Y1TJ-eCgEsy71czzptU8GyaCkfmTkCSqZ0aQ4_D7eiYqjBk_mHMOVj5I33GXc1eKGSWnDNj8X5CZQ2a7SocU0p4sMZz$\" target=\"_blank\"><span style=\"color: blue;\">us.kuehne-nagel.com</span></a><span style=\"color: black;\"></span></span></p>\n",
      "<table class=\"MsoNormalTable\" border=\"1\" cellspacing=\"0\" cellpadding=\"0\" style=\"border: none;\"><tbody><tr><td colspan=\"1\" rowspan=\"1\" valign=\"top\" width=\"232\" style=\"width: 172.3pt; border: none;\">\n",
      "</td><td colspan=\"1\" rowspan=\"1\" valign=\"top\" width=\"53\" style=\"width: 39.9pt; border: none;\">\n",
      "</td></tr><tr><td colspan=\"1\" rowspan=\"1\" valign=\"top\" width=\"232\" style=\"width: 173.65pt; border: none;\">\n",
      "</td><td colspan=\"1\" rowspan=\"1\" valign=\"top\" width=\"53\" style=\"width: 38.5pt; border: none;\">\n",
      "</td></tr><tr><td colspan=\"1\" rowspan=\"1\" valign=\"top\" width=\"232\" style=\"width: 172.3pt; border: none;\">\n",
      "</td><td colspan=\"1\" rowspan=\"1\" valign=\"top\" width=\"53\" style=\"width: 39.9pt; border: none;\">\n",
      "</td></tr></tbody></table>\n",
      "<p class=\"MsoNormal\"> </p>\n",
      "<p class=\"MsoNormal\"> </p>\n",
      "</div>\n",
      "</div>\n",
      "3\n",
      "<div style=\"background-color: #FFEB9C; width: 100%; border-style: solid; border-color: #9C6500; border-width: 1pt; font-size: 10pt; color: Black; text-align: left;\">\n",
      "<span style=\"\">CAUTION:</span> This email originated from outside of the organization. Do not click links or open attachments unless you recognize the sender and know the content is safe.</div>\n",
      "<br><div>\n",
      "<div class=\"WordSection1\">\n",
      "<p class=\"MsoNormal\">Good Morning CMA team, </p>\n",
      "<p class=\"MsoNormal\"> </p>\n",
      "<p class=\"MsoNormal\">Please advise if you have received the below customs clearance for the below shipment.</p>\n",
      "<p class=\"MsoNormal\"> </p>\n",
      "<p class=\"MsoListParagraph\" style=\"\"><span style=\"font-family: Symbol;\"><span style=\"\">·<span style=\"\">        \n",
      "</span></span></span><span style=\"color: black;\">CMDUAYN0900062</span></p>\n",
      "<p class=\"MsoListParagraph\" style=\"\"><span style=\"font-family: Symbol;\"><span style=\"\">·<span style=\"\">        \n",
      "</span></span></span><span style=\"color: black;\">CMDUAYN0905924</span></p>\n",
      "<p class=\"MsoListParagraph\" style=\"\"><span style=\"font-family: Symbol;\"><span style=\"\">·<span style=\"\">        \n",
      "</span></span></span><span style=\"color: black;\">CMDUAYN0872675</span></p>\n",
      "<p class=\"MsoListParagraph\" style=\"\"><span style=\"font-family: Symbol;\"><span style=\"\">·<span style=\"\">        \n",
      "</span></span></span><span style=\"color: black;\">CMDUAYN0905954</span></p>\n",
      "<p class=\"MsoNormal\"> </p>\n",
      "<p class=\"MsoNormal\">Thank you, </p>\n",
      "<p class=\"MsoNormal\"> </p>\n",
      "<p class=\"MsoNormal\"><b><span style=\"font-size: 9.0pt; color: black;\">Taylor Tamborino</span></b><span style=\"font-size: 9.0pt; color: black;\"></span></p>\n",
      "<p class=\"MsoNormal\"><span style=\"font-size: 9.0pt; color: black;\">First Solar – Seafreight Import Coordinator</span></p>\n",
      "<p class=\"MsoNormal\" style=\"\"><b><span style=\"font-size: 9.0pt; color: black;\">Kuehne + Nagel Inc.</span></b><span style=\"font-size: 9.0pt; color: black;\"></span></p>\n",
      "<p class=\"MsoNormal\" style=\"\"><span style=\"font-size: 9.0pt; color: black;\">One Heritage Place, Suite 300</span></p>\n",
      "<p class=\"MsoNormal\" style=\"\"><span style=\"font-size: 9.0pt; color: black;\">Southgate, MI 48195, USA</span></p>\n",
      "<p class=\"MsoNormal\"><span style=\"font-size: 9.0pt; color: black;\">p. +1 734 857 5331</span></p>\n",
      "<p class=\"MsoNormal\"><span style=\"font-size: 9.0pt; color: black;\">e. </span><span style=\"font-size: 9.0pt;\"><a href=\"mailto:taylor.tamborino@kuehne-nagel.com\" target=\"_blank\"><span style=\"color: blue;\">taylor.tamborino@kuehne-nagel.com</span></a></span></p>\n",
      "<p class=\"MsoNormal\"><span style=\"font-size: 9.0pt; color: black;\"><a href=\"https://urldefense.com/v3/__https://www.kn-portal.com/updates_on_coronavirus/__;!!CHTgRmCF!AA_mmwKa0Y1TJ-eCgEsy71czzptU8GyaCkfmTkCSqZ0aQ4_D7eiYqjBk_mHMOVj5I33GXc1eKGSWnDNj8X5CZQ2a7SocU20pYyuZ$\" target=\"_blank\"><span style=\"color: red; text-decoration: none;\">Covid-19\n",
      " Update</span></a></span></p>\n",
      "<p class=\"MsoNormal\"><span style=\"font-size: 9.0pt;\"><a href=\"https://urldefense.com/v3/__https://us.kuehne-nagel.com/?utm_source=signatureURLUSA&amp;utm_medium=signatureURLUSA&amp;utm_campaign=signatureURLUSA__;!!CHTgRmCF!AA_mmwKa0Y1TJ-eCgEsy71czzptU8GyaCkfmTkCSqZ0aQ4_D7eiYqjBk_mHMOVj5I33GXc1eKGSWnDNj8X5CZQ2a7SocU0p4sMZz$\" target=\"_blank\"><span style=\"color: blue;\">us.kuehne-nagel.com</span></a><span style=\"color: black;\"></span></span></p>\n",
      "<table class=\"MsoNormalTable\" border=\"1\" cellspacing=\"0\" cellpadding=\"0\" style=\"border: none;\"><tbody><tr><td colspan=\"1\" rowspan=\"1\" valign=\"top\" width=\"232\" style=\"width: 172.3pt; border: none;\">\n",
      "</td><td colspan=\"1\" rowspan=\"1\" valign=\"top\" width=\"53\" style=\"width: 39.9pt; border: none;\">\n",
      "</td></tr><tr><td colspan=\"1\" rowspan=\"1\" valign=\"top\" width=\"232\" style=\"width: 173.65pt; border: none;\">\n",
      "</td><td colspan=\"1\" rowspan=\"1\" valign=\"top\" width=\"53\" style=\"width: 38.5pt; border: none;\">\n",
      "</td></tr><tr><td colspan=\"1\" rowspan=\"1\" valign=\"top\" width=\"232\" style=\"width: 172.3pt; border: none;\">\n",
      "</td><td colspan=\"1\" rowspan=\"1\" valign=\"top\" width=\"53\" style=\"width: 39.9pt; border: none;\">\n",
      "</td></tr></tbody></table>\n",
      "<p class=\"MsoNormal\"> </p>\n",
      "<p class=\"MsoNormal\"> </p>\n",
      "</div>\n",
      "</div>\n",
      "4\n",
      "<div class=\"WordSection1\">\n",
      "<p class=\"MsoNormal\">Hello </p>\n",
      "<p class=\"MsoNormal\"> </p>\n",
      "<p class=\"MsoNormal\">Can you please confirm the in-gate date in origin for the below? Thanks\n",
      "</p>\n",
      "<p class=\"MsoNormal\"><b> </b></p>\n",
      "<p class=\"MsoNormal\"><b>CBC0184514</b></p>\n",
      "<p class=\"MsoNormal\"><b>SGN1353832</b></p>\n",
      "<p class=\"MsoNormal\"><b>SGN1358120</b></p>\n",
      "<p class=\"MsoNormal\"><b>SGN1358126</b></p>\n",
      "<p class=\"MsoNormal\"><b>SGN1349279 - GESU6924330</b></p>\n",
      "<p class=\"MsoNormal\"><b>CBC0180194</b></p>\n",
      "<p class=\"MsoNormal\"><b> </b></p>\n",
      "<p class=\"MsoNormal\"><b> </b></p>\n",
      "<table class=\"MsoNormalTable\" border=\"0\" cellspacing=\"0\" cellpadding=\"0\" width=\"1088\" style=\"width: 815.8pt; margin-left: 5.4pt;\"><tbody><tr><td colspan=\"1\" rowspan=\"1\" valign=\"top\" width=\"54\" style=\"width: 40.35pt;\">\n",
      "<p class=\"MsoNormal\" style=\"\"><span style=\"color: black;\"> </span></p>\n",
      "</td><td colspan=\"1\" rowspan=\"1\" valign=\"top\" width=\"1034\" style=\"width: 775.45pt;\">\n",
      "<p class=\"MsoNormal\" style=\"\"><span style=\"color: black;\"><img id=\"Picture_x0020_22\" width=\"102\" height=\"31\" style=\"width: 1.0625in; height: .3263in;\" src=\"/sfc/servlet.shepherd/version/download/0685p00000Z0NAtAAN\"></img></span><span style=\"color: black;\"></span></p>\n",
      "</td></tr><tr><td colspan=\"1\" rowspan=\"1\" valign=\"top\" width=\"54\" style=\"width: 40.35pt;\">\n",
      "<p class=\"MsoNormal\" style=\"\"><span style=\"color: black;\"></span></p></td></tr></tbody></table></div>\n",
      "5\n",
      "<div class=\"WordSection1\">\n",
      "<p class=\"MsoNormal\">Hello </p>\n",
      "<p class=\"MsoNormal\"> </p>\n",
      "<p class=\"MsoNormal\">Can you please confirm the in-gate date in origin for the below? Thanks\n",
      "</p>\n",
      "<p class=\"MsoNormal\"><b> </b></p>\n",
      "<p class=\"MsoNormal\"><b>CBC0184514</b></p>\n",
      "<p class=\"MsoNormal\"><b>SGN1353832</b></p>\n",
      "<p class=\"MsoNormal\"><b>SGN1358120</b></p>\n",
      "<p class=\"MsoNormal\"><b>SGN1358126</b></p>\n",
      "<p class=\"MsoNormal\"><b>SGN1349279 - GESU6924330</b></p>\n",
      "<p class=\"MsoNormal\"><b>CBC0180194</b></p>\n",
      "<p class=\"MsoNormal\"><b> </b></p>\n",
      "<p class=\"MsoNormal\"><b> </b></p>\n",
      "<table class=\"MsoNormalTable\" border=\"0\" cellspacing=\"0\" cellpadding=\"0\" width=\"1088\" style=\"width: 815.8pt; margin-left: 5.4pt;\"><tbody><tr><td colspan=\"1\" rowspan=\"1\" valign=\"top\" width=\"54\" style=\"width: 40.35pt;\">\n",
      "<p class=\"MsoNormal\" style=\"\"><span style=\"color: black;\"> </span></p>\n",
      "</td><td colspan=\"1\" rowspan=\"1\" valign=\"top\" width=\"1034\" style=\"width: 775.45pt;\">\n",
      "<p class=\"MsoNormal\" style=\"\"><span style=\"color: black;\"><img id=\"Picture_x0020_22\" width=\"102\" height=\"31\" style=\"width: 1.0625in; height: .3263in;\" src=\"/sfc/servlet.shepherd/version/download/0685p00000Z0NAtAAN\"></img></span><span style=\"color: black;\"></span></p>\n",
      "</td></tr><tr><td colspan=\"1\" rowspan=\"1\" valign=\"top\" width=\"54\" style=\"width: 40.35pt;\">\n",
      "<p class=\"MsoNormal\" style=\"\"><span style=\"color: black;\"></span></p></td></tr></tbody></table></div>\n",
      "6\n",
      "<div class=\"WordSection1\">\n",
      "<p class=\"MsoNormal\">Hello </p>\n",
      "<p class=\"MsoNormal\"> </p>\n",
      "<p class=\"MsoNormal\">Can you please confirm the in-gate date in origin for the below? Thanks\n",
      "</p>\n",
      "<p class=\"MsoNormal\"><b> </b></p>\n",
      "<p class=\"MsoNormal\"><b>CBC0184514</b></p>\n",
      "<p class=\"MsoNormal\"><b>SGN1353832</b></p>\n",
      "<p class=\"MsoNormal\"><b>SGN1358120</b></p>\n",
      "<p class=\"MsoNormal\"><b>SGN1358126</b></p>\n",
      "<p class=\"MsoNormal\"><b>SGN1349279 - GESU6924330</b></p>\n",
      "<p class=\"MsoNormal\"><b>CBC0180194</b></p>\n",
      "<p class=\"MsoNormal\"><b> </b></p>\n",
      "<p class=\"MsoNormal\"><b> </b></p>\n",
      "<table class=\"MsoNormalTable\" border=\"0\" cellspacing=\"0\" cellpadding=\"0\" width=\"1088\" style=\"width: 815.8pt; margin-left: 5.4pt;\"><tbody><tr><td colspan=\"1\" rowspan=\"1\" valign=\"top\" width=\"54\" style=\"width: 40.35pt;\">\n",
      "<p class=\"MsoNormal\" style=\"\"><span style=\"color: black;\"> </span></p>\n",
      "</td><td colspan=\"1\" rowspan=\"1\" valign=\"top\" width=\"1034\" style=\"width: 775.45pt;\">\n",
      "<p class=\"MsoNormal\" style=\"\"><span style=\"color: black;\"><img id=\"Picture_x0020_22\" width=\"102\" height=\"31\" style=\"width: 1.0625in; height: .3263in;\" src=\"/sfc/servlet.shepherd/version/download/0685p00000Z0NAtAAN\"></img></span><span style=\"color: black;\"></span></p>\n",
      "</td></tr><tr><td colspan=\"1\" rowspan=\"1\" valign=\"top\" width=\"54\" style=\"width: 40.35pt;\">\n",
      "<p class=\"MsoNormal\" style=\"\"><span style=\"color: black;\"></span></p></td></tr></tbody></table></div>\n",
      "7\n",
      "<div class=\"WordSection1\">\n",
      "<p class=\"MsoNormal\">Hello </p>\n",
      "<p class=\"MsoNormal\"> </p>\n",
      "<p class=\"MsoNormal\">Can you please confirm the in-gate date in origin for the below? Thanks\n",
      "</p>\n",
      "<p class=\"MsoNormal\"><b> </b></p>\n",
      "<p class=\"MsoNormal\"><b>CBC0184514</b></p>\n",
      "<p class=\"MsoNormal\"><b>SGN1353832</b></p>\n",
      "<p class=\"MsoNormal\"><b>SGN1358120</b></p>\n",
      "<p class=\"MsoNormal\"><b>SGN1358126</b></p>\n",
      "<p class=\"MsoNormal\"><b>SGN1349279 - GESU6924330</b></p>\n",
      "<p class=\"MsoNormal\"><b>CBC0180194</b></p>\n",
      "<p class=\"MsoNormal\"><b> </b></p>\n",
      "<p class=\"MsoNormal\"><b> </b></p>\n",
      "<table class=\"MsoNormalTable\" border=\"0\" cellspacing=\"0\" cellpadding=\"0\" width=\"1088\" style=\"width: 815.8pt; margin-left: 5.4pt;\"><tbody><tr><td colspan=\"1\" rowspan=\"1\" valign=\"top\" width=\"54\" style=\"width: 40.35pt;\">\n",
      "<p class=\"MsoNormal\" style=\"\"><span style=\"color: black;\"> </span></p>\n",
      "</td><td colspan=\"1\" rowspan=\"1\" valign=\"top\" width=\"1034\" style=\"width: 775.45pt;\">\n",
      "<p class=\"MsoNormal\" style=\"\"><span style=\"color: black;\"><img id=\"Picture_x0020_22\" width=\"102\" height=\"31\" style=\"width: 1.0625in; height: .3263in;\" src=\"/sfc/servlet.shepherd/version/download/0685p00000Z0NAtAAN\"></img></span><span style=\"color: black;\"></span></p>\n",
      "</td></tr><tr><td colspan=\"1\" rowspan=\"1\" valign=\"top\" width=\"54\" style=\"width: 40.35pt;\">\n",
      "<p class=\"MsoNormal\" style=\"\"><span style=\"color: black;\"></span></p></td></tr></tbody></table></div>\n",
      "8\n",
      "<div class=\"WordSection1\">\n",
      "<p class=\"MsoNormal\">Hello </p>\n",
      "<p class=\"MsoNormal\"> </p>\n",
      "<p class=\"MsoNormal\">Can you please confirm the in-gate date in origin for the below? Thanks\n",
      "</p>\n",
      "<p class=\"MsoNormal\"><b> </b></p>\n",
      "<p class=\"MsoNormal\"><b>CBC0184514</b></p>\n",
      "<p class=\"MsoNormal\"><b>SGN1353832</b></p>\n",
      "<p class=\"MsoNormal\"><b>SGN1358120</b></p>\n",
      "<p class=\"MsoNormal\"><b>SGN1358126</b></p>\n",
      "<p class=\"MsoNormal\"><b>SGN1349279 - GESU6924330</b></p>\n",
      "<p class=\"MsoNormal\"><b>CBC0180194</b></p>\n",
      "<p class=\"MsoNormal\"><b> </b></p>\n",
      "<p class=\"MsoNormal\"><b> </b></p>\n",
      "<table class=\"MsoNormalTable\" border=\"0\" cellspacing=\"0\" cellpadding=\"0\" width=\"1088\" style=\"width: 815.8pt; margin-left: 5.4pt;\"><tbody><tr><td colspan=\"1\" rowspan=\"1\" valign=\"top\" width=\"54\" style=\"width: 40.35pt;\">\n",
      "<p class=\"MsoNormal\" style=\"\"><span style=\"color: black;\"> </span></p>\n",
      "</td><td colspan=\"1\" rowspan=\"1\" valign=\"top\" width=\"1034\" style=\"width: 775.45pt;\">\n",
      "<p class=\"MsoNormal\" style=\"\"><span style=\"color: black;\"><img id=\"Picture_x0020_22\" width=\"102\" height=\"31\" style=\"width: 1.0625in; height: .3263in;\" src=\"/sfc/servlet.shepherd/version/download/0685p00000Z0NAtAAN\"></img></span><span style=\"color: black;\"></span></p>\n",
      "</td></tr><tr><td colspan=\"1\" rowspan=\"1\" valign=\"top\" width=\"54\" style=\"width: 40.35pt;\">\n",
      "<p class=\"MsoNormal\" style=\"\"><span style=\"color: black;\"></span></p></td></tr></tbody></table></div>\n",
      "9\n",
      "<div class=\"WordSection1\">\n",
      "<p class=\"MsoNormal\"><span>Hello Team,</span></p>\n",
      "<p class=\"MsoNormal\"><span> </span></p>\n",
      "<p class=\"MsoNormal\"><span>Below is the shipment for which Empty Return Date is not available.</span></p>\n",
      "<p class=\"MsoNormal\"><span> </span></p>\n",
      "<table class=\"MsoNormalTable\" border=\"0\" cellspacing=\"0\" cellpadding=\"0\" width=\"124\" style=\"width: 93.0pt;\"><tbody><tr style=\"height: 16.0pt;\"><td colspan=\"1\" rowspan=\"1\" valign=\"bottom\" width=\"124\" style=\"width: 93.0pt; height: 16.0pt;\">\n",
      "<p class=\"MsoNormal\"><b><span style=\"font-size: 10.0pt; color: #242424;\">CMAU8964348</span></b></p>\n",
      "</td></tr><tr style=\"height: 16.0pt;\"><td colspan=\"1\" rowspan=\"1\" valign=\"bottom\" width=\"124\" style=\"width: 93.0pt; height: 16.0pt;\">\n",
      "<p class=\"MsoNormal\"><b><span style=\"font-size: 10.0pt; color: #242424;\">TRHU5883083</span></b></p>\n",
      "</td></tr><tr style=\"height: 16.0pt;\"><td colspan=\"1\" rowspan=\"1\" valign=\"bottom\" width=\"124\" style=\"width: 93.0pt; height: 16.0pt;\">\n",
      "<p class=\"MsoNormal\"><b><span style=\"font-size: 10.0pt; color: #242424;\">CMAU5134579</span></b></p>\n",
      "</td></tr><tr style=\"height: 16.0pt;\"><td colspan=\"1\" rowspan=\"1\" valign=\"bottom\" width=\"124\" style=\"width: 93.0pt; height: 16.0pt;\">\n",
      "<p class=\"MsoNormal\"><b><span style=\"font-size: 10.0pt; color: #242424;\">CMAU8815386</span></b></p>\n",
      "</td></tr><tr style=\"height: 16.0pt;\"><td colspan=\"1\" rowspan=\"1\" valign=\"bottom\" width=\"124\" style=\"width: 93.0pt; height: 16.0pt;\">\n",
      "<p class=\"MsoNormal\"><b><span style=\"font-size: 10.0pt; color: #242424;\">SEGU4842027</span></b></p>\n",
      "</td></tr><tr style=\"height: 16.0pt;\"><td colspan=\"1\" rowspan=\"1\" valign=\"bottom\" width=\"124\" style=\"width: 93.0pt; height: 16.0pt;\">\n",
      "<p class=\"MsoNormal\"><b><span style=\"font-size: 10.0pt; color: #242424;\">APHU7296950</span></b></p>\n",
      "</td></tr><tr style=\"height: 16.0pt;\"><td colspan=\"1\" rowspan=\"1\" valign=\"bottom\" width=\"124\" style=\"width: 93.0pt; height: 16.0pt;\">\n",
      "<p class=\"MsoNormal\"><b><span style=\"font-size: 10.0pt; color: #242424;\">APHU7296950</span></b></p>\n",
      "</td></tr><tr style=\"height: 16.0pt;\"><td colspan=\"1\" rowspan=\"1\" valign=\"bottom\" width=\"124\" style=\"width: 93.0pt; height: 16.0pt;\">\n",
      "<p class=\"MsoNormal\"><b><span style=\"font-size: 10.0pt; color: #242424;\">BHCU4964040</span></b></p>\n",
      "</td></tr><tr style=\"height: 16.0pt;\"><td colspan=\"1\" rowspan=\"1\" valign=\"bottom\" width=\"124\" style=\"width: 93.0pt; height: 16.0pt;\">\n",
      "<p class=\"MsoNormal\"><b><span style=\"font-size: 10.0pt; color: #242424;\">CMAU6633464</span></b></p>\n",
      "</td></tr><tr style=\"height: 16.0pt;\"><td colspan=\"1\" rowspan=\"1\" valign=\"bottom\" width=\"124\" style=\"width: 93.0pt; height: 16.0pt;\">\n",
      "<p class=\"MsoNormal\"><b><span style=\"font-size: 10.0pt; color: #242424;\">TGBU5068061</span></b></p>\n",
      "</td></tr><tr style=\"height: 16.0pt;\"><td colspan=\"1\" rowspan=\"1\" valign=\"bottom\" width=\"124\" style=\"width: 93.0pt; height: 16.0pt;\">\n",
      "<p class=\"MsoNormal\"><b><span style=\"font-size: 10.0pt; color: #242424;\">BMOU4357301</span></b></p>\n",
      "</td></tr><tr style=\"height: 16.0pt;\"><td colspan=\"1\" rowspan=\"1\" valign=\"bottom\" width=\"124\" style=\"width: 93.0pt; height: 16.0pt;\">\n",
      "<p class=\"MsoNormal\"><b><span style=\"font-size: 10.0pt; color: #242424;\">TCLU6601748</span></b></p>\n",
      "</td></tr><tr style=\"height: 16.0pt;\"><td colspan=\"1\" rowspan=\"1\" valign=\"bottom\" width=\"124\" style=\"width: 93.0pt; height: 16.0pt;\">\n",
      "<p class=\"MsoNormal\"><b><span style=\"font-size: 10.0pt; color: #242424;\">TCNU4153615</span></b></p>\n",
      "</td></tr><tr style=\"height: 16.0pt;\"><td colspan=\"1\" rowspan=\"1\" valign=\"bottom\" width=\"124\" style=\"width: 93.0pt; height: 16.0pt;\">\n",
      "<p class=\"MsoNormal\"><b><span style=\"font-size: 10.0pt; color: #242424;\">SEKU5773898</span></b></p>\n",
      "</td></tr><tr style=\"height: 16.0pt;\"><td colspan=\"1\" rowspan=\"1\" valign=\"bottom\" width=\"124\" style=\"width: 93.0pt; height: 16.0pt;\">\n",
      "<p class=\"MsoNormal\"><b><span style=\"font-size: 10.0pt; color: #242424;\">CMAU8956471</span></b></p>\n",
      "</td></tr></tbody></table>\n",
      "<p class=\"MsoNormal\"><span> </span></p>\n",
      "<p class=\"MsoNormal\"><span>could you please assist us with the Empty Return date??</span></p>\n",
      "<p class=\"MsoNormal\"><span> </span></p>\n",
      "<p class=\"MsoNormal\"> </p>\n",
      "<p class=\"MsoNormal\"><span style=\"\"> </span></p>\n",
      "<p class=\"MsoNormal\"><span style=\"\">Thanks!</span></p>\n",
      "<p class=\"MsoNormal\"><b><span style=\"font-size: 8.0pt;\">Best Regards,</span></b></p>\n",
      "<p class=\"MsoNormal\"><b><span style=\"font-size: 8.0pt;\"> </span></b></p>\n",
      "<table class=\"MsoNormalTable\" border=\"0\" cellspacing=\"0\" cellpadding=\"0\" width=\"604\" style=\"width: 452.8pt; margin-left: 5.4pt;\"><tbody><tr><td colspan=\"1\" rowspan=\"1\" valign=\"top\" width=\"54\" style=\"width: 40.35pt;\">\n",
      "<p class=\"MsoNormal\"><span style=\"font-size: 8.0pt; color: #1F497D;\"> </span></p>\n",
      "</td><td colspan=\"1\" rowspan=\"1\" valign=\"top\" width=\"550\" style=\"width: 412.45pt;\">\n",
      "<p class=\"MsoNormal\" style=\"\"><span style=\"\"><img id=\"Picture_x0020_23\" width=\"102\" height=\"30\" style=\"width: 1.0625in; height: .3125in;\" src=\"/sfc/servlet.shepherd/version/download/0685p00000yaEr1AAE\"></img></span><span style=\"font-size: 8.0pt; color: #1F497D;\"></span></p>\n",
      "</td></tr><tr><td colspan=\"1\" rowspan=\"1\" valign=\"top\" width=\"54\" style=\"width: 40.35pt;\">\n",
      "<p class=\"MsoNormal\"><span style=\"\"></span></p></td></tr></tbody></table></div>\n",
      "10\n"
     ]
    }
   ],
   "source": [
    "c = 0\n",
    "for i in df_new.loc[df_new['Type']==\"NOAC\"]['LastIncomingEmail__c'] :\n",
    "    print(i)\n",
    "    c += 1\n",
    "    print(c)\n",
    "    if c == 10:\n",
    "        break"
   ]
  },
  {
   "cell_type": "code",
   "execution_count": 32,
   "metadata": {},
   "outputs": [],
   "source": [
    "text = []\n",
    "text.append(\"Thank you Jessica! Await your further on the two containers pending further update.\")\n",
    "text.append(\"Inmiddels de aangepaste bl’s al beschikbaar?\")\n",
    "text.append(\"Please SPLIT subject line booking to the below.\")\n",
    "text.append(\"Please send updated confirms for the bookings listed below; Booking ref.: NAM5132676 - From NEW YORK, NY to HUANGPU; Booking ref.: NAM5007889 - From NEW YORK, NY to HUANGPU; Booking ref.: NAM5125826 - From NEW YORK, NY to XIAMEN; Booking ref.: NAM5114429 - From NEW YORK, NY to XIAMEN; Booking ref.: NAM5127453 - From NEW YORK, NY to HUANGPU\")\n",
    "text.append(\"As per our telephone conversation find below the shipping instruction we received from our new client; they need to have the highlighted company as the shipper.\")\n",
    "text.append(\"Please cancel NAM4979589 for AU. We are looking into the others.\")\n",
    "text.append(\"Please see attached preliminary IMO for hazardous approval.\")\n",
    "text.append(\"Yes, Puerto Moin.\")\n",
    "text.append(\"Wanted to see if any bookings had been secured yet? I spoke to a rep Friday from the ag desk and she said they were still pending\")\n",
    "text.append(\"In addition to previous lists, below list of new shipments with rate discrepancies. Weston/Hamilton/Sparks have nominated MNT and “On carriage emergency surcharge” should not apply. Please issue credit.\")\n",
    "text.append(\"Lisette cancelled this booking with Brian Hallers who recommended to cancel to avoid confusion/delay and request a new booking. This is now rebooked under booking NAM5141959. Is there any way you can advance to an earlier sailing?\")\n",
    "text.append(\"We have learned that the vessel schedule for the PRESIDENT KENNEDY 0DBC6W1MA has been delayed. Can you please send revised bkg confirmation with current rail c/o? We have the following bookings on this vessel\")\n",
    "text.append(\"Adding a loading party, please send all the ingate tickets that containers were ingated in time, SI printout and screenshots that titles were sent in a timely manner.\")\n",
    "text.append(\"TCNU1172308 – unit shows already ready to load at port full, We cannot remove unless it is return empty.\")\n",
    "text.append(\"Hello, Please send us the updated booking confirmations for these 2 bookings. Thank you!\")\n",
    "text.append(\"Good day ANL Team, Please provide updated bookings for subject booking numbers. Oakland Terminal shows first receiving on 03/02 for the Mate 151S and current booking confirmations have a port cut off of 03/02.\")\n",
    "text.append(\"Good Morning CMA team, Please advise if you have received the below customs clearance for the below shipment.\")\n",
    "text.append(\"Hello, Can you please confirm the in-gate date in origin for the below? Thanks\")"
   ]
  },
  {
   "cell_type": "code",
   "execution_count": 31,
   "metadata": {},
   "outputs": [
    {
     "data": {
      "text/plain": [
       "'<div class=\"WordSection1\">\\n<p class=\"MsoNormal\">Good day ANL Team, </p>\\n<p class=\"MsoNormal\">\\xa0</p>\\n<p class=\"MsoNormal\">Please provide updated bookings for subject booking numbers. Oakland Terminal shows first receiving on 03/02 for the Mate 151S and \\xa0current booking confirmations have a port cut off of 03/02.</p>\\n<p class=\"MsoNormal\">\\xa0</p>\\n<p class=\"MsoNormal\">\\xa0</p>\\n<p class=\"MsoNormal\"><img id=\"Picture_x0020_2\" width=\"577\" height=\"307\" style=\"width: 6.0104in; height: 3.1979in;\" src=\"/sfc/servlet.shepherd/version/download/0685p00000yATMHAA4\"></img></p>\\n<p class=\"MsoNormal\">\\xa0</p>\\n<p class=\"MsoNormal\">\\xa0</p>\\n<p class=\"MsoNormal\"><b><span style=\"font-size: 10.0pt; color: black;\">Kind Regards,</span></b></p>\\n<p class=\"MsoNormal\"><b><span style=\"font-size: 10.0pt; color: black;\">\\xa0</span></b></p>\\n<p class=\"MsoNormal\"><b><span style=\"font-size: 10.0pt; color: black;\">VINCENZO CIBRA<br></span></b><span style=\"font-size: 9.0pt; color: black;\">Ocean Global Forwarding Agent<br><br></span><span style=\"font-size: 8.0pt; color: #7F7F7F;\">O: 781.838.8980<br><a href=\"mailto:vincenzo.cibra@chrobinson.com\" target=\"_blank\"><span style=\"color: #7F7F7F;\">vincenzo.cibra@chrobinson.com</span></a><br><a href=\"https://urldefense.com/v3/__http://www.chrobinson.com__;!!CHTgRmCF!B4sMxgU8GKqZEcTAYI8IH33q0_40r-IFxWS-VZTDujKyBMHJ7CXpdz92W0e9DvhxVx8EzpbnXSnpSXrMOaVyAaIitSU$\" title=\"www.chrobinson.com\" target=\"_blank\"><span style=\"color: #7F7F7F;\">www.chrobinson.com</span></a><br><br>500 Union Park\\xa0 Drive | 4th floor | Woburn, MA 01801 <br><br></span><a href=\"https://urldefense.com/v3/__http://www.chrobinson.com/__;!!CHTgRmCF!B4sMxgU8GKqZEcTAYI8IH33q0_40r-IFxWS-VZTDujKyBMHJ7CXpdz92W0e9DvhxVx8EzpbnXSnpSXrMOaVyVLtg8EY$\" target=\"_blank\"><span style=\"font-size: 8.0pt; color: #7F7F7F; text-decoration: none;\"></span></a></p></div>'"
      ]
     },
     "execution_count": 31,
     "metadata": {},
     "output_type": "execute_result"
    }
   ],
   "source": [
    "emails[30]"
   ]
  },
  {
   "cell_type": "code",
   "execution_count": 7,
   "metadata": {},
   "outputs": [],
   "source": [
    "nlp = spacy.load('en_core_web_sm')"
   ]
  },
  {
   "cell_type": "code",
   "execution_count": 48,
   "metadata": {},
   "outputs": [],
   "source": [
    "embedding = []\n",
    "for i in text :\n",
    "    embedding.append(nlp(i).vector)"
   ]
  },
  {
   "cell_type": "code",
   "execution_count": 60,
   "metadata": {},
   "outputs": [],
   "source": [
    "df2 = pd.DataFrame(embedding)\n",
    "df3 = df2.copy()\n",
    "labels = [\"Action\" for i in range(len(embedding) - 2)]\n",
    "labels.append(\"No Action\")\n",
    "labels.append(\"No Action\")\n",
    "df3['labels'] = labels"
   ]
  },
  {
   "cell_type": "code",
   "execution_count": 66,
   "metadata": {},
   "outputs": [
    {
     "data": {
      "application/vnd.plotly.v1+json": {
       "config": {
        "plotlyServerURL": "https://plot.ly"
       },
       "data": [
        {
         "hovertemplate": "color=Action<br>PC 1=%{x}<br>PC 2=%{y}<br>PC 3=%{z}<extra></extra>",
         "legendgroup": "Action",
         "marker": {
          "color": "#636efa",
          "symbol": "circle"
         },
         "mode": "markers",
         "name": "Action",
         "scene": "scene",
         "showlegend": true,
         "type": "scatter3d",
         "x": [
          -0.5879420042037964,
          2.2887704372406006,
          0.028155308216810226,
          0.8333839774131775,
          -1.099969744682312,
          -0.051878731697797775,
          -0.5189218521118164,
          3.5461864471435547,
          -0.9819885492324829,
          -0.23525728285312653,
          -0.9578385353088379,
          -0.5208442807197571,
          -0.7272707223892212,
          -0.6915783882141113
         ],
         "y": [
          0.6615340709686279,
          0.19983428716659546,
          1.2144886255264282,
          -1.0508440732955933,
          -0.40843284130096436,
          0.3336409628391266,
          1.965983510017395,
          -0.2119450569152832,
          -0.8869988322257996,
          -0.18862824141979218,
          -0.2054271548986435,
          -0.6894132494926453,
          -0.6961368918418884,
          -0.22582921385765076
         ],
         "z": [
          -0.8493477702140808,
          1.546822190284729,
          1.0142276287078857,
          -0.24953292310237885,
          0.5268481969833374,
          -1.0305782556533813,
          -0.2172762155532837,
          -0.8982687592506409,
          0.11314475536346436,
          -0.12650497257709503,
          -0.11981841921806335,
          0.10220669955015182,
          0.2414361834526062,
          0.10565748810768127
         ]
        },
        {
         "hovertemplate": "color=No Action<br>PC 1=%{x}<br>PC 2=%{y}<br>PC 3=%{z}<extra></extra>",
         "legendgroup": "No Action",
         "marker": {
          "color": "#EF553B",
          "symbol": "circle"
         },
         "mode": "markers",
         "name": "No Action",
         "scene": "scene",
         "showlegend": true,
         "type": "scatter3d",
         "x": [
          -0.1335820108652115,
          -0.18942460417747498
         ],
         "y": [
          0.2669527530670166,
          -0.07877881079912186
         ],
         "z": [
          -0.415549099445343,
          0.25653162598609924
         ]
        }
       ],
       "layout": {
        "height": 1000,
        "legend": {
         "title": {
          "text": "color"
         },
         "tracegroupgap": 0
        },
        "scene": {
         "domain": {
          "x": [
           0,
           1
          ],
          "y": [
           0,
           1
          ]
         },
         "xaxis": {
          "title": {
           "text": "PC 1"
          }
         },
         "yaxis": {
          "title": {
           "text": "PC 2"
          }
         },
         "zaxis": {
          "title": {
           "text": "PC 3"
          }
         }
        },
        "template": {
         "data": {
          "bar": [
           {
            "error_x": {
             "color": "#2a3f5f"
            },
            "error_y": {
             "color": "#2a3f5f"
            },
            "marker": {
             "line": {
              "color": "#E5ECF6",
              "width": 0.5
             },
             "pattern": {
              "fillmode": "overlay",
              "size": 10,
              "solidity": 0.2
             }
            },
            "type": "bar"
           }
          ],
          "barpolar": [
           {
            "marker": {
             "line": {
              "color": "#E5ECF6",
              "width": 0.5
             },
             "pattern": {
              "fillmode": "overlay",
              "size": 10,
              "solidity": 0.2
             }
            },
            "type": "barpolar"
           }
          ],
          "carpet": [
           {
            "aaxis": {
             "endlinecolor": "#2a3f5f",
             "gridcolor": "white",
             "linecolor": "white",
             "minorgridcolor": "white",
             "startlinecolor": "#2a3f5f"
            },
            "baxis": {
             "endlinecolor": "#2a3f5f",
             "gridcolor": "white",
             "linecolor": "white",
             "minorgridcolor": "white",
             "startlinecolor": "#2a3f5f"
            },
            "type": "carpet"
           }
          ],
          "choropleth": [
           {
            "colorbar": {
             "outlinewidth": 0,
             "ticks": ""
            },
            "type": "choropleth"
           }
          ],
          "contour": [
           {
            "colorbar": {
             "outlinewidth": 0,
             "ticks": ""
            },
            "colorscale": [
             [
              0,
              "#0d0887"
             ],
             [
              0.1111111111111111,
              "#46039f"
             ],
             [
              0.2222222222222222,
              "#7201a8"
             ],
             [
              0.3333333333333333,
              "#9c179e"
             ],
             [
              0.4444444444444444,
              "#bd3786"
             ],
             [
              0.5555555555555556,
              "#d8576b"
             ],
             [
              0.6666666666666666,
              "#ed7953"
             ],
             [
              0.7777777777777778,
              "#fb9f3a"
             ],
             [
              0.8888888888888888,
              "#fdca26"
             ],
             [
              1,
              "#f0f921"
             ]
            ],
            "type": "contour"
           }
          ],
          "contourcarpet": [
           {
            "colorbar": {
             "outlinewidth": 0,
             "ticks": ""
            },
            "type": "contourcarpet"
           }
          ],
          "heatmap": [
           {
            "colorbar": {
             "outlinewidth": 0,
             "ticks": ""
            },
            "colorscale": [
             [
              0,
              "#0d0887"
             ],
             [
              0.1111111111111111,
              "#46039f"
             ],
             [
              0.2222222222222222,
              "#7201a8"
             ],
             [
              0.3333333333333333,
              "#9c179e"
             ],
             [
              0.4444444444444444,
              "#bd3786"
             ],
             [
              0.5555555555555556,
              "#d8576b"
             ],
             [
              0.6666666666666666,
              "#ed7953"
             ],
             [
              0.7777777777777778,
              "#fb9f3a"
             ],
             [
              0.8888888888888888,
              "#fdca26"
             ],
             [
              1,
              "#f0f921"
             ]
            ],
            "type": "heatmap"
           }
          ],
          "heatmapgl": [
           {
            "colorbar": {
             "outlinewidth": 0,
             "ticks": ""
            },
            "colorscale": [
             [
              0,
              "#0d0887"
             ],
             [
              0.1111111111111111,
              "#46039f"
             ],
             [
              0.2222222222222222,
              "#7201a8"
             ],
             [
              0.3333333333333333,
              "#9c179e"
             ],
             [
              0.4444444444444444,
              "#bd3786"
             ],
             [
              0.5555555555555556,
              "#d8576b"
             ],
             [
              0.6666666666666666,
              "#ed7953"
             ],
             [
              0.7777777777777778,
              "#fb9f3a"
             ],
             [
              0.8888888888888888,
              "#fdca26"
             ],
             [
              1,
              "#f0f921"
             ]
            ],
            "type": "heatmapgl"
           }
          ],
          "histogram": [
           {
            "marker": {
             "pattern": {
              "fillmode": "overlay",
              "size": 10,
              "solidity": 0.2
             }
            },
            "type": "histogram"
           }
          ],
          "histogram2d": [
           {
            "colorbar": {
             "outlinewidth": 0,
             "ticks": ""
            },
            "colorscale": [
             [
              0,
              "#0d0887"
             ],
             [
              0.1111111111111111,
              "#46039f"
             ],
             [
              0.2222222222222222,
              "#7201a8"
             ],
             [
              0.3333333333333333,
              "#9c179e"
             ],
             [
              0.4444444444444444,
              "#bd3786"
             ],
             [
              0.5555555555555556,
              "#d8576b"
             ],
             [
              0.6666666666666666,
              "#ed7953"
             ],
             [
              0.7777777777777778,
              "#fb9f3a"
             ],
             [
              0.8888888888888888,
              "#fdca26"
             ],
             [
              1,
              "#f0f921"
             ]
            ],
            "type": "histogram2d"
           }
          ],
          "histogram2dcontour": [
           {
            "colorbar": {
             "outlinewidth": 0,
             "ticks": ""
            },
            "colorscale": [
             [
              0,
              "#0d0887"
             ],
             [
              0.1111111111111111,
              "#46039f"
             ],
             [
              0.2222222222222222,
              "#7201a8"
             ],
             [
              0.3333333333333333,
              "#9c179e"
             ],
             [
              0.4444444444444444,
              "#bd3786"
             ],
             [
              0.5555555555555556,
              "#d8576b"
             ],
             [
              0.6666666666666666,
              "#ed7953"
             ],
             [
              0.7777777777777778,
              "#fb9f3a"
             ],
             [
              0.8888888888888888,
              "#fdca26"
             ],
             [
              1,
              "#f0f921"
             ]
            ],
            "type": "histogram2dcontour"
           }
          ],
          "mesh3d": [
           {
            "colorbar": {
             "outlinewidth": 0,
             "ticks": ""
            },
            "type": "mesh3d"
           }
          ],
          "parcoords": [
           {
            "line": {
             "colorbar": {
              "outlinewidth": 0,
              "ticks": ""
             }
            },
            "type": "parcoords"
           }
          ],
          "pie": [
           {
            "automargin": true,
            "type": "pie"
           }
          ],
          "scatter": [
           {
            "fillpattern": {
             "fillmode": "overlay",
             "size": 10,
             "solidity": 0.2
            },
            "type": "scatter"
           }
          ],
          "scatter3d": [
           {
            "line": {
             "colorbar": {
              "outlinewidth": 0,
              "ticks": ""
             }
            },
            "marker": {
             "colorbar": {
              "outlinewidth": 0,
              "ticks": ""
             }
            },
            "type": "scatter3d"
           }
          ],
          "scattercarpet": [
           {
            "marker": {
             "colorbar": {
              "outlinewidth": 0,
              "ticks": ""
             }
            },
            "type": "scattercarpet"
           }
          ],
          "scattergeo": [
           {
            "marker": {
             "colorbar": {
              "outlinewidth": 0,
              "ticks": ""
             }
            },
            "type": "scattergeo"
           }
          ],
          "scattergl": [
           {
            "marker": {
             "colorbar": {
              "outlinewidth": 0,
              "ticks": ""
             }
            },
            "type": "scattergl"
           }
          ],
          "scattermapbox": [
           {
            "marker": {
             "colorbar": {
              "outlinewidth": 0,
              "ticks": ""
             }
            },
            "type": "scattermapbox"
           }
          ],
          "scatterpolar": [
           {
            "marker": {
             "colorbar": {
              "outlinewidth": 0,
              "ticks": ""
             }
            },
            "type": "scatterpolar"
           }
          ],
          "scatterpolargl": [
           {
            "marker": {
             "colorbar": {
              "outlinewidth": 0,
              "ticks": ""
             }
            },
            "type": "scatterpolargl"
           }
          ],
          "scatterternary": [
           {
            "marker": {
             "colorbar": {
              "outlinewidth": 0,
              "ticks": ""
             }
            },
            "type": "scatterternary"
           }
          ],
          "surface": [
           {
            "colorbar": {
             "outlinewidth": 0,
             "ticks": ""
            },
            "colorscale": [
             [
              0,
              "#0d0887"
             ],
             [
              0.1111111111111111,
              "#46039f"
             ],
             [
              0.2222222222222222,
              "#7201a8"
             ],
             [
              0.3333333333333333,
              "#9c179e"
             ],
             [
              0.4444444444444444,
              "#bd3786"
             ],
             [
              0.5555555555555556,
              "#d8576b"
             ],
             [
              0.6666666666666666,
              "#ed7953"
             ],
             [
              0.7777777777777778,
              "#fb9f3a"
             ],
             [
              0.8888888888888888,
              "#fdca26"
             ],
             [
              1,
              "#f0f921"
             ]
            ],
            "type": "surface"
           }
          ],
          "table": [
           {
            "cells": {
             "fill": {
              "color": "#EBF0F8"
             },
             "line": {
              "color": "white"
             }
            },
            "header": {
             "fill": {
              "color": "#C8D4E3"
             },
             "line": {
              "color": "white"
             }
            },
            "type": "table"
           }
          ]
         },
         "layout": {
          "annotationdefaults": {
           "arrowcolor": "#2a3f5f",
           "arrowhead": 0,
           "arrowwidth": 1
          },
          "autotypenumbers": "strict",
          "coloraxis": {
           "colorbar": {
            "outlinewidth": 0,
            "ticks": ""
           }
          },
          "colorscale": {
           "diverging": [
            [
             0,
             "#8e0152"
            ],
            [
             0.1,
             "#c51b7d"
            ],
            [
             0.2,
             "#de77ae"
            ],
            [
             0.3,
             "#f1b6da"
            ],
            [
             0.4,
             "#fde0ef"
            ],
            [
             0.5,
             "#f7f7f7"
            ],
            [
             0.6,
             "#e6f5d0"
            ],
            [
             0.7,
             "#b8e186"
            ],
            [
             0.8,
             "#7fbc41"
            ],
            [
             0.9,
             "#4d9221"
            ],
            [
             1,
             "#276419"
            ]
           ],
           "sequential": [
            [
             0,
             "#0d0887"
            ],
            [
             0.1111111111111111,
             "#46039f"
            ],
            [
             0.2222222222222222,
             "#7201a8"
            ],
            [
             0.3333333333333333,
             "#9c179e"
            ],
            [
             0.4444444444444444,
             "#bd3786"
            ],
            [
             0.5555555555555556,
             "#d8576b"
            ],
            [
             0.6666666666666666,
             "#ed7953"
            ],
            [
             0.7777777777777778,
             "#fb9f3a"
            ],
            [
             0.8888888888888888,
             "#fdca26"
            ],
            [
             1,
             "#f0f921"
            ]
           ],
           "sequentialminus": [
            [
             0,
             "#0d0887"
            ],
            [
             0.1111111111111111,
             "#46039f"
            ],
            [
             0.2222222222222222,
             "#7201a8"
            ],
            [
             0.3333333333333333,
             "#9c179e"
            ],
            [
             0.4444444444444444,
             "#bd3786"
            ],
            [
             0.5555555555555556,
             "#d8576b"
            ],
            [
             0.6666666666666666,
             "#ed7953"
            ],
            [
             0.7777777777777778,
             "#fb9f3a"
            ],
            [
             0.8888888888888888,
             "#fdca26"
            ],
            [
             1,
             "#f0f921"
            ]
           ]
          },
          "colorway": [
           "#636efa",
           "#EF553B",
           "#00cc96",
           "#ab63fa",
           "#FFA15A",
           "#19d3f3",
           "#FF6692",
           "#B6E880",
           "#FF97FF",
           "#FECB52"
          ],
          "font": {
           "color": "#2a3f5f"
          },
          "geo": {
           "bgcolor": "white",
           "lakecolor": "white",
           "landcolor": "#E5ECF6",
           "showlakes": true,
           "showland": true,
           "subunitcolor": "white"
          },
          "hoverlabel": {
           "align": "left"
          },
          "hovermode": "closest",
          "mapbox": {
           "style": "light"
          },
          "paper_bgcolor": "white",
          "plot_bgcolor": "#E5ECF6",
          "polar": {
           "angularaxis": {
            "gridcolor": "white",
            "linecolor": "white",
            "ticks": ""
           },
           "bgcolor": "#E5ECF6",
           "radialaxis": {
            "gridcolor": "white",
            "linecolor": "white",
            "ticks": ""
           }
          },
          "scene": {
           "xaxis": {
            "backgroundcolor": "#E5ECF6",
            "gridcolor": "white",
            "gridwidth": 2,
            "linecolor": "white",
            "showbackground": true,
            "ticks": "",
            "zerolinecolor": "white"
           },
           "yaxis": {
            "backgroundcolor": "#E5ECF6",
            "gridcolor": "white",
            "gridwidth": 2,
            "linecolor": "white",
            "showbackground": true,
            "ticks": "",
            "zerolinecolor": "white"
           },
           "zaxis": {
            "backgroundcolor": "#E5ECF6",
            "gridcolor": "white",
            "gridwidth": 2,
            "linecolor": "white",
            "showbackground": true,
            "ticks": "",
            "zerolinecolor": "white"
           }
          },
          "shapedefaults": {
           "line": {
            "color": "#2a3f5f"
           }
          },
          "ternary": {
           "aaxis": {
            "gridcolor": "white",
            "linecolor": "white",
            "ticks": ""
           },
           "baxis": {
            "gridcolor": "white",
            "linecolor": "white",
            "ticks": ""
           },
           "bgcolor": "#E5ECF6",
           "caxis": {
            "gridcolor": "white",
            "linecolor": "white",
            "ticks": ""
           }
          },
          "title": {
           "x": 0.05
          },
          "xaxis": {
           "automargin": true,
           "gridcolor": "white",
           "linecolor": "white",
           "ticks": "",
           "title": {
            "standoff": 15
           },
           "zerolinecolor": "white",
           "zerolinewidth": 2
          },
          "yaxis": {
           "automargin": true,
           "gridcolor": "white",
           "linecolor": "white",
           "ticks": "",
           "title": {
            "standoff": 15
           },
           "zerolinecolor": "white",
           "zerolinewidth": 2
          }
         }
        },
        "title": {
         "text": "Total Explained Variance: 58.15%"
        },
        "width": 1000
       }
      }
     },
     "metadata": {},
     "output_type": "display_data"
    }
   ],
   "source": [
    "pca = PCA(n_components=3)\n",
    "\n",
    "principalComponents = pca.fit_transform(df2)\n",
    "\n",
    "total_var = pca.explained_variance_ratio_.sum() * 100\n",
    "\n",
    "fig = px.scatter_3d(\n",
    "    principalComponents, x=0, y=1, z=2, color=df3['labels'],\n",
    "    title=f'Total Explained Variance: {total_var:.2f}%',\n",
    "    labels={'0': 'PC 1', '1': 'PC 2', '2': 'PC 3'},\n",
    "    width=1000, height=1000\n",
    ")\n",
    "fig.show()"
   ]
  },
  {
   "cell_type": "code",
   "execution_count": 72,
   "metadata": {},
   "outputs": [
    {
     "name": "stderr",
     "output_type": "stream",
     "text": [
      "[nltk_data] Downloading package stopwords to\n",
      "[nltk_data]     C:\\Users\\guill\\AppData\\Roaming\\nltk_data...\n",
      "[nltk_data]   Package stopwords is already up-to-date!\n",
      "[nltk_data] Downloading package punkt to\n",
      "[nltk_data]     C:\\Users\\guill\\AppData\\Roaming\\nltk_data...\n",
      "[nltk_data]   Package punkt is already up-to-date!\n",
      "[nltk_data] Downloading package wordnet to\n",
      "[nltk_data]     C:\\Users\\guill\\AppData\\Roaming\\nltk_data...\n",
      "[nltk_data]   Package wordnet is already up-to-date!\n",
      "[nltk_data] Downloading package averaged_perceptron_tagger to\n",
      "[nltk_data]     C:\\Users\\guill\\AppData\\Roaming\\nltk_data...\n",
      "[nltk_data]   Package averaged_perceptron_tagger is already up-to-\n",
      "[nltk_data]       date!\n",
      "[nltk_data] Downloading package omw-1.4 to\n",
      "[nltk_data]     C:\\Users\\guill\\AppData\\Roaming\\nltk_data...\n"
     ]
    }
   ],
   "source": [
    "# import libraries\n",
    "\n",
    "#Load-data Libraries\n",
    "import pandas as pd\n",
    "\n",
    "#Text Processing libraries\n",
    "import nltk\n",
    "nltk.download('stopwords')\n",
    "nltk.download(['punkt', 'wordnet', 'averaged_perceptron_tagger', 'omw-1.4'])\n",
    "from nltk.corpus import stopwords\n",
    "from nltk.stem.wordnet import WordNetLemmatizer\n",
    "from nltk.tokenize import word_tokenize\n",
    "import re\n",
    "\n",
    "\n",
    "#Model libraries\n",
    "from sklearn.pipeline import Pipeline, FeatureUnion\n",
    "from sklearn.multioutput import MultiOutputClassifier\n",
    "from sklearn.neural_network import MLPClassifier\n",
    "from sklearn.model_selection import train_test_split\n",
    "from sklearn.feature_extraction.text import CountVectorizer, TfidfTransformer\n",
    "from sklearn.naive_bayes import MultinomialNB\n",
    "\n",
    "#Save the model\n",
    "import joblib\n",
    "from joblib import dump, load\n",
    "\n",
    "#Evaluate the model\n",
    "from sklearn.metrics import classification_report\n",
    "from sklearn.metrics import confusion_matrix"
   ]
  },
  {
   "cell_type": "code",
   "execution_count": 68,
   "metadata": {},
   "outputs": [],
   "source": [
    "stop_words = stopwords.words(\"english\")\n",
    "lemmatizer = WordNetLemmatizer()"
   ]
  },
  {
   "cell_type": "code",
   "execution_count": 69,
   "metadata": {},
   "outputs": [],
   "source": [
    "def tokenize(text):\n",
    "\n",
    "   #1. Normalize: Convert to lower case and remove punctuation\n",
    "    text = re.sub(r\"[^a-zA-Z0-9]\", \" \", text.lower().strip())\n",
    "    \n",
    "   #2. Tokenizing: split text into words\n",
    "    tokens = word_tokenize(text)\n",
    "    \n",
    "   #3. Remove stop words: if a token is a stop word, then remove it\n",
    "    words = [w for w in tokens if w not in stopwords.words(\"english\")]\n",
    "    \n",
    "    #4. Lemmatize and Stemming\n",
    "    lemmed_words = [WordNetLemmatizer().lemmatize(w) for w in words]\n",
    "    \n",
    "    clean_tokens = []\n",
    "    \n",
    "    for i in lemmed_words:\n",
    "        clean_tokens.append(i)\n",
    "        \n",
    "        ## back to string from list\n",
    "    text = \" \".join(clean_tokens)\n",
    "    return text\n",
    "\n",
    "    #return clean_tokens   "
   ]
  },
  {
   "cell_type": "code",
   "execution_count": 75,
   "metadata": {},
   "outputs": [
    {
     "data": {
      "text/html": [
       "<div>\n",
       "<style scoped>\n",
       "    .dataframe tbody tr th:only-of-type {\n",
       "        vertical-align: middle;\n",
       "    }\n",
       "\n",
       "    .dataframe tbody tr th {\n",
       "        vertical-align: top;\n",
       "    }\n",
       "\n",
       "    .dataframe thead th {\n",
       "        text-align: right;\n",
       "    }\n",
       "</style>\n",
       "<table border=\"1\" class=\"dataframe\">\n",
       "  <thead>\n",
       "    <tr style=\"text-align: right;\">\n",
       "      <th></th>\n",
       "      <th>email</th>\n",
       "      <th>labels</th>\n",
       "      <th>processed</th>\n",
       "    </tr>\n",
       "  </thead>\n",
       "  <tbody>\n",
       "    <tr>\n",
       "      <th>0</th>\n",
       "      <td>Thank you Jessica! Await your further on the t...</td>\n",
       "      <td>Action</td>\n",
       "      <td>thank jessica await two container pending update</td>\n",
       "    </tr>\n",
       "    <tr>\n",
       "      <th>1</th>\n",
       "      <td>Inmiddels de aangepaste bl’s al beschikbaar?</td>\n",
       "      <td>Action</td>\n",
       "      <td>inmiddels de aangepaste bl al beschikbaar</td>\n",
       "    </tr>\n",
       "    <tr>\n",
       "      <th>2</th>\n",
       "      <td>Please SPLIT subject line booking to the below.</td>\n",
       "      <td>Action</td>\n",
       "      <td>please split subject line booking</td>\n",
       "    </tr>\n",
       "    <tr>\n",
       "      <th>3</th>\n",
       "      <td>Please send updated confirms for the bookings ...</td>\n",
       "      <td>Action</td>\n",
       "      <td>please send updated confirms booking listed bo...</td>\n",
       "    </tr>\n",
       "    <tr>\n",
       "      <th>4</th>\n",
       "      <td>As per our telephone conversation find below t...</td>\n",
       "      <td>Action</td>\n",
       "      <td>per telephone conversation find shipping instr...</td>\n",
       "    </tr>\n",
       "  </tbody>\n",
       "</table>\n",
       "</div>"
      ],
      "text/plain": [
       "                                               email  labels  \\\n",
       "0  Thank you Jessica! Await your further on the t...  Action   \n",
       "1       Inmiddels de aangepaste bl’s al beschikbaar?  Action   \n",
       "2    Please SPLIT subject line booking to the below.  Action   \n",
       "3  Please send updated confirms for the bookings ...  Action   \n",
       "4  As per our telephone conversation find below t...  Action   \n",
       "\n",
       "                                           processed  \n",
       "0   thank jessica await two container pending update  \n",
       "1          inmiddels de aangepaste bl al beschikbaar  \n",
       "2                  please split subject line booking  \n",
       "3  please send updated confirms booking listed bo...  \n",
       "4  per telephone conversation find shipping instr...  "
      ]
     },
     "execution_count": 75,
     "metadata": {},
     "output_type": "execute_result"
    }
   ],
   "source": [
    "df_emails = pd.DataFrame({\"email\": text})\n",
    "df_emails['labels'] = labels\n",
    "df_emails['processed'] = df_emails['email'].apply(lambda x: tokenize(x))\n",
    "df_emails.head()"
   ]
  },
  {
   "cell_type": "code",
   "execution_count": 76,
   "metadata": {},
   "outputs": [],
   "source": [
    "X = df_emails['processed']\n",
    "y = df_emails['labels']"
   ]
  },
  {
   "cell_type": "code",
   "execution_count": 77,
   "metadata": {},
   "outputs": [],
   "source": [
    "#split data into training 67% and test 33%\n",
    "X_train, X_test, y_train, y_test = train_test_split(X, y, test_size=0.33, random_state=42)"
   ]
  },
  {
   "cell_type": "code",
   "execution_count": 78,
   "metadata": {},
   "outputs": [],
   "source": [
    "pipeline = Pipeline([\n",
    "        ('vect', CountVectorizer(tokenizer=tokenize)),\n",
    "        ('tfidf', TfidfTransformer()),\n",
    "        ('clf', MultinomialNB())\n",
    "    ])"
   ]
  },
  {
   "cell_type": "code",
   "execution_count": 79,
   "metadata": {},
   "outputs": [
    {
     "data": {
      "text/plain": [
       "Pipeline(steps=[('vect',\n",
       "                 CountVectorizer(tokenizer=<function tokenize at 0x0000023F1306BA60>)),\n",
       "                ('tfidf', TfidfTransformer()), ('clf', MultinomialNB())])"
      ]
     },
     "execution_count": 79,
     "metadata": {},
     "output_type": "execute_result"
    }
   ],
   "source": [
    "#train pipeline\n",
    "pipeline.fit(X_train, y_train)"
   ]
  },
  {
   "cell_type": "code",
   "execution_count": 80,
   "metadata": {},
   "outputs": [],
   "source": [
    "# Predit using the trained model\n",
    "predicted = pipeline.predict(X_test)"
   ]
  },
  {
   "cell_type": "code",
   "execution_count": 81,
   "metadata": {},
   "outputs": [
    {
     "name": "stdout",
     "output_type": "stream",
     "text": [
      "Accuracy: 0.83\n",
      "Other Metrics:\n",
      "              precision    recall  f1-score   support\n",
      "\n",
      "      Action       0.83      1.00      0.91         5\n",
      "   No Action       0.00      0.00      0.00         1\n",
      "\n",
      "    accuracy                           0.83         6\n",
      "   macro avg       0.42      0.50      0.45         6\n",
      "weighted avg       0.69      0.83      0.76         6\n",
      "\n"
     ]
    },
    {
     "name": "stderr",
     "output_type": "stream",
     "text": [
      "c:\\Users\\guill\\anaconda3\\lib\\site-packages\\sklearn\\metrics\\_classification.py:1318: UndefinedMetricWarning:\n",
      "\n",
      "Precision and F-score are ill-defined and being set to 0.0 in labels with no predicted samples. Use `zero_division` parameter to control this behavior.\n",
      "\n",
      "c:\\Users\\guill\\anaconda3\\lib\\site-packages\\sklearn\\metrics\\_classification.py:1318: UndefinedMetricWarning:\n",
      "\n",
      "Precision and F-score are ill-defined and being set to 0.0 in labels with no predicted samples. Use `zero_division` parameter to control this behavior.\n",
      "\n",
      "c:\\Users\\guill\\anaconda3\\lib\\site-packages\\sklearn\\metrics\\_classification.py:1318: UndefinedMetricWarning:\n",
      "\n",
      "Precision and F-score are ill-defined and being set to 0.0 in labels with no predicted samples. Use `zero_division` parameter to control this behavior.\n",
      "\n"
     ]
    }
   ],
   "source": [
    "from sklearn.metrics import accuracy_score\n",
    "## Accuracy, Precision, Recall\n",
    "accuracy = accuracy_score(y_test, predicted)\n",
    "\n",
    "print(\"Accuracy:\",  round(accuracy,2))\n",
    "\n",
    "print(\"Other Metrics:\")\n",
    "print(classification_report(y_test, predicted))"
   ]
  },
  {
   "cell_type": "code",
   "execution_count": 82,
   "metadata": {},
   "outputs": [],
   "source": [
    "X_vect = CountVectorizer(tokenizer=tokenize).fit_transform(X)"
   ]
  },
  {
   "cell_type": "markdown",
   "metadata": {},
   "source": [
    "Trying with BERT"
   ]
  },
  {
   "cell_type": "code",
   "execution_count": 86,
   "metadata": {},
   "outputs": [
    {
     "data": {
      "application/vnd.jupyter.widget-view+json": {
       "model_id": "6f5dcfb793a54f3d981c4ee563c8330f",
       "version_major": 2,
       "version_minor": 0
      },
      "text/plain": [
       "Downloading:   0%|          | 0.00/1.18k [00:00<?, ?B/s]"
      ]
     },
     "metadata": {},
     "output_type": "display_data"
    },
    {
     "data": {
      "application/vnd.jupyter.widget-view+json": {
       "model_id": "7f378a3254e8446083e27fb270b39feb",
       "version_major": 2,
       "version_minor": 0
      },
      "text/plain": [
       "Downloading:   0%|          | 0.00/190 [00:00<?, ?B/s]"
      ]
     },
     "metadata": {},
     "output_type": "display_data"
    },
    {
     "data": {
      "application/vnd.jupyter.widget-view+json": {
       "model_id": "9ff9480b143c4e81ae48fb983de228c9",
       "version_major": 2,
       "version_minor": 0
      },
      "text/plain": [
       "Downloading:   0%|          | 0.00/10.6k [00:00<?, ?B/s]"
      ]
     },
     "metadata": {},
     "output_type": "display_data"
    },
    {
     "data": {
      "application/vnd.jupyter.widget-view+json": {
       "model_id": "b2738e91f53846399e0b98e32b73d1c6",
       "version_major": 2,
       "version_minor": 0
      },
      "text/plain": [
       "Downloading:   0%|          | 0.00/571 [00:00<?, ?B/s]"
      ]
     },
     "metadata": {},
     "output_type": "display_data"
    },
    {
     "data": {
      "application/vnd.jupyter.widget-view+json": {
       "model_id": "f912d8bc007d4ce5ab9a4f5894e5766d",
       "version_major": 2,
       "version_minor": 0
      },
      "text/plain": [
       "Downloading:   0%|          | 0.00/116 [00:00<?, ?B/s]"
      ]
     },
     "metadata": {},
     "output_type": "display_data"
    },
    {
     "data": {
      "application/vnd.jupyter.widget-view+json": {
       "model_id": "97eb47e11ad04b329b38462617c82fe6",
       "version_major": 2,
       "version_minor": 0
      },
      "text/plain": [
       "Downloading:   0%|          | 0.00/39.3k [00:00<?, ?B/s]"
      ]
     },
     "metadata": {},
     "output_type": "display_data"
    },
    {
     "data": {
      "application/vnd.jupyter.widget-view+json": {
       "model_id": "c3eb449d34884a059a94b747c9654789",
       "version_major": 2,
       "version_minor": 0
      },
      "text/plain": [
       "Downloading:   0%|          | 0.00/438M [00:00<?, ?B/s]"
      ]
     },
     "metadata": {},
     "output_type": "display_data"
    },
    {
     "data": {
      "application/vnd.jupyter.widget-view+json": {
       "model_id": "baf7e85da290486c879759466149271e",
       "version_major": 2,
       "version_minor": 0
      },
      "text/plain": [
       "Downloading:   0%|          | 0.00/53.0 [00:00<?, ?B/s]"
      ]
     },
     "metadata": {},
     "output_type": "display_data"
    },
    {
     "data": {
      "application/vnd.jupyter.widget-view+json": {
       "model_id": "e7fbf922d3d1403ab11d91474745976f",
       "version_major": 2,
       "version_minor": 0
      },
      "text/plain": [
       "Downloading:   0%|          | 0.00/239 [00:00<?, ?B/s]"
      ]
     },
     "metadata": {},
     "output_type": "display_data"
    },
    {
     "data": {
      "application/vnd.jupyter.widget-view+json": {
       "model_id": "4574e09bea2944e58d9cab0c305ad14b",
       "version_major": 2,
       "version_minor": 0
      },
      "text/plain": [
       "Downloading:   0%|          | 0.00/466k [00:00<?, ?B/s]"
      ]
     },
     "metadata": {},
     "output_type": "display_data"
    },
    {
     "data": {
      "application/vnd.jupyter.widget-view+json": {
       "model_id": "9f8e58494979443c818a975bd7f0bb70",
       "version_major": 2,
       "version_minor": 0
      },
      "text/plain": [
       "Downloading:   0%|          | 0.00/363 [00:00<?, ?B/s]"
      ]
     },
     "metadata": {},
     "output_type": "display_data"
    },
    {
     "data": {
      "application/vnd.jupyter.widget-view+json": {
       "model_id": "cf9a3e5d85864a50b2f00f4663c93fa0",
       "version_major": 2,
       "version_minor": 0
      },
      "text/plain": [
       "Downloading:   0%|          | 0.00/13.1k [00:00<?, ?B/s]"
      ]
     },
     "metadata": {},
     "output_type": "display_data"
    },
    {
     "data": {
      "application/vnd.jupyter.widget-view+json": {
       "model_id": "cd3dd8cd13c244959deff8290db6b1f0",
       "version_major": 2,
       "version_minor": 0
      },
      "text/plain": [
       "Downloading:   0%|          | 0.00/232k [00:00<?, ?B/s]"
      ]
     },
     "metadata": {},
     "output_type": "display_data"
    },
    {
     "data": {
      "application/vnd.jupyter.widget-view+json": {
       "model_id": "f30d4d64e6984907a97eeaf32902380d",
       "version_major": 2,
       "version_minor": 0
      },
      "text/plain": [
       "Downloading:   0%|          | 0.00/349 [00:00<?, ?B/s]"
      ]
     },
     "metadata": {},
     "output_type": "display_data"
    }
   ],
   "source": [
    "from sentence_transformers import SentenceTransformer\n",
    "model = SentenceTransformer('all-mpnet-base-v2')"
   ]
  },
  {
   "cell_type": "code",
   "execution_count": 87,
   "metadata": {},
   "outputs": [],
   "source": [
    "sentence_embed = model.encode(X)"
   ]
  },
  {
   "cell_type": "code",
   "execution_count": 89,
   "metadata": {},
   "outputs": [
    {
     "data": {
      "application/vnd.plotly.v1+json": {
       "config": {
        "plotlyServerURL": "https://plot.ly"
       },
       "data": [
        {
         "hovertemplate": "color=Action<br>PC 1=%{x}<br>PC 2=%{y}<br>PC 3=%{z}<extra></extra>",
         "legendgroup": "Action",
         "marker": {
          "color": "#636efa",
          "symbol": "circle"
         },
         "mode": "markers",
         "name": "Action",
         "scene": "scene",
         "showlegend": true,
         "type": "scatter3d",
         "x": [
          0.3269026279449463,
          0.5747103095054626,
          -0.4249599874019623,
          -0.38999247550964355,
          -0.06727982312440872,
          0.06671857088804245,
          0.48068735003471375,
          0.5068354606628418,
          -0.32533717155456543,
          -0.06793860346078873,
          -0.25619181990623474,
          -0.13541656732559204,
          -0.05990578606724739,
          0.37684351205825806
         ],
         "y": [
          -0.40295466780662537,
          0.4503929018974304,
          0.30558669567108154,
          0.09452274441719055,
          0.022923637181520462,
          0.011331645771861076,
          -0.11530914157629013,
          0.5481328964233398,
          0.03105010837316513,
          -0.33150729537010193,
          -0.005779154598712921,
          -0.3188794255256653,
          -0.1133885532617569,
          -0.4000878930091858
         ],
         "z": [
          0.10980931669473648,
          -0.3584907650947571,
          -0.12492874264717102,
          0.1761760264635086,
          -0.4197404682636261,
          0.3419986367225647,
          -0.32208123803138733,
          0.3638472855091095,
          -0.006927316077053547,
          -0.20072850584983826,
          0.07638106495141983,
          -0.14096896350383759,
          -0.16044588387012482,
          0.42875921726226807
         ]
        },
        {
         "hovertemplate": "color=No Action<br>PC 1=%{x}<br>PC 2=%{y}<br>PC 3=%{z}<extra></extra>",
         "legendgroup": "No Action",
         "marker": {
          "color": "#EF553B",
          "symbol": "circle"
         },
         "mode": "markers",
         "name": "No Action",
         "scene": "scene",
         "showlegend": true,
         "type": "scatter3d",
         "x": [
          -0.4059678316116333,
          -0.19970794022083282
         ],
         "y": [
          0.24420399963855743,
          -0.02023852802813053
         ],
         "z": [
          0.16532239317893982,
          0.07201787829399109
         ]
        }
       ],
       "layout": {
        "height": 1000,
        "legend": {
         "title": {
          "text": "color"
         },
         "tracegroupgap": 0
        },
        "scene": {
         "domain": {
          "x": [
           0,
           1
          ],
          "y": [
           0,
           1
          ]
         },
         "xaxis": {
          "title": {
           "text": "PC 1"
          }
         },
         "yaxis": {
          "title": {
           "text": "PC 2"
          }
         },
         "zaxis": {
          "title": {
           "text": "PC 3"
          }
         }
        },
        "template": {
         "data": {
          "bar": [
           {
            "error_x": {
             "color": "#2a3f5f"
            },
            "error_y": {
             "color": "#2a3f5f"
            },
            "marker": {
             "line": {
              "color": "#E5ECF6",
              "width": 0.5
             },
             "pattern": {
              "fillmode": "overlay",
              "size": 10,
              "solidity": 0.2
             }
            },
            "type": "bar"
           }
          ],
          "barpolar": [
           {
            "marker": {
             "line": {
              "color": "#E5ECF6",
              "width": 0.5
             },
             "pattern": {
              "fillmode": "overlay",
              "size": 10,
              "solidity": 0.2
             }
            },
            "type": "barpolar"
           }
          ],
          "carpet": [
           {
            "aaxis": {
             "endlinecolor": "#2a3f5f",
             "gridcolor": "white",
             "linecolor": "white",
             "minorgridcolor": "white",
             "startlinecolor": "#2a3f5f"
            },
            "baxis": {
             "endlinecolor": "#2a3f5f",
             "gridcolor": "white",
             "linecolor": "white",
             "minorgridcolor": "white",
             "startlinecolor": "#2a3f5f"
            },
            "type": "carpet"
           }
          ],
          "choropleth": [
           {
            "colorbar": {
             "outlinewidth": 0,
             "ticks": ""
            },
            "type": "choropleth"
           }
          ],
          "contour": [
           {
            "colorbar": {
             "outlinewidth": 0,
             "ticks": ""
            },
            "colorscale": [
             [
              0,
              "#0d0887"
             ],
             [
              0.1111111111111111,
              "#46039f"
             ],
             [
              0.2222222222222222,
              "#7201a8"
             ],
             [
              0.3333333333333333,
              "#9c179e"
             ],
             [
              0.4444444444444444,
              "#bd3786"
             ],
             [
              0.5555555555555556,
              "#d8576b"
             ],
             [
              0.6666666666666666,
              "#ed7953"
             ],
             [
              0.7777777777777778,
              "#fb9f3a"
             ],
             [
              0.8888888888888888,
              "#fdca26"
             ],
             [
              1,
              "#f0f921"
             ]
            ],
            "type": "contour"
           }
          ],
          "contourcarpet": [
           {
            "colorbar": {
             "outlinewidth": 0,
             "ticks": ""
            },
            "type": "contourcarpet"
           }
          ],
          "heatmap": [
           {
            "colorbar": {
             "outlinewidth": 0,
             "ticks": ""
            },
            "colorscale": [
             [
              0,
              "#0d0887"
             ],
             [
              0.1111111111111111,
              "#46039f"
             ],
             [
              0.2222222222222222,
              "#7201a8"
             ],
             [
              0.3333333333333333,
              "#9c179e"
             ],
             [
              0.4444444444444444,
              "#bd3786"
             ],
             [
              0.5555555555555556,
              "#d8576b"
             ],
             [
              0.6666666666666666,
              "#ed7953"
             ],
             [
              0.7777777777777778,
              "#fb9f3a"
             ],
             [
              0.8888888888888888,
              "#fdca26"
             ],
             [
              1,
              "#f0f921"
             ]
            ],
            "type": "heatmap"
           }
          ],
          "heatmapgl": [
           {
            "colorbar": {
             "outlinewidth": 0,
             "ticks": ""
            },
            "colorscale": [
             [
              0,
              "#0d0887"
             ],
             [
              0.1111111111111111,
              "#46039f"
             ],
             [
              0.2222222222222222,
              "#7201a8"
             ],
             [
              0.3333333333333333,
              "#9c179e"
             ],
             [
              0.4444444444444444,
              "#bd3786"
             ],
             [
              0.5555555555555556,
              "#d8576b"
             ],
             [
              0.6666666666666666,
              "#ed7953"
             ],
             [
              0.7777777777777778,
              "#fb9f3a"
             ],
             [
              0.8888888888888888,
              "#fdca26"
             ],
             [
              1,
              "#f0f921"
             ]
            ],
            "type": "heatmapgl"
           }
          ],
          "histogram": [
           {
            "marker": {
             "pattern": {
              "fillmode": "overlay",
              "size": 10,
              "solidity": 0.2
             }
            },
            "type": "histogram"
           }
          ],
          "histogram2d": [
           {
            "colorbar": {
             "outlinewidth": 0,
             "ticks": ""
            },
            "colorscale": [
             [
              0,
              "#0d0887"
             ],
             [
              0.1111111111111111,
              "#46039f"
             ],
             [
              0.2222222222222222,
              "#7201a8"
             ],
             [
              0.3333333333333333,
              "#9c179e"
             ],
             [
              0.4444444444444444,
              "#bd3786"
             ],
             [
              0.5555555555555556,
              "#d8576b"
             ],
             [
              0.6666666666666666,
              "#ed7953"
             ],
             [
              0.7777777777777778,
              "#fb9f3a"
             ],
             [
              0.8888888888888888,
              "#fdca26"
             ],
             [
              1,
              "#f0f921"
             ]
            ],
            "type": "histogram2d"
           }
          ],
          "histogram2dcontour": [
           {
            "colorbar": {
             "outlinewidth": 0,
             "ticks": ""
            },
            "colorscale": [
             [
              0,
              "#0d0887"
             ],
             [
              0.1111111111111111,
              "#46039f"
             ],
             [
              0.2222222222222222,
              "#7201a8"
             ],
             [
              0.3333333333333333,
              "#9c179e"
             ],
             [
              0.4444444444444444,
              "#bd3786"
             ],
             [
              0.5555555555555556,
              "#d8576b"
             ],
             [
              0.6666666666666666,
              "#ed7953"
             ],
             [
              0.7777777777777778,
              "#fb9f3a"
             ],
             [
              0.8888888888888888,
              "#fdca26"
             ],
             [
              1,
              "#f0f921"
             ]
            ],
            "type": "histogram2dcontour"
           }
          ],
          "mesh3d": [
           {
            "colorbar": {
             "outlinewidth": 0,
             "ticks": ""
            },
            "type": "mesh3d"
           }
          ],
          "parcoords": [
           {
            "line": {
             "colorbar": {
              "outlinewidth": 0,
              "ticks": ""
             }
            },
            "type": "parcoords"
           }
          ],
          "pie": [
           {
            "automargin": true,
            "type": "pie"
           }
          ],
          "scatter": [
           {
            "fillpattern": {
             "fillmode": "overlay",
             "size": 10,
             "solidity": 0.2
            },
            "type": "scatter"
           }
          ],
          "scatter3d": [
           {
            "line": {
             "colorbar": {
              "outlinewidth": 0,
              "ticks": ""
             }
            },
            "marker": {
             "colorbar": {
              "outlinewidth": 0,
              "ticks": ""
             }
            },
            "type": "scatter3d"
           }
          ],
          "scattercarpet": [
           {
            "marker": {
             "colorbar": {
              "outlinewidth": 0,
              "ticks": ""
             }
            },
            "type": "scattercarpet"
           }
          ],
          "scattergeo": [
           {
            "marker": {
             "colorbar": {
              "outlinewidth": 0,
              "ticks": ""
             }
            },
            "type": "scattergeo"
           }
          ],
          "scattergl": [
           {
            "marker": {
             "colorbar": {
              "outlinewidth": 0,
              "ticks": ""
             }
            },
            "type": "scattergl"
           }
          ],
          "scattermapbox": [
           {
            "marker": {
             "colorbar": {
              "outlinewidth": 0,
              "ticks": ""
             }
            },
            "type": "scattermapbox"
           }
          ],
          "scatterpolar": [
           {
            "marker": {
             "colorbar": {
              "outlinewidth": 0,
              "ticks": ""
             }
            },
            "type": "scatterpolar"
           }
          ],
          "scatterpolargl": [
           {
            "marker": {
             "colorbar": {
              "outlinewidth": 0,
              "ticks": ""
             }
            },
            "type": "scatterpolargl"
           }
          ],
          "scatterternary": [
           {
            "marker": {
             "colorbar": {
              "outlinewidth": 0,
              "ticks": ""
             }
            },
            "type": "scatterternary"
           }
          ],
          "surface": [
           {
            "colorbar": {
             "outlinewidth": 0,
             "ticks": ""
            },
            "colorscale": [
             [
              0,
              "#0d0887"
             ],
             [
              0.1111111111111111,
              "#46039f"
             ],
             [
              0.2222222222222222,
              "#7201a8"
             ],
             [
              0.3333333333333333,
              "#9c179e"
             ],
             [
              0.4444444444444444,
              "#bd3786"
             ],
             [
              0.5555555555555556,
              "#d8576b"
             ],
             [
              0.6666666666666666,
              "#ed7953"
             ],
             [
              0.7777777777777778,
              "#fb9f3a"
             ],
             [
              0.8888888888888888,
              "#fdca26"
             ],
             [
              1,
              "#f0f921"
             ]
            ],
            "type": "surface"
           }
          ],
          "table": [
           {
            "cells": {
             "fill": {
              "color": "#EBF0F8"
             },
             "line": {
              "color": "white"
             }
            },
            "header": {
             "fill": {
              "color": "#C8D4E3"
             },
             "line": {
              "color": "white"
             }
            },
            "type": "table"
           }
          ]
         },
         "layout": {
          "annotationdefaults": {
           "arrowcolor": "#2a3f5f",
           "arrowhead": 0,
           "arrowwidth": 1
          },
          "autotypenumbers": "strict",
          "coloraxis": {
           "colorbar": {
            "outlinewidth": 0,
            "ticks": ""
           }
          },
          "colorscale": {
           "diverging": [
            [
             0,
             "#8e0152"
            ],
            [
             0.1,
             "#c51b7d"
            ],
            [
             0.2,
             "#de77ae"
            ],
            [
             0.3,
             "#f1b6da"
            ],
            [
             0.4,
             "#fde0ef"
            ],
            [
             0.5,
             "#f7f7f7"
            ],
            [
             0.6,
             "#e6f5d0"
            ],
            [
             0.7,
             "#b8e186"
            ],
            [
             0.8,
             "#7fbc41"
            ],
            [
             0.9,
             "#4d9221"
            ],
            [
             1,
             "#276419"
            ]
           ],
           "sequential": [
            [
             0,
             "#0d0887"
            ],
            [
             0.1111111111111111,
             "#46039f"
            ],
            [
             0.2222222222222222,
             "#7201a8"
            ],
            [
             0.3333333333333333,
             "#9c179e"
            ],
            [
             0.4444444444444444,
             "#bd3786"
            ],
            [
             0.5555555555555556,
             "#d8576b"
            ],
            [
             0.6666666666666666,
             "#ed7953"
            ],
            [
             0.7777777777777778,
             "#fb9f3a"
            ],
            [
             0.8888888888888888,
             "#fdca26"
            ],
            [
             1,
             "#f0f921"
            ]
           ],
           "sequentialminus": [
            [
             0,
             "#0d0887"
            ],
            [
             0.1111111111111111,
             "#46039f"
            ],
            [
             0.2222222222222222,
             "#7201a8"
            ],
            [
             0.3333333333333333,
             "#9c179e"
            ],
            [
             0.4444444444444444,
             "#bd3786"
            ],
            [
             0.5555555555555556,
             "#d8576b"
            ],
            [
             0.6666666666666666,
             "#ed7953"
            ],
            [
             0.7777777777777778,
             "#fb9f3a"
            ],
            [
             0.8888888888888888,
             "#fdca26"
            ],
            [
             1,
             "#f0f921"
            ]
           ]
          },
          "colorway": [
           "#636efa",
           "#EF553B",
           "#00cc96",
           "#ab63fa",
           "#FFA15A",
           "#19d3f3",
           "#FF6692",
           "#B6E880",
           "#FF97FF",
           "#FECB52"
          ],
          "font": {
           "color": "#2a3f5f"
          },
          "geo": {
           "bgcolor": "white",
           "lakecolor": "white",
           "landcolor": "#E5ECF6",
           "showlakes": true,
           "showland": true,
           "subunitcolor": "white"
          },
          "hoverlabel": {
           "align": "left"
          },
          "hovermode": "closest",
          "mapbox": {
           "style": "light"
          },
          "paper_bgcolor": "white",
          "plot_bgcolor": "#E5ECF6",
          "polar": {
           "angularaxis": {
            "gridcolor": "white",
            "linecolor": "white",
            "ticks": ""
           },
           "bgcolor": "#E5ECF6",
           "radialaxis": {
            "gridcolor": "white",
            "linecolor": "white",
            "ticks": ""
           }
          },
          "scene": {
           "xaxis": {
            "backgroundcolor": "#E5ECF6",
            "gridcolor": "white",
            "gridwidth": 2,
            "linecolor": "white",
            "showbackground": true,
            "ticks": "",
            "zerolinecolor": "white"
           },
           "yaxis": {
            "backgroundcolor": "#E5ECF6",
            "gridcolor": "white",
            "gridwidth": 2,
            "linecolor": "white",
            "showbackground": true,
            "ticks": "",
            "zerolinecolor": "white"
           },
           "zaxis": {
            "backgroundcolor": "#E5ECF6",
            "gridcolor": "white",
            "gridwidth": 2,
            "linecolor": "white",
            "showbackground": true,
            "ticks": "",
            "zerolinecolor": "white"
           }
          },
          "shapedefaults": {
           "line": {
            "color": "#2a3f5f"
           }
          },
          "ternary": {
           "aaxis": {
            "gridcolor": "white",
            "linecolor": "white",
            "ticks": ""
           },
           "baxis": {
            "gridcolor": "white",
            "linecolor": "white",
            "ticks": ""
           },
           "bgcolor": "#E5ECF6",
           "caxis": {
            "gridcolor": "white",
            "linecolor": "white",
            "ticks": ""
           }
          },
          "title": {
           "x": 0.05
          },
          "xaxis": {
           "automargin": true,
           "gridcolor": "white",
           "linecolor": "white",
           "ticks": "",
           "title": {
            "standoff": 15
           },
           "zerolinecolor": "white",
           "zerolinewidth": 2
          },
          "yaxis": {
           "automargin": true,
           "gridcolor": "white",
           "linecolor": "white",
           "ticks": "",
           "title": {
            "standoff": 15
           },
           "zerolinecolor": "white",
           "zerolinewidth": 2
          }
         }
        },
        "title": {
         "text": "Total Explained Variance: 37.73%"
        },
        "width": 1000
       }
      }
     },
     "metadata": {},
     "output_type": "display_data"
    }
   ],
   "source": [
    "pca = PCA(n_components=3)\n",
    "\n",
    "principalComponents = pca.fit_transform(sentence_embed)\n",
    "\n",
    "total_var = pca.explained_variance_ratio_.sum() * 100\n",
    "\n",
    "fig = px.scatter_3d(\n",
    "    principalComponents, x=0, y=1, z=2, color=labels,\n",
    "    title=f'Total Explained Variance: {total_var:.2f}%',\n",
    "    labels={'0': 'PC 1', '1': 'PC 2', '2': 'PC 3'},\n",
    "    width=1000, height=1000\n",
    ")\n",
    "fig.show()"
   ]
  }
 ],
 "metadata": {
  "kernelspec": {
   "display_name": "Python 3.9.13 ('base')",
   "language": "python",
   "name": "python3"
  },
  "language_info": {
   "codemirror_mode": {
    "name": "ipython",
    "version": 3
   },
   "file_extension": ".py",
   "mimetype": "text/x-python",
   "name": "python",
   "nbconvert_exporter": "python",
   "pygments_lexer": "ipython3",
   "version": "3.9.13"
  },
  "vscode": {
   "interpreter": {
    "hash": "b9181b24ef3e53db4bfc4e9af9efbcfb84a57342a9477c66f5d752a451ac5389"
   }
  }
 },
 "nbformat": 4,
 "nbformat_minor": 4
}
