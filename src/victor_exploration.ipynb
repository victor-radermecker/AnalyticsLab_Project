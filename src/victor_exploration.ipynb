{
 "cells": [
  {
   "cell_type": "code",
   "execution_count": 2,
   "metadata": {},
   "outputs": [],
   "source": [
    "import pandas as pd"
   ]
  },
  {
   "cell_type": "code",
   "execution_count": 3,
   "metadata": {},
   "outputs": [],
   "source": [
    "# Store data locally for confidentiality reasons!\n",
    "data_path = \"/Users/victor/Documents/Confidential Dataset/ML_NOAC_NOVA_Extraction.csv\"\n",
    "\n",
    "# Read data\n",
    "df = pd.read_csv(data_path)"
   ]
  },
  {
   "cell_type": "code",
   "execution_count": 4,
   "metadata": {},
   "outputs": [
    {
     "data": {
      "text/plain": [
       "130654.0"
      ]
     },
     "execution_count": 4,
     "metadata": {},
     "output_type": "execute_result"
    }
   ],
   "source": [
    "# df.head()\n",
    "df.head(20)\n",
    "\n",
    "## maximum number of caracters in elements of column LastIncomingEmail__c \n",
    "df.LastIncomingEmail__c.str.len().max()\n"
   ]
  },
  {
   "cell_type": "code",
   "execution_count": 89,
   "metadata": {},
   "outputs": [
    {
     "data": {
      "text/plain": [
       "usa.cmaexportactive@usa.cma-cgm.com                                                                                                                                                                                                                                         37189\n",
       "usa.aperkins@usa.cma-cgm.com; amacri@anlusa.com                                                                                                                                                                                                                              2373\n",
       "usa.cmaexportactive@usa.cma-cgm.com; usa.expdocsupnoreply@usa.cma-cgm.com                                                                                                                                                                                                    1257\n",
       "usa.exportrailbilling@usa.cma-cgm.com                                                                                                                                                                                                                                         988\n",
       "ssc.vmsaroja@cma-cgm.com; ssc.rakdhanasekaran@cma-cgm.com                                                                                                                                                                                                                     942\n",
       "                                                                                                                                                                                                                                                                            ...  \n",
       "hilda@fleurdelisworldwide.com                                                                                                                                                                                                                                                   1\n",
       "usa.disputes@usa.cma-cgm.com; ext.nam_disputes@cma-cgm.com; usa.clientsolutions@usa.cma-cgm.com; usa.dlee@cma-cgm.com; usa.cfletcher@usa.cma-cgm.com                                                                                                                            1\n",
       "ssc.usaarhelpdesk@cma-cgm.com; usa.clientsolutions@usa.cma-cgm.com; umut@bumerangfreight.com; usa.nfang@usa.cma-cgm.com; tuncer@bumerangfreight.com; usa.insalesner@usa.cma-cgm.com; dogukan@bumerangfreight.com; usa.avelasco@usa.cma-cgm.com; batu@bumerangfreight.com        1\n",
       "hansel@sssusainc.com; oceanimports@sssusainc.com; usa.ibvcpwc@usa.cma-cgm.com                                                                                                                                                                                                   1\n",
       "rfiexportrailbilling@cma-cgm.com; usa.mhackett@usa.cma-cgm.com                                                                                                                                                                                                                  1\n",
       "Name: LastEmailCCAddress__c, Length: 55371, dtype: int64"
      ]
     },
     "execution_count": 89,
     "metadata": {},
     "output_type": "execute_result"
    }
   ],
   "source": [
    "df[\"LastEmailCCAddress__c\"].value_counts()"
   ]
  },
  {
   "cell_type": "code",
   "execution_count": 84,
   "metadata": {},
   "outputs": [
    {
     "data": {
      "text/plain": [
       "CaseNumber                             0\n",
       "Type                                 989\n",
       "Topics__c                           1881\n",
       "TeamName__c                            0\n",
       "RequesterEmail__c                  49463\n",
       "EmailTemplateSubjectDispute__c         0\n",
       "LastEmailCCAddress__c             131379\n",
       "SuppliedEmail                      51823\n",
       "LastIncomingEmail__c               57338\n",
       "attributes.type                        0\n",
       "attributes.url                         0\n",
       "Contact.attributes.type            38208\n",
       "Contact.attributes.url             38208\n",
       "Contact.Email                      40064\n",
       "Contact                           308572\n",
       "dtype: int64"
      ]
     },
     "execution_count": 84,
     "metadata": {},
     "output_type": "execute_result"
    }
   ],
   "source": [
    "# count number of null values in each column\n",
    "df.isnull().sum()\n",
    "\n"
   ]
  },
  {
   "cell_type": "code",
   "execution_count": 86,
   "metadata": {},
   "outputs": [
    {
     "data": {
      "text/plain": [
       "0.27533282345773435"
      ]
     },
     "execution_count": 86,
     "metadata": {},
     "output_type": "execute_result"
    }
   ],
   "source": [
    "df[\"Type\"].value_counts() # NOAC = NO ACTION REQUIRED\n",
    "\n",
    "# compute the proportion of NOAC in the values of Type\n",
    "84960 / len(df)  ## 27.5% of the data is No-Action-Required"
   ]
  },
  {
   "cell_type": "code",
   "execution_count": 28,
   "metadata": {},
   "outputs": [
    {
     "data": {
      "text/plain": [
       "4998"
      ]
     },
     "execution_count": 28,
     "metadata": {},
     "output_type": "execute_result"
    }
   ],
   "source": [
    "df[\"LastIncomingEmail__c\"][0].find(\"<b>Subject:</b>\")\n",
    "\n",
    "\n",
    "\n",
    "## find a word in a string\n"
   ]
  },
  {
   "cell_type": "code",
   "execution_count": 12,
   "metadata": {},
   "outputs": [
    {
     "data": {
      "text/plain": [
       "'<div>\\n<div>\\n<div dir=\"ltr\" style=\"color: rgb(0, 0, 0); background-color: rgb(255, 255, 255);\">\\nThank you Jessica! Await your further on the two containers pending further update.</div>\\n</div>\\n<div id=\"ms-outlook-mobile-signature\">\\n<div><br></div>\\n<div style=\"font-size: 12pt; color: rgb(32, 31, 30); background-color: rgb(255, 255, 255);\">\\n<p style=\"font-size: 12pt; background-color: rgb(255, 255, 255);\">\\n<span style=\"font-size: 11pt; font-family: Calibri, Helvetica, sans-serif;\">Best Regards,</span></p>\\n<p style=\"font-size: 12pt; background-color: rgb(255, 255, 255);\">\\n<span style=\"font-size: 11pt; font-family: Calibri, Helvetica, sans-serif;\"><br></span></p>\\n<p style=\"font-size: 12pt; background-color: rgb(255, 255, 255);\">\\n<span style=\"font-size: 10pt; font-family: Cambria, Georgia, serif; color: rgb(23, 78, 134);\">Albert Wang</span></p>\\n<p style=\"font-size: 12pt; background-color: rgb(255, 255, 255);\">\\n<span style=\"font-family: Cambria, Georgia, serif; font-size: 10pt; color: rgb(23, 78, 134);\">Export Manager</span></p>\\n<p style=\"font-size: 12pt; background-color: rgb(255, 255, 255);\">\\n<span style=\"font-family: Cambria, Georgia, serif; font-size: 10pt; color: rgb(23, 78, 134);\"><br></span></p>\\n<p style=\"font-size: 12pt; background-color: rgb(255, 255, 255);\">\\n<span style=\"font-size: 11pt; font-family: Calibri, Helvetica, sans-serif;\"><img width=\"175\" height=\"50\" src=\"\" alt=\"Image\" style=\"border: none;\"></img><br></span></p>\\n<p style=\"font-size: 12pt; background-color: rgb(255, 255, 255);\">\\n<b style=\"color: rgb(0, 0, 0); font-family: Calibri, sans-serif; font-size: 11pt;\"><span style=\"border: 1pt none windowtext; font-family: Cambria, serif; color: rgb(23, 78, 134);\">Easyway International LLC</span></b><span style=\"color: black; font-family: Calibri, sans-serif;\">\\xa0</span><br></p>\\n<div style=\"color: rgb(33, 33, 33); font-family: -apple-system, HelveticaNeue; background-color: rgb(255, 255, 255);\">\\n<p style=\"color: rgb(0, 0, 0); font-size: 11pt; font-family: Calibri, sans-serif; background-color: white;\">\\n<span style=\"border: 1pt none windowtext; font-size: 10pt; font-family: Cambria, serif; color: rgb(23, 78, 134);\"><span dir=\"ltr\" style=\"color: currentcolor;\">108 S. Franklin Ave, Ste 12</span></span></p>\\n<p style=\"color: rgb(0, 0, 0); font-size: 11pt; font-family: Calibri, sans-serif; background-color: white;\">\\n<span style=\"border: 1pt none windowtext; font-size: 10pt; font-family: Cambria, serif; color: rgb(23, 78, 134);\"><span dir=\"ltr\" style=\"color: currentcolor;\">Valley Stream, NY 11580</span></span></p>\\n<p style=\"font-size: 11pt; font-family: Calibri, sans-serif; background-color: white;\">\\n<span style=\"border: 1pt none windowtext; font-size: 10pt; font-family: Cambria, serif;\"><font color=\"#201f1e\"><span style=\"color: rgb(23, 78, 134);\">Direct Line:<span>\\xa0</span><span dir=\"ltr\" style=\"color: currentcolor;\">(347) 352-3195</span></span></font></span></p>\\n<p style=\"color: rgb(0, 0, 0); font-size: 11pt; font-family: Calibri, sans-serif; background-color: white;\">\\n<span style=\"border: 1pt none windowtext; font-size: 10pt; font-family: Cambria, serif; color: rgb(23, 78, 134);\">Tel:<span>\\xa0</span><span dir=\"ltr\" style=\"color: currentcolor;\">(718) 224-3792</span></span></p>\\n<p style=\"color: rgb(0, 0, 0); font-size: 11pt; font-family: Calibri, sans-serif; background-color: white;\">\\n<span style=\"border: 1pt none windowtext; font-size: 10pt; font-family: Cambria, serif; color: rgb(23, 78, 134);\">Fax:<span>\\xa0</span><span dir=\"ltr\" style=\"color: currentcolor;\">(646) 349-3398</span></span></p>\\n<p style=\"color: rgb(0, 0, 0); font-family: Calibri, sans-serif; background-color: white;\">\\n<span style=\"border: 1pt none windowtext; font-family: Cambria, serif; color: rgb(23, 78, 134); font-size: 10pt;\"><span dir=\"ltr\" style=\"color: currentcolor;\">albert@easywayintl.com</span></span></p>\\n<p style=\"color: rgb(0, 0, 0); font-size: 11pt; font-family: Calibri, sans-serif; background-color: white;\">\\n<u><span style=\"border: 1pt none windowtext; font-size: 10pt; font-family: Cambria, serif; color: rgb(23, 78, 134); background-color: white;\"><a href=\"https://urldefense.com/v3/__http://www.easywayintl.com/__;!!CHTgRmCF!HqWZdQRL_hylFZMvdVNFqdGkybgaw-QlM0PSyTo0xZhfNvTJBEzf8aMYKK4q-MZasCSy5KVLSf15jkCiiR7ks4R8OoBb$\" target=\"_blank\" style=\"color: rgb(0, 120, 212);\"><span>www.easywayintl.com</span></a></span></u></p>\\n<p style=\"color: rgb(0, 0, 0); font-size: 11pt; font-family: Calibri, sans-serif; background-color: white;\">\\n<u><img width=\"115\" height=\"66\" src=\"\" alt=\"Image\" style=\"border: none;\"></img></u></p>\\n</div>\\n</div>\\n</div>\\n</div>\\n<hr style=\"display: inline-block; width: 98%;\"></hr>\\n<div dir=\"ltr\" id=\"divRplyFwdMsg\"><font face=\"Calibri, sans-serif\" style=\"font-size: 11pt;\" color=\"#000000\"><b>From:</b> CCA - Client Solutions &lt;usa.clientsolutions@cma-cgm.com&gt;<br><b>Sent:</b> Friday, March 11, 2022 7:11:46 PM<br><b>To:</b> Albert Wang &lt;albert@easywayintl.com&gt;<br><b>Cc:</b> op@easywayintl.com &lt;op@easywayintl.com&gt;<br><b>Subject:</b> Re: SOC containers [ ref:_00D0Nk6PC._5005p2evRjH:ref ]</font>\\n<div>\\xa0</div>\\n</div>\\n<div dir=\"ltr\">\\n<p>Hello,<br><br>Sorry for the delay,\\xa0 I have been working with everyone to get below containers updated.\\xa0 Today they were able to update all except 2 and they are working on those right now.\\xa0\\xa0</p>\\n<p>NAM5022470- Set for 0YT4QW1MA COSCO EUROPE<br>EAWU8000930<br>EAWU8000971<br>EAWU8000945<br>EAWU8000626<br>EAWU8000631<br><br>NAM5022471A-sailed on Cosco Asia 0YT4IW1MA<br>EAWU8000586<br><br>NAM5022471C- Set for 0YT4QW1MA COSCO EUROPE<br>EAWU8000565-waiting on update<br>EAWU8000966<br>EAWU8000523<br><br>NAM5022471D- Sailed on 0YT4CW1MA COSCO AMERICA<br>EAWU8000539-needs to be attached to booking<br><br>NAM4999452A-Sailed on Cosco Malaysia 0YT44W1MA<br>EAWU8000734<br><br>NAM4999452B-Sailed on COSCO AMERICA/0YT4CW1MA<br>EAWU8000647<br>EAWU8000689<br>EAWU8000884</p>\\n<p>*The availability or release of an empty container prior to the first receiving date does not entitle the Merchant to additional free time beyond what is filed in the applicable contract or tariff. Containers exceeding the applicable free time period will\\n be subject to detention and demurrage charges as filed on the date that the shipment is tendered to CMA CGM.*<br><br>Documentation Cut is 8:00pm EST one day prior to Port Cut. *Exception: If voyage begins with 0AG and POL is Miami FL, Documentation Cut is 4:00pm EST same day as Port Cut*<br><br>Please check our website for current vessel schedule and cut info prior to delivery of cargo (<a href=\"https://urldefense.com/v3/__http://www.cmacgm.com/local/united-states/export-information-guide__;!!CHTgRmCF!HqWZdQRL_hylFZMvdVNFqdGkybgaw-QlM0PSyTo0xZhfNvTJBEzf8aMYKK4q-MZasCSy5KVLSf15jkCiiR7ks5SjcrhH$\" target=\"_blank\">http://www.cmacgm.com/local/united-states/export-information-guide</a>).\\n All dates and times noted in this booking confirmation and/or published by CMA CGM are estimates only and subject to change without prior notice.<br><br>Thank you!</p>\\n<p>\\xa0</p>\\n<table style=\"font-family: Arial;\"><tbody><tr style=\"\"><td colspan=\"1\" rowspan=\"8\" style=\"text-align: center; width: 120px;\"><img alt=\"40 years\" height=\"90\" src=\"https://cma-cgm--c.documentforce.com/servlet/servlet.ImageServer?id=0150N000007Fd8u&amp;oid=00D0N000000k6PC&amp;lastMod=1544780661000\" width=\"120\"></img></td><td colspan=\"1\" rowspan=\"1\" style=\"color: #051039; font-weight: bold; font-size: 8pt;\">Jessica Peters</td></tr><tr style=\"\"><td colspan=\"1\" rowspan=\"1\" style=\"color: #051039; font-weight: bold; font-size: 8pt;\">Export Client Solutions Representative</td></tr><tr style=\"\"><td colspan=\"1\" rowspan=\"1\" style=\"color: #051039; font-weight: bold; font-size: 8pt;\">\\xa0</td></tr><tr style=\"\"><td colspan=\"1\" rowspan=\"1\" style=\"font-size: 7pt; color: #051039;\">CMA CGM (America) LLC</td></tr><tr style=\"\"><td colspan=\"1\" rowspan=\"1\" style=\"font-size: 7pt; color: #051039;\">Direct line : 877 556 6308</td></tr><tr style=\"\"><td colspan=\"1\" rowspan=\"1\" style=\"font-size: 7pt; color: #051039;\">Vo IP :</td></tr><tr style=\"\"><td colspan=\"1\" rowspan=\"1\" style=\"font-size: 7pt; color: #051039;\">5701 Lake Wright Drive Norfolk, VA 23502</td></tr><tr style=\"\"><td colspan=\"1\" rowspan=\"1\" style=\"font-size: 7pt; color: #051039;\"><a href=\"http://www.cma-cgm.com/\" style=\"font-weight: bold; text-decoration: underline; color: #000;\" target=\"_blank\">www.cma-cgm.com</a></td></tr><tr style=\"height: 3px;\"><td colspan=\"2\" rowspan=\"1\" style=\"height: 3px; font-size: 0px;\">\\n\\xa0</td></tr><tr style=\"height: 3px;\"><td colspan=\"2\" rowspan=\"1\" style=\"height: 3px; font-size: 0px;\"><a href=\"https://www.better-ways.cmacgm-group.com/en.html\" target=\"_blank\"><img height=\"150\" src=\"https://cma-cgm--c.documentforce.com/servlet/servlet.ImageServer?id=0155p000007s3SUAAY&amp;oid=00D0N000000k6PC\" width=\"350\"></img>\\n</a></td></tr></tbody></table>\\n<p>\\xa0</p>\\n<br><br><br><br>--------------- Original Message ---------------<br><b>From:</b> Albert Wang [albert@easywayintl.com]<br><b>Sent:</b> 04/03/2022 17:36<br><b>To:</b> usa.clientsolutions@usa.cma-cgm.com<br><b>Cc:</b> op@easywayintl.com<br><b>Subject:</b> Re: SOC containers [ ref:_00D0Nk6PC._5005p2evRjH:ref ]<br><br></div><div style=\"font-family: Calibri,Arial,Helvetica,sans-serif; font-size: 12pt; color: rgb(0,0,0);\">\\nThank you Jessica, much appreciated for the follow up.</div>\\n<div style=\"font-family: Calibri,Arial,Helvetica,sans-serif; font-size: 12pt; color: rgb(0,0,0);\">\\n\\xa0</div>\\n<div style=\"font-family: Calibri,Arial,Helvetica,sans-serif; font-size: 12pt; color: rgb(0,0,0);\">\\nUnfortunately it looks like we are still waiting for the same updates as a few days ago.</div>\\n<div style=\"font-family: Calibri,Arial,Helvetica,sans-serif; font-size: 12pt; color: rgb(0,0,0);\">\\n\\xa0</div>\\n<div style=\"font-family: Calibri,Arial,Helvetica,sans-serif; font-size: 12pt; color: rgb(0,0,0);\">\\nHope your EQ team can provide updates at their soonest.</div>\\n<div>\\n<div style=\"font-family: Calibri,Arial,Helvetica,sans-serif; font-size: 12pt; color: rgb(0,0,0);\">\\n\\xa0</div>\\n<div id=\"x_Signature\">\\n<div>\\n<div>\\xa0</div>\\n<div>\\xa0</div>\\n<div>\\xa0</div>\\n<div style=\"\">\\n<p style=\"color: rgb(32,31,30); font-size: 12pt; text-align: start; background-color: rgb(255,255,255);\">\\n<span style=\"font-size: 11pt; font-family: Calibri,Helvetica,sans-serif;\">Best Regards,</span></p>\\n<p style=\"color: rgb(32,31,30); font-size: 12pt; text-align: start; background-color: rgb(255,255,255);\">\\n\\xa0</p>\\n<p style=\"color: rgb(32,31,30); font-size: 12pt; text-align: start; background-color: rgb(255,255,255);\">\\n<span style=\"font-size: 10pt; font-family: Cambria,Georgia,serif; color: rgb(23,78,134);\">Albert Wang</span></p>\\n<p style=\"color: rgb(32,31,30); font-size: 12pt; text-align: start; background-color: rgb(255,255,255);\">\\n<span style=\"font-family: Cambria,Georgia,serif; font-size: 10pt; color: rgb(23,78,134);\">Export Manager</span></p>\\n<p style=\"color: rgb(32,31,30); font-size: 12pt; text-align: start; background-color: rgb(255,255,255);\">\\n\\xa0</p>\\n<p style=\"color: rgb(32,31,30); font-size: 12pt; text-align: start; background-color: rgb(255,255,255);\">\\n<span style=\"font-size: 11pt; font-family: Calibri,Helvetica,sans-serif;\"><img class=\"x_EmojiInsert\" height=\"50\" src=\"/sfc/servlet.shepherd/version/download/0685p00000zA225AAC\" width=\"175\" style=\"width: 175px; height: 50px;\"></img></span></p>\\n<p style=\"color: rgb(32,31,30); font-size: 12pt; text-align: start; background-color: rgb(255,255,255);\">\\n<b style=\"font-style: inherit; color: rgb(0,0,0); font-family: Calibri,sans-serif; font-size: 11pt;\"><span style=\"border-width: 1pt; border-style: none; border-color: windowtext; font-family: Cambria,serif; color: rgb(23,78,134);\">Easyway\\n International LLC</span></b><span style=\"font-size: 12pt; color: black; font-family: Calibri,sans-serif;\">\\xa0</span></p>\\n<div style=\"text-align: start; background-color: rgb(255,255,255);\">\\n<p style=\"color: rgb(0,0,0); font-size: 11pt; font-family: Calibri,sans-serif;\">\\n<span style=\"border: 1pt none windowtext; font-size: 10pt; font-family: Cambria,serif; color: rgb(23,78,134);\">108 S. Franklin Ave, Ste 12</span></p>\\n<p style=\"color: rgb(0,0,0); font-size: 11pt; font-family: Calibri,sans-serif;\">\\n<span style=\"border: 1pt none windowtext; font-size: 10pt; font-family: Cambria,serif; color: rgb(23,78,134);\">Valley Stream, NY 11580</span></p>\\n<p style=\"font-size: 11pt; font-family: Calibri,sans-serif;\">\\n<span style=\"border: 1pt none windowtext; font-size: 10pt; font-family: Cambria,serif;\"><font color=\"#201f1e\"><span style=\"font-size: 10pt; color: rgb(23,78,134);\">Direct Line: (347) 352-3195</span></font></span></p>\\n<p style=\"color: rgb(0,0,0); font-size: 11pt; font-family: Calibri,sans-serif;\">\\n<span style=\"border: 1pt none windowtext; font-size: 10pt; font-family: Cambria,serif; color: rgb(23,78,134);\">Tel: (718) 224-3792</span></p>\\n<p style=\"color: rgb(0,0,0); font-size: 11pt; font-family: Calibri,sans-serif;\">\\n<span style=\"border: 1pt none windowtext; font-size: 10pt; font-family: Cambria,serif; color: rgb(23,78,134);\">Fax: (646) 349-3398</span></p>\\n<p style=\"color: rgb(0,0,0); font-family: Calibri,sans-serif;\">\\n<span style=\"border: 1pt none windowtext; font-family: Cambria,serif; color: rgb(23,78,134); font-size: 10pt;\">albert@easywayintl.com</span></p>\\n<p style=\"color: rgb(0,0,0); font-size: 11pt; font-family: Calibri,sans-serif;\">\\n<u><span style=\"border: 1pt none windowtext; font-size: 10pt; font-family: Cambria,serif; color: rgb(23,78,134);\"><a href=\"https://urldefense.com/v3/__http://www.easywayintl.com/__;!!CHTgRmCF!FvowTiTSlii7U9SmVcZbxDNNktRcKZ7pX3J_YaTuDY2W7ijagTrMVb_SCkNOrhOfimQJ7uyfb5bNvdgx5zXrYhmEQV5Y$\" target=\"_blank\" style=\"\"><span style=\"font-size: 10pt;\">www.easywayintl.com</span></a></span></u></p>\\n<p style=\"color: rgb(0,0,0); font-size: 11pt; font-family: Calibri,sans-serif;\">\\n<u><img class=\"x_EmojiInsert\" height=\"66\" src=\"/sfc/servlet.shepherd/version/download/0685p00000zA226AAC\" width=\"115\" style=\"width: 115px; height: 66px;\"></img></u></p>\\n</div>\\n</div>\\n</div>\\n</div>\\n</div>\\n<div id=\"x_appendonsend\">\\xa0</div>\\n<hr style=\"display: inline-block; width: 98%;\"></hr>\\n<div dir=\"ltr\" id=\"x_divRplyFwdMsg\"><font color=\"#000000\" face=\"Calibri, sans-serif\" style=\"font-size: 11pt;\"><b>From:</b> CCA - Client Solutions &lt;usa.clientsolutions@cma-cgm.com&gt;<br><b>Sent:</b> Friday, March 4, 2022 4:11 PM<br><b>To:</b> Albert Wang &lt;albert@easywayintl.com&gt;<br><b>Cc:</b> op@easywayintl.com &lt;op@easywayintl.com&gt;<br><b>Subject:</b> Re: SOC containers [ ref:_00D0Nk6PC._5005p2evRjH:ref ]</font>\\n<div>\\xa0</div>\\n</div>\\n<div dir=\"ltr\">\\n<p>Hello,<br><br>I wanted to provide an update on below bookings.\\xa0 All containers are assigned vessels and our Cargo Readiness team is working to ensure the containers get loaded properly.\\xa0 We are still waiting for our equipment team to update the tracking for some containers.</p>\\n<p><br><span style=\"font-size: 13px;\"><span style=\"\"><span style=\"color: #444444;\"><span style=\"\"><span style=\"font-style: normal;\"><span style=\"\"><span style=\"font-weight: 400;\"><span style=\"white-space: normal;\"><span style=\"background-color: #ffffff;\"><span style=\"\"><span style=\"\"><span style=\"\">NAM5022470-\\n Set for 0YT4QW1MA COSCO EUROPE<br style=\"\">\\nEAWU8000930<br style=\"\">\\nEAWU8000971-waiting on tracking update<br style=\"\">\\nEAWU8000945-waiting on tracking update<br style=\"\">\\nEAWU8000626-waiting on tracking update<br style=\"\">\\nEAWU8000631</span></span></span></span></span></span></span></span></span></span></span></span><br><span style=\"font-size: 13px;\"><span style=\"\"><span style=\"color: #444444;\"><span style=\"\"><span style=\"font-style: normal;\"><span style=\"\"><span style=\"font-weight: 400;\"><span style=\"white-space: normal;\"><span style=\"background-color: #ffffff;\"><span style=\"\"><span style=\"\"><span style=\"\">\\xa0</span></span></span></span></span></span></span></span></span></span></span></span><br><span style=\"font-size: 13px;\"><span style=\"\"><span style=\"color: #444444;\"><span style=\"\"><span style=\"font-style: normal;\"><span style=\"\"><span style=\"font-weight: 400;\"><span style=\"white-space: normal;\"><span style=\"background-color: #ffffff;\"><span style=\"\"><span style=\"\"><span style=\"\">NAM5022471A-Loaded\\n 0YT4IW1MA COSCO ASIA<br style=\"\">\\nEAWU8000586</span></span></span></span></span></span></span></span></span></span></span></span><br><span style=\"font-size: 13px;\"><span style=\"\"><span style=\"color: #444444;\"><span style=\"\"><span style=\"font-style: normal;\"><span style=\"\"><span style=\"font-weight: 400;\"><span style=\"white-space: normal;\"><span style=\"background-color: #ffffff;\"><span style=\"\"><span style=\"\"><span style=\"\">\\xa0</span></span></span></span></span></span></span></span></span></span></span></span><br><span style=\"font-size: 13px;\"><span style=\"\"><span style=\"color: #444444;\"><span style=\"\"><span style=\"font-style: normal;\"><span style=\"\"><span style=\"font-weight: 400;\"><span style=\"white-space: normal;\"><span style=\"background-color: #ffffff;\"><span style=\"\"><span style=\"\"><span style=\"\">NAM5022471B-\\n Set for 0YT4QW1MA COSCO EUROPE<br style=\"\">\\nEAWU8000966<br style=\"\">\\nEAWU8000523-waiting on tracking update<br style=\"\">\\nEAWU8000539-waiting on tracking update</span></span></span></span></span></span></span></span></span></span></span></span><br><br><span style=\"font-size: 13px;\"><span style=\"\"><span style=\"color: #444444;\"><span style=\"\"><span style=\"font-style: normal;\"><span style=\"\"><span style=\"font-weight: 400;\"><span style=\"white-space: normal;\"><span style=\"background-color: #ffffff;\"><span style=\"\"><span style=\"\"><span style=\"\">NAM4999452A-Loaded\\n 0YT44W1MA COSCO MALAYSIA<br style=\"\">\\nEAWU8000734</span></span></span></span></span></span></span></span></span></span></span></span><br><br><span style=\"font-size: 13px;\"><span style=\"\"><span style=\"color: #444444;\"><span style=\"\"><span style=\"font-style: normal;\"><span style=\"\"><span style=\"font-weight: 400;\"><span style=\"white-space: normal;\"><span style=\"background-color: #ffffff;\"><span style=\"\"><span style=\"\"><span style=\"\">NAM4999452B-Loaded\\n 0YT4CW1MA COSCO AMERICA<br style=\"\">\\nEAWU8000647-waiting on tracking update<br style=\"\">\\nEAWU8000689-waiting on tracking update<br style=\"\">\\nEAWU8000884-waiting on tracking update</span></span></span></span></span></span></span></span></span></span></span></span></p>\\n<p>*The availability or release of an empty container prior to the first receiving date does not entitle the Merchant to additional free time beyond what is filed in the applicable contract or tariff. Containers exceeding the applicable free time period will\\n be subject to detention and demurrage charges as filed on the date that the shipment is tendered to CMA CGM.*<br><br>Documentation Cut is 8:00pm EST one day prior to Port Cut. *Exception: If voyage begins with 0AG and POL is Miami FL, Documentation Cut is 4:00pm EST same day as Port Cut*<br><br>Please check our website for current vessel schedule and cut info prior to delivery of cargo (<a href=\"https://urldefense.com/v3/__http://www.cmacgm.com/local/united-states/export-information-guide__;!!CHTgRmCF!FvowTiTSlii7U9SmVcZbxDNNktRcKZ7pX3J_YaTuDY2W7ijagTrMVb_SCkNOrhOfimQJ7uyfb5bNvdgx5zXrYkVRBI81$\" target=\"_blank\">http://www.cmacgm.com/local/united-states/export-information-guide</a>).\\n All dates and times noted in this booking confirmation and/or published by CMA CGM are estimates only and subject to change without prior notice.<br><br>Thank you!</p>\\n<p>\\xa0</p>\\n<table style=\"font-family: Arial;\"><tbody><tr style=\"\"><td colspan=\"1\" rowspan=\"8\" style=\"text-align: center; width: 120px;\">\\n<img alt=\"40 years\" height=\"90\" src=\"https://cma-cgm--c.documentforce.com/servlet/servlet.ImageServer?id=0150N000007Fd8u&amp;oid=00D0N000000k6PC&amp;lastMod=1544780661000\" width=\"120\"></img></td><td colspan=\"1\" rowspan=\"1\" style=\"color: #051039; font-weight: bold; font-size: 8pt;\">\\nJessica Peters</td></tr><tr style=\"\"><td colspan=\"1\" rowspan=\"1\" style=\"color: #051039; font-weight: bold; font-size: 8pt;\">\\nExport Client Solutions Representative</td></tr><tr style=\"\"><td colspan=\"1\" rowspan=\"1\" style=\"color: #051039; font-weight: bold; font-size: 8pt;\">\\n\\xa0</td></tr><tr style=\"\"><td colspan=\"1\" rowspan=\"1\" style=\"font-size: 7pt; color: #051039;\">CMA CGM (America) LLC</td></tr><tr style=\"\"><td colspan=\"1\" rowspan=\"1\" style=\"font-size: 7pt; color: #051039;\">Direct line : 877 556 6308</td></tr><tr style=\"\"><td colspan=\"1\" rowspan=\"1\" style=\"font-size: 7pt; color: #051039;\">Vo IP :</td></tr><tr style=\"\"><td colspan=\"1\" rowspan=\"1\" style=\"font-size: 7pt; color: #051039;\">5701 Lake Wright Drive Norfolk, VA 23502</td></tr><tr style=\"\"><td colspan=\"1\" rowspan=\"1\" style=\"font-size: 7pt; color: #051039;\"><a href=\"http://www.cma-cgm.com/\" target=\"_blank\" style=\"font-weight: bold; text-decoration: underline; color: #000;\">www.cma-cgm.com</a></td></tr><tr style=\"height: 3px;\"><td colspan=\"2\" rowspan=\"1\" style=\"height: 3px; font-size: 0px;\">\\n\\xa0</td></tr><tr style=\"height: 3px;\"><td colspan=\"2\" rowspan=\"1\" style=\"height: 3px; font-size: 0px;\"><a href=\"https://www.better-ways.cmacgm-group.com/en.html\" target=\"_blank\"><img height=\"150\" src=\"https://cma-cgm--c.documentforce.com/servlet/servlet.ImageServer?id=0155p000007s3SUAAY&amp;oid=00D0N000000k6PC\" width=\"350\"></img>\\n</a></td></tr></tbody></table>\\n<p>\\xa0</p>\\n<br><br><br><br>--------------- Original Message ---------------<br><b>From:</b> CCA - Client Solutions [usa.clientsolutions@cma-cgm.com]<br><b>Sent:</b> 01/03/2022 15:15<br><b>To:</b> albert@easywayintl.com<br><b>Cc:</b> op@easywayintl.com<br><b>Subject:</b> Re: SOC containers [ ref:_00D0Nk6PC._5005p2evRjH:ref ]<br>\\xa0\\n<p>Hello,<br><br>Thank you.\\xa0 I will get this resolved and let you know once complete or if anything else is needed.</p>\\n<p>\\xa0</p>\\n<p>Please find DOCUMENTATION/PORT CUT OFF and EARLIEST RETURN DATE details available at http://www.cma-cgm.com/local/united-states/news/16/cma-cgm-general-dry-cargo-erd-port-vgm-and-documentation-cut-off-information. This information is updated daily by 10:30\\n AM East Coast Time.</p>\\n<p>\\xa0</p>\\n<table style=\"font-family: Arial;\"><tbody><tr style=\"\"><td colspan=\"1\" rowspan=\"8\" style=\"text-align: center; width: 120px;\">\\n<img alt=\"40 years\" height=\"90\" src=\"https://cma-cgm--c.documentforce.com/servlet/servlet.ImageServer?id=0150N000007Fd8u&amp;oid=00D0N000000k6PC&amp;lastMod=1544780661000\" width=\"120\"></img></td><td colspan=\"1\" rowspan=\"1\" style=\"color: #051039; font-weight: bold; font-size: 8pt;\">\\nJessica Peters</td></tr><tr style=\"\"><td colspan=\"1\" rowspan=\"1\" style=\"color: #051039; font-weight: bold; font-size: 8pt;\">\\nClient Solutions Team</td></tr><tr style=\"\"><td colspan=\"1\" rowspan=\"1\" style=\"color: #051039; font-weight: bold; font-size: 8pt;\">\\n\\xa0</td></tr><tr style=\"\"><td colspan=\"1\" rowspan=\"1\" style=\"font-size: 7pt; color: #051039;\">CMA CGM (America) LLC</td></tr><tr style=\"\"><td colspan=\"1\" rowspan=\"1\" style=\"font-size: 7pt; color: #051039;\">Direct line :</td></tr><tr style=\"\"><td colspan=\"1\" rowspan=\"1\" style=\"font-size: 7pt; color: #051039;\">Vo IP : 81082529</td></tr><tr style=\"\"><td colspan=\"1\" rowspan=\"1\" style=\"font-size: 7pt; color: #051039;\">5701 Lake Wright Drive Norfolk, VA 23502</td></tr><tr style=\"\"><td colspan=\"1\" rowspan=\"1\" style=\"font-size: 7pt; color: #051039;\"><a href=\"http://www.cma-cgm.com/\" target=\"_blank\" style=\"font-weight: bold; text-decoration: underline; color: #000;\">www.cma-cgm.com</a></td></tr><tr style=\"height: 3px;\"><td colspan=\"2\" rowspan=\"1\" style=\"height: 3px; font-size: 0px;\">\\n\\xa0</td></tr><tr style=\"height: 3px;\"><td colspan=\"2\" rowspan=\"1\" style=\"height: 3px; font-size: 0px;\"><a href=\"https://www.better-ways.cmacgm-group.com/en.html\" target=\"_blank\"><img height=\"150\" src=\"https://cma-cgm--c.documentforce.com/servlet/servlet.ImageServer?id=0155p000007s3SUAAY&amp;oid=00D0N000000k6PC\" width=\"350\"></img>\\n</a></td></tr></tbody></table>\\n<p>\\xa0</p>\\n<br><br><br><br>--------------- Original Message ---------------<br><b>From:</b> Albert Wang [albert@easywayintl.com]<br><b>Sent:</b> 01/03/2022 10:28<br><b>To:</b> usa.clientsolutions@usa.cma-cgm.com<br><b>Cc:</b> op@easywayintl.com<br><b>Subject:</b> Re: SOC containers [ ref:_00D0Nk6PC._5005p2evRjH:ref ]<br>\\xa0</div>\\n<div style=\"font-family: Calibri,Arial,Helvetica,sans-serif; font-size: 12pt; color: rgb(0,0,0);\">\\nHi Jessica,</div>\\n<div style=\"font-family: Calibri,Arial,Helvetica,sans-serif; font-size: 12pt; color: rgb(0,0,0);\">\\n\\xa0</div>\\n<div style=\"font-family: Calibri,Arial,Helvetica,sans-serif; font-size: 12pt; color: rgb(0,0,0);\">\\nThanks for the follow up, per your request:</div>\\n<div style=\"font-family: Calibri,Arial,Helvetica,sans-serif; font-size: 12pt; color: rgb(0,0,0);\">\\n\\xa0</div>\\n<div style=\"font-family: Calibri,Arial,Helvetica,sans-serif; font-size: 12pt; color: rgb(0,0,0);\">\\n<p style=\"font-size: 14px; background-color: rgb(255,255,255);\"><b>NAM5022470 - LOADED (RAIL BILLING ATTACHED)<br>EAWU8000930<br>EAWU8000971<br>EAWU8000945<br>EAWU8000626<br>EAWU8000631<br><br>NAM5022471 - LOADED (RAIL BILLING ATTACHED)<br>EAWU8000586<br>EAWU8000966<br>EAWU8000523<br>EAWU8000539<br><br>NAM4999452A - EMPTY REVENUE (RAIL BILLING ATTACHED *BEFORE SPLIT)<br>EAWU8000734</b></p>\\n<p style=\"font-size: 14px; background-color: rgb(255,255,255);\"><b>NAM4999452B - EMPTY REVENUE (RAIL BILLING ATTACHED *BEFORE SPLIT)<br>EAWU8000647<br>EAWU8000689<br>EAWU8000884</b></p>\\n</div>\\n<div style=\"font-family: Calibri,Arial,Helvetica,sans-serif; font-size: 12pt; color: rgb(0,0,0);\">\\n<b>All 3 bookings are SOC containers, trucker did not and would not have pulled at any point.</b></div>\\n<div style=\"font-family: Calibri,Arial,Helvetica,sans-serif; font-size: 12pt; color: rgb(0,0,0);\">\\n\\xa0</div>\\n<div style=\"font-family: Calibri,Arial,Helvetica,sans-serif; font-size: 12pt; color: rgb(0,0,0);\">\\nKindly acknowledge and await your further advisement thank you.</div>\\n<div>\\n<div style=\"font-family: Calibri,Arial,Helvetica,sans-serif; font-size: 12pt; color: rgb(0,0,0);\">\\n\\xa0</div>\\n<div id=\"x_x_Signature\">\\n<div>\\n<div>\\xa0</div>\\n<div>\\xa0</div>\\n<div>\\xa0</div>\\n<div style=\"\">\\n<p style=\"color: rgb(32,31,30); font-size: 12pt; text-align: start; background-color: rgb(255,255,255);\">\\n<span style=\"font-size: 11pt; font-family: Calibri,Helvetica,sans-serif;\">Best Regards,</span></p>\\n<p style=\"color: rgb(32,31,30); font-size: 12pt; text-align: start; background-color: rgb(255,255,255);\">\\n\\xa0</p>\\n<p style=\"color: rgb(32,31,30); font-size: 12pt; text-align: start; background-color: rgb(255,255,255);\">\\n<span style=\"font-size: 10pt; font-family: Cambria,Georgia,serif; color: rgb(23,78,134);\">Albert Wang</span></p>\\n<p style=\"color: rgb(32,31,30); font-size: 12pt; text-align: start; background-color: rgb(255,255,255);\">\\n<span style=\"font-family: Cambria,Georgia,serif; font-size: 10pt; color: rgb(23,78,134);\">Export Manager</span></p>\\n<p style=\"color: rgb(32,31,30); font-size: 12pt; text-align: start; background-color: rgb(255,255,255);\">\\n\\xa0</p>\\n<p style=\"color: rgb(32,31,30); font-size: 12pt; text-align: start; background-color: rgb(255,255,255);\">\\n<span style=\"font-size: 11pt; font-family: Calibri,Helvetica,sans-serif;\"><img class=\"x_x_EmojiInsert\" height=\"50\" src=\"/sfc/servlet.shepherd/version/download/0685p00000zA225AAC\" width=\"175\" style=\"width: 175px; height: 50px;\"></img></span></p>\\n<p style=\"color: rgb(32,31,30); font-size: 12pt; text-align: start; background-color: rgb(255,255,255);\">\\n<b style=\"font-style: inherit; color: rgb(0,0,0); font-family: Calibri,sans-serif; font-size: 11pt;\"><span style=\"border-width: 1pt; border-style: none; border-color: windowtext; font-family: Cambria,serif; color: rgb(23,78,134);\">Easyway\\n International LLC</span></b><span style=\"font-size: 12pt; color: black; font-family: Calibri,sans-serif;\">\\xa0</span></p>\\n<div style=\"text-align: start; background-color: rgb(255,255,255);\">\\n<p style=\"color: rgb(0,0,0); font-size: 11pt; font-family: Calibri,sans-serif;\">\\n<span style=\"border: 1pt none windowtext; font-size: 10pt; font-family: Cambria,serif; color: rgb(23,78,134);\">108 S. Franklin Ave, Ste 12</span></p>\\n<p style=\"color: rgb(0,0,0); font-size: 11pt; font-family: Calibri,sans-serif;\">\\n<span style=\"border: 1pt none windowtext; font-size: 10pt; font-family: Cambria,serif; color: rgb(23,78,134);\">Valley Stream, NY 11580</span></p>\\n<p style=\"font-size: 11pt; font-family: Calibri,sans-serif;\">\\n<span style=\"border: 1pt none windowtext; font-size: 10pt; font-family: Cambria,serif;\"><font color=\"#201f1e\"><span style=\"font-size: 10pt; color: rgb(23,78,134);\">Direct Line: (347) 352-3195</span></font></span></p>\\n<p style=\"color: rgb(0,0,0); font-size: 11pt; font-family: Calibri,sans-serif;\">\\n<span style=\"border: 1pt none windowtext; font-size: 10pt; font-family: Cambria,serif; color: rgb(23,78,134);\">Tel: (718) 224-3792</span></p>\\n<p style=\"color: rgb(0,0,0); font-size: 11pt; font-family: Calibri,sans-serif;\">\\n<span style=\"border: 1pt none windowtext; font-size: 10pt; font-family: Cambria,serif; color: rgb(23,78,134);\">Fax: (646) 349-3398</span></p>\\n<p style=\"color: rgb(0,0,0); font-family: Calibri,sans-serif;\">\\n<span style=\"border: 1pt none windowtext; font-family: Cambria,serif; color: rgb(23,78,134); font-size: 10pt;\">albert@easywayintl.com</span></p>\\n<p style=\"color: rgb(0,0,0); font-size: 11pt; font-family: Calibri,sans-serif;\">\\n<u><span style=\"border: 1pt none windowtext; font-size: 10pt; font-family: Cambria,serif; color: rgb(23,78,134);\"><a href=\"https://urldefense.com/v3/__http://www.easywayintl.com/__;!!CHTgRmCF!EKAgAq2TyrczZ2uraXOTtbsQFjemL768l-Jn_TGhWP9z0HDIfJG597QWWQ6tUhmjkDzYQT1Kyi0zGjnUYjBXO_1JOXxU$\" target=\"_blank\" style=\"\"><span style=\"font-size: 10pt;\">www.easywayintl.com</span></a></span></u></p>\\n<p style=\"color: rgb(0,0,0); font-size: 11pt; font-family: Calibri,sans-serif;\">\\n<u><img class=\"x_x_EmojiInsert\" height=\"66\" src=\"/sfc/servlet.shepherd/version/download/0685p00000zA226AAC\" width=\"115\" style=\"width: 115px; height: 66px;\"></img></u></p>\\n</div>\\n</div>\\n</div>\\n</div>\\n</div>\\n<div id=\"x_x_appendonsend\">\\xa0</div>\\n<div style=\"font-family: Calibri,Arial,Helvetica,sans-serif; font-size: 12pt; color: rgb(0,0,0);\">\\n\\xa0</div>\\n<hr style=\"display: inline-block; width: 98%;\"></hr>\\n<div dir=\"ltr\" id=\"x_x_divRplyFwdMsg\"><font color=\"#000000\" face=\"Calibri, sans-serif\" style=\"font-size: 11pt;\"><b>From:</b> CCA - Client Solutions &lt;usa.clientsolutions@cma-cgm.com&gt;<br><b>Sent:</b> Tuesday, March 1, 2022 10:16 AM<br><b>To:</b> Albert Wang &lt;albert@easywayintl.com&gt;<br><b>Subject:</b> SOC containers [ ref:_00D0Nk6PC._5005p2evRjH:ref ]</font>\\n<div>\\xa0</div>\\n</div>\\n<div>\\n<p>Hello,<br><br>Please be advised I am working to get status of containers attached to NAM5022470, NAM5022471 and NAM4999452A/B updated.\\xa0 Please confirm which containers listed below are empty and which have product inside.\\xa0 Also, please confirm how rail billing was submitted\\n and if your trucker pulled out containers at any point.<br><br>NAM5022470<br>EAWU8000930<br>EAWU8000971<br>EAWU8000945<br>EAWU8000626<br>EAWU8000631<br><br>NAM5022471<br>EAWU8000586<br>EAWU8000966<br>EAWU8000523<br>EAWU8000539<br><br>NAM4999452A<br>EAWU8000734</p>\\n<p>NAM4999452B<br>EAWU8000647<br>EAWU8000689<br>EAWU8000884<br><br>\\xa0</p>\\n<p>Please find DOCUMENTATION/PORT CUT OFF and EARLIEST RETURN DATE details available at http://www.cma-cgm.com/local/united-states/news/16/cma-cgm-general-dry-cargo-erd-port-vgm-and-documentation-cut-off-information. This information is updated daily by 10:30\\n AM East Coast Time.</p>\\n<p>\\xa0</p>\\n<table style=\"font-family: Arial;\"><tbody><tr style=\"\"><td colspan=\"1\" rowspan=\"8\" style=\"text-align: center; width: 120px;\">\\n<img alt=\"40 years\" height=\"90\" src=\"https://cma-cgm--c.documentforce.com/servlet/servlet.ImageServer?id=0150N000007Fd8u&amp;oid=00D0N000000k6PC&amp;lastMod=1544780661000\" width=\"120\"></img></td><td colspan=\"1\" rowspan=\"1\" style=\"color: #051039; font-weight: bold; font-size: 8pt;\">\\nJessica Peters</td></tr><tr style=\"\"><td colspan=\"1\" rowspan=\"1\" style=\"color: #051039; font-weight: bold; font-size: 8pt;\">\\nClient Solutions Team</td></tr><tr style=\"\"><td colspan=\"1\" rowspan=\"1\" style=\"color: #051039; font-weight: bold; font-size: 8pt;\">\\n\\xa0</td></tr><tr style=\"\"><td colspan=\"1\" rowspan=\"1\" style=\"font-size: 7pt; color: #051039;\">CMA CGM (America) LLC</td></tr><tr style=\"\"><td colspan=\"1\" rowspan=\"1\" style=\"font-size: 7pt; color: #051039;\">Direct line :</td></tr><tr style=\"\"><td colspan=\"1\" rowspan=\"1\" style=\"font-size: 7pt; color: #051039;\">Vo IP : 81082529</td></tr><tr style=\"\"><td colspan=\"1\" rowspan=\"1\" style=\"font-size: 7pt; color: #051039;\">5701 Lake Wright Drive Norfolk, VA 23502</td></tr><tr style=\"\"><td colspan=\"1\" rowspan=\"1\" style=\"font-size: 7pt; color: #051039;\"><a href=\"http://www.cma-cgm.com/\" target=\"_blank\" style=\"font-weight: bold; text-decoration: underline; color: #000;\">www.cma-cgm.com</a></td></tr><tr style=\"height: 3px;\"><td colspan=\"2\" rowspan=\"1\" style=\"height: 3px; font-size: 0px;\">\\n\\xa0</td></tr><tr style=\"height: 3px;\"><td colspan=\"2\" rowspan=\"1\" style=\"height: 3px; font-size: 0px;\"><a href=\"https://www.better-ways.cmacgm-group.com/en.html\" target=\"_blank\"><img height=\"150\" src=\"https://cma-cgm--c.documentforce.com/servlet/servlet.ImageServer?id=0155p000007s3SUAAY&amp;oid=00D0N000000k6PC\" width=\"350\"></img>\\n</a></td></tr></tbody></table>\\n<p>\\xa0</p>\\n<img src=\"https://cma-cgm.my.salesforce.com/servlet/servlet.ImageServer?oid=00D0N000000k6PC&amp;esid=0185p000015qrLU&amp;from=int\"></img><br><br>ref:_00D0Nk6PC._5005p2evRjH:ref</div>\\n<img src=\"https://cma-cgm.my.salesforce.com/servlet/servlet.ImageServer?oid=00D0N000000k6PC&amp;esid=0185p000015qt5r&amp;from=int\"></img><br>\\xa0<img src=\"https://cma-cgm.my.salesforce.com/servlet/servlet.ImageServer?oid=00D0N000000k6PC&amp;esid=0185p000015rYke&amp;from=int\"></img><br>\\xa0'"
      ]
     },
     "execution_count": 12,
     "metadata": {},
     "output_type": "execute_result"
    }
   ],
   "source": [
    "text = df[\"LastIncomingEmail__c\"][0]\n",
    "text"
   ]
  },
  {
   "cell_type": "code",
   "execution_count": 29,
   "metadata": {},
   "outputs": [
    {
     "data": {
      "text/plain": [
       "['albert@easywayintl.com',\n",
       " 'usa.clientsolutions@cma-cgm.com',\n",
       " 'albert@easywayintl.com',\n",
       " 'op@easywayintl.com',\n",
       " 'op@easywayintl.com',\n",
       " 'albert@easywayintl.com',\n",
       " 'usa.clientsolutions@usa.cma-cgm.com',\n",
       " 'op@easywayintl.com',\n",
       " 'albert@easywayintl.com',\n",
       " 'usa.clientsolutions@cma-cgm.com',\n",
       " 'albert@easywayintl.com',\n",
       " 'op@easywayintl.com',\n",
       " 'op@easywayintl.com',\n",
       " 'usa.clientsolutions@cma-cgm.com',\n",
       " 'albert@easywayintl.com',\n",
       " 'op@easywayintl.com',\n",
       " 'albert@easywayintl.com',\n",
       " 'usa.clientsolutions@usa.cma-cgm.com',\n",
       " 'op@easywayintl.com',\n",
       " 'albert@easywayintl.com',\n",
       " 'usa.clientsolutions@cma-cgm.com',\n",
       " 'albert@easywayintl.com']"
      ]
     },
     "execution_count": 29,
     "metadata": {},
     "output_type": "execute_result"
    }
   ],
   "source": [
    "# extracting all emails from the HTML file\n",
    "import re\n",
    "emails = re.findall(r\"[a-z0-9\\.\\-+_]+@[a-z0-9\\.\\-+_]+\\.[a-z]+\", text)\n",
    "emails\n"
   ]
  },
  {
   "cell_type": "code",
   "execution_count": 30,
   "metadata": {},
   "outputs": [
    {
     "data": {
      "text/plain": [
       "'\\n\\n\\nThank you Jessica! Await your further on the two containers pending further update.\\n\\n\\n\\n\\n\\nBest Regards,\\n\\n\\n\\nAlbert Wang\\n\\nExport Manager\\n\\n\\n\\n\\n\\nEasyway International LLC\\xa0\\n\\n\\n108 S. Franklin Ave, Ste 12\\n\\nValley Stream, NY 11580\\n\\nDirect Line:\\xa0(347) 352-3195\\n\\nTel:\\xa0(718) 224-3792\\n\\nFax:\\xa0(646) 349-3398\\n\\nalbert@easywayintl.com\\n\\nwww.easywayintl.com\\n\\n\\n\\n\\n\\n\\n\\nFrom: CCA - Client Solutions &lt;usa.clientsolutions@cma-cgm.com&gt;Sent: Friday, March 11, 2022 7:11:46 PMTo: Albert Wang &lt;albert@easywayintl.com&gt;Cc: op@easywayintl.com &lt;op@easywayintl.com&gt;Subject: Re: SOC containers [ ref:_00D0Nk6PC._5005p2evRjH:ref ]\\n\\xa0\\n\\n\\nHello,Sorry for the delay,\\xa0 I have been working with everyone to get below containers updated.\\xa0 Today they were able to update all except 2 and they are working on those right now.\\xa0\\xa0\\nNAM5022470- Set for 0YT4QW1MA COSCO EUROPEEAWU8000930EAWU8000971EAWU8000945EAWU8000626EAWU8000631NAM5022471A-sailed on Cosco Asia 0YT4IW1MAEAWU8000586NAM5022471C- Set for 0YT4QW1MA COSCO EUROPEEAWU8000565-waiting on updateEAWU8000966EAWU8000523NAM5022471D- Sailed on 0YT4CW1MA COSCO AMERICAEAWU8000539-needs to be attached to bookingNAM4999452A-Sailed on Cosco Malaysia 0YT44W1MAEAWU8000734NAM4999452B-Sailed on COSCO AMERICA/0YT4CW1MAEAWU8000647EAWU8000689EAWU8000884\\n*The availability or release of an empty container prior to the first receiving date does not entitle the Merchant to additional free time beyond what is filed in the applicable contract or tariff. Containers exceeding the applicable free time period will\\n be subject to detention and demurrage charges as filed on the date that the shipment is tendered to CMA CGM.*Documentation Cut is 8:00pm EST one day prior to Port Cut. *Exception: If voyage begins with 0AG and POL is Miami FL, Documentation Cut is 4:00pm EST same day as Port Cut*Please check our website for current vessel schedule and cut info prior to delivery of cargo (http://www.cmacgm.com/local/united-states/export-information-guide).\\n All dates and times noted in this booking confirmation and/or published by CMA CGM are estimates only and subject to change without prior notice.Thank you!\\n\\xa0\\nJessica PetersExport Client Solutions Representative\\xa0CMA CGM (America) LLCDirect line : 877 556 6308Vo IP :5701 Lake Wright Drive Norfolk, VA 23502www.cma-cgm.com\\n\\xa0\\n\\n\\xa0\\n--------------- Original Message ---------------From: Albert Wang [albert@easywayintl.com]Sent: 04/03/2022 17:36To: usa.clientsolutions@usa.cma-cgm.comCc: op@easywayintl.comSubject: Re: SOC containers [ ref:_00D0Nk6PC._5005p2evRjH:ref ]\\nThank you Jessica, much appreciated for the follow up.\\n\\n\\xa0\\n\\nUnfortunately it looks like we are still waiting for the same updates as a few days ago.\\n\\n\\xa0\\n\\nHope your EQ team can provide updates at their soonest.\\n\\n\\n\\xa0\\n\\n\\n\\xa0\\n\\xa0\\n\\xa0\\n\\n\\nBest Regards,\\n\\n\\xa0\\n\\nAlbert Wang\\n\\nExport Manager\\n\\n\\xa0\\n\\n\\n\\nEasyway\\n International LLC\\xa0\\n\\n\\n108 S. Franklin Ave, Ste 12\\n\\nValley Stream, NY 11580\\n\\nDirect Line: (347) 352-3195\\n\\nTel: (718) 224-3792\\n\\nFax: (646) 349-3398\\n\\nalbert@easywayintl.com\\n\\nwww.easywayintl.com\\n\\n\\n\\n\\n\\n\\n\\n\\xa0\\n\\nFrom: CCA - Client Solutions &lt;usa.clientsolutions@cma-cgm.com&gt;Sent: Friday, March 4, 2022 4:11 PMTo: Albert Wang &lt;albert@easywayintl.com&gt;Cc: op@easywayintl.com &lt;op@easywayintl.com&gt;Subject: Re: SOC containers [ ref:_00D0Nk6PC._5005p2evRjH:ref ]\\n\\xa0\\n\\n\\nHello,I wanted to provide an update on below bookings.\\xa0 All containers are assigned vessels and our Cargo Readiness team is working to ensure the containers get loaded properly.\\xa0 We are still waiting for our equipment team to update the tracking for some containers.\\nNAM5022470-\\n Set for 0YT4QW1MA COSCO EUROPE\\nEAWU8000930\\nEAWU8000971-waiting on tracking update\\nEAWU8000945-waiting on tracking update\\nEAWU8000626-waiting on tracking update\\nEAWU8000631\\xa0NAM5022471A-Loaded\\n 0YT4IW1MA COSCO ASIA\\nEAWU8000586\\xa0NAM5022471B-\\n Set for 0YT4QW1MA COSCO EUROPE\\nEAWU8000966\\nEAWU8000523-waiting on tracking update\\nEAWU8000539-waiting on tracking updateNAM4999452A-Loaded\\n 0YT44W1MA COSCO MALAYSIA\\nEAWU8000734NAM4999452B-Loaded\\n 0YT4CW1MA COSCO AMERICA\\nEAWU8000647-waiting on tracking update\\nEAWU8000689-waiting on tracking update\\nEAWU8000884-waiting on tracking update\\n*The availability or release of an empty container prior to the first receiving date does not entitle the Merchant to additional free time beyond what is filed in the applicable contract or tariff. Containers exceeding the applicable free time period will\\n be subject to detention and demurrage charges as filed on the date that the shipment is tendered to CMA CGM.*Documentation Cut is 8:00pm EST one day prior to Port Cut. *Exception: If voyage begins with 0AG and POL is Miami FL, Documentation Cut is 4:00pm EST same day as Port Cut*Please check our website for current vessel schedule and cut info prior to delivery of cargo (http://www.cmacgm.com/local/united-states/export-information-guide).\\n All dates and times noted in this booking confirmation and/or published by CMA CGM are estimates only and subject to change without prior notice.Thank you!\\n\\xa0\\n\\n\\nJessica Peters\\nExport Client Solutions Representative\\n\\xa0CMA CGM (America) LLCDirect line : 877 556 6308Vo IP :5701 Lake Wright Drive Norfolk, VA 23502www.cma-cgm.com\\n\\xa0\\n\\n\\xa0\\n--------------- Original Message ---------------From: CCA - Client Solutions [usa.clientsolutions@cma-cgm.com]Sent: 01/03/2022 15:15To: albert@easywayintl.comCc: op@easywayintl.comSubject: Re: SOC containers [ ref:_00D0Nk6PC._5005p2evRjH:ref ]\\xa0\\nHello,Thank you.\\xa0 I will get this resolved and let you know once complete or if anything else is needed.\\n\\xa0\\nPlease find DOCUMENTATION/PORT CUT OFF and EARLIEST RETURN DATE details available at http://www.cma-cgm.com/local/united-states/news/16/cma-cgm-general-dry-cargo-erd-port-vgm-and-documentation-cut-off-information. This information is updated daily by 10:30\\n AM East Coast Time.\\n\\xa0\\n\\n\\nJessica Peters\\nClient Solutions Team\\n\\xa0CMA CGM (America) LLCDirect line :Vo IP : 810825295701 Lake Wright Drive Norfolk, VA 23502www.cma-cgm.com\\n\\xa0\\n\\n\\xa0\\n--------------- Original Message ---------------From: Albert Wang [albert@easywayintl.com]Sent: 01/03/2022 10:28To: usa.clientsolutions@usa.cma-cgm.comCc: op@easywayintl.comSubject: Re: SOC containers [ ref:_00D0Nk6PC._5005p2evRjH:ref ]\\xa0\\n\\nHi Jessica,\\n\\n\\xa0\\n\\nThanks for the follow up, per your request:\\n\\n\\xa0\\n\\nNAM5022470 - LOADED (RAIL BILLING ATTACHED)EAWU8000930EAWU8000971EAWU8000945EAWU8000626EAWU8000631NAM5022471 - LOADED (RAIL BILLING ATTACHED)EAWU8000586EAWU8000966EAWU8000523EAWU8000539NAM4999452A - EMPTY REVENUE (RAIL BILLING ATTACHED *BEFORE SPLIT)EAWU8000734\\nNAM4999452B - EMPTY REVENUE (RAIL BILLING ATTACHED *BEFORE SPLIT)EAWU8000647EAWU8000689EAWU8000884\\n\\n\\nAll 3 bookings are SOC containers, trucker did not and would not have pulled at any point.\\n\\n\\xa0\\n\\nKindly acknowledge and await your further advisement thank you.\\n\\n\\n\\xa0\\n\\n\\n\\xa0\\n\\xa0\\n\\xa0\\n\\n\\nBest Regards,\\n\\n\\xa0\\n\\nAlbert Wang\\n\\nExport Manager\\n\\n\\xa0\\n\\n\\n\\nEasyway\\n International LLC\\xa0\\n\\n\\n108 S. Franklin Ave, Ste 12\\n\\nValley Stream, NY 11580\\n\\nDirect Line: (347) 352-3195\\n\\nTel: (718) 224-3792\\n\\nFax: (646) 349-3398\\n\\nalbert@easywayintl.com\\n\\nwww.easywayintl.com\\n\\n\\n\\n\\n\\n\\n\\n\\xa0\\n\\n\\xa0\\n\\nFrom: CCA - Client Solutions &lt;usa.clientsolutions@cma-cgm.com&gt;Sent: Tuesday, March 1, 2022 10:16 AMTo: Albert Wang &lt;albert@easywayintl.com&gt;Subject: SOC containers [ ref:_00D0Nk6PC._5005p2evRjH:ref ]\\n\\xa0\\n\\n\\nHello,Please be advised I am working to get status of containers attached to NAM5022470, NAM5022471 and NAM4999452A/B updated.\\xa0 Please confirm which containers listed below are empty and which have product inside.\\xa0 Also, please confirm how rail billing was submitted\\n and if your trucker pulled out containers at any point.NAM5022470EAWU8000930EAWU8000971EAWU8000945EAWU8000626EAWU8000631NAM5022471EAWU8000586EAWU8000966EAWU8000523EAWU8000539NAM4999452AEAWU8000734\\nNAM4999452BEAWU8000647EAWU8000689EAWU8000884\\xa0\\nPlease find DOCUMENTATION/PORT CUT OFF and EARLIEST RETURN DATE details available at http://www.cma-cgm.com/local/united-states/news/16/cma-cgm-general-dry-cargo-erd-port-vgm-and-documentation-cut-off-information. This information is updated daily by 10:30\\n AM East Coast Time.\\n\\xa0\\n\\n\\nJessica Peters\\nClient Solutions Team\\n\\xa0CMA CGM (America) LLCDirect line :Vo IP : 810825295701 Lake Wright Drive Norfolk, VA 23502www.cma-cgm.com\\n\\xa0\\n\\n\\xa0\\nref:_00D0Nk6PC._5005p2evRjH:ref\\n\\xa0\\xa0'"
      ]
     },
     "execution_count": 30,
     "metadata": {},
     "output_type": "execute_result"
    }
   ],
   "source": [
    "# Let's try to extract only the text\n",
    "import re\n",
    "re.sub(r'<[^>]+>', '', text)"
   ]
  },
  {
   "cell_type": "code",
   "execution_count": 14,
   "metadata": {},
   "outputs": [
    {
     "data": {
      "text/plain": [
       "'\\n\\n\\nThank you Jessica! Await your further on the two containers pending further update.\\n\\n\\n\\n\\n\\nBest Regards,\\n\\n\\n\\nAlbert Wang\\n\\nExport Manager\\n\\n\\n\\n\\n\\nEasyway International LLC\\xa0\\n\\n\\n108 S. Franklin Ave, Ste 12\\n\\nValley Stream, NY 11580\\n\\nDirect Line:\\xa0(347) 352-3195\\n\\nTel:\\xa0(718) 224-3792\\n\\nFax:\\xa0(646) 349-3398\\n\\nalbert@easywayintl.com\\n\\nwww.easywayintl.com\\n\\n\\n\\n\\n\\n\\n\\nFrom: CCA - Client Solutions <usa.clientsolutions@cma-cgm.com>Sent: Friday, March 11, 2022 7:11:46 PMTo: Albert Wang <albert@easywayintl.com>Cc: op@easywayintl.com <op@easywayintl.com>Subject: Re: SOC containers [ ref:_00D0Nk6PC._5005p2evRjH:ref ]\\n\\xa0\\n\\n\\nHello,Sorry for the delay,\\xa0 I have been working with everyone to get below containers updated.\\xa0 Today they were able to update all except 2 and they are working on those right now.\\xa0\\xa0\\nNAM5022470- Set for 0YT4QW1MA COSCO EUROPEEAWU8000930EAWU8000971EAWU8000945EAWU8000626EAWU8000631NAM5022471A-sailed on Cosco Asia 0YT4IW1MAEAWU8000586NAM5022471C- Set for 0YT4QW1MA COSCO EUROPEEAWU8000565-waiting on updateEAWU8000966EAWU8000523NAM5022471D- Sailed on 0YT4CW1MA COSCO AMERICAEAWU8000539-needs to be attached to bookingNAM4999452A-Sailed on Cosco Malaysia 0YT44W1MAEAWU8000734NAM4999452B-Sailed on COSCO AMERICA/0YT4CW1MAEAWU8000647EAWU8000689EAWU8000884\\n*The availability or release of an empty container prior to the first receiving date does not entitle the Merchant to additional free time beyond what is filed in the applicable contract or tariff. Containers exceeding the applicable free time period will\\n be subject to detention and demurrage charges as filed on the date that the shipment is tendered to CMA CGM.*Documentation Cut is 8:00pm EST one day prior to Port Cut. *Exception: If voyage begins with 0AG and POL is Miami FL, Documentation Cut is 4:00pm EST same day as Port Cut*Please check our website for current vessel schedule and cut info prior to delivery of cargo (http://www.cmacgm.com/local/united-states/export-information-guide).\\n All dates and times noted in this booking confirmation and/or published by CMA CGM are estimates only and subject to change without prior notice.Thank you!\\n\\xa0\\nJessica PetersExport Client Solutions Representative\\xa0CMA CGM (America) LLCDirect line : 877 556 6308Vo IP :5701 Lake Wright Drive Norfolk, VA 23502www.cma-cgm.com\\n\\xa0\\n\\n\\xa0\\n--------------- Original Message ---------------From: Albert Wang [albert@easywayintl.com]Sent: 04/03/2022 17:36To: usa.clientsolutions@usa.cma-cgm.comCc: op@easywayintl.comSubject: Re: SOC containers [ ref:_00D0Nk6PC._5005p2evRjH:ref ]\\nThank you Jessica, much appreciated for the follow up.\\n\\n\\xa0\\n\\nUnfortunately it looks like we are still waiting for the same updates as a few days ago.\\n\\n\\xa0\\n\\nHope your EQ team can provide updates at their soonest.\\n\\n\\n\\xa0\\n\\n\\n\\xa0\\n\\xa0\\n\\xa0\\n\\n\\nBest Regards,\\n\\n\\xa0\\n\\nAlbert Wang\\n\\nExport Manager\\n\\n\\xa0\\n\\n\\n\\nEasyway\\n International LLC\\xa0\\n\\n\\n108 S. Franklin Ave, Ste 12\\n\\nValley Stream, NY 11580\\n\\nDirect Line: (347) 352-3195\\n\\nTel: (718) 224-3792\\n\\nFax: (646) 349-3398\\n\\nalbert@easywayintl.com\\n\\nwww.easywayintl.com\\n\\n\\n\\n\\n\\n\\n\\n\\xa0\\n\\nFrom: CCA - Client Solutions <usa.clientsolutions@cma-cgm.com>Sent: Friday, March 4, 2022 4:11 PMTo: Albert Wang <albert@easywayintl.com>Cc: op@easywayintl.com <op@easywayintl.com>Subject: Re: SOC containers [ ref:_00D0Nk6PC._5005p2evRjH:ref ]\\n\\xa0\\n\\n\\nHello,I wanted to provide an update on below bookings.\\xa0 All containers are assigned vessels and our Cargo Readiness team is working to ensure the containers get loaded properly.\\xa0 We are still waiting for our equipment team to update the tracking for some containers.\\nNAM5022470-\\n Set for 0YT4QW1MA COSCO EUROPE\\nEAWU8000930\\nEAWU8000971-waiting on tracking update\\nEAWU8000945-waiting on tracking update\\nEAWU8000626-waiting on tracking update\\nEAWU8000631\\xa0NAM5022471A-Loaded\\n 0YT4IW1MA COSCO ASIA\\nEAWU8000586\\xa0NAM5022471B-\\n Set for 0YT4QW1MA COSCO EUROPE\\nEAWU8000966\\nEAWU8000523-waiting on tracking update\\nEAWU8000539-waiting on tracking updateNAM4999452A-Loaded\\n 0YT44W1MA COSCO MALAYSIA\\nEAWU8000734NAM4999452B-Loaded\\n 0YT4CW1MA COSCO AMERICA\\nEAWU8000647-waiting on tracking update\\nEAWU8000689-waiting on tracking update\\nEAWU8000884-waiting on tracking update\\n*The availability or release of an empty container prior to the first receiving date does not entitle the Merchant to additional free time beyond what is filed in the applicable contract or tariff. Containers exceeding the applicable free time period will\\n be subject to detention and demurrage charges as filed on the date that the shipment is tendered to CMA CGM.*Documentation Cut is 8:00pm EST one day prior to Port Cut. *Exception: If voyage begins with 0AG and POL is Miami FL, Documentation Cut is 4:00pm EST same day as Port Cut*Please check our website for current vessel schedule and cut info prior to delivery of cargo (http://www.cmacgm.com/local/united-states/export-information-guide).\\n All dates and times noted in this booking confirmation and/or published by CMA CGM are estimates only and subject to change without prior notice.Thank you!\\n\\xa0\\n\\n\\nJessica Peters\\nExport Client Solutions Representative\\n\\xa0CMA CGM (America) LLCDirect line : 877 556 6308Vo IP :5701 Lake Wright Drive Norfolk, VA 23502www.cma-cgm.com\\n\\xa0\\n\\n\\xa0\\n--------------- Original Message ---------------From: CCA - Client Solutions [usa.clientsolutions@cma-cgm.com]Sent: 01/03/2022 15:15To: albert@easywayintl.comCc: op@easywayintl.comSubject: Re: SOC containers [ ref:_00D0Nk6PC._5005p2evRjH:ref ]\\xa0\\nHello,Thank you.\\xa0 I will get this resolved and let you know once complete or if anything else is needed.\\n\\xa0\\nPlease find DOCUMENTATION/PORT CUT OFF and EARLIEST RETURN DATE details available at http://www.cma-cgm.com/local/united-states/news/16/cma-cgm-general-dry-cargo-erd-port-vgm-and-documentation-cut-off-information. This information is updated daily by 10:30\\n AM East Coast Time.\\n\\xa0\\n\\n\\nJessica Peters\\nClient Solutions Team\\n\\xa0CMA CGM (America) LLCDirect line :Vo IP : 810825295701 Lake Wright Drive Norfolk, VA 23502www.cma-cgm.com\\n\\xa0\\n\\n\\xa0\\n--------------- Original Message ---------------From: Albert Wang [albert@easywayintl.com]Sent: 01/03/2022 10:28To: usa.clientsolutions@usa.cma-cgm.comCc: op@easywayintl.comSubject: Re: SOC containers [ ref:_00D0Nk6PC._5005p2evRjH:ref ]\\xa0\\n\\nHi Jessica,\\n\\n\\xa0\\n\\nThanks for the follow up, per your request:\\n\\n\\xa0\\n\\nNAM5022470 - LOADED (RAIL BILLING ATTACHED)EAWU8000930EAWU8000971EAWU8000945EAWU8000626EAWU8000631NAM5022471 - LOADED (RAIL BILLING ATTACHED)EAWU8000586EAWU8000966EAWU8000523EAWU8000539NAM4999452A - EMPTY REVENUE (RAIL BILLING ATTACHED *BEFORE SPLIT)EAWU8000734\\nNAM4999452B - EMPTY REVENUE (RAIL BILLING ATTACHED *BEFORE SPLIT)EAWU8000647EAWU8000689EAWU8000884\\n\\n\\nAll 3 bookings are SOC containers, trucker did not and would not have pulled at any point.\\n\\n\\xa0\\n\\nKindly acknowledge and await your further advisement thank you.\\n\\n\\n\\xa0\\n\\n\\n\\xa0\\n\\xa0\\n\\xa0\\n\\n\\nBest Regards,\\n\\n\\xa0\\n\\nAlbert Wang\\n\\nExport Manager\\n\\n\\xa0\\n\\n\\n\\nEasyway\\n International LLC\\xa0\\n\\n\\n108 S. Franklin Ave, Ste 12\\n\\nValley Stream, NY 11580\\n\\nDirect Line: (347) 352-3195\\n\\nTel: (718) 224-3792\\n\\nFax: (646) 349-3398\\n\\nalbert@easywayintl.com\\n\\nwww.easywayintl.com\\n\\n\\n\\n\\n\\n\\n\\n\\xa0\\n\\n\\xa0\\n\\nFrom: CCA - Client Solutions <usa.clientsolutions@cma-cgm.com>Sent: Tuesday, March 1, 2022 10:16 AMTo: Albert Wang <albert@easywayintl.com>Subject: SOC containers [ ref:_00D0Nk6PC._5005p2evRjH:ref ]\\n\\xa0\\n\\n\\nHello,Please be advised I am working to get status of containers attached to NAM5022470, NAM5022471 and NAM4999452A/B updated.\\xa0 Please confirm which containers listed below are empty and which have product inside.\\xa0 Also, please confirm how rail billing was submitted\\n and if your trucker pulled out containers at any point.NAM5022470EAWU8000930EAWU8000971EAWU8000945EAWU8000626EAWU8000631NAM5022471EAWU8000586EAWU8000966EAWU8000523EAWU8000539NAM4999452AEAWU8000734\\nNAM4999452BEAWU8000647EAWU8000689EAWU8000884\\xa0\\nPlease find DOCUMENTATION/PORT CUT OFF and EARLIEST RETURN DATE details available at http://www.cma-cgm.com/local/united-states/news/16/cma-cgm-general-dry-cargo-erd-port-vgm-and-documentation-cut-off-information. This information is updated daily by 10:30\\n AM East Coast Time.\\n\\xa0\\n\\n\\nJessica Peters\\nClient Solutions Team\\n\\xa0CMA CGM (America) LLCDirect line :Vo IP : 810825295701 Lake Wright Drive Norfolk, VA 23502www.cma-cgm.com\\n\\xa0\\n\\n\\xa0\\nref:_00D0Nk6PC._5005p2evRjH:ref\\n\\xa0\\xa0'"
      ]
     },
     "execution_count": 14,
     "metadata": {},
     "output_type": "execute_result"
    }
   ],
   "source": [
    "from bs4 import BeautifulSoup\n",
    "\n",
    "soup = BeautifulSoup(text, \"html\")\n",
    "#print(soup.prettify()\n",
    "\n",
    "\n",
    "soup.get_text()\n"
   ]
  },
  {
   "cell_type": "code",
   "execution_count": 68,
   "metadata": {},
   "outputs": [
    {
     "name": "stdout",
     "output_type": "stream",
     "text": [
      "2022-03-11 07:11:46\n",
      "2022-04-03 17:36:00\n",
      "2022-04-03 17:36:00\n"
     ]
    },
    {
     "ename": "ParserError",
     "evalue": "Unknown string format: Sent: Friday, March 11, 2022 7:11:46 PMT cma-cgm.c",
     "output_type": "error",
     "traceback": [
      "\u001b[0;31m---------------------------------------------------------------------------\u001b[0m",
      "\u001b[0;31mParserError\u001b[0m                               Traceback (most recent call last)",
      "\u001b[1;32m/Users/victor/My Drive (victorr@mit.edu)/Documents importants/Academic/MIT/Fall/15_572_Analytics_lab/Project/AnalyticsLab_Project/src/victor_exploration.ipynb Cell 10\u001b[0m in \u001b[0;36m<cell line: 26>\u001b[0;34m()\u001b[0m\n\u001b[1;32m     <a href='vscode-notebook-cell:/Users/victor/My%20Drive%20%28victorr%40mit.edu%29/Documents%20importants/Academic/MIT/Fall/15_572_Analytics_lab/Project/AnalyticsLab_Project/src/victor_exploration.ipynb#X11sZmlsZQ%3D%3D?line=25'>26</a>\u001b[0m \u001b[39mfor\u001b[39;00m m \u001b[39min\u001b[39;00m re\u001b[39m.\u001b[39mfinditer(\u001b[39m'\u001b[39m\u001b[39mSent:\u001b[39m\u001b[39m'\u001b[39m, my_String):\n\u001b[1;32m     <a href='vscode-notebook-cell:/Users/victor/My%20Drive%20%28victorr%40mit.edu%29/Documents%20importants/Academic/MIT/Fall/15_572_Analytics_lab/Project/AnalyticsLab_Project/src/victor_exploration.ipynb#X11sZmlsZQ%3D%3D?line=26'>27</a>\u001b[0m     idx \u001b[39m=\u001b[39m m\u001b[39m.\u001b[39mstart()\n\u001b[0;32m---> <a href='vscode-notebook-cell:/Users/victor/My%20Drive%20%28victorr%40mit.edu%29/Documents%20importants/Academic/MIT/Fall/15_572_Analytics_lab/Project/AnalyticsLab_Project/src/victor_exploration.ipynb#X11sZmlsZQ%3D%3D?line=27'>28</a>\u001b[0m     dates\u001b[39m.\u001b[39mappend(dparser\u001b[39m.\u001b[39;49mparse(my_String[idx:idx\u001b[39m+\u001b[39;49m\u001b[39m50\u001b[39;49m], fuzzy\u001b[39m=\u001b[39;49m\u001b[39mTrue\u001b[39;49;00m))\n\u001b[1;32m     <a href='vscode-notebook-cell:/Users/victor/My%20Drive%20%28victorr%40mit.edu%29/Documents%20importants/Academic/MIT/Fall/15_572_Analytics_lab/Project/AnalyticsLab_Project/src/victor_exploration.ipynb#X11sZmlsZQ%3D%3D?line=29'>30</a>\u001b[0m dates\n",
      "File \u001b[0;32m/opt/homebrew/Caskroom/miniconda/base/envs/alab_env/lib/python3.10/site-packages/dateutil/parser/_parser.py:1368\u001b[0m, in \u001b[0;36mparse\u001b[0;34m(timestr, parserinfo, **kwargs)\u001b[0m\n\u001b[1;32m   1366\u001b[0m     \u001b[39mreturn\u001b[39;00m parser(parserinfo)\u001b[39m.\u001b[39mparse(timestr, \u001b[39m*\u001b[39m\u001b[39m*\u001b[39mkwargs)\n\u001b[1;32m   1367\u001b[0m \u001b[39melse\u001b[39;00m:\n\u001b[0;32m-> 1368\u001b[0m     \u001b[39mreturn\u001b[39;00m DEFAULTPARSER\u001b[39m.\u001b[39;49mparse(timestr, \u001b[39m*\u001b[39;49m\u001b[39m*\u001b[39;49mkwargs)\n",
      "File \u001b[0;32m/opt/homebrew/Caskroom/miniconda/base/envs/alab_env/lib/python3.10/site-packages/dateutil/parser/_parser.py:643\u001b[0m, in \u001b[0;36mparser.parse\u001b[0;34m(self, timestr, default, ignoretz, tzinfos, **kwargs)\u001b[0m\n\u001b[1;32m    640\u001b[0m res, skipped_tokens \u001b[39m=\u001b[39m \u001b[39mself\u001b[39m\u001b[39m.\u001b[39m_parse(timestr, \u001b[39m*\u001b[39m\u001b[39m*\u001b[39mkwargs)\n\u001b[1;32m    642\u001b[0m \u001b[39mif\u001b[39;00m res \u001b[39mis\u001b[39;00m \u001b[39mNone\u001b[39;00m:\n\u001b[0;32m--> 643\u001b[0m     \u001b[39mraise\u001b[39;00m ParserError(\u001b[39m\"\u001b[39m\u001b[39mUnknown string format: \u001b[39m\u001b[39m%s\u001b[39;00m\u001b[39m\"\u001b[39m, timestr)\n\u001b[1;32m    645\u001b[0m \u001b[39mif\u001b[39;00m \u001b[39mlen\u001b[39m(res) \u001b[39m==\u001b[39m \u001b[39m0\u001b[39m:\n\u001b[1;32m    646\u001b[0m     \u001b[39mraise\u001b[39;00m ParserError(\u001b[39m\"\u001b[39m\u001b[39mString does not contain a date: \u001b[39m\u001b[39m%s\u001b[39;00m\u001b[39m\"\u001b[39m, timestr)\n",
      "\u001b[0;31mParserError\u001b[0m: Unknown string format: Sent: Friday, March 11, 2022 7:11:46 PMT cma-cgm.c"
     ]
    }
   ],
   "source": [
    "import dateutil.parser as dparser\n",
    "\n",
    "# dparser.parse(soup.get_text(), fuzzy=True)\n",
    "\n",
    "my_String = \"cma-cgm.com>Sent: Friday, March 11, 2022 7:11:46 PMT \"\n",
    "out = dparser.parse(my_String, fuzzy=True)\n",
    "print(out)\n",
    "\n",
    "\n",
    "my_String = \"cma-cgm.com>Albert WangSent: 04/03/2022 17:36To: \"\n",
    "out = dparser.parse(my_String, fuzzy=True)\n",
    "print(out)\n",
    "\n",
    "\n",
    "my_String = \"gm.com>Sent: Friday, March 11, 2022 7:11:46 PMT cma-cgm.com>Albert Wangcma-cgm.com>Albert Wangcma-cgm.com>Albert Wangcma-cgm.com>Albert Wangcma-cgm.com>Albert Wangcma-cgm.com>Albert Wangcma-cgm.com>Albert Wangcma-cgm.com>Albert Wang cma-cgm.com>Albert WangSent: 04/03/2022 17:36To: \"\n",
    "# out = dparser.parse(my_String, fuzzy=True)\n",
    "print(out)\n",
    "\n",
    "\n",
    "\n",
    "## find the 100 caracters after the word \"Sent:\" in a string \n",
    "\n",
    "# find the index of the word \"Sent:\"\n",
    "\n",
    "dates = []\n",
    "for m in re.finditer('Sent:', my_String):\n",
    "    idx = m.start()\n",
    "    dates.append(dparser.parse(my_String[idx:idx+50], fuzzy=True))\n",
    "\n",
    "dates\n",
    "\n",
    "# my_String = \"cma-cgm.com>Sent: Friday, March 11, 2022 7:11:46 PMTo: Albert Wang <albert@easywayintl.c wayintl.com]Sent: 04/03/2022 17:36To: usa.clientsolutions@usa.cma-cgm.comCc: op@easywayintl.comSubject: Re: SOC containers Thank you Jessica, much appreciated for the fo\"\n",
    "# out = dparser.parse(my_String, fuzzy=True)\n",
    "# print(out)\n",
    "\n",
    "\n"
   ]
  },
  {
   "cell_type": "code",
   "execution_count": 77,
   "metadata": {},
   "outputs": [
    {
     "data": {
      "text/plain": [
       "datetime.datetime(2022, 3, 11, 19, 11, 46)"
      ]
     },
     "execution_count": 77,
     "metadata": {},
     "output_type": "execute_result"
    }
   ],
   "source": [
    "dparser.parse(\"Sent: Friday, March 11, 2022 7:11:46 PM\", fuzzy=True)\n",
    "\n",
    "\n",
    "# my_String = \"Sent: Friday, March 11, 2022 7:11:46 PMT cma-cgm.c\"\n",
    "# out = dparser.parse(my_String, fuzzy=True, dayfirst=True)\n",
    "# print(out)\n"
   ]
  },
  {
   "cell_type": "code",
   "execution_count": 60,
   "metadata": {},
   "outputs": [
    {
     "ename": "AttributeError",
     "evalue": "'str' object has no attribute 'find_all'",
     "output_type": "error",
     "traceback": [
      "\u001b[0;31m---------------------------------------------------------------------------\u001b[0m",
      "\u001b[0;31mAttributeError\u001b[0m                            Traceback (most recent call last)",
      "\u001b[1;32m/Users/victor/My Drive (victorr@mit.edu)/Documents importants/Academic/MIT/Fall/15_572_Analytics_lab/Project/AnalyticsLab_Project/src/victor_exploration.ipynb Cell 11\u001b[0m in \u001b[0;36m<cell line: 2>\u001b[0;34m()\u001b[0m\n\u001b[1;32m      <a href='vscode-notebook-cell:/Users/victor/My%20Drive%20%28victorr%40mit.edu%29/Documents%20importants/Academic/MIT/Fall/15_572_Analytics_lab/Project/AnalyticsLab_Project/src/victor_exploration.ipynb#X25sZmlsZQ%3D%3D?line=0'>1</a>\u001b[0m my_String \u001b[39m=\u001b[39m \u001b[39m\"\u001b[39m\u001b[39mcma-cgm.com>Sent: Friday, March 11, 2022 7:11:46 PMTo: Albert Wang <albert@easywayintl.c wayintl.com]Sent: 04/03/2022 17:36To: usa.clientsolutions@usa.cma-cgm.comCc: op@easywayintl.comSubject: Re: SOC containers Thank you Jessica, much appreciated for the fo\u001b[39m\u001b[39m\"\u001b[39m\n\u001b[0;32m----> <a href='vscode-notebook-cell:/Users/victor/My%20Drive%20%28victorr%40mit.edu%29/Documents%20importants/Academic/MIT/Fall/15_572_Analytics_lab/Project/AnalyticsLab_Project/src/victor_exploration.ipynb#X25sZmlsZQ%3D%3D?line=1'>2</a>\u001b[0m my_String\u001b[39m.\u001b[39;49mfind_all(\u001b[39m'\u001b[39m\u001b[39mSent:\u001b[39m\u001b[39m'\u001b[39m)\n",
      "\u001b[0;31mAttributeError\u001b[0m: 'str' object has no attribute 'find_all'"
     ]
    }
   ],
   "source": [
    "my_String = \"cma-cgm.com>Sent: Friday, March 11, 2022 7:11:46 PMTo: Albert Wang <albert@easywayintl.c wayintl.com]Sent: 04/03/2022 17:36To: usa.clientsolutions@usa.cma-cgm.comCc: op@easywayintl.comSubject: Re: SOC containers Thank you Jessica, much appreciated for the fo\"\n",
    "my_String.find_all('Sent:')"
   ]
  },
  {
   "cell_type": "code",
   "execution_count": 43,
   "metadata": {},
   "outputs": [],
   "source": [
    "myString = soup.get_text()\n",
    "\n",
    "m = re.search(r\"item : \", myString)\n",
    "m"
   ]
  },
  {
   "cell_type": "code",
   "execution_count": 51,
   "metadata": {},
   "outputs": [
    {
     "ename": "NameError",
     "evalue": "name 'deacondt' is not defined",
     "output_type": "error",
     "traceback": [
      "\u001b[0;31m---------------------------------------------------------------------------\u001b[0m",
      "\u001b[0;31mNameError\u001b[0m                                 Traceback (most recent call last)",
      "\u001b[1;32m/Users/victor/My Drive (victorr@mit.edu)/Documents importants/Academic/MIT/Fall/15_572_Analytics_lab/Project/AnalyticsLab_Project/src/victor_exploration.ipynb Cell 13\u001b[0m in \u001b[0;36m<cell line: 13>\u001b[0;34m()\u001b[0m\n\u001b[1;32m     <a href='vscode-notebook-cell:/Users/victor/My%20Drive%20%28victorr%40mit.edu%29/Documents%20importants/Academic/MIT/Fall/15_572_Analytics_lab/Project/AnalyticsLab_Project/src/victor_exploration.ipynb#X12sZmlsZQ%3D%3D?line=9'>10</a>\u001b[0m     \u001b[39mexcept\u001b[39;00m:\n\u001b[1;32m     <a href='vscode-notebook-cell:/Users/victor/My%20Drive%20%28victorr%40mit.edu%29/Documents%20importants/Academic/MIT/Fall/15_572_Analytics_lab/Project/AnalyticsLab_Project/src/victor_exploration.ipynb#X12sZmlsZQ%3D%3D?line=10'>11</a>\u001b[0m         deacondt1 \u001b[39m=\u001b[39m \u001b[39m'\u001b[39m\u001b[39mNA\u001b[39m\u001b[39m'\u001b[39m\n\u001b[0;32m---> <a href='vscode-notebook-cell:/Users/victor/My%20Drive%20%28victorr%40mit.edu%29/Documents%20importants/Academic/MIT/Fall/15_572_Analytics_lab/Project/AnalyticsLab_Project/src/victor_exploration.ipynb#X12sZmlsZQ%3D%3D?line=12'>13</a>\u001b[0m \u001b[39mprint\u001b[39m(deacondt \u001b[39m+\u001b[39m\u001b[39m\"\u001b[39m\u001b[39m\\n\u001b[39;00m\u001b[39m\"\u001b[39m\u001b[39m+\u001b[39m \u001b[39mstr\u001b[39m(deacondt1))\n",
      "\u001b[0;31mNameError\u001b[0m: name 'deacondt' is not defined"
     ]
    }
   ],
   "source": [
    "\n",
    "my_text  = \"cma-cgm.com>Sent: Friday, March 11, 2022 7:11:46 PMT \"\n",
    "\n",
    "\n",
    "regx= re.compile(r'(?s)date1\\d?((?:(?!by|date2|date3).)*)')\n",
    "raw_date= [re.sub(r'(?i)(?<=\\s)[a-z]?(\\d{4}|\\d{2})\\d*', r'\\1', re.sub(r'\\s+|,|(?<=\\d)[^\\d\\s\\/](?=\\d)',' ', re.sub(r'^\\s+|\\s+$|\\n+','', m))) for m in regx.findall(my_text)]\n",
    "\n",
    "for deacondt in raw_date: \n",
    "    try:\n",
    "        deacondt1 = dparser.parse(deacondt, dayfirst=False, fuzzy=True)\n",
    "    except:\n",
    "        deacondt1 = 'NA'\n",
    "\n",
    "print(deacondt +\"\\n\"+ str(deacondt1))"
   ]
  },
  {
   "cell_type": "code",
   "execution_count": 23,
   "metadata": {},
   "outputs": [
    {
     "ename": "error",
     "evalue": "bad escape \\d at position 7",
     "output_type": "error",
     "traceback": [
      "\u001b[0;31m---------------------------------------------------------------------------\u001b[0m",
      "\u001b[0;31merror\u001b[0m                                     Traceback (most recent call last)",
      "\u001b[1;32m/Users/victor/My Drive (victorr@mit.edu)/Documents importants/Academic/MIT/Fall/15_572_Analytics_lab/Project/AnalyticsLab_Project/src/victor_exploration.ipynb Cell 11\u001b[0m in \u001b[0;36m<cell line: 6>\u001b[0;34m()\u001b[0m\n\u001b[1;32m      <a href='vscode-notebook-cell:/Users/victor/My%20Drive%20%28victorr%40mit.edu%29/Documents%20importants/Academic/MIT/Fall/15_572_Analytics_lab/Project/AnalyticsLab_Project/src/victor_exploration.ipynb#X13sZmlsZQ%3D%3D?line=1'>2</a>\u001b[0m \u001b[39mimport\u001b[39;00m \u001b[39mdateparser\u001b[39;00m\n\u001b[1;32m      <a href='vscode-notebook-cell:/Users/victor/My%20Drive%20%28victorr%40mit.edu%29/Documents%20importants/Academic/MIT/Fall/15_572_Analytics_lab/Project/AnalyticsLab_Project/src/victor_exploration.ipynb#X13sZmlsZQ%3D%3D?line=3'>4</a>\u001b[0m myString \u001b[39m=\u001b[39m \u001b[39m\"\u001b[39m\u001b[39mcma-cgm.com>Sent: Friday, March 11, 2022 7:11:46 PMT \u001b[39m\u001b[39m\"\u001b[39m\n\u001b[0;32m----> <a href='vscode-notebook-cell:/Users/victor/My%20Drive%20%28victorr%40mit.edu%29/Documents%20importants/Academic/MIT/Fall/15_572_Analytics_lab/Project/AnalyticsLab_Project/src/victor_exploration.ipynb#X13sZmlsZQ%3D%3D?line=5'>6</a>\u001b[0m dateparser\u001b[39m.\u001b[39;49mparse(\u001b[39m'\u001b[39;49m\u001b[39m22 Décembre 2010\u001b[39;49m\u001b[39m'\u001b[39;49m, date_formats\u001b[39m=\u001b[39;49m[\u001b[39m'\u001b[39;49m\u001b[39m%d\u001b[39;49;00m\u001b[39m \u001b[39;49m\u001b[39m%\u001b[39;49m\u001b[39mB \u001b[39;49m\u001b[39m%\u001b[39;49m\u001b[39mY\u001b[39;49m\u001b[39m'\u001b[39;49m])\n",
      "File \u001b[0;32m/opt/homebrew/Caskroom/miniconda/base/envs/alab_env/lib/python3.10/site-packages/dateparser/conf.py:89\u001b[0m, in \u001b[0;36mapply_settings.<locals>.wrapper\u001b[0;34m(*args, **kwargs)\u001b[0m\n\u001b[1;32m     86\u001b[0m \u001b[39mif\u001b[39;00m \u001b[39mnot\u001b[39;00m \u001b[39misinstance\u001b[39m(kwargs[\u001b[39m'\u001b[39m\u001b[39msettings\u001b[39m\u001b[39m'\u001b[39m], Settings):\n\u001b[1;32m     87\u001b[0m     \u001b[39mraise\u001b[39;00m \u001b[39mTypeError\u001b[39;00m(\u001b[39m\"\u001b[39m\u001b[39msettings can only be either dict or instance of Settings class\u001b[39m\u001b[39m\"\u001b[39m)\n\u001b[0;32m---> 89\u001b[0m \u001b[39mreturn\u001b[39;00m f(\u001b[39m*\u001b[39;49margs, \u001b[39m*\u001b[39;49m\u001b[39m*\u001b[39;49mkwargs)\n",
      "File \u001b[0;32m/opt/homebrew/Caskroom/miniconda/base/envs/alab_env/lib/python3.10/site-packages/dateparser/__init__.py:54\u001b[0m, in \u001b[0;36mparse\u001b[0;34m(date_string, date_formats, languages, locales, region, settings)\u001b[0m\n\u001b[1;32m     50\u001b[0m \u001b[39mif\u001b[39;00m languages \u001b[39mor\u001b[39;00m locales \u001b[39mor\u001b[39;00m region \u001b[39mor\u001b[39;00m \u001b[39mnot\u001b[39;00m settings\u001b[39m.\u001b[39m_default:\n\u001b[1;32m     51\u001b[0m     parser \u001b[39m=\u001b[39m DateDataParser(languages\u001b[39m=\u001b[39mlanguages, locales\u001b[39m=\u001b[39mlocales,\n\u001b[1;32m     52\u001b[0m                             region\u001b[39m=\u001b[39mregion, settings\u001b[39m=\u001b[39msettings)\n\u001b[0;32m---> 54\u001b[0m data \u001b[39m=\u001b[39m parser\u001b[39m.\u001b[39;49mget_date_data(date_string, date_formats)\n\u001b[1;32m     56\u001b[0m \u001b[39mif\u001b[39;00m data:\n\u001b[1;32m     57\u001b[0m     \u001b[39mreturn\u001b[39;00m data[\u001b[39m'\u001b[39m\u001b[39mdate_obj\u001b[39m\u001b[39m'\u001b[39m]\n",
      "File \u001b[0;32m/opt/homebrew/Caskroom/miniconda/base/envs/alab_env/lib/python3.10/site-packages/dateparser/date.py:421\u001b[0m, in \u001b[0;36mDateDataParser.get_date_data\u001b[0;34m(self, date_string, date_formats)\u001b[0m\n\u001b[1;32m    418\u001b[0m date_string \u001b[39m=\u001b[39m sanitize_date(date_string)\n\u001b[1;32m    420\u001b[0m \u001b[39mfor\u001b[39;00m locale \u001b[39min\u001b[39;00m \u001b[39mself\u001b[39m\u001b[39m.\u001b[39m_get_applicable_locales(date_string):\n\u001b[0;32m--> 421\u001b[0m     parsed_date \u001b[39m=\u001b[39m _DateLocaleParser\u001b[39m.\u001b[39;49mparse(\n\u001b[1;32m    422\u001b[0m         locale, date_string, date_formats, settings\u001b[39m=\u001b[39;49m\u001b[39mself\u001b[39;49m\u001b[39m.\u001b[39;49m_settings)\n\u001b[1;32m    423\u001b[0m     \u001b[39mif\u001b[39;00m parsed_date:\n\u001b[1;32m    424\u001b[0m         parsed_date[\u001b[39m'\u001b[39m\u001b[39mlocale\u001b[39m\u001b[39m'\u001b[39m] \u001b[39m=\u001b[39m locale\u001b[39m.\u001b[39mshortname\n",
      "File \u001b[0;32m/opt/homebrew/Caskroom/miniconda/base/envs/alab_env/lib/python3.10/site-packages/dateparser/date.py:178\u001b[0m, in \u001b[0;36m_DateLocaleParser.parse\u001b[0;34m(cls, locale, date_string, date_formats, settings)\u001b[0m\n\u001b[1;32m    175\u001b[0m \u001b[39m@classmethod\u001b[39m\n\u001b[1;32m    176\u001b[0m \u001b[39mdef\u001b[39;00m \u001b[39mparse\u001b[39m(\u001b[39mcls\u001b[39m, locale, date_string, date_formats\u001b[39m=\u001b[39m\u001b[39mNone\u001b[39;00m, settings\u001b[39m=\u001b[39m\u001b[39mNone\u001b[39;00m):\n\u001b[1;32m    177\u001b[0m     instance \u001b[39m=\u001b[39m \u001b[39mcls\u001b[39m(locale, date_string, date_formats, settings)\n\u001b[0;32m--> 178\u001b[0m     \u001b[39mreturn\u001b[39;00m instance\u001b[39m.\u001b[39;49m_parse()\n",
      "File \u001b[0;32m/opt/homebrew/Caskroom/miniconda/base/envs/alab_env/lib/python3.10/site-packages/dateparser/date.py:182\u001b[0m, in \u001b[0;36m_DateLocaleParser._parse\u001b[0;34m(self)\u001b[0m\n\u001b[1;32m    180\u001b[0m \u001b[39mdef\u001b[39;00m \u001b[39m_parse\u001b[39m(\u001b[39mself\u001b[39m):\n\u001b[1;32m    181\u001b[0m     \u001b[39mfor\u001b[39;00m parser_name \u001b[39min\u001b[39;00m \u001b[39mself\u001b[39m\u001b[39m.\u001b[39m_settings\u001b[39m.\u001b[39mPARSERS:\n\u001b[0;32m--> 182\u001b[0m         date_data \u001b[39m=\u001b[39m \u001b[39mself\u001b[39;49m\u001b[39m.\u001b[39;49m_parsers[parser_name]()\n\u001b[1;32m    183\u001b[0m         \u001b[39mif\u001b[39;00m \u001b[39mself\u001b[39m\u001b[39m.\u001b[39m_is_valid_date_data(date_data):\n\u001b[1;32m    184\u001b[0m             \u001b[39mreturn\u001b[39;00m date_data\n",
      "File \u001b[0;32m/opt/homebrew/Caskroom/miniconda/base/envs/alab_env/lib/python3.10/site-packages/dateparser/date.py:196\u001b[0m, in \u001b[0;36m_DateLocaleParser._try_freshness_parser\u001b[0;34m(self)\u001b[0m\n\u001b[1;32m    194\u001b[0m \u001b[39mdef\u001b[39;00m \u001b[39m_try_freshness_parser\u001b[39m(\u001b[39mself\u001b[39m):\n\u001b[1;32m    195\u001b[0m     \u001b[39mtry\u001b[39;00m:\n\u001b[0;32m--> 196\u001b[0m         \u001b[39mreturn\u001b[39;00m freshness_date_parser\u001b[39m.\u001b[39mget_date_data(\u001b[39mself\u001b[39;49m\u001b[39m.\u001b[39;49m_get_translated_date(), \u001b[39mself\u001b[39m\u001b[39m.\u001b[39m_settings)\n\u001b[1;32m    197\u001b[0m     \u001b[39mexcept\u001b[39;00m (\u001b[39mOverflowError\u001b[39;00m, \u001b[39mValueError\u001b[39;00m):\n\u001b[1;32m    198\u001b[0m         \u001b[39mreturn\u001b[39;00m \u001b[39mNone\u001b[39;00m\n",
      "File \u001b[0;32m/opt/homebrew/Caskroom/miniconda/base/envs/alab_env/lib/python3.10/site-packages/dateparser/date.py:234\u001b[0m, in \u001b[0;36m_DateLocaleParser._get_translated_date\u001b[0;34m(self)\u001b[0m\n\u001b[1;32m    232\u001b[0m \u001b[39mdef\u001b[39;00m \u001b[39m_get_translated_date\u001b[39m(\u001b[39mself\u001b[39m):\n\u001b[1;32m    233\u001b[0m     \u001b[39mif\u001b[39;00m \u001b[39mself\u001b[39m\u001b[39m.\u001b[39m_translated_date \u001b[39mis\u001b[39;00m \u001b[39mNone\u001b[39;00m:\n\u001b[0;32m--> 234\u001b[0m         \u001b[39mself\u001b[39m\u001b[39m.\u001b[39m_translated_date \u001b[39m=\u001b[39m \u001b[39mself\u001b[39;49m\u001b[39m.\u001b[39;49mlocale\u001b[39m.\u001b[39;49mtranslate(\n\u001b[1;32m    235\u001b[0m             \u001b[39mself\u001b[39;49m\u001b[39m.\u001b[39;49mdate_string, keep_formatting\u001b[39m=\u001b[39;49m\u001b[39mFalse\u001b[39;49;00m, settings\u001b[39m=\u001b[39;49m\u001b[39mself\u001b[39;49m\u001b[39m.\u001b[39;49m_settings)\n\u001b[1;32m    236\u001b[0m     \u001b[39mreturn\u001b[39;00m \u001b[39mself\u001b[39m\u001b[39m.\u001b[39m_translated_date\n",
      "File \u001b[0;32m/opt/homebrew/Caskroom/miniconda/base/envs/alab_env/lib/python3.10/site-packages/dateparser/languages/locale.py:131\u001b[0m, in \u001b[0;36mLocale.translate\u001b[0;34m(self, date_string, keep_formatting, settings)\u001b[0m\n\u001b[1;32m    128\u001b[0m dictionary \u001b[39m=\u001b[39m \u001b[39mself\u001b[39m\u001b[39m.\u001b[39m_get_dictionary(settings)\n\u001b[1;32m    129\u001b[0m date_string_tokens \u001b[39m=\u001b[39m dictionary\u001b[39m.\u001b[39msplit(date_string, keep_formatting)\n\u001b[0;32m--> 131\u001b[0m relative_translations \u001b[39m=\u001b[39m \u001b[39mself\u001b[39;49m\u001b[39m.\u001b[39;49m_get_relative_translations(settings\u001b[39m=\u001b[39;49msettings)\n\u001b[1;32m    133\u001b[0m \u001b[39mfor\u001b[39;00m i, word \u001b[39min\u001b[39;00m \u001b[39menumerate\u001b[39m(date_string_tokens):\n\u001b[1;32m    134\u001b[0m     word \u001b[39m=\u001b[39m word\u001b[39m.\u001b[39mlower()\n",
      "File \u001b[0;32m/opt/homebrew/Caskroom/miniconda/base/envs/alab_env/lib/python3.10/site-packages/dateparser/languages/locale.py:158\u001b[0m, in \u001b[0;36mLocale._get_relative_translations\u001b[0;34m(self, settings)\u001b[0m\n\u001b[1;32m    155\u001b[0m \u001b[39mif\u001b[39;00m settings\u001b[39m.\u001b[39mNORMALIZE:\n\u001b[1;32m    156\u001b[0m     \u001b[39mif\u001b[39;00m \u001b[39mself\u001b[39m\u001b[39m.\u001b[39m_normalized_relative_translations \u001b[39mis\u001b[39;00m \u001b[39mNone\u001b[39;00m:\n\u001b[1;32m    157\u001b[0m         \u001b[39mself\u001b[39m\u001b[39m.\u001b[39m_normalized_relative_translations \u001b[39m=\u001b[39m (\n\u001b[0;32m--> 158\u001b[0m             \u001b[39mself\u001b[39;49m\u001b[39m.\u001b[39;49m_generate_relative_translations(normalize\u001b[39m=\u001b[39;49m\u001b[39mTrue\u001b[39;49;00m))\n\u001b[1;32m    159\u001b[0m     \u001b[39mreturn\u001b[39;00m \u001b[39mself\u001b[39m\u001b[39m.\u001b[39m_normalized_relative_translations\n\u001b[1;32m    160\u001b[0m \u001b[39melse\u001b[39;00m:\n",
      "File \u001b[0;32m/opt/homebrew/Caskroom/miniconda/base/envs/alab_env/lib/python3.10/site-packages/dateparser/languages/locale.py:172\u001b[0m, in \u001b[0;36mLocale._generate_relative_translations\u001b[0;34m(self, normalize)\u001b[0m\n\u001b[1;32m    170\u001b[0m     value \u001b[39m=\u001b[39m \u001b[39mlist\u001b[39m(\u001b[39mmap\u001b[39m(normalize_unicode, value))\n\u001b[1;32m    171\u001b[0m pattern \u001b[39m=\u001b[39m \u001b[39m'\u001b[39m\u001b[39m|\u001b[39m\u001b[39m'\u001b[39m\u001b[39m.\u001b[39mjoin(\u001b[39msorted\u001b[39m(value, key\u001b[39m=\u001b[39m\u001b[39mlen\u001b[39m, reverse\u001b[39m=\u001b[39m\u001b[39mTrue\u001b[39;00m))\n\u001b[0;32m--> 172\u001b[0m pattern \u001b[39m=\u001b[39m DIGIT_GROUP_PATTERN\u001b[39m.\u001b[39;49msub(\u001b[39mr\u001b[39;49m\u001b[39m'\u001b[39;49m\u001b[39m?P<n>\u001b[39;49m\u001b[39m\\\u001b[39;49m\u001b[39md+\u001b[39;49m\u001b[39m'\u001b[39;49m, pattern)\n\u001b[1;32m    173\u001b[0m pattern \u001b[39m=\u001b[39m re\u001b[39m.\u001b[39mcompile(\u001b[39mr\u001b[39m\u001b[39m'\u001b[39m\u001b[39m^(?:\u001b[39m\u001b[39m{}\u001b[39;00m\u001b[39m)$\u001b[39m\u001b[39m'\u001b[39m\u001b[39m.\u001b[39mformat(pattern), re\u001b[39m.\u001b[39mUNICODE \u001b[39m|\u001b[39m re\u001b[39m.\u001b[39mIGNORECASE)\n\u001b[1;32m    174\u001b[0m relative_dictionary[pattern] \u001b[39m=\u001b[39m key\n",
      "File \u001b[0;32m/opt/homebrew/Caskroom/miniconda/base/envs/alab_env/lib/python3.10/site-packages/regex/regex.py:702\u001b[0m, in \u001b[0;36m_compile_replacement_helper\u001b[0;34m(pattern, template)\u001b[0m\n\u001b[1;32m    697\u001b[0m     \u001b[39mbreak\u001b[39;00m\n\u001b[1;32m    698\u001b[0m \u001b[39mif\u001b[39;00m ch \u001b[39m==\u001b[39m \u001b[39m\"\u001b[39m\u001b[39m\\\\\u001b[39;00m\u001b[39m\"\u001b[39m:\n\u001b[1;32m    699\u001b[0m     \u001b[39m# '_compile_replacement' will return either an int group reference\u001b[39;00m\n\u001b[1;32m    700\u001b[0m     \u001b[39m# or a string literal. It returns items (plural) in order to handle\u001b[39;00m\n\u001b[1;32m    701\u001b[0m     \u001b[39m# a 2-character literal (an invalid escape sequence).\u001b[39;00m\n\u001b[0;32m--> 702\u001b[0m     is_group, items \u001b[39m=\u001b[39m _compile_replacement(source, pattern, is_unicode)\n\u001b[1;32m    703\u001b[0m     \u001b[39mif\u001b[39;00m is_group:\n\u001b[1;32m    704\u001b[0m         \u001b[39m# It's a group, so first flush the literal.\u001b[39;00m\n\u001b[1;32m    705\u001b[0m         \u001b[39mif\u001b[39;00m literal:\n",
      "File \u001b[0;32m/opt/homebrew/Caskroom/miniconda/base/envs/alab_env/lib/python3.10/site-packages/regex/_regex_core.py:1737\u001b[0m, in \u001b[0;36m_compile_replacement\u001b[0;34m(source, pattern, is_unicode)\u001b[0m\n\u001b[1;32m   1734\u001b[0m         \u001b[39mif\u001b[39;00m value \u001b[39mis\u001b[39;00m \u001b[39mnot\u001b[39;00m \u001b[39mNone\u001b[39;00m:\n\u001b[1;32m   1735\u001b[0m             \u001b[39mreturn\u001b[39;00m \u001b[39mFalse\u001b[39;00m, [value]\n\u001b[0;32m-> 1737\u001b[0m     \u001b[39mraise\u001b[39;00m error(\u001b[39m\"\u001b[39m\u001b[39mbad escape \u001b[39m\u001b[39m\\\\\u001b[39;00m\u001b[39m%s\u001b[39;00m\u001b[39m\"\u001b[39m \u001b[39m%\u001b[39m ch, source\u001b[39m.\u001b[39mstring, source\u001b[39m.\u001b[39mpos)\n\u001b[1;32m   1739\u001b[0m \u001b[39mif\u001b[39;00m \u001b[39misinstance\u001b[39m(source\u001b[39m.\u001b[39msep, \u001b[39mbytes\u001b[39m):\n\u001b[1;32m   1740\u001b[0m     octal_mask \u001b[39m=\u001b[39m \u001b[39m0xFF\u001b[39m\n",
      "\u001b[0;31merror\u001b[0m: bad escape \\d at position 7"
     ]
    }
   ],
   "source": [
    "\n",
    "from dateparser.search import search_dates\n",
    "import dateparser\n",
    "\n",
    "myString = \"cma-cgm.com>Sent: Friday, March 11, 2022 7:11:46 PMT \"\n",
    "\n",
    "dateparser.parse('22 Décembre 2010', date_formats=['%d %B %Y'])"
   ]
  },
  {
   "cell_type": "code",
   "execution_count": null,
   "metadata": {},
   "outputs": [],
   "source": []
  },
  {
   "cell_type": "code",
   "execution_count": null,
   "metadata": {},
   "outputs": [],
   "source": []
  },
  {
   "cell_type": "code",
   "execution_count": null,
   "metadata": {},
   "outputs": [],
   "source": []
  },
  {
   "cell_type": "code",
   "execution_count": 42,
   "metadata": {},
   "outputs": [
    {
     "name": "stdout",
     "output_type": "stream",
     "text": [
      "href: https://urldefense.com/v3/__http://www.easywayintl.com/__;!!CHTgRmCF!HqWZdQRL_hylFZMvdVNFqdGkybgaw-QlM0PSyTo0xZhfNvTJBEzf8aMYKK4q-MZasCSy5KVLSf15jkCiiR7ks4R8OoBb$\n",
      "href: https://urldefense.com/v3/__http://www.cmacgm.com/local/united-states/export-information-guide__;!!CHTgRmCF!HqWZdQRL_hylFZMvdVNFqdGkybgaw-QlM0PSyTo0xZhfNvTJBEzf8aMYKK4q-MZasCSy5KVLSf15jkCiiR7ks5SjcrhH$\n",
      "href: http://www.cma-cgm.com/\n",
      "href: https://www.better-ways.cmacgm-group.com/en.html\n",
      "href: https://urldefense.com/v3/__http://www.easywayintl.com/__;!!CHTgRmCF!FvowTiTSlii7U9SmVcZbxDNNktRcKZ7pX3J_YaTuDY2W7ijagTrMVb_SCkNOrhOfimQJ7uyfb5bNvdgx5zXrYhmEQV5Y$\n",
      "href: https://urldefense.com/v3/__http://www.cmacgm.com/local/united-states/export-information-guide__;!!CHTgRmCF!FvowTiTSlii7U9SmVcZbxDNNktRcKZ7pX3J_YaTuDY2W7ijagTrMVb_SCkNOrhOfimQJ7uyfb5bNvdgx5zXrYkVRBI81$\n",
      "href: http://www.cma-cgm.com/\n",
      "href: https://www.better-ways.cmacgm-group.com/en.html\n",
      "href: http://www.cma-cgm.com/\n",
      "href: https://www.better-ways.cmacgm-group.com/en.html\n",
      "href: https://urldefense.com/v3/__http://www.easywayintl.com/__;!!CHTgRmCF!EKAgAq2TyrczZ2uraXOTtbsQFjemL768l-Jn_TGhWP9z0HDIfJG597QWWQ6tUhmjkDzYQT1Kyi0zGjnUYjBXO_1JOXxU$\n",
      "href: http://www.cma-cgm.com/\n",
      "href: https://www.better-ways.cmacgm-group.com/en.html\n"
     ]
    }
   ],
   "source": [
    "# get all the links\n",
    "for link in soup.find_all(\"a\"):\n",
    "    print(\"href: {}\".format(link.get(\"href\")))"
   ]
  },
  {
   "cell_type": "code",
   "execution_count": 75,
   "metadata": {},
   "outputs": [
    {
     "ename": "AttributeError",
     "evalue": "'NoneType' object has no attribute 'attrs'",
     "output_type": "error",
     "traceback": [
      "\u001b[0;31m---------------------------------------------------------------------------\u001b[0m",
      "\u001b[0;31mAttributeError\u001b[0m                            Traceback (most recent call last)",
      "\u001b[1;32m/Users/victor/My Drive (victorr@mit.edu)/Documents importants/Academic/MIT/Fall/15_572_Analytics_lab/Project/AnalyticsLab_Project/src/victor_exploration.ipynb Cell 11\u001b[0m in \u001b[0;36m<cell line: 1>\u001b[0;34m()\u001b[0m\n\u001b[0;32m----> <a href='vscode-notebook-cell:/Users/victor/My%20Drive%20%28victorr%40mit.edu%29/Documents%20importants/Academic/MIT/Fall/15_572_Analytics_lab/Project/AnalyticsLab_Project/src/victor_exploration.ipynb#X15sZmlsZQ%3D%3D?line=0'>1</a>\u001b[0m BeautifulSoup(text)\u001b[39m.\u001b[39;49mtime\u001b[39m.\u001b[39;49mattrs[\u001b[39m'\u001b[39m\u001b[39mdatetime\u001b[39m\u001b[39m'\u001b[39m]\n",
      "\u001b[0;31mAttributeError\u001b[0m: 'NoneType' object has no attribute 'attrs'"
     ]
    }
   ],
   "source": [
    "BeautifulSoup(text).time.attrs['datetime']\n"
   ]
  },
  {
   "cell_type": "code",
   "execution_count": 21,
   "metadata": {},
   "outputs": [
    {
     "ename": "TypeError",
     "evalue": "find() takes no keyword arguments",
     "output_type": "error",
     "traceback": [
      "\u001b[0;31m---------------------------------------------------------------------------\u001b[0m",
      "\u001b[0;31mTypeError\u001b[0m                                 Traceback (most recent call last)",
      "\u001b[1;32m/Users/victor/My Drive (victorr@mit.edu)/Documents importants/Academic/MIT/Fall/15_572_Analytics_lab/Project/AnalyticsLab_Project/src/victor_exploration.ipynb Cell 9\u001b[0m in \u001b[0;36m<cell line: 3>\u001b[0;34m()\u001b[0m\n\u001b[1;32m      <a href='vscode-notebook-cell:/Users/victor/My%20Drive%20%28victorr%40mit.edu%29/Documents%20importants/Academic/MIT/Fall/15_572_Analytics_lab/Project/AnalyticsLab_Project/src/victor_exploration.ipynb#X11sZmlsZQ%3D%3D?line=0'>1</a>\u001b[0m quotes\u001b[39m=\u001b[39m[]  \u001b[39m# a list to store quotes\u001b[39;00m\n\u001b[0;32m----> <a href='vscode-notebook-cell:/Users/victor/My%20Drive%20%28victorr%40mit.edu%29/Documents%20importants/Academic/MIT/Fall/15_572_Analytics_lab/Project/AnalyticsLab_Project/src/victor_exploration.ipynb#X11sZmlsZQ%3D%3D?line=2'>3</a>\u001b[0m table \u001b[39m=\u001b[39m text\u001b[39m.\u001b[39;49mfind(\u001b[39m'\u001b[39;49m\u001b[39mdiv\u001b[39;49m\u001b[39m'\u001b[39;49m, attrs \u001b[39m=\u001b[39;49m {\u001b[39m'\u001b[39;49m\u001b[39mid\u001b[39;49m\u001b[39m'\u001b[39;49m:\u001b[39m'\u001b[39;49m\u001b[39mall_quotes\u001b[39;49m\u001b[39m'\u001b[39;49m}) \n\u001b[1;32m      <a href='vscode-notebook-cell:/Users/victor/My%20Drive%20%28victorr%40mit.edu%29/Documents%20importants/Academic/MIT/Fall/15_572_Analytics_lab/Project/AnalyticsLab_Project/src/victor_exploration.ipynb#X11sZmlsZQ%3D%3D?line=5'>6</a>\u001b[0m \u001b[39mfor\u001b[39;00m row \u001b[39min\u001b[39;00m table\u001b[39m.\u001b[39mfindAll(\u001b[39m'\u001b[39m\u001b[39mdiv\u001b[39m\u001b[39m'\u001b[39m,\n\u001b[1;32m      <a href='vscode-notebook-cell:/Users/victor/My%20Drive%20%28victorr%40mit.edu%29/Documents%20importants/Academic/MIT/Fall/15_572_Analytics_lab/Project/AnalyticsLab_Project/src/victor_exploration.ipynb#X11sZmlsZQ%3D%3D?line=6'>7</a>\u001b[0m                          attrs \u001b[39m=\u001b[39m {\u001b[39m'\u001b[39m\u001b[39mclass\u001b[39m\u001b[39m'\u001b[39m:\u001b[39m'\u001b[39m\u001b[39mcol-6 col-lg-3 text-center margin-30px-bottom sm-margin-30px-top\u001b[39m\u001b[39m'\u001b[39m}):\n\u001b[1;32m      <a href='vscode-notebook-cell:/Users/victor/My%20Drive%20%28victorr%40mit.edu%29/Documents%20importants/Academic/MIT/Fall/15_572_Analytics_lab/Project/AnalyticsLab_Project/src/victor_exploration.ipynb#X11sZmlsZQ%3D%3D?line=7'>8</a>\u001b[0m     quote \u001b[39m=\u001b[39m {}\n",
      "\u001b[0;31mTypeError\u001b[0m: find() takes no keyword arguments"
     ]
    }
   ],
   "source": [
    "quotes=[]  # a list to store quotes\n",
    "\n",
    "table = text.find('div', attrs = {'id':'all_quotes'}) \n",
    "\n",
    "\n",
    "for row in table.findAll('div',\n",
    "                         attrs = {'class':'col-6 col-lg-3 text-center margin-30px-bottom sm-margin-30px-top'}):\n",
    "    quote = {}\n",
    "    quote['theme'] = row.h5.text\n",
    "    quote['url'] = row.a['href']\n",
    "    quote['img'] = row.img['src']\n",
    "    quote['lines'] = row.img['alt'].split(\" #\")[0]\n",
    "    quote['author'] = row.img['alt'].split(\" #\")[1]\n",
    "    quotes.append(quote)"
   ]
  },
  {
   "cell_type": "code",
   "execution_count": null,
   "metadata": {},
   "outputs": [],
   "source": []
  }
 ],
 "metadata": {
  "kernelspec": {
   "display_name": "Python 3.10.4 ('alab_env')",
   "language": "python",
   "name": "python3"
  },
  "language_info": {
   "codemirror_mode": {
    "name": "ipython",
    "version": 3
   },
   "file_extension": ".py",
   "mimetype": "text/x-python",
   "name": "python",
   "nbconvert_exporter": "python",
   "pygments_lexer": "ipython3",
   "version": "3.10.4"
  },
  "orig_nbformat": 4,
  "vscode": {
   "interpreter": {
    "hash": "bfe6f45ecf374f0b90968f2209cadc71235e6ef8554841b35fd27a05b14fd144"
   }
  }
 },
 "nbformat": 4,
 "nbformat_minor": 2
}
