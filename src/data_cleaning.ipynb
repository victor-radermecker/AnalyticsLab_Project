{
 "cells": [
  {
   "cell_type": "code",
   "execution_count": 1,
   "metadata": {},
   "outputs": [],
   "source": [
    "import pandas as pd\n",
    "from bs4 import BeautifulSoup\n",
    "from tqdm import tqdm"
   ]
  },
  {
   "cell_type": "code",
   "execution_count": 2,
   "metadata": {},
   "outputs": [
    {
     "ename": "KeyboardInterrupt",
     "evalue": "",
     "output_type": "error",
     "traceback": [
      "\u001b[0;31m---------------------------------------------------------------------------\u001b[0m",
      "\u001b[0;31mKeyboardInterrupt\u001b[0m                         Traceback (most recent call last)",
      "\u001b[1;32m/Users/victor/My Drive (victorr@mit.edu)/Documents importants/Academic/MIT/Fall/15_572_Analytics_lab/Project/AnalyticsLab_Project/src/data_cleaning.ipynb Cell 2\u001b[0m in \u001b[0;36m<cell line: 5>\u001b[0;34m()\u001b[0m\n\u001b[1;32m      <a href='vscode-notebook-cell:/Users/victor/My%20Drive%20%28victorr%40mit.edu%29/Documents%20importants/Academic/MIT/Fall/15_572_Analytics_lab/Project/AnalyticsLab_Project/src/data_cleaning.ipynb#W1sZmlsZQ%3D%3D?line=1'>2</a>\u001b[0m data_path \u001b[39m=\u001b[39m \u001b[39m\"\u001b[39m\u001b[39m/Users/victor/Documents/Confidential Dataset/ML_NOAC_NOVA_Extraction.csv\u001b[39m\u001b[39m\"\u001b[39m\n\u001b[1;32m      <a href='vscode-notebook-cell:/Users/victor/My%20Drive%20%28victorr%40mit.edu%29/Documents%20importants/Academic/MIT/Fall/15_572_Analytics_lab/Project/AnalyticsLab_Project/src/data_cleaning.ipynb#W1sZmlsZQ%3D%3D?line=3'>4</a>\u001b[0m \u001b[39m# Read data\u001b[39;00m\n\u001b[0;32m----> <a href='vscode-notebook-cell:/Users/victor/My%20Drive%20%28victorr%40mit.edu%29/Documents%20importants/Academic/MIT/Fall/15_572_Analytics_lab/Project/AnalyticsLab_Project/src/data_cleaning.ipynb#W1sZmlsZQ%3D%3D?line=4'>5</a>\u001b[0m df2 \u001b[39m=\u001b[39m pd\u001b[39m.\u001b[39;49mread_csv(data_path)\n",
      "File \u001b[0;32m/opt/homebrew/Caskroom/miniconda/base/envs/alab_env/lib/python3.10/site-packages/pandas/util/_decorators.py:311\u001b[0m, in \u001b[0;36mdeprecate_nonkeyword_arguments.<locals>.decorate.<locals>.wrapper\u001b[0;34m(*args, **kwargs)\u001b[0m\n\u001b[1;32m    305\u001b[0m \u001b[39mif\u001b[39;00m \u001b[39mlen\u001b[39m(args) \u001b[39m>\u001b[39m num_allow_args:\n\u001b[1;32m    306\u001b[0m     warnings\u001b[39m.\u001b[39mwarn(\n\u001b[1;32m    307\u001b[0m         msg\u001b[39m.\u001b[39mformat(arguments\u001b[39m=\u001b[39marguments),\n\u001b[1;32m    308\u001b[0m         \u001b[39mFutureWarning\u001b[39;00m,\n\u001b[1;32m    309\u001b[0m         stacklevel\u001b[39m=\u001b[39mstacklevel,\n\u001b[1;32m    310\u001b[0m     )\n\u001b[0;32m--> 311\u001b[0m \u001b[39mreturn\u001b[39;00m func(\u001b[39m*\u001b[39;49margs, \u001b[39m*\u001b[39;49m\u001b[39m*\u001b[39;49mkwargs)\n",
      "File \u001b[0;32m/opt/homebrew/Caskroom/miniconda/base/envs/alab_env/lib/python3.10/site-packages/pandas/io/parsers/readers.py:678\u001b[0m, in \u001b[0;36mread_csv\u001b[0;34m(filepath_or_buffer, sep, delimiter, header, names, index_col, usecols, squeeze, prefix, mangle_dupe_cols, dtype, engine, converters, true_values, false_values, skipinitialspace, skiprows, skipfooter, nrows, na_values, keep_default_na, na_filter, verbose, skip_blank_lines, parse_dates, infer_datetime_format, keep_date_col, date_parser, dayfirst, cache_dates, iterator, chunksize, compression, thousands, decimal, lineterminator, quotechar, quoting, doublequote, escapechar, comment, encoding, encoding_errors, dialect, error_bad_lines, warn_bad_lines, on_bad_lines, delim_whitespace, low_memory, memory_map, float_precision, storage_options)\u001b[0m\n\u001b[1;32m    663\u001b[0m kwds_defaults \u001b[39m=\u001b[39m _refine_defaults_read(\n\u001b[1;32m    664\u001b[0m     dialect,\n\u001b[1;32m    665\u001b[0m     delimiter,\n\u001b[0;32m   (...)\u001b[0m\n\u001b[1;32m    674\u001b[0m     defaults\u001b[39m=\u001b[39m{\u001b[39m\"\u001b[39m\u001b[39mdelimiter\u001b[39m\u001b[39m\"\u001b[39m: \u001b[39m\"\u001b[39m\u001b[39m,\u001b[39m\u001b[39m\"\u001b[39m},\n\u001b[1;32m    675\u001b[0m )\n\u001b[1;32m    676\u001b[0m kwds\u001b[39m.\u001b[39mupdate(kwds_defaults)\n\u001b[0;32m--> 678\u001b[0m \u001b[39mreturn\u001b[39;00m _read(filepath_or_buffer, kwds)\n",
      "File \u001b[0;32m/opt/homebrew/Caskroom/miniconda/base/envs/alab_env/lib/python3.10/site-packages/pandas/io/parsers/readers.py:581\u001b[0m, in \u001b[0;36m_read\u001b[0;34m(filepath_or_buffer, kwds)\u001b[0m\n\u001b[1;32m    578\u001b[0m     \u001b[39mreturn\u001b[39;00m parser\n\u001b[1;32m    580\u001b[0m \u001b[39mwith\u001b[39;00m parser:\n\u001b[0;32m--> 581\u001b[0m     \u001b[39mreturn\u001b[39;00m parser\u001b[39m.\u001b[39;49mread(nrows)\n",
      "File \u001b[0;32m/opt/homebrew/Caskroom/miniconda/base/envs/alab_env/lib/python3.10/site-packages/pandas/io/parsers/readers.py:1253\u001b[0m, in \u001b[0;36mTextFileReader.read\u001b[0;34m(self, nrows)\u001b[0m\n\u001b[1;32m   1251\u001b[0m nrows \u001b[39m=\u001b[39m validate_integer(\u001b[39m\"\u001b[39m\u001b[39mnrows\u001b[39m\u001b[39m\"\u001b[39m, nrows)\n\u001b[1;32m   1252\u001b[0m \u001b[39mtry\u001b[39;00m:\n\u001b[0;32m-> 1253\u001b[0m     index, columns, col_dict \u001b[39m=\u001b[39m \u001b[39mself\u001b[39;49m\u001b[39m.\u001b[39;49m_engine\u001b[39m.\u001b[39;49mread(nrows)\n\u001b[1;32m   1254\u001b[0m \u001b[39mexcept\u001b[39;00m \u001b[39mException\u001b[39;00m:\n\u001b[1;32m   1255\u001b[0m     \u001b[39mself\u001b[39m\u001b[39m.\u001b[39mclose()\n",
      "File \u001b[0;32m/opt/homebrew/Caskroom/miniconda/base/envs/alab_env/lib/python3.10/site-packages/pandas/io/parsers/c_parser_wrapper.py:225\u001b[0m, in \u001b[0;36mCParserWrapper.read\u001b[0;34m(self, nrows)\u001b[0m\n\u001b[1;32m    223\u001b[0m \u001b[39mtry\u001b[39;00m:\n\u001b[1;32m    224\u001b[0m     \u001b[39mif\u001b[39;00m \u001b[39mself\u001b[39m\u001b[39m.\u001b[39mlow_memory:\n\u001b[0;32m--> 225\u001b[0m         chunks \u001b[39m=\u001b[39m \u001b[39mself\u001b[39;49m\u001b[39m.\u001b[39;49m_reader\u001b[39m.\u001b[39;49mread_low_memory(nrows)\n\u001b[1;32m    226\u001b[0m         \u001b[39m# destructive to chunks\u001b[39;00m\n\u001b[1;32m    227\u001b[0m         data \u001b[39m=\u001b[39m _concatenate_chunks(chunks)\n",
      "File \u001b[0;32m/opt/homebrew/Caskroom/miniconda/base/envs/alab_env/lib/python3.10/site-packages/pandas/_libs/parsers.pyx:805\u001b[0m, in \u001b[0;36mpandas._libs.parsers.TextReader.read_low_memory\u001b[0;34m()\u001b[0m\n",
      "File \u001b[0;32m/opt/homebrew/Caskroom/miniconda/base/envs/alab_env/lib/python3.10/site-packages/pandas/_libs/parsers.pyx:883\u001b[0m, in \u001b[0;36mpandas._libs.parsers.TextReader._read_rows\u001b[0;34m()\u001b[0m\n",
      "File \u001b[0;32m/opt/homebrew/Caskroom/miniconda/base/envs/alab_env/lib/python3.10/site-packages/pandas/_libs/parsers.pyx:1038\u001b[0m, in \u001b[0;36mpandas._libs.parsers.TextReader._convert_column_data\u001b[0;34m()\u001b[0m\n",
      "File \u001b[0;32m/opt/homebrew/Caskroom/miniconda/base/envs/alab_env/lib/python3.10/site-packages/pandas/core/dtypes/common.py:1429\u001b[0m, in \u001b[0;36mis_extension_array_dtype\u001b[0;34m(arr_or_dtype)\u001b[0m\n\u001b[1;32m   1420\u001b[0m     \u001b[39m# Note: if other EA dtypes are ever held in HybridBlock, exclude those\u001b[39;00m\n\u001b[1;32m   1421\u001b[0m     \u001b[39m#  here too.\u001b[39;00m\n\u001b[1;32m   1422\u001b[0m     \u001b[39m# NB: need to check DatetimeTZDtype and not is_datetime64tz_dtype\u001b[39;00m\n\u001b[1;32m   1423\u001b[0m     \u001b[39m#  to exclude ArrowTimestampUSDtype\u001b[39;00m\n\u001b[1;32m   1424\u001b[0m     \u001b[39mreturn\u001b[39;00m \u001b[39misinstance\u001b[39m(dtype, ExtensionDtype) \u001b[39mand\u001b[39;00m \u001b[39mnot\u001b[39;00m \u001b[39misinstance\u001b[39m(\n\u001b[1;32m   1425\u001b[0m         dtype, (DatetimeTZDtype, PeriodDtype)\n\u001b[1;32m   1426\u001b[0m     )\n\u001b[0;32m-> 1429\u001b[0m \u001b[39mdef\u001b[39;00m \u001b[39mis_extension_array_dtype\u001b[39m(arr_or_dtype) \u001b[39m-\u001b[39m\u001b[39m>\u001b[39m \u001b[39mbool\u001b[39m:\n\u001b[1;32m   1430\u001b[0m     \u001b[39m\"\"\"\u001b[39;00m\n\u001b[1;32m   1431\u001b[0m \u001b[39m    Check if an object is a pandas extension array type.\u001b[39;00m\n\u001b[1;32m   1432\u001b[0m \n\u001b[0;32m   (...)\u001b[0m\n\u001b[1;32m   1472\u001b[0m \u001b[39m    False\u001b[39;00m\n\u001b[1;32m   1473\u001b[0m \u001b[39m    \"\"\"\u001b[39;00m\n\u001b[1;32m   1474\u001b[0m     dtype \u001b[39m=\u001b[39m \u001b[39mgetattr\u001b[39m(arr_or_dtype, \u001b[39m\"\u001b[39m\u001b[39mdtype\u001b[39m\u001b[39m\"\u001b[39m, arr_or_dtype)\n",
      "\u001b[0;31mKeyboardInterrupt\u001b[0m: "
     ]
    }
   ],
   "source": [
    "# Store data locally for confidentiality reasons!\n",
    "data_path = \"/Users/victor/Documents/Confidential Dataset/ML_NOAC_NOVA_Extraction.csv\"\n",
    "\n",
    "# Read data\n",
    "df2 = pd.read_csv(data_path)"
   ]
  },
  {
   "cell_type": "code",
   "execution_count": null,
   "metadata": {},
   "outputs": [],
   "source": [
    "df = df2.copy()"
   ]
  },
  {
   "cell_type": "code",
   "execution_count": null,
   "metadata": {},
   "outputs": [],
   "source": [
    "# Drop columns with no email content\n",
    "df = df.dropna(subset=['LastIncomingEmail__c'])\n",
    "\n",
    "# Drop this column as it contains always the same string \"Case\" or \"Contact\"\n",
    "df = df.drop(['attributes.type', 'Contact.attributes.type'], axis=1)\n",
    "\n",
    "# drop the columns with only null values\n",
    "df = df.drop(['Contact'], axis=1)"
   ]
  },
  {
   "cell_type": "code",
   "execution_count": null,
   "metadata": {},
   "outputs": [],
   "source": [
    "#create a new column for the email content initalized to empty string\n",
    "df['LastIncomingEmailContent'] = ''"
   ]
  },
  {
   "cell_type": "code",
   "execution_count": null,
   "metadata": {},
   "outputs": [],
   "source": [
    "# convert to TYPE column to 1 if NOAC and to 0 otherwise\n",
    "df['Type'] = df['Type'].apply(lambda x: 1 if x == 'NOAC' else 0)"
   ]
  },
  {
   "cell_type": "code",
   "execution_count": null,
   "metadata": {},
   "outputs": [],
   "source": [
    "#assign the number of times ; appears in each string of LastEmailCCAddress__c in the new column cc_count\n",
    "df['LastEmailCCAddressCount'] = df['LastEmailCCAddress__c'].str.count(';') + 1\n",
    "\n",
    "#fill NaN of LastEmailCCAddress__count by 0\n",
    "df['LastEmailCCAddressCount'] = df['LastEmailCCAddressCount'].fillna(0)\n",
    "df['LastEmailCCAddressCount'] = df['LastEmailCCAddressCount'].astype(int)"
   ]
  },
  {
   "cell_type": "code",
   "execution_count": null,
   "metadata": {},
   "outputs": [],
   "source": [
    "# check when SuppliedEmail has the same values as ContactEmail\n",
    "test = df.apply(lambda row : 1 if row['SuppliedEmail'] == row['Contact.Email'] else 0, axis=1)"
   ]
  },
  {
   "cell_type": "code",
   "execution_count": null,
   "metadata": {},
   "outputs": [],
   "source": [
    "# Remove the CaseNumber from the EmailTemplateSubjectDispute__c\n",
    "df['EmailTemplateSubjectDispute__c'] = df.apply(lambda row : row['EmailTemplateSubjectDispute__c'].replace(\"Case #\" + str(row['CaseNumber']), ''), axis=1)"
   ]
  },
  {
   "cell_type": "code",
   "execution_count": null,
   "metadata": {},
   "outputs": [],
   "source": [
    "# convert Contact.attributes.url to string\n",
    "df['Contact.attributes.url'] = df['Contact.attributes.url'].astype(str)\n",
    "\n",
    "# remove /services/data/v42.0/sobjects/Contact/ from the strings in Contact.attributes.url\n",
    "df['Contact.attributes.url'] = df['Contact.attributes.url'].apply(lambda x: x.replace('/services/data/v42.0/sobjects/Contact/', ''))"
   ]
  },
  {
   "cell_type": "code",
   "execution_count": null,
   "metadata": {},
   "outputs": [],
   "source": [
    "# convert Contact.attributes.url to string\n",
    "df['attributes.url'] = df['attributes.url'].astype(str)\n",
    "\n",
    "# remove /services/data/v42.0/sobjects/Contact/ from the strings in Contact.attributes.url\n",
    "df['attributes.url'] = df['attributes.url'].apply(lambda x: x.replace('/services/data/v42.0/sobjects/Case/', ''))"
   ]
  },
  {
   "cell_type": "code",
   "execution_count": null,
   "metadata": {},
   "outputs": [],
   "source": [
    "# For the vast majority of the rows (85%), the columns SuppliedEmail and Contact.Email have the same value.\n",
    "# When the values are different, one of them has NaN and the other has the email address.\n",
    "# Therefore, we can fill the NaN of Contact.Email with the value of SuppliedEmail\n",
    "df['Contact.Email'] = df['Contact.Email'].fillna(df['SuppliedEmail'])\n",
    "\n",
    "# Then we can drop the column SuppliedEmail\n",
    "df = df.drop(['SuppliedEmail'], axis=1)"
   ]
  },
  {
   "cell_type": "code",
   "execution_count": null,
   "metadata": {},
   "outputs": [],
   "source": [
    "# fill NaN of LastEmailCCAddress__c by empty string\n",
    "df['LastEmailCCAddress__c'] = df['LastEmailCCAddress__c'].fillna('')"
   ]
  },
  {
   "cell_type": "code",
   "execution_count": null,
   "metadata": {},
   "outputs": [],
   "source": [
    "# Rename Topics__c in Topics\n",
    "df = df.rename(columns={'Topics__c': 'Topics'})\n",
    "\n",
    "# Rename LastIncomingEmail__c in LastIncomingEmail\n",
    "df = df.rename(columns={'LastIncomingEmail__c': 'LastIncomingEmail'})\n",
    "\n",
    "# Rename TeamName__c in TeamName\n",
    "df = df.rename(columns={'TeamName__c': 'TeamName'})\n",
    "\n",
    "# Rename RequesterEmail__c in RequesterEmail\n",
    "df = df.rename(columns={'RequesterEmail__c': 'RequesterEmail'})\n",
    "\n",
    "# Rename EmailTemplateSubjectDispute__c by EmailObject\n",
    "df = df.rename(columns={'EmailTemplateSubjectDispute__c': 'EmailObject'})\n",
    "\n",
    "# Rename LastEmailCCAddress__c by LastEmailCCAddress\n",
    "df = df.rename(columns={'LastEmailCCAddress__c': 'LastEmailCCAddress'})\n",
    "\n",
    "#Rename attributes.url by AttributesURL\n",
    "df = df.rename(columns={'attributes.url': 'AttributesURL'})\n",
    "\n",
    "#Rename Contact.attributes.url by ContactAttributesURL\n",
    "df = df.rename(columns={'Contact.attributes.url': 'ContactAttributesURL'})\n",
    "\n",
    "# Rename Contact.Email by ContactEmail\n",
    "df = df.rename(columns={'Contact.Email': 'ContactEmail'})"
   ]
  },
  {
   "cell_type": "code",
   "execution_count": null,
   "metadata": {},
   "outputs": [
    {
     "name": "stderr",
     "output_type": "stream",
     "text": [
      "  0%|          | 1182/251234 [00:04<13:16, 313.81it/s]/opt/homebrew/Caskroom/miniconda/base/envs/alab_env/lib/python3.10/site-packages/bs4/__init__.py:435: MarkupResemblesLocatorWarning: The input looks more like a filename than markup. You may want to open this file and pass the filehandle into Beautiful Soup.\n",
      "  warnings.warn(\n",
      "100%|██████████| 251234/251234 [17:45<00:00, 235.83it/s]\n"
     ]
    }
   ],
   "source": [
    "# Cleaning of the LastIncomingEmail column using BeautifulSoup\n",
    "for index, row in tqdm(df.iterrows(), total=df.shape[0]):\n",
    "    df.at[index, \"LastIncomingEmailContent\"] = BeautifulSoup(row[\"LastIncomingEmail\"], \"html\").text"
   ]
  },
  {
   "cell_type": "code",
   "execution_count": null,
   "metadata": {},
   "outputs": [],
   "source": [
    "# drop the column LastIncomingEmail\n",
    "df = df.drop(['LastIncomingEmail'], axis=1)"
   ]
  },
  {
   "cell_type": "code",
   "execution_count": null,
   "metadata": {},
   "outputs": [
    {
     "data": {
      "text/html": [
       "<div>\n",
       "<style scoped>\n",
       "    .dataframe tbody tr th:only-of-type {\n",
       "        vertical-align: middle;\n",
       "    }\n",
       "\n",
       "    .dataframe tbody tr th {\n",
       "        vertical-align: top;\n",
       "    }\n",
       "\n",
       "    .dataframe thead th {\n",
       "        text-align: right;\n",
       "    }\n",
       "</style>\n",
       "<table border=\"1\" class=\"dataframe\">\n",
       "  <thead>\n",
       "    <tr style=\"text-align: right;\">\n",
       "      <th></th>\n",
       "      <th>CaseNumber</th>\n",
       "      <th>Type</th>\n",
       "      <th>Topics</th>\n",
       "      <th>TeamName</th>\n",
       "      <th>RequesterEmail</th>\n",
       "      <th>EmailObject</th>\n",
       "      <th>LastEmailCCAddress</th>\n",
       "      <th>AttributesURL</th>\n",
       "      <th>ContactAttributesURL</th>\n",
       "      <th>ContactEmail</th>\n",
       "      <th>LastIncomingEmailContent</th>\n",
       "      <th>LastEmailCCAddressCount</th>\n",
       "    </tr>\n",
       "  </thead>\n",
       "  <tbody>\n",
       "    <tr>\n",
       "      <th>0</th>\n",
       "      <td>100124562</td>\n",
       "      <td>0</td>\n",
       "      <td>T039</td>\n",
       "      <td>US-NOR-CMA-BKG-PREFERRED</td>\n",
       "      <td>NaN</td>\n",
       "      <td>NAM4999926A</td>\n",
       "      <td>op@easywayintl.com</td>\n",
       "      <td>5005p00002evRjHAAU</td>\n",
       "      <td>0035p00003aZAdZAAW</td>\n",
       "      <td>usa.wcportops@cma-cgm.com</td>\n",
       "      <td>\\n\\n\\nThank you Jessica! Await your further on...</td>\n",
       "      <td>1</td>\n",
       "    </tr>\n",
       "    <tr>\n",
       "      <th>3</th>\n",
       "      <td>100080371</td>\n",
       "      <td>0</td>\n",
       "      <td>T036</td>\n",
       "      <td>US-BNA-CMA-CS-IMP-DIVERSIONS</td>\n",
       "      <td>NaN</td>\n",
       "      <td>MOGELIJKE COD'S F119086 // RTM</td>\n",
       "      <td>janneke.van.leeuwen@fclmarine.nl; executivedes...</td>\n",
       "      <td>5005p00002evWsuAAE</td>\n",
       "      <td>0030N00003N771RQAR</td>\n",
       "      <td>janneke.van.leeuwen@fclmarine.nl</td>\n",
       "      <td>\\nHi Nese,\\n \\nInmiddels de aangepaste bl’s al...</td>\n",
       "      <td>5</td>\n",
       "    </tr>\n",
       "    <tr>\n",
       "      <th>4</th>\n",
       "      <td>100095395</td>\n",
       "      <td>0</td>\n",
       "      <td>T035</td>\n",
       "      <td>US-NOR-CMA-BKG-PREFERRED</td>\n",
       "      <td>tina@generallogistics.net</td>\n",
       "      <td>AMEND NAM5088900    [ ref:_00D</td>\n",
       "      <td>bookings@generallogistics.net</td>\n",
       "      <td>5005p00002evX4SAAU</td>\n",
       "      <td>0030N00002x1JqPQAU</td>\n",
       "      <td>tina@generallogistics.net</td>\n",
       "      <td>\\nHello,\\nPlease SPLIT subject line booking to...</td>\n",
       "      <td>1</td>\n",
       "    </tr>\n",
       "    <tr>\n",
       "      <th>5</th>\n",
       "      <td>100097054</td>\n",
       "      <td>0</td>\n",
       "      <td>T847</td>\n",
       "      <td>US-NOR-CMA-BKG-SPECIALTY</td>\n",
       "      <td>bookings@delongcompany.com</td>\n",
       "      <td>FW: CMA CGM - Cut-off date cha</td>\n",
       "      <td>usa.cmaexportactive@usa.cma-cgm.com</td>\n",
       "      <td>5005p00002evXIsAAM</td>\n",
       "      <td>0030N00002tXvvIQAS</td>\n",
       "      <td>bookings@delongcompany.com</td>\n",
       "      <td>CMA CGM - Cut-off date change at - NEW YORK, N...</td>\n",
       "      <td>1</td>\n",
       "    </tr>\n",
       "    <tr>\n",
       "      <th>6</th>\n",
       "      <td>100097055</td>\n",
       "      <td>0</td>\n",
       "      <td>T847</td>\n",
       "      <td>US-NOR-CMA-BKG-SPECIALTY</td>\n",
       "      <td>bookings@delongcompany.com</td>\n",
       "      <td>FW: CMA CGM - Cut-off date cha</td>\n",
       "      <td></td>\n",
       "      <td>5005p00002evXItAAM</td>\n",
       "      <td>0030N00002tXvvIQAS</td>\n",
       "      <td>bookings@delongcompany.com</td>\n",
       "      <td>CMA CGM - Cut-off date change at - NEW YORK, N...</td>\n",
       "      <td>0</td>\n",
       "    </tr>\n",
       "  </tbody>\n",
       "</table>\n",
       "</div>"
      ],
      "text/plain": [
       "   CaseNumber  Type Topics                      TeamName  \\\n",
       "0   100124562     0   T039      US-NOR-CMA-BKG-PREFERRED   \n",
       "3   100080371     0   T036  US-BNA-CMA-CS-IMP-DIVERSIONS   \n",
       "4   100095395     0   T035      US-NOR-CMA-BKG-PREFERRED   \n",
       "5   100097054     0   T847      US-NOR-CMA-BKG-SPECIALTY   \n",
       "6   100097055     0   T847      US-NOR-CMA-BKG-SPECIALTY   \n",
       "\n",
       "               RequesterEmail                      EmailObject  \\\n",
       "0                         NaN                     NAM4999926A    \n",
       "3                         NaN  MOGELIJKE COD'S F119086 // RTM    \n",
       "4   tina@generallogistics.net  AMEND NAM5088900    [ ref:_00D    \n",
       "5  bookings@delongcompany.com  FW: CMA CGM - Cut-off date cha    \n",
       "6  bookings@delongcompany.com  FW: CMA CGM - Cut-off date cha    \n",
       "\n",
       "                                  LastEmailCCAddress       AttributesURL  \\\n",
       "0                                 op@easywayintl.com  5005p00002evRjHAAU   \n",
       "3  janneke.van.leeuwen@fclmarine.nl; executivedes...  5005p00002evWsuAAE   \n",
       "4                      bookings@generallogistics.net  5005p00002evX4SAAU   \n",
       "5                usa.cmaexportactive@usa.cma-cgm.com  5005p00002evXIsAAM   \n",
       "6                                                     5005p00002evXItAAM   \n",
       "\n",
       "  ContactAttributesURL                      ContactEmail  \\\n",
       "0   0035p00003aZAdZAAW         usa.wcportops@cma-cgm.com   \n",
       "3   0030N00003N771RQAR  janneke.van.leeuwen@fclmarine.nl   \n",
       "4   0030N00002x1JqPQAU         tina@generallogistics.net   \n",
       "5   0030N00002tXvvIQAS        bookings@delongcompany.com   \n",
       "6   0030N00002tXvvIQAS        bookings@delongcompany.com   \n",
       "\n",
       "                            LastIncomingEmailContent  LastEmailCCAddressCount  \n",
       "0  \\n\\n\\nThank you Jessica! Await your further on...                        1  \n",
       "3  \\nHi Nese,\\n \\nInmiddels de aangepaste bl’s al...                        5  \n",
       "4  \\nHello,\\nPlease SPLIT subject line booking to...                        1  \n",
       "5  CMA CGM - Cut-off date change at - NEW YORK, N...                        1  \n",
       "6  CMA CGM - Cut-off date change at - NEW YORK, N...                        0  "
      ]
     },
     "execution_count": 234,
     "metadata": {},
     "output_type": "execute_result"
    }
   ],
   "source": [
    "df.head()"
   ]
  },
  {
   "cell_type": "code",
   "execution_count": null,
   "metadata": {},
   "outputs": [],
   "source": [
    "# save the cleaned data \n",
    "df.to_csv('/Users/victor/Documents/Confidential Dataset/ML_NOAC_NOVA_Extraction_Cleaned.csv', index=False)"
   ]
  },
  {
   "cell_type": "markdown",
   "metadata": {},
   "source": [
    "## Ideas for feature creation:\n",
    "\n",
    "##### EmailTemplateSubjectDispute__c\n",
    "1. Specific keywords: \"RE\" or \"BookingConfirmation\"\n",
    "\n",
    "#### SuppliedEmail\n",
    "1. Extract the name of the company and group the SuppliedEmail depending on the company?\n",
    "\n",
    "\n",
    "1. Number of words in the email\n",
    "2. Number of sentences in the email\n"
   ]
  }
 ],
 "metadata": {
  "kernelspec": {
   "display_name": "Python 3.10.4 ('alab_env')",
   "language": "python",
   "name": "python3"
  },
  "language_info": {
   "codemirror_mode": {
    "name": "ipython",
    "version": 3
   },
   "file_extension": ".py",
   "mimetype": "text/x-python",
   "name": "python",
   "nbconvert_exporter": "python",
   "pygments_lexer": "ipython3",
   "version": "3.10.4"
  },
  "orig_nbformat": 4,
  "vscode": {
   "interpreter": {
    "hash": "bfe6f45ecf374f0b90968f2209cadc71235e6ef8554841b35fd27a05b14fd144"
   }
  }
 },
 "nbformat": 4,
 "nbformat_minor": 2
}
