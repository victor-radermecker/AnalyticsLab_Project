{
 "cells": [
  {
   "cell_type": "code",
   "execution_count": 3,
   "metadata": {},
   "outputs": [],
   "source": [
    "import pandas as pd\n",
    "from bs4 import BeautifulSoup\n",
    "from tqdm import tqdm\n",
    "import matplotlib.pyplot as plt"
   ]
  },
  {
   "cell_type": "code",
   "execution_count": 2,
   "metadata": {},
   "outputs": [],
   "source": [
    "# Store data locally for confidentiality reasons!\n",
    "data_path = \"/Users/victor/Documents/Confidential Dataset/ML_NOAC_NOVA_Extraction.csv\"\n",
    "\n",
    "# Read data\n",
    "df2 = pd.read_csv(data_path)"
   ]
  },
  {
   "cell_type": "code",
   "execution_count": 16,
   "metadata": {},
   "outputs": [],
   "source": [
    "df = df2.copy()"
   ]
  },
  {
   "cell_type": "code",
   "execution_count": 29,
   "metadata": {},
   "outputs": [],
   "source": [
    "# Drop columns with no email content\n",
    "df = df.dropna(subset=['LastIncomingEmail__c'])\n",
    "\n",
    "# Drop this column as it contains always the same string \"Case\" or \"Contact\"\n",
    "df = df.drop(['attributes.type', 'Contact.attributes.type'], axis=1)\n",
    "\n",
    "# drop the columns with only null values\n",
    "df = df.drop(['Contact'], axis=1)"
   ]
  },
  {
   "cell_type": "code",
   "execution_count": 30,
   "metadata": {},
   "outputs": [],
   "source": [
    "#create a new column for the email content initalized to empty string\n",
    "df['LastIncomingEmailContent'] = ''"
   ]
  },
  {
   "cell_type": "code",
   "execution_count": 31,
   "metadata": {},
   "outputs": [],
   "source": [
    "# convert to TYPE column to 1 if NOAC and to 0 otherwise\n",
    "df['Type'] = df['Type'].apply(lambda x: 1 if x == 'NOAC' else 0)"
   ]
  },
  {
   "cell_type": "code",
   "execution_count": 32,
   "metadata": {},
   "outputs": [],
   "source": [
    "#assign the number of times ; appears in each string of LastEmailCCAddress__c in the new column cc_count\n",
    "df['LastEmailCCAddressCount'] = df['LastEmailCCAddress__c'].str.count(';') + 1\n",
    "\n",
    "#fill NaN of LastEmailCCAddress__count by 0\n",
    "df['LastEmailCCAddressCount'] = df['LastEmailCCAddressCount'].fillna(0)\n",
    "df['LastEmailCCAddressCount'] = df['LastEmailCCAddressCount'].astype(int)"
   ]
  },
  {
   "cell_type": "code",
   "execution_count": 33,
   "metadata": {},
   "outputs": [],
   "source": [
    "# check when SuppliedEmail has the same values as ContactEmail\n",
    "test = df.apply(lambda row : 1 if row['SuppliedEmail'] == row['Contact.Email'] else 0, axis=1)"
   ]
  },
  {
   "cell_type": "code",
   "execution_count": 34,
   "metadata": {},
   "outputs": [],
   "source": [
    "# Remove the CaseNumber from the EmailTemplateSubjectDispute__c\n",
    "df['EmailTemplateSubjectDispute__c'] = df.apply(lambda row : row['EmailTemplateSubjectDispute__c'].replace(\"Case #\" + str(row['CaseNumber']), ''), axis=1)"
   ]
  },
  {
   "cell_type": "code",
   "execution_count": 35,
   "metadata": {},
   "outputs": [],
   "source": [
    "# convert Contact.attributes.url to string\n",
    "df['Contact.attributes.url'] = df['Contact.attributes.url'].astype(str)\n",
    "\n",
    "# remove /services/data/v42.0/sobjects/Contact/ from the strings in Contact.attributes.url\n",
    "df['Contact.attributes.url'] = df['Contact.attributes.url'].apply(lambda x: x.replace('/services/data/v42.0/sobjects/Contact/', ''))"
   ]
  },
  {
   "cell_type": "code",
   "execution_count": 36,
   "metadata": {},
   "outputs": [],
   "source": [
    "# convert Contact.attributes.url to string\n",
    "df['attributes.url'] = df['attributes.url'].astype(str)\n",
    "\n",
    "# remove /services/data/v42.0/sobjects/Contact/ from the strings in Contact.attributes.url\n",
    "df['attributes.url'] = df['attributes.url'].apply(lambda x: x.replace('/services/data/v42.0/sobjects/Case/', ''))"
   ]
  },
  {
   "cell_type": "code",
   "execution_count": 37,
   "metadata": {},
   "outputs": [],
   "source": [
    "# For the vast majority of the rows (85%), the columns SuppliedEmail and Contact.Email have the same value.\n",
    "# When the values are different, one of them has NaN and the other has the email address.\n",
    "# Therefore, we can fill the NaN of Contact.Email with the value of SuppliedEmail\n",
    "df['Contact.Email'] = df['Contact.Email'].fillna(df['SuppliedEmail'])\n",
    "\n",
    "# Then we can drop the column SuppliedEmail\n",
    "df = df.drop(['SuppliedEmail'], axis=1)"
   ]
  },
  {
   "cell_type": "code",
   "execution_count": 38,
   "metadata": {},
   "outputs": [],
   "source": [
    "# fill NaN of LastEmailCCAddress__c by empty string\n",
    "df['LastEmailCCAddress__c'] = df['LastEmailCCAddress__c'].fillna('')"
   ]
  },
  {
   "cell_type": "code",
   "execution_count": 39,
   "metadata": {},
   "outputs": [],
   "source": [
    "# Rename Topics__c in Topics\n",
    "df = df.rename(columns={'Topics__c': 'Topics'})\n",
    "\n",
    "# Rename LastIncomingEmail__c in LastIncomingEmail\n",
    "df = df.rename(columns={'LastIncomingEmail__c': 'LastIncomingEmail'})\n",
    "\n",
    "# Rename TeamName__c in TeamName\n",
    "df = df.rename(columns={'TeamName__c': 'TeamName'})\n",
    "\n",
    "# Rename RequesterEmail__c in RequesterEmail\n",
    "df = df.rename(columns={'RequesterEmail__c': 'RequesterEmail'})\n",
    "\n",
    "# Rename EmailTemplateSubjectDispute__c by EmailObject\n",
    "df = df.rename(columns={'EmailTemplateSubjectDispute__c': 'EmailObject'})\n",
    "\n",
    "# Rename LastEmailCCAddress__c by LastEmailCCAddress\n",
    "df = df.rename(columns={'LastEmailCCAddress__c': 'LastEmailCCAddress'})\n",
    "\n",
    "#Rename attributes.url by AttributesURL\n",
    "df = df.rename(columns={'attributes.url': 'AttributesURL'})\n",
    "\n",
    "#Rename Contact.attributes.url by ContactAttributesURL\n",
    "df = df.rename(columns={'Contact.attributes.url': 'ContactAttributesURL'})\n",
    "\n",
    "# Rename Contact.Email by ContactEmail\n",
    "df = df.rename(columns={'Contact.Email': 'ContactEmail'})"
   ]
  },
  {
   "cell_type": "code",
   "execution_count": null,
   "metadata": {},
   "outputs": [
    {
     "name": "stderr",
     "output_type": "stream",
     "text": [
      "  0%|          | 1182/251234 [00:04<13:16, 313.81it/s]/opt/homebrew/Caskroom/miniconda/base/envs/alab_env/lib/python3.10/site-packages/bs4/__init__.py:435: MarkupResemblesLocatorWarning: The input looks more like a filename than markup. You may want to open this file and pass the filehandle into Beautiful Soup.\n",
      "  warnings.warn(\n",
      "100%|██████████| 251234/251234 [17:45<00:00, 235.83it/s]\n"
     ]
    }
   ],
   "source": [
    "# Cleaning of the LastIncomingEmail column using BeautifulSoup\n",
    "for index, row in tqdm(df.iterrows(), total=df.shape[0]):\n",
    "    df.at[index, \"LastIncomingEmailContent\"] = BeautifulSoup(row[\"LastIncomingEmail\"], \"html\").text"
   ]
  },
  {
   "cell_type": "code",
   "execution_count": null,
   "metadata": {},
   "outputs": [],
   "source": [
    "# drop the column LastIncomingEmail\n",
    "df = df.drop(['LastIncomingEmail'], axis=1)"
   ]
  },
  {
   "cell_type": "code",
   "execution_count": null,
   "metadata": {},
   "outputs": [
    {
     "data": {
      "text/html": [
       "<div>\n",
       "<style scoped>\n",
       "    .dataframe tbody tr th:only-of-type {\n",
       "        vertical-align: middle;\n",
       "    }\n",
       "\n",
       "    .dataframe tbody tr th {\n",
       "        vertical-align: top;\n",
       "    }\n",
       "\n",
       "    .dataframe thead th {\n",
       "        text-align: right;\n",
       "    }\n",
       "</style>\n",
       "<table border=\"1\" class=\"dataframe\">\n",
       "  <thead>\n",
       "    <tr style=\"text-align: right;\">\n",
       "      <th></th>\n",
       "      <th>CaseNumber</th>\n",
       "      <th>Type</th>\n",
       "      <th>Topics</th>\n",
       "      <th>TeamName</th>\n",
       "      <th>RequesterEmail</th>\n",
       "      <th>EmailObject</th>\n",
       "      <th>LastEmailCCAddress</th>\n",
       "      <th>AttributesURL</th>\n",
       "      <th>ContactAttributesURL</th>\n",
       "      <th>ContactEmail</th>\n",
       "      <th>LastIncomingEmailContent</th>\n",
       "      <th>LastEmailCCAddressCount</th>\n",
       "    </tr>\n",
       "  </thead>\n",
       "  <tbody>\n",
       "    <tr>\n",
       "      <th>0</th>\n",
       "      <td>100124562</td>\n",
       "      <td>0</td>\n",
       "      <td>T039</td>\n",
       "      <td>US-NOR-CMA-BKG-PREFERRED</td>\n",
       "      <td>NaN</td>\n",
       "      <td>NAM4999926A</td>\n",
       "      <td>op@easywayintl.com</td>\n",
       "      <td>5005p00002evRjHAAU</td>\n",
       "      <td>0035p00003aZAdZAAW</td>\n",
       "      <td>usa.wcportops@cma-cgm.com</td>\n",
       "      <td>\\n\\n\\nThank you Jessica! Await your further on...</td>\n",
       "      <td>1</td>\n",
       "    </tr>\n",
       "    <tr>\n",
       "      <th>3</th>\n",
       "      <td>100080371</td>\n",
       "      <td>0</td>\n",
       "      <td>T036</td>\n",
       "      <td>US-BNA-CMA-CS-IMP-DIVERSIONS</td>\n",
       "      <td>NaN</td>\n",
       "      <td>MOGELIJKE COD'S F119086 // RTM</td>\n",
       "      <td>janneke.van.leeuwen@fclmarine.nl; executivedes...</td>\n",
       "      <td>5005p00002evWsuAAE</td>\n",
       "      <td>0030N00003N771RQAR</td>\n",
       "      <td>janneke.van.leeuwen@fclmarine.nl</td>\n",
       "      <td>\\nHi Nese,\\n \\nInmiddels de aangepaste bl’s al...</td>\n",
       "      <td>5</td>\n",
       "    </tr>\n",
       "    <tr>\n",
       "      <th>4</th>\n",
       "      <td>100095395</td>\n",
       "      <td>0</td>\n",
       "      <td>T035</td>\n",
       "      <td>US-NOR-CMA-BKG-PREFERRED</td>\n",
       "      <td>tina@generallogistics.net</td>\n",
       "      <td>AMEND NAM5088900    [ ref:_00D</td>\n",
       "      <td>bookings@generallogistics.net</td>\n",
       "      <td>5005p00002evX4SAAU</td>\n",
       "      <td>0030N00002x1JqPQAU</td>\n",
       "      <td>tina@generallogistics.net</td>\n",
       "      <td>\\nHello,\\nPlease SPLIT subject line booking to...</td>\n",
       "      <td>1</td>\n",
       "    </tr>\n",
       "    <tr>\n",
       "      <th>5</th>\n",
       "      <td>100097054</td>\n",
       "      <td>0</td>\n",
       "      <td>T847</td>\n",
       "      <td>US-NOR-CMA-BKG-SPECIALTY</td>\n",
       "      <td>bookings@delongcompany.com</td>\n",
       "      <td>FW: CMA CGM - Cut-off date cha</td>\n",
       "      <td>usa.cmaexportactive@usa.cma-cgm.com</td>\n",
       "      <td>5005p00002evXIsAAM</td>\n",
       "      <td>0030N00002tXvvIQAS</td>\n",
       "      <td>bookings@delongcompany.com</td>\n",
       "      <td>CMA CGM - Cut-off date change at - NEW YORK, N...</td>\n",
       "      <td>1</td>\n",
       "    </tr>\n",
       "    <tr>\n",
       "      <th>6</th>\n",
       "      <td>100097055</td>\n",
       "      <td>0</td>\n",
       "      <td>T847</td>\n",
       "      <td>US-NOR-CMA-BKG-SPECIALTY</td>\n",
       "      <td>bookings@delongcompany.com</td>\n",
       "      <td>FW: CMA CGM - Cut-off date cha</td>\n",
       "      <td></td>\n",
       "      <td>5005p00002evXItAAM</td>\n",
       "      <td>0030N00002tXvvIQAS</td>\n",
       "      <td>bookings@delongcompany.com</td>\n",
       "      <td>CMA CGM - Cut-off date change at - NEW YORK, N...</td>\n",
       "      <td>0</td>\n",
       "    </tr>\n",
       "  </tbody>\n",
       "</table>\n",
       "</div>"
      ],
      "text/plain": [
       "   CaseNumber  Type Topics                      TeamName  \\\n",
       "0   100124562     0   T039      US-NOR-CMA-BKG-PREFERRED   \n",
       "3   100080371     0   T036  US-BNA-CMA-CS-IMP-DIVERSIONS   \n",
       "4   100095395     0   T035      US-NOR-CMA-BKG-PREFERRED   \n",
       "5   100097054     0   T847      US-NOR-CMA-BKG-SPECIALTY   \n",
       "6   100097055     0   T847      US-NOR-CMA-BKG-SPECIALTY   \n",
       "\n",
       "               RequesterEmail                      EmailObject  \\\n",
       "0                         NaN                     NAM4999926A    \n",
       "3                         NaN  MOGELIJKE COD'S F119086 // RTM    \n",
       "4   tina@generallogistics.net  AMEND NAM5088900    [ ref:_00D    \n",
       "5  bookings@delongcompany.com  FW: CMA CGM - Cut-off date cha    \n",
       "6  bookings@delongcompany.com  FW: CMA CGM - Cut-off date cha    \n",
       "\n",
       "                                  LastEmailCCAddress       AttributesURL  \\\n",
       "0                                 op@easywayintl.com  5005p00002evRjHAAU   \n",
       "3  janneke.van.leeuwen@fclmarine.nl; executivedes...  5005p00002evWsuAAE   \n",
       "4                      bookings@generallogistics.net  5005p00002evX4SAAU   \n",
       "5                usa.cmaexportactive@usa.cma-cgm.com  5005p00002evXIsAAM   \n",
       "6                                                     5005p00002evXItAAM   \n",
       "\n",
       "  ContactAttributesURL                      ContactEmail  \\\n",
       "0   0035p00003aZAdZAAW         usa.wcportops@cma-cgm.com   \n",
       "3   0030N00003N771RQAR  janneke.van.leeuwen@fclmarine.nl   \n",
       "4   0030N00002x1JqPQAU         tina@generallogistics.net   \n",
       "5   0030N00002tXvvIQAS        bookings@delongcompany.com   \n",
       "6   0030N00002tXvvIQAS        bookings@delongcompany.com   \n",
       "\n",
       "                            LastIncomingEmailContent  LastEmailCCAddressCount  \n",
       "0  \\n\\n\\nThank you Jessica! Await your further on...                        1  \n",
       "3  \\nHi Nese,\\n \\nInmiddels de aangepaste bl’s al...                        5  \n",
       "4  \\nHello,\\nPlease SPLIT subject line booking to...                        1  \n",
       "5  CMA CGM - Cut-off date change at - NEW YORK, N...                        1  \n",
       "6  CMA CGM - Cut-off date change at - NEW YORK, N...                        0  "
      ]
     },
     "execution_count": 234,
     "metadata": {},
     "output_type": "execute_result"
    }
   ],
   "source": [
    "df.head()"
   ]
  },
  {
   "cell_type": "code",
   "execution_count": null,
   "metadata": {},
   "outputs": [],
   "source": [
    "# save the cleaned data \n",
    "df.to_csv('/Users/victor/Documents/Confidential Dataset/ML_NOAC_NOVA_Extraction_Cleaned.csv', index=False)"
   ]
  },
  {
   "cell_type": "markdown",
   "metadata": {},
   "source": [
    "## Ideas for feature creation:\n",
    "\n",
    "##### EmailTemplateSubjectDispute__c\n",
    "1. Specific keywords: \"RE\" or \"BookingConfirmation\"\n",
    "\n",
    "#### SuppliedEmail\n",
    "1. Extract the name of the company and group the SuppliedEmail depending on the company?\n",
    "\n",
    "\n",
    "1. Number of words in the email\n",
    "2. Number of sentences in the email\n"
   ]
  },
  {
   "cell_type": "code",
   "execution_count": 56,
   "metadata": {},
   "outputs": [
    {
     "data": {
      "text/html": [
       "<div>\n",
       "<style scoped>\n",
       "    .dataframe tbody tr th:only-of-type {\n",
       "        vertical-align: middle;\n",
       "    }\n",
       "\n",
       "    .dataframe tbody tr th {\n",
       "        vertical-align: top;\n",
       "    }\n",
       "\n",
       "    .dataframe thead th {\n",
       "        text-align: right;\n",
       "    }\n",
       "</style>\n",
       "<table border=\"1\" class=\"dataframe\">\n",
       "  <thead>\n",
       "    <tr style=\"text-align: right;\">\n",
       "      <th></th>\n",
       "      <th>CaseNumber</th>\n",
       "      <th>Type</th>\n",
       "      <th>Topics</th>\n",
       "      <th>TeamName</th>\n",
       "      <th>RequesterEmail</th>\n",
       "      <th>EmailObject</th>\n",
       "      <th>LastEmailCCAddress</th>\n",
       "      <th>AttributesURL</th>\n",
       "      <th>ContactAttributesURL</th>\n",
       "      <th>ContactEmail</th>\n",
       "      <th>LastIncomingEmailContent</th>\n",
       "      <th>LastEmailCCAddressCount</th>\n",
       "    </tr>\n",
       "  </thead>\n",
       "  <tbody>\n",
       "    <tr>\n",
       "      <th>0</th>\n",
       "      <td>100124562</td>\n",
       "      <td>0</td>\n",
       "      <td>T039</td>\n",
       "      <td>US-NOR-CMA-BKG-PREFERRED</td>\n",
       "      <td>NaN</td>\n",
       "      <td>NAM4999926A</td>\n",
       "      <td>op@easywayintl.com</td>\n",
       "      <td>5005p00002evRjHAAU</td>\n",
       "      <td>0035p00003aZAdZAAW</td>\n",
       "      <td>usa.wcportops@cma-cgm.com</td>\n",
       "      <td>\\n\\n\\nThank you Jessica! Await your further on...</td>\n",
       "      <td>1</td>\n",
       "    </tr>\n",
       "    <tr>\n",
       "      <th>1</th>\n",
       "      <td>100080371</td>\n",
       "      <td>0</td>\n",
       "      <td>T036</td>\n",
       "      <td>US-BNA-CMA-CS-IMP-DIVERSIONS</td>\n",
       "      <td>NaN</td>\n",
       "      <td>MOGELIJKE COD'S F119086 // RTM</td>\n",
       "      <td>janneke.van.leeuwen@fclmarine.nl; executivedes...</td>\n",
       "      <td>5005p00002evWsuAAE</td>\n",
       "      <td>0030N00003N771RQAR</td>\n",
       "      <td>janneke.van.leeuwen@fclmarine.nl</td>\n",
       "      <td>\\nHi Nese,\\n \\nInmiddels de aangepaste bl’s al...</td>\n",
       "      <td>5</td>\n",
       "    </tr>\n",
       "    <tr>\n",
       "      <th>2</th>\n",
       "      <td>100095395</td>\n",
       "      <td>0</td>\n",
       "      <td>T035</td>\n",
       "      <td>US-NOR-CMA-BKG-PREFERRED</td>\n",
       "      <td>tina@generallogistics.net</td>\n",
       "      <td>AMEND NAM5088900    [ ref:_00D</td>\n",
       "      <td>bookings@generallogistics.net</td>\n",
       "      <td>5005p00002evX4SAAU</td>\n",
       "      <td>0030N00002x1JqPQAU</td>\n",
       "      <td>tina@generallogistics.net</td>\n",
       "      <td>\\nHello,\\nPlease SPLIT subject line booking to...</td>\n",
       "      <td>1</td>\n",
       "    </tr>\n",
       "    <tr>\n",
       "      <th>3</th>\n",
       "      <td>100097054</td>\n",
       "      <td>0</td>\n",
       "      <td>T847</td>\n",
       "      <td>US-NOR-CMA-BKG-SPECIALTY</td>\n",
       "      <td>bookings@delongcompany.com</td>\n",
       "      <td>FW: CMA CGM - Cut-off date cha</td>\n",
       "      <td>usa.cmaexportactive@usa.cma-cgm.com</td>\n",
       "      <td>5005p00002evXIsAAM</td>\n",
       "      <td>0030N00002tXvvIQAS</td>\n",
       "      <td>bookings@delongcompany.com</td>\n",
       "      <td>CMA CGM - Cut-off date change at - NEW YORK, N...</td>\n",
       "      <td>1</td>\n",
       "    </tr>\n",
       "    <tr>\n",
       "      <th>4</th>\n",
       "      <td>100097055</td>\n",
       "      <td>0</td>\n",
       "      <td>T847</td>\n",
       "      <td>US-NOR-CMA-BKG-SPECIALTY</td>\n",
       "      <td>bookings@delongcompany.com</td>\n",
       "      <td>FW: CMA CGM - Cut-off date cha</td>\n",
       "      <td>NaN</td>\n",
       "      <td>5005p00002evXItAAM</td>\n",
       "      <td>0030N00002tXvvIQAS</td>\n",
       "      <td>bookings@delongcompany.com</td>\n",
       "      <td>CMA CGM - Cut-off date change at - NEW YORK, N...</td>\n",
       "      <td>0</td>\n",
       "    </tr>\n",
       "  </tbody>\n",
       "</table>\n",
       "</div>"
      ],
      "text/plain": [
       "   CaseNumber  Type Topics                      TeamName  \\\n",
       "0   100124562     0   T039      US-NOR-CMA-BKG-PREFERRED   \n",
       "1   100080371     0   T036  US-BNA-CMA-CS-IMP-DIVERSIONS   \n",
       "2   100095395     0   T035      US-NOR-CMA-BKG-PREFERRED   \n",
       "3   100097054     0   T847      US-NOR-CMA-BKG-SPECIALTY   \n",
       "4   100097055     0   T847      US-NOR-CMA-BKG-SPECIALTY   \n",
       "\n",
       "               RequesterEmail                      EmailObject  \\\n",
       "0                         NaN                     NAM4999926A    \n",
       "1                         NaN  MOGELIJKE COD'S F119086 // RTM    \n",
       "2   tina@generallogistics.net  AMEND NAM5088900    [ ref:_00D    \n",
       "3  bookings@delongcompany.com  FW: CMA CGM - Cut-off date cha    \n",
       "4  bookings@delongcompany.com  FW: CMA CGM - Cut-off date cha    \n",
       "\n",
       "                                  LastEmailCCAddress       AttributesURL  \\\n",
       "0                                 op@easywayintl.com  5005p00002evRjHAAU   \n",
       "1  janneke.van.leeuwen@fclmarine.nl; executivedes...  5005p00002evWsuAAE   \n",
       "2                      bookings@generallogistics.net  5005p00002evX4SAAU   \n",
       "3                usa.cmaexportactive@usa.cma-cgm.com  5005p00002evXIsAAM   \n",
       "4                                                NaN  5005p00002evXItAAM   \n",
       "\n",
       "  ContactAttributesURL                      ContactEmail  \\\n",
       "0   0035p00003aZAdZAAW         usa.wcportops@cma-cgm.com   \n",
       "1   0030N00003N771RQAR  janneke.van.leeuwen@fclmarine.nl   \n",
       "2   0030N00002x1JqPQAU         tina@generallogistics.net   \n",
       "3   0030N00002tXvvIQAS        bookings@delongcompany.com   \n",
       "4   0030N00002tXvvIQAS        bookings@delongcompany.com   \n",
       "\n",
       "                            LastIncomingEmailContent  LastEmailCCAddressCount  \n",
       "0  \\n\\n\\nThank you Jessica! Await your further on...                        1  \n",
       "1  \\nHi Nese,\\n \\nInmiddels de aangepaste bl’s al...                        5  \n",
       "2  \\nHello,\\nPlease SPLIT subject line booking to...                        1  \n",
       "3  CMA CGM - Cut-off date change at - NEW YORK, N...                        1  \n",
       "4  CMA CGM - Cut-off date change at - NEW YORK, N...                        0  "
      ]
     },
     "execution_count": 56,
     "metadata": {},
     "output_type": "execute_result"
    }
   ],
   "source": [
    "# Check the beautiful soup cleaning\n",
    "df_clean = pd.read_csv('/Users/victor/Documents/Confidential Dataset/ML_NOAC_NOVA_Extraction_Cleaned.csv')\n",
    "df_clean.head()"
   ]
  },
  {
   "cell_type": "code",
   "execution_count": 57,
   "metadata": {},
   "outputs": [
    {
     "data": {
      "text/html": [
       "<div>\n",
       "<style scoped>\n",
       "    .dataframe tbody tr th:only-of-type {\n",
       "        vertical-align: middle;\n",
       "    }\n",
       "\n",
       "    .dataframe tbody tr th {\n",
       "        vertical-align: top;\n",
       "    }\n",
       "\n",
       "    .dataframe thead th {\n",
       "        text-align: right;\n",
       "    }\n",
       "</style>\n",
       "<table border=\"1\" class=\"dataframe\">\n",
       "  <thead>\n",
       "    <tr style=\"text-align: right;\">\n",
       "      <th></th>\n",
       "      <th>CaseNumber</th>\n",
       "      <th>Type</th>\n",
       "      <th>Topics__c</th>\n",
       "      <th>TeamName__c</th>\n",
       "      <th>RequesterEmail__c</th>\n",
       "      <th>EmailTemplateSubjectDispute__c</th>\n",
       "      <th>LastEmailCCAddress__c</th>\n",
       "      <th>SuppliedEmail</th>\n",
       "      <th>LastIncomingEmail__c</th>\n",
       "      <th>attributes.type</th>\n",
       "      <th>attributes.url</th>\n",
       "      <th>Contact.attributes.type</th>\n",
       "      <th>Contact.attributes.url</th>\n",
       "      <th>Contact.Email</th>\n",
       "      <th>Contact</th>\n",
       "    </tr>\n",
       "  </thead>\n",
       "  <tbody>\n",
       "    <tr>\n",
       "      <th>0</th>\n",
       "      <td>100124562</td>\n",
       "      <td>RTCU</td>\n",
       "      <td>T039</td>\n",
       "      <td>US-NOR-CMA-BKG-PREFERRED</td>\n",
       "      <td>NaN</td>\n",
       "      <td>NAM4999926A Case #100124562</td>\n",
       "      <td>op@easywayintl.com</td>\n",
       "      <td>NaN</td>\n",
       "      <td>&lt;div&gt;\\n&lt;div&gt;\\n&lt;div dir=\"ltr\" style=\"color: rgb...</td>\n",
       "      <td>Case</td>\n",
       "      <td>/services/data/v42.0/sobjects/Case/5005p00002e...</td>\n",
       "      <td>Contact</td>\n",
       "      <td>/services/data/v42.0/sobjects/Contact/0035p000...</td>\n",
       "      <td>usa.wcportops@cma-cgm.com</td>\n",
       "      <td>NaN</td>\n",
       "    </tr>\n",
       "    <tr>\n",
       "      <th>1</th>\n",
       "      <td>100128892</td>\n",
       "      <td>CRFC</td>\n",
       "      <td>T038</td>\n",
       "      <td>US-NOR-CMA-CS-EXP-PREFERRED</td>\n",
       "      <td>NaN</td>\n",
       "      <td>NAM5085287 Case #100128892</td>\n",
       "      <td>NaN</td>\n",
       "      <td>NaN</td>\n",
       "      <td>NaN</td>\n",
       "      <td>Case</td>\n",
       "      <td>/services/data/v42.0/sobjects/Case/5005p00002e...</td>\n",
       "      <td>NaN</td>\n",
       "      <td>NaN</td>\n",
       "      <td>NaN</td>\n",
       "      <td>NaN</td>\n",
       "    </tr>\n",
       "    <tr>\n",
       "      <th>2</th>\n",
       "      <td>100123788</td>\n",
       "      <td>BCON</td>\n",
       "      <td>T847</td>\n",
       "      <td>US-NOR-CMA-CS-EXP-PREFERRED</td>\n",
       "      <td>NaN</td>\n",
       "      <td>NAM4993560 Case #100123788</td>\n",
       "      <td>NaN</td>\n",
       "      <td>NaN</td>\n",
       "      <td>NaN</td>\n",
       "      <td>Case</td>\n",
       "      <td>/services/data/v42.0/sobjects/Case/5005p00002e...</td>\n",
       "      <td>Contact</td>\n",
       "      <td>/services/data/v42.0/sobjects/Contact/0030N000...</td>\n",
       "      <td>ds@srinc.us.com</td>\n",
       "      <td>NaN</td>\n",
       "    </tr>\n",
       "    <tr>\n",
       "      <th>3</th>\n",
       "      <td>100080371</td>\n",
       "      <td>CRFC</td>\n",
       "      <td>T036</td>\n",
       "      <td>US-BNA-CMA-CS-IMP-DIVERSIONS</td>\n",
       "      <td>NaN</td>\n",
       "      <td>MOGELIJKE COD'S F119086 // RTM Case #100080371</td>\n",
       "      <td>janneke.van.leeuwen@fclmarine.nl; executivedes...</td>\n",
       "      <td>NaN</td>\n",
       "      <td>&lt;div class=\"WordSection1\"&gt;\\n&lt;p class=\"MsoNorma...</td>\n",
       "      <td>Case</td>\n",
       "      <td>/services/data/v42.0/sobjects/Case/5005p00002e...</td>\n",
       "      <td>Contact</td>\n",
       "      <td>/services/data/v42.0/sobjects/Contact/0030N000...</td>\n",
       "      <td>janneke.van.leeuwen@fclmarine.nl</td>\n",
       "      <td>NaN</td>\n",
       "    </tr>\n",
       "    <tr>\n",
       "      <th>4</th>\n",
       "      <td>100095395</td>\n",
       "      <td>BREQ</td>\n",
       "      <td>T035</td>\n",
       "      <td>US-NOR-CMA-BKG-PREFERRED</td>\n",
       "      <td>tina@generallogistics.net</td>\n",
       "      <td>AMEND NAM5088900    [ ref:_00D Case #100095395</td>\n",
       "      <td>bookings@generallogistics.net</td>\n",
       "      <td>tina@generallogistics.net</td>\n",
       "      <td>&lt;div class=\"WordSection1\"&gt;\\n&lt;p class=\"MsoNorma...</td>\n",
       "      <td>Case</td>\n",
       "      <td>/services/data/v42.0/sobjects/Case/5005p00002e...</td>\n",
       "      <td>Contact</td>\n",
       "      <td>/services/data/v42.0/sobjects/Contact/0030N000...</td>\n",
       "      <td>tina@generallogistics.net</td>\n",
       "      <td>NaN</td>\n",
       "    </tr>\n",
       "  </tbody>\n",
       "</table>\n",
       "</div>"
      ],
      "text/plain": [
       "   CaseNumber  Type Topics__c                   TeamName__c  \\\n",
       "0   100124562  RTCU      T039      US-NOR-CMA-BKG-PREFERRED   \n",
       "1   100128892  CRFC      T038   US-NOR-CMA-CS-EXP-PREFERRED   \n",
       "2   100123788  BCON      T847   US-NOR-CMA-CS-EXP-PREFERRED   \n",
       "3   100080371  CRFC      T036  US-BNA-CMA-CS-IMP-DIVERSIONS   \n",
       "4   100095395  BREQ      T035      US-NOR-CMA-BKG-PREFERRED   \n",
       "\n",
       "           RequesterEmail__c                  EmailTemplateSubjectDispute__c  \\\n",
       "0                        NaN                     NAM4999926A Case #100124562   \n",
       "1                        NaN                      NAM5085287 Case #100128892   \n",
       "2                        NaN                      NAM4993560 Case #100123788   \n",
       "3                        NaN  MOGELIJKE COD'S F119086 // RTM Case #100080371   \n",
       "4  tina@generallogistics.net  AMEND NAM5088900    [ ref:_00D Case #100095395   \n",
       "\n",
       "                               LastEmailCCAddress__c  \\\n",
       "0                                 op@easywayintl.com   \n",
       "1                                                NaN   \n",
       "2                                                NaN   \n",
       "3  janneke.van.leeuwen@fclmarine.nl; executivedes...   \n",
       "4                      bookings@generallogistics.net   \n",
       "\n",
       "               SuppliedEmail  \\\n",
       "0                        NaN   \n",
       "1                        NaN   \n",
       "2                        NaN   \n",
       "3                        NaN   \n",
       "4  tina@generallogistics.net   \n",
       "\n",
       "                                LastIncomingEmail__c attributes.type  \\\n",
       "0  <div>\\n<div>\\n<div dir=\"ltr\" style=\"color: rgb...            Case   \n",
       "1                                                NaN            Case   \n",
       "2                                                NaN            Case   \n",
       "3  <div class=\"WordSection1\">\\n<p class=\"MsoNorma...            Case   \n",
       "4  <div class=\"WordSection1\">\\n<p class=\"MsoNorma...            Case   \n",
       "\n",
       "                                      attributes.url Contact.attributes.type  \\\n",
       "0  /services/data/v42.0/sobjects/Case/5005p00002e...                 Contact   \n",
       "1  /services/data/v42.0/sobjects/Case/5005p00002e...                     NaN   \n",
       "2  /services/data/v42.0/sobjects/Case/5005p00002e...                 Contact   \n",
       "3  /services/data/v42.0/sobjects/Case/5005p00002e...                 Contact   \n",
       "4  /services/data/v42.0/sobjects/Case/5005p00002e...                 Contact   \n",
       "\n",
       "                              Contact.attributes.url  \\\n",
       "0  /services/data/v42.0/sobjects/Contact/0035p000...   \n",
       "1                                                NaN   \n",
       "2  /services/data/v42.0/sobjects/Contact/0030N000...   \n",
       "3  /services/data/v42.0/sobjects/Contact/0030N000...   \n",
       "4  /services/data/v42.0/sobjects/Contact/0030N000...   \n",
       "\n",
       "                      Contact.Email  Contact  \n",
       "0         usa.wcportops@cma-cgm.com      NaN  \n",
       "1                               NaN      NaN  \n",
       "2                   ds@srinc.us.com      NaN  \n",
       "3  janneke.van.leeuwen@fclmarine.nl      NaN  \n",
       "4         tina@generallogistics.net      NaN  "
      ]
     },
     "execution_count": 57,
     "metadata": {},
     "output_type": "execute_result"
    }
   ],
   "source": [
    "df2.head()"
   ]
  },
  {
   "cell_type": "code",
   "execution_count": 58,
   "metadata": {},
   "outputs": [],
   "source": [
    "# remove the last \n",
    "df_clean = df_clean.replace(r'\\n\\n',' ', regex=True) \n",
    "df_clean = df_clean.replace(r'\\t\\t',' ', regex=True) "
   ]
  },
  {
   "cell_type": "code",
   "execution_count": 6,
   "metadata": {},
   "outputs": [
    {
     "name": "stdout",
     "output_type": "stream",
     "text": [
      "0.1578249759188645\n",
      "0.0\n"
     ]
    }
   ],
   "source": [
    "# count the the rows having only \\n in df[\"LastIncomingEmailContent\"]\n",
    "print(sum(df_clean[\"LastIncomingEmailContent\"] == \"\\n\") / len(df_clean))\n",
    "print(sum(df2[\"LastIncomingEmail__c\"] == \"\\n\") / len(df2))"
   ]
  },
  {
   "cell_type": "code",
   "execution_count": 7,
   "metadata": {},
   "outputs": [
    {
     "data": {
      "text/plain": [
       "<AxesSubplot:>"
      ]
     },
     "execution_count": 7,
     "metadata": {},
     "output_type": "execute_result"
    },
    {
     "data": {
      "image/png": "[encoded data removed]",
      "text/plain": [
       "<Figure size 640x480 with 1 Axes>"
      ]
     },
     "metadata": {},
     "output_type": "display_data"
    }
   ],
   "source": [
    "df2[\"LastIncomingEmail__c\"].str.len().hist(bins=200)"
   ]
  },
  {
   "cell_type": "code",
   "execution_count": 8,
   "metadata": {},
   "outputs": [
    {
     "name": "stdout",
     "output_type": "stream",
     "text": [
      "40355\n"
     ]
    },
    {
     "data": {
      "text/plain": [
       "<AxesSubplot:>"
      ]
     },
     "execution_count": 8,
     "metadata": {},
     "output_type": "execute_result"
    },
    {
     "data": {
      "image/png": "[encoded data removed]",
      "text/plain": [
       "<Figure size 640x480 with 1 Axes>"
      ]
     },
     "metadata": {},
     "output_type": "display_data"
    }
   ],
   "source": [
    "subset = df2[df2[\"LastIncomingEmail__c\"].str.len() < 200]\n",
    "\n",
    "print(len(subset))\n",
    "subset[\"LastIncomingEmail__c\"].str.len().hist(bins=200)"
   ]
  },
  {
   "cell_type": "code",
   "execution_count": 9,
   "metadata": {},
   "outputs": [
    {
     "name": "stdout",
     "output_type": "stream",
     "text": [
      "181\n"
     ]
    }
   ],
   "source": [
    "print(len(subset[\"LastIncomingEmail__c\"].iloc[0]))"
   ]
  },
  {
   "cell_type": "code",
   "execution_count": 10,
   "metadata": {},
   "outputs": [],
   "source": [
    "# show more rows\n",
    "pd.set_option('display.max_rows', 500)\n",
    "\n",
    "with open('../data/short_emails.txt', 'w') as f:\n",
    "    for row in subset[\"LastIncomingEmail__c\"]:\n",
    "        # print the row in a new text file\n",
    "        f.write(row + \"\\n\" + \"\\n\")\n",
    "        "
   ]
  },
  {
   "cell_type": "code",
   "execution_count": 11,
   "metadata": {},
   "outputs": [
    {
     "name": "stdout",
     "output_type": "stream",
     "text": [
      "<div style=\"font-family: Consolas, monaco, monospace; font-size: 0.90rem;\">\n",
      "\t<table style=\"width: 100%;\"><tr><td colspan=\"1\" rowspan=\"1\" style=\"width: 33%;\"></td></tr></table></div>\n"
     ]
    }
   ],
   "source": [
    "print(subset[\"LastIncomingEmail__c\"].iloc[0])"
   ]
  },
  {
   "cell_type": "markdown",
   "metadata": {},
   "source": [
    "### Important conclusion here:\n",
    "\n",
    "We see that a large number of emails: 40355 have nearly-empty contents. All of these email have the same HTML tags as showed above, but don't contain any relevant information. They have exactly the 181 caracters shown above. We can safely consider these emails as empty in our dataset."
   ]
  },
  {
   "cell_type": "code",
   "execution_count": 12,
   "metadata": {},
   "outputs": [
    {
     "data": {
      "text/plain": [
       "<AxesSubplot:>"
      ]
     },
     "execution_count": 12,
     "metadata": {},
     "output_type": "execute_result"
    },
    {
     "data": {
      "image/png": "[encoded data removed]",
      "text/plain": [
       "<Figure size 640x480 with 1 Axes>"
      ]
     },
     "metadata": {},
     "output_type": "display_data"
    }
   ],
   "source": [
    "df_clean[\"LastIncomingEmailContent\"].str.len().hist(bins=200)"
   ]
  },
  {
   "cell_type": "code",
   "execution_count": 13,
   "metadata": {},
   "outputs": [
    {
     "data": {
      "text/plain": [
       "<AxesSubplot:>"
      ]
     },
     "execution_count": 13,
     "metadata": {},
     "output_type": "execute_result"
    },
    {
     "data": {
      "image/png": "[encoded data removed]",
      "text/plain": [
       "<Figure size 640x480 with 1 Axes>"
      ]
     },
     "metadata": {},
     "output_type": "display_data"
    }
   ],
   "source": [
    "subset = df_clean[df_clean[\"LastIncomingEmailContent\"].str.len() < 200]\n",
    "subset[\"LastIncomingEmailContent\"].str.len().hist(bins=200)"
   ]
  },
  {
   "cell_type": "markdown",
   "metadata": {},
   "source": [
    "### Let's remove the 40,000 rows which are nearly empty from our dataset to clean. Indeed, we do not need to find the \"last email\" of the empty emails. Let's keep only the emails having a length higher than 25. (We cannot use the threshold of 181 shown above as Beautiful Soup already removed the HTML tags.)"
   ]
  },
  {
   "cell_type": "code",
   "execution_count": 14,
   "metadata": {},
   "outputs": [
    {
     "name": "stdout",
     "output_type": "stream",
     "text": [
      "209743\n"
     ]
    }
   ],
   "source": [
    "df_to_clean1 = df_clean[df_clean[\"LastIncomingEmailContent\"].str.len() > 100]\n",
    "print(len(df_to_clean1))"
   ]
  },
  {
   "cell_type": "markdown",
   "metadata": {},
   "source": [
    "## Important conclusion here:\n",
    "The Beautiful Soup process doesn't remove any rows having \"Sent:\", \"From:\" or \"To:\" keywords."
   ]
  },
  {
   "cell_type": "code",
   "execution_count": 22,
   "metadata": {},
   "outputs": [
    {
     "name": "stdout",
     "output_type": "stream",
     "text": [
      "143720\n",
      "139840\n",
      "136627\n"
     ]
    }
   ],
   "source": [
    "print(df['LastIncomingEmail__c'].str.contains('From:').sum() )\n",
    "print(df['LastIncomingEmail__c'].str.contains('Sent:').sum())\n",
    "print(df['LastIncomingEmail__c'].str.contains('To:').sum())"
   ]
  },
  {
   "cell_type": "code",
   "execution_count": 23,
   "metadata": {},
   "outputs": [
    {
     "name": "stdout",
     "output_type": "stream",
     "text": [
      "143720\n",
      "139840\n",
      "136627\n"
     ]
    }
   ],
   "source": [
    "print(df_clean['LastIncomingEmailContent'].str.contains('From:').sum())\n",
    "print(df_clean['LastIncomingEmailContent'].str.contains('Sent:').sum())\n",
    "print(df_clean['LastIncomingEmailContent'].str.contains('To:').sum())"
   ]
  },
  {
   "cell_type": "markdown",
   "metadata": {},
   "source": [
    "After removing the empty emails, we have that 68.5% of the non-empty emails can be splitted using the \"From\" keyword."
   ]
  },
  {
   "cell_type": "code",
   "execution_count": 24,
   "metadata": {},
   "outputs": [
    {
     "name": "stdout",
     "output_type": "stream",
     "text": [
      "0.6852195305683623\n",
      "0.666720701048426\n",
      "0.6514019538196746\n"
     ]
    }
   ],
   "source": [
    "print(df_to_clean1['LastIncomingEmailContent'].str.contains('From:').sum() / len(df_to_clean1))\n",
    "print(df_to_clean1['LastIncomingEmailContent'].str.contains('Sent:').sum() / len(df_to_clean1))\n",
    "print(df_to_clean1['LastIncomingEmailContent'].str.contains('To:').sum() / len(df_to_clean1))"
   ]
  },
  {
   "cell_type": "markdown",
   "metadata": {},
   "source": [
    "-- For 68.5% of emails, I extract based on the keyword \"From\"\n",
    "\n",
    "Let's see what can be done with the other 43% of emails."
   ]
  },
  {
   "cell_type": "code",
   "execution_count": 25,
   "metadata": {},
   "outputs": [
    {
     "name": "stderr",
     "output_type": "stream",
     "text": [
      "/var/folders/hk/nxk7bnsj4kq9nwsmnmdtzhb80000gn/T/ipykernel_3300/2819368117.py:5: SettingWithCopyWarning: \n",
      "A value is trying to be set on a copy of a slice from a DataFrame.\n",
      "Try using .loc[row_indexer,col_indexer] = value instead\n",
      "\n",
      "See the caveats in the documentation: https://pandas.pydata.org/pandas-docs/stable/user_guide/indexing.html#returning-a-view-versus-a-copy\n",
      "  cleaned_mails[\"LastIncomingEmailContent\"] = cleaned_mails[\"LastIncomingEmailContent\"].str.split(\"From:\").str[0]\n"
     ]
    }
   ],
   "source": [
    "df_to_clean2 = df_to_clean1[~df_to_clean1['LastIncomingEmailContent'].str.contains('From:').astype(bool)]\n",
    "\n",
    "cleaned_mails = df_to_clean1[df_to_clean1['LastIncomingEmailContent'].str.contains('From:').astype(bool)]\n",
    "# cut the text after the first occurrence of \"From:\"\n",
    "cleaned_mails[\"LastIncomingEmailContent\"] = cleaned_mails[\"LastIncomingEmailContent\"].str.split(\"From:\").str[0]"
   ]
  },
  {
   "cell_type": "code",
   "execution_count": 27,
   "metadata": {},
   "outputs": [
    {
     "name": "stdout",
     "output_type": "stream",
     "text": [
      "615.9269830225438\n",
      "437.0\n",
      "955.0495584871938\n",
      "435.0\n"
     ]
    }
   ],
   "source": [
    "# Get the average length of  LastIncomingEmailContent\t\n",
    "print(cleaned_mails['LastIncomingEmailContent'].str.len().mean())\n",
    "print(cleaned_mails['LastIncomingEmailContent'].str.len().median())\n",
    "print(df_to_clean2['LastIncomingEmailContent'].str.len().mean())\n",
    "print(df_to_clean2['LastIncomingEmailContent'].str.len().median())"
   ]
  },
  {
   "cell_type": "markdown",
   "metadata": {},
   "source": [
    "We can see two things here:\n",
    "- The median is roughly the same.\n",
    "- The mean is higher for the emails which cannot be splitted using the \"From\" keyword.\n",
    "\n",
    "Therefore, some emails that were not splitted:\n",
    "- either contain multiple email threads\n",
    "- have other CSS/HTML tags that we have to find."
   ]
  },
  {
   "cell_type": "markdown",
   "metadata": {},
   "source": [
    "We see here that the average length of one dataset is 615 caracters. We can use this information to split the future emails."
   ]
  },
  {
   "cell_type": "code",
   "execution_count": 30,
   "metadata": {},
   "outputs": [
    {
     "name": "stdout",
     "output_type": "stream",
     "text": [
      "66023\n"
     ]
    }
   ],
   "source": [
    "print(len(df_to_clean2))\n",
    "df_to_clean2.head()\n",
    "\n",
    "# show more rows\n",
    "pd.set_option('display.max_rows', 500)\n",
    "\n",
    "with open('../data/short_emails_long2.txt', 'w') as f:\n",
    "    for row in df_to_clean2[\"LastIncomingEmailContent\"]:\n",
    "        if len(row) > 2000:\n",
    "            # print the row in a new text file\n",
    "            f.write(row + \"\\n ----------------------------------------------- \\n\")"
   ]
  },
  {
   "cell_type": "markdown",
   "metadata": {},
   "source": [
    "By looking at the data, we see many CSS/HTML tags. Lets remove any element between:\n",
    "[] and {}"
   ]
  },
  {
   "cell_type": "code",
   "execution_count": 5,
   "metadata": {},
   "outputs": [],
   "source": [
    "# Remove elements between {} amd [] due to many emails with CSS tags/HTML tags.\n",
    "\n",
    "def parenthesis_cleaner(test_str):\n",
    "    ret = ''\n",
    "    skip1c = 0\n",
    "    skip2c = 0\n",
    "    for i in test_str:\n",
    "        if i == '{':\n",
    "            skip1c += 1\n",
    "        elif i == '[':\n",
    "            skip2c += 1\n",
    "        elif i == ']' and skip1c > 0:\n",
    "            skip1c -= 1\n",
    "        elif i == '}'and skip2c > 0:\n",
    "            skip2c -= 1\n",
    "        elif skip1c == 0 and skip2c == 0:\n",
    "            ret += i\n",
    "    return ret\n"
   ]
  },
  {
   "cell_type": "code",
   "execution_count": 32,
   "metadata": {},
   "outputs": [
    {
     "name": "stderr",
     "output_type": "stream",
     "text": [
      "/var/folders/hk/nxk7bnsj4kq9nwsmnmdtzhb80000gn/T/ipykernel_3300/3456094467.py:2: SettingWithCopyWarning: \n",
      "A value is trying to be set on a copy of a slice from a DataFrame.\n",
      "Try using .loc[row_indexer,col_indexer] = value instead\n",
      "\n",
      "See the caveats in the documentation: https://pandas.pydata.org/pandas-docs/stable/user_guide/indexing.html#returning-a-view-versus-a-copy\n",
      "  df_to_clean2[\"LastIncomingEmailContent\"] = df_to_clean2[\"LastIncomingEmailContent\"].apply(parenthesis_cleaner)\n"
     ]
    }
   ],
   "source": [
    "# apply parenthesis_cleaner to the LastIncomingEmailContent column\n",
    "df_to_clean2[\"LastIncomingEmailContent\"] = df_to_clean2[\"LastIncomingEmailContent\"].apply(parenthesis_cleaner)"
   ]
  },
  {
   "cell_type": "code",
   "execution_count": 33,
   "metadata": {},
   "outputs": [
    {
     "name": "stdout",
     "output_type": "stream",
     "text": [
      "615.9269830225438\n",
      "437.0\n",
      "582.430925586538\n",
      "383.0\n"
     ]
    }
   ],
   "source": [
    "# Get the average length of  LastIncomingEmailContent\t\n",
    "print(cleaned_mails['LastIncomingEmailContent'].str.len().mean())\n",
    "print(cleaned_mails['LastIncomingEmailContent'].str.len().median())\n",
    "print(df_to_clean2['LastIncomingEmailContent'].str.len().mean())\n",
    "print(df_to_clean2['LastIncomingEmailContent'].str.len().median())"
   ]
  },
  {
   "cell_type": "markdown",
   "metadata": {},
   "source": [
    "Now, we realize that all last emails are selected. The emails not containing the keyword \"From\" are simply single emails. We can visualize them to make sure."
   ]
  },
  {
   "cell_type": "code",
   "execution_count": 34,
   "metadata": {},
   "outputs": [
    {
     "data": {
      "text/html": [
       "<div>\n",
       "<style scoped>\n",
       "    .dataframe tbody tr th:only-of-type {\n",
       "        vertical-align: middle;\n",
       "    }\n",
       "\n",
       "    .dataframe tbody tr th {\n",
       "        vertical-align: top;\n",
       "    }\n",
       "\n",
       "    .dataframe thead th {\n",
       "        text-align: right;\n",
       "    }\n",
       "</style>\n",
       "<table border=\"1\" class=\"dataframe\">\n",
       "  <thead>\n",
       "    <tr style=\"text-align: right;\">\n",
       "      <th></th>\n",
       "      <th>CaseNumber</th>\n",
       "      <th>Type</th>\n",
       "      <th>Topics</th>\n",
       "      <th>TeamName</th>\n",
       "      <th>RequesterEmail</th>\n",
       "      <th>EmailObject</th>\n",
       "      <th>LastEmailCCAddress</th>\n",
       "      <th>AttributesURL</th>\n",
       "      <th>ContactAttributesURL</th>\n",
       "      <th>ContactEmail</th>\n",
       "      <th>LastIncomingEmailContent</th>\n",
       "      <th>LastEmailCCAddressCount</th>\n",
       "    </tr>\n",
       "  </thead>\n",
       "  <tbody>\n",
       "    <tr>\n",
       "      <th>18</th>\n",
       "      <td>100110808</td>\n",
       "      <td>0</td>\n",
       "      <td>T202</td>\n",
       "      <td>US-NOR-CMA-DISPUTES-IMPORTFREIGHT</td>\n",
       "      <td>hidalgo@avantiproducts.com</td>\n",
       "      <td>RE:  RATE DISCREPANCIES -  2/2  Invoice #NAIM8...</td>\n",
       "      <td>usa.jtederous@usa.cma-cgm.com; usa.aavila@cma-...</td>\n",
       "      <td>5005p00002evXisAAE</td>\n",
       "      <td>0030N00003LjiwBQAR</td>\n",
       "      <td>hidalgo@avantiproducts.com</td>\n",
       "      <td>\\nHi Adalver \\nIn addition to previous lists, ...</td>\n",
       "      <td>5</td>\n",
       "    </tr>\n",
       "    <tr>\n",
       "      <th>21</th>\n",
       "      <td>100115766</td>\n",
       "      <td>0</td>\n",
       "      <td>T044</td>\n",
       "      <td>US-NOR-CMA-CS-EXP-AUTOS</td>\n",
       "      <td>NaN</td>\n",
       "      <td>NAM5069156 CC LA TRAVIATA 0MRA</td>\n",
       "      <td>logistics@caucasusauto.com; usa.cmaexportactiv...</td>\n",
       "      <td>5005p00002evXkZAAU</td>\n",
       "      <td>0030N00003ReNZjQAN</td>\n",
       "      <td>logistics@caucasusauto.com</td>\n",
       "      <td>Adding a loading party,please send all the ing...</td>\n",
       "      <td>3</td>\n",
       "    </tr>\n",
       "    <tr>\n",
       "      <th>24</th>\n",
       "      <td>100115692</td>\n",
       "      <td>0</td>\n",
       "      <td>T847</td>\n",
       "      <td>US-NOR-CMA-EXP-ELITE-NESTLE</td>\n",
       "      <td>candace.williams@steamlogistics.com</td>\n",
       "      <td>Re: CMA CGM - Cut-off date cha</td>\n",
       "      <td>NaN</td>\n",
       "      <td>5005p00002evXrhAAE</td>\n",
       "      <td>0030N00003N9LeUQAV</td>\n",
       "      <td>candace.williams@steamlogistics.com</td>\n",
       "      <td>Hello,Please send us the updated booking confi...</td>\n",
       "      <td>0</td>\n",
       "    </tr>\n",
       "    <tr>\n",
       "      <th>25</th>\n",
       "      <td>100115730</td>\n",
       "      <td>0</td>\n",
       "      <td>T037</td>\n",
       "      <td>US-NOR-CMA-BKG-PREFERRED</td>\n",
       "      <td>daniel@lindseyforwarders.com</td>\n",
       "      <td>NAM5027552 need revised bkg co</td>\n",
       "      <td>usa.cmaexportactive@usa.cma-cgm.com</td>\n",
       "      <td>5005p00002evXrmAAE</td>\n",
       "      <td>0030N000032cSZ0QAM</td>\n",
       "      <td>daniel@lindseyforwarders.com</td>\n",
       "      <td>\\nHello CMA,\\n \\nWe have learned that the vess...</td>\n",
       "      <td>1</td>\n",
       "    </tr>\n",
       "    <tr>\n",
       "      <th>26</th>\n",
       "      <td>100115731</td>\n",
       "      <td>0</td>\n",
       "      <td>T037</td>\n",
       "      <td>US-NOR-CMA-BKG-PREFERRED</td>\n",
       "      <td>daniel@lindseyforwarders.com</td>\n",
       "      <td>NAM5027552 need revised bkg co</td>\n",
       "      <td>usa.cmaexportactive@usa.cma-cgm.com</td>\n",
       "      <td>5005p00002evXrnAAE</td>\n",
       "      <td>0030N000032cSZ0QAM</td>\n",
       "      <td>daniel@lindseyforwarders.com</td>\n",
       "      <td>\\nHello CMA,\\n \\nWe have learned that the vess...</td>\n",
       "      <td>1</td>\n",
       "    </tr>\n",
       "  </tbody>\n",
       "</table>\n",
       "</div>"
      ],
      "text/plain": [
       "    CaseNumber  Type Topics                           TeamName  \\\n",
       "18   100110808     0   T202  US-NOR-CMA-DISPUTES-IMPORTFREIGHT   \n",
       "21   100115766     0   T044            US-NOR-CMA-CS-EXP-AUTOS   \n",
       "24   100115692     0   T847        US-NOR-CMA-EXP-ELITE-NESTLE   \n",
       "25   100115730     0   T037           US-NOR-CMA-BKG-PREFERRED   \n",
       "26   100115731     0   T037           US-NOR-CMA-BKG-PREFERRED   \n",
       "\n",
       "                         RequesterEmail  \\\n",
       "18           hidalgo@avantiproducts.com   \n",
       "21                                  NaN   \n",
       "24  candace.williams@steamlogistics.com   \n",
       "25         daniel@lindseyforwarders.com   \n",
       "26         daniel@lindseyforwarders.com   \n",
       "\n",
       "                                          EmailObject  \\\n",
       "18  RE:  RATE DISCREPANCIES -  2/2  Invoice #NAIM8...   \n",
       "21                    NAM5069156 CC LA TRAVIATA 0MRA    \n",
       "24                    Re: CMA CGM - Cut-off date cha    \n",
       "25                    NAM5027552 need revised bkg co    \n",
       "26                    NAM5027552 need revised bkg co    \n",
       "\n",
       "                                   LastEmailCCAddress       AttributesURL  \\\n",
       "18  usa.jtederous@usa.cma-cgm.com; usa.aavila@cma-...  5005p00002evXisAAE   \n",
       "21  logistics@caucasusauto.com; usa.cmaexportactiv...  5005p00002evXkZAAU   \n",
       "24                                                NaN  5005p00002evXrhAAE   \n",
       "25                usa.cmaexportactive@usa.cma-cgm.com  5005p00002evXrmAAE   \n",
       "26                usa.cmaexportactive@usa.cma-cgm.com  5005p00002evXrnAAE   \n",
       "\n",
       "   ContactAttributesURL                         ContactEmail  \\\n",
       "18   0030N00003LjiwBQAR           hidalgo@avantiproducts.com   \n",
       "21   0030N00003ReNZjQAN           logistics@caucasusauto.com   \n",
       "24   0030N00003N9LeUQAV  candace.williams@steamlogistics.com   \n",
       "25   0030N000032cSZ0QAM         daniel@lindseyforwarders.com   \n",
       "26   0030N000032cSZ0QAM         daniel@lindseyforwarders.com   \n",
       "\n",
       "                             LastIncomingEmailContent  LastEmailCCAddressCount  \n",
       "18  \\nHi Adalver \\nIn addition to previous lists, ...                        5  \n",
       "21  Adding a loading party,please send all the ing...                        3  \n",
       "24  Hello,Please send us the updated booking confi...                        0  \n",
       "25  \\nHello CMA,\\n \\nWe have learned that the vess...                        1  \n",
       "26  \\nHello CMA,\\n \\nWe have learned that the vess...                        1  "
      ]
     },
     "execution_count": 34,
     "metadata": {},
     "output_type": "execute_result"
    }
   ],
   "source": [
    "df_to_clean2.head()"
   ]
  },
  {
   "cell_type": "code",
   "execution_count": 35,
   "metadata": {},
   "outputs": [],
   "source": [
    "with open('../data/short_emails_long_cleanded2.txt', 'w') as f:\n",
    "    for row in df_to_clean2[\"LastIncomingEmailContent\"]:\n",
    "        if len(row) > 2000:\n",
    "            # print the row in a new text file\n",
    "            f.write(row + \"\\n ----------------------------------------------- \\n\")"
   ]
  },
  {
   "cell_type": "code",
   "execution_count": 36,
   "metadata": {},
   "outputs": [
    {
     "data": {
      "text/plain": [
       "<AxesSubplot:>"
      ]
     },
     "execution_count": 36,
     "metadata": {},
     "output_type": "execute_result"
    },
    {
     "data": {
      "image/png": "[encoded data removed]",
      "text/plain": [
       "<Figure size 640x480 with 1 Axes>"
      ]
     },
     "metadata": {},
     "output_type": "display_data"
    }
   ],
   "source": [
    "# check the distribution of the length of df_to_clean[\"LastIncomingEmailContent\"]\n",
    "subset = df_to_clean2[df_to_clean2[\"LastIncomingEmailContent\"].str.len() < 2000]\n",
    "subset[\"LastIncomingEmailContent\"].str.len().hist(bins=100)"
   ]
  },
  {
   "cell_type": "markdown",
   "metadata": {},
   "source": [
    "Therefore, let's implement the whole pipeline to extract the text from the last email:"
   ]
  },
  {
   "cell_type": "code",
   "execution_count": 38,
   "metadata": {},
   "outputs": [
    {
     "data": {
      "text/html": [
       "<div>\n",
       "<style scoped>\n",
       "    .dataframe tbody tr th:only-of-type {\n",
       "        vertical-align: middle;\n",
       "    }\n",
       "\n",
       "    .dataframe tbody tr th {\n",
       "        vertical-align: top;\n",
       "    }\n",
       "\n",
       "    .dataframe thead th {\n",
       "        text-align: right;\n",
       "    }\n",
       "</style>\n",
       "<table border=\"1\" class=\"dataframe\">\n",
       "  <thead>\n",
       "    <tr style=\"text-align: right;\">\n",
       "      <th></th>\n",
       "      <th>CaseNumber</th>\n",
       "      <th>Type</th>\n",
       "      <th>Topics</th>\n",
       "      <th>TeamName</th>\n",
       "      <th>RequesterEmail</th>\n",
       "      <th>EmailObject</th>\n",
       "      <th>LastEmailCCAddress</th>\n",
       "      <th>AttributesURL</th>\n",
       "      <th>ContactAttributesURL</th>\n",
       "      <th>ContactEmail</th>\n",
       "      <th>LastIncomingEmailContent</th>\n",
       "      <th>LastEmailCCAddressCount</th>\n",
       "    </tr>\n",
       "  </thead>\n",
       "  <tbody>\n",
       "    <tr>\n",
       "      <th>0</th>\n",
       "      <td>100124562</td>\n",
       "      <td>0</td>\n",
       "      <td>T039</td>\n",
       "      <td>US-NOR-CMA-BKG-PREFERRED</td>\n",
       "      <td>NaN</td>\n",
       "      <td>NAM4999926A</td>\n",
       "      <td>op@easywayintl.com</td>\n",
       "      <td>5005p00002evRjHAAU</td>\n",
       "      <td>0035p00003aZAdZAAW</td>\n",
       "      <td>usa.wcportops@cma-cgm.com</td>\n",
       "      <td>\\nThank you Jessica! Await your further on th...</td>\n",
       "      <td>1</td>\n",
       "    </tr>\n",
       "    <tr>\n",
       "      <th>1</th>\n",
       "      <td>100080371</td>\n",
       "      <td>0</td>\n",
       "      <td>T036</td>\n",
       "      <td>US-BNA-CMA-CS-IMP-DIVERSIONS</td>\n",
       "      <td>NaN</td>\n",
       "      <td>MOGELIJKE COD'S F119086 // RTM</td>\n",
       "      <td>janneke.van.leeuwen@fclmarine.nl; executivedes...</td>\n",
       "      <td>5005p00002evWsuAAE</td>\n",
       "      <td>0030N00003N771RQAR</td>\n",
       "      <td>janneke.van.leeuwen@fclmarine.nl</td>\n",
       "      <td>\\nHi Nese,\\n \\nInmiddels de aangepaste bl’s al...</td>\n",
       "      <td>5</td>\n",
       "    </tr>\n",
       "    <tr>\n",
       "      <th>2</th>\n",
       "      <td>100095395</td>\n",
       "      <td>0</td>\n",
       "      <td>T035</td>\n",
       "      <td>US-NOR-CMA-BKG-PREFERRED</td>\n",
       "      <td>tina@generallogistics.net</td>\n",
       "      <td>AMEND NAM5088900    [ ref:_00D</td>\n",
       "      <td>bookings@generallogistics.net</td>\n",
       "      <td>5005p00002evX4SAAU</td>\n",
       "      <td>0030N00002x1JqPQAU</td>\n",
       "      <td>tina@generallogistics.net</td>\n",
       "      <td>\\nHello,\\nPlease SPLIT subject line booking to...</td>\n",
       "      <td>1</td>\n",
       "    </tr>\n",
       "    <tr>\n",
       "      <th>3</th>\n",
       "      <td>100097054</td>\n",
       "      <td>0</td>\n",
       "      <td>T847</td>\n",
       "      <td>US-NOR-CMA-BKG-SPECIALTY</td>\n",
       "      <td>bookings@delongcompany.com</td>\n",
       "      <td>FW: CMA CGM - Cut-off date cha</td>\n",
       "      <td>usa.cmaexportactive@usa.cma-cgm.com</td>\n",
       "      <td>5005p00002evXIsAAM</td>\n",
       "      <td>0030N00002tXvvIQAS</td>\n",
       "      <td>bookings@delongcompany.com</td>\n",
       "      <td>CMA CGM - Cut-off date change at - NEW YORK, N...</td>\n",
       "      <td>1</td>\n",
       "    </tr>\n",
       "    <tr>\n",
       "      <th>4</th>\n",
       "      <td>100097055</td>\n",
       "      <td>0</td>\n",
       "      <td>T847</td>\n",
       "      <td>US-NOR-CMA-BKG-SPECIALTY</td>\n",
       "      <td>bookings@delongcompany.com</td>\n",
       "      <td>FW: CMA CGM - Cut-off date cha</td>\n",
       "      <td>NaN</td>\n",
       "      <td>5005p00002evXItAAM</td>\n",
       "      <td>0030N00002tXvvIQAS</td>\n",
       "      <td>bookings@delongcompany.com</td>\n",
       "      <td>CMA CGM - Cut-off date change at - NEW YORK, N...</td>\n",
       "      <td>0</td>\n",
       "    </tr>\n",
       "  </tbody>\n",
       "</table>\n",
       "</div>"
      ],
      "text/plain": [
       "   CaseNumber  Type Topics                      TeamName  \\\n",
       "0   100124562     0   T039      US-NOR-CMA-BKG-PREFERRED   \n",
       "1   100080371     0   T036  US-BNA-CMA-CS-IMP-DIVERSIONS   \n",
       "2   100095395     0   T035      US-NOR-CMA-BKG-PREFERRED   \n",
       "3   100097054     0   T847      US-NOR-CMA-BKG-SPECIALTY   \n",
       "4   100097055     0   T847      US-NOR-CMA-BKG-SPECIALTY   \n",
       "\n",
       "               RequesterEmail                      EmailObject  \\\n",
       "0                         NaN                     NAM4999926A    \n",
       "1                         NaN  MOGELIJKE COD'S F119086 // RTM    \n",
       "2   tina@generallogistics.net  AMEND NAM5088900    [ ref:_00D    \n",
       "3  bookings@delongcompany.com  FW: CMA CGM - Cut-off date cha    \n",
       "4  bookings@delongcompany.com  FW: CMA CGM - Cut-off date cha    \n",
       "\n",
       "                                  LastEmailCCAddress       AttributesURL  \\\n",
       "0                                 op@easywayintl.com  5005p00002evRjHAAU   \n",
       "1  janneke.van.leeuwen@fclmarine.nl; executivedes...  5005p00002evWsuAAE   \n",
       "2                      bookings@generallogistics.net  5005p00002evX4SAAU   \n",
       "3                usa.cmaexportactive@usa.cma-cgm.com  5005p00002evXIsAAM   \n",
       "4                                                NaN  5005p00002evXItAAM   \n",
       "\n",
       "  ContactAttributesURL                      ContactEmail  \\\n",
       "0   0035p00003aZAdZAAW         usa.wcportops@cma-cgm.com   \n",
       "1   0030N00003N771RQAR  janneke.van.leeuwen@fclmarine.nl   \n",
       "2   0030N00002x1JqPQAU         tina@generallogistics.net   \n",
       "3   0030N00002tXvvIQAS        bookings@delongcompany.com   \n",
       "4   0030N00002tXvvIQAS        bookings@delongcompany.com   \n",
       "\n",
       "                            LastIncomingEmailContent  LastEmailCCAddressCount  \n",
       "0   \\nThank you Jessica! Await your further on th...                        1  \n",
       "1  \\nHi Nese,\\n \\nInmiddels de aangepaste bl’s al...                        5  \n",
       "2  \\nHello,\\nPlease SPLIT subject line booking to...                        1  \n",
       "3  CMA CGM - Cut-off date change at - NEW YORK, N...                        1  \n",
       "4  CMA CGM - Cut-off date change at - NEW YORK, N...                        0  "
      ]
     },
     "execution_count": 38,
     "metadata": {},
     "output_type": "execute_result"
    }
   ],
   "source": [
    "df_clean.head()"
   ]
  },
  {
   "cell_type": "code",
   "execution_count": 4,
   "metadata": {},
   "outputs": [],
   "source": [
    "import re\n",
    "\n",
    "## create a function\n",
    "def clean_text(text):\n",
    "\n",
    "    # convert text to string\n",
    "    text = str(text)\n",
    "    text = parenthesis_cleaner(text)\n",
    "\n",
    "    if text.find('From:'):\n",
    "        # cut the text after the first occurrence of \"From:\"\n",
    "        text = text.split(\"From:\")[0]\n",
    "    elif text.find('Sent:'):\n",
    "        # cut the text after the first occurrence of \"Sent:\"\n",
    "        text = text.split(\"Sent:\")[0]\n",
    "    elif text.find('To:'):\n",
    "        # cut the text after the first occurrence of \"To:\"\n",
    "        text = text.split(\"To:\")[0]\n",
    "    elif len(text) < 25:\n",
    "        text = \" \"\n",
    "    else:\n",
    "        text = text\n",
    "        \n",
    "    # Clean the rest of the text\n",
    "\n",
    "    # remove html tags\n",
    "    text = re.sub(r'<.*?>', '', text) \n",
    "\n",
    "    # convert text to lowercase\n",
    "    text = text.strip().lower()\n",
    "\n",
    "    # remove punctuation\n",
    "    # text = re.sub(r'[^\\w\\s]', '', text)\n",
    "\n",
    "    # remove numbers\n",
    "    text = re.sub(r'\\d+', '', text)\n",
    "\n",
    "    # remove extra whitespace\n",
    "    text = re.sub(r'\\s+', ' ', text)\n",
    "\n",
    "    return text"
   ]
  },
  {
   "cell_type": "code",
   "execution_count": 6,
   "metadata": {},
   "outputs": [
    {
     "name": "stderr",
     "output_type": "stream",
     "text": [
      "100%|██████████| 251234/251234 [01:15<00:00, 3336.64it/s]\n"
     ]
    }
   ],
   "source": [
    "from tqdm import tqdm\n",
    "tqdm.pandas()\n",
    "\n",
    "# apply the function on the LastIncomingEmailContent\n",
    "df_clean = pd.read_csv('/Users/victor/Documents/Confidential Dataset/ML_NOAC_NOVA_Extraction_Cleaned.csv')\n",
    "\n",
    "df_clean = df_clean.replace(r'\\n\\n',' ', regex=True) \n",
    "df_clean = df_clean.replace(r'  ',' ', regex=True) \n",
    "df_clean = df_clean.replace(r'\\t\\t',' ', regex=True) \n",
    "df_clean[\"LastEmailContent\"] = df_clean[\"LastIncomingEmailContent\"].progress_apply(clean_text)"
   ]
  },
  {
   "cell_type": "code",
   "execution_count": 7,
   "metadata": {},
   "outputs": [
    {
     "data": {
      "text/html": [
       "<div>\n",
       "<style scoped>\n",
       "    .dataframe tbody tr th:only-of-type {\n",
       "        vertical-align: middle;\n",
       "    }\n",
       "\n",
       "    .dataframe tbody tr th {\n",
       "        vertical-align: top;\n",
       "    }\n",
       "\n",
       "    .dataframe thead th {\n",
       "        text-align: right;\n",
       "    }\n",
       "</style>\n",
       "<table border=\"1\" class=\"dataframe\">\n",
       "  <thead>\n",
       "    <tr style=\"text-align: right;\">\n",
       "      <th></th>\n",
       "      <th>CaseNumber</th>\n",
       "      <th>Type</th>\n",
       "      <th>Topics</th>\n",
       "      <th>TeamName</th>\n",
       "      <th>RequesterEmail</th>\n",
       "      <th>EmailObject</th>\n",
       "      <th>LastEmailCCAddress</th>\n",
       "      <th>AttributesURL</th>\n",
       "      <th>ContactAttributesURL</th>\n",
       "      <th>ContactEmail</th>\n",
       "      <th>LastIncomingEmailContent</th>\n",
       "      <th>LastEmailCCAddressCount</th>\n",
       "      <th>LastEmailContent</th>\n",
       "    </tr>\n",
       "  </thead>\n",
       "  <tbody>\n",
       "    <tr>\n",
       "      <th>0</th>\n",
       "      <td>100124562</td>\n",
       "      <td>0</td>\n",
       "      <td>T039</td>\n",
       "      <td>US-NOR-CMA-BKG-PREFERRED</td>\n",
       "      <td>NaN</td>\n",
       "      <td>NAM4999926A</td>\n",
       "      <td>op@easywayintl.com</td>\n",
       "      <td>5005p00002evRjHAAU</td>\n",
       "      <td>0035p00003aZAdZAAW</td>\n",
       "      <td>usa.wcportops@cma-cgm.com</td>\n",
       "      <td>\\nThank you Jessica! Await your further on th...</td>\n",
       "      <td>1</td>\n",
       "      <td>thank you jessica! await your further on the t...</td>\n",
       "    </tr>\n",
       "    <tr>\n",
       "      <th>1</th>\n",
       "      <td>100080371</td>\n",
       "      <td>0</td>\n",
       "      <td>T036</td>\n",
       "      <td>US-BNA-CMA-CS-IMP-DIVERSIONS</td>\n",
       "      <td>NaN</td>\n",
       "      <td>MOGELIJKE COD'S F119086 // RTM</td>\n",
       "      <td>janneke.van.leeuwen@fclmarine.nl; executivedes...</td>\n",
       "      <td>5005p00002evWsuAAE</td>\n",
       "      <td>0030N00003N771RQAR</td>\n",
       "      <td>janneke.van.leeuwen@fclmarine.nl</td>\n",
       "      <td>\\nHi Nese,\\n \\nInmiddels de aangepaste bl’s al...</td>\n",
       "      <td>5</td>\n",
       "      <td>hi nese, inmiddels de aangepaste bl’s al besch...</td>\n",
       "    </tr>\n",
       "    <tr>\n",
       "      <th>2</th>\n",
       "      <td>100095395</td>\n",
       "      <td>0</td>\n",
       "      <td>T035</td>\n",
       "      <td>US-NOR-CMA-BKG-PREFERRED</td>\n",
       "      <td>tina@generallogistics.net</td>\n",
       "      <td>AMEND NAM5088900  [ ref:_00D</td>\n",
       "      <td>bookings@generallogistics.net</td>\n",
       "      <td>5005p00002evX4SAAU</td>\n",
       "      <td>0030N00002x1JqPQAU</td>\n",
       "      <td>tina@generallogistics.net</td>\n",
       "      <td>\\nHello,\\nPlease SPLIT subject line booking to...</td>\n",
       "      <td>1</td>\n",
       "      <td>hello, please split subject line booking to th...</td>\n",
       "    </tr>\n",
       "    <tr>\n",
       "      <th>3</th>\n",
       "      <td>100097054</td>\n",
       "      <td>0</td>\n",
       "      <td>T847</td>\n",
       "      <td>US-NOR-CMA-BKG-SPECIALTY</td>\n",
       "      <td>bookings@delongcompany.com</td>\n",
       "      <td>FW: CMA CGM - Cut-off date cha</td>\n",
       "      <td>usa.cmaexportactive@usa.cma-cgm.com</td>\n",
       "      <td>5005p00002evXIsAAM</td>\n",
       "      <td>0030N00002tXvvIQAS</td>\n",
       "      <td>bookings@delongcompany.com</td>\n",
       "      <td>CMA CGM - Cut-off date change at - NEW YORK, N...</td>\n",
       "      <td>1</td>\n",
       "      <td>cma cgm - cut-off date change at - new york, n...</td>\n",
       "    </tr>\n",
       "    <tr>\n",
       "      <th>4</th>\n",
       "      <td>100097055</td>\n",
       "      <td>0</td>\n",
       "      <td>T847</td>\n",
       "      <td>US-NOR-CMA-BKG-SPECIALTY</td>\n",
       "      <td>bookings@delongcompany.com</td>\n",
       "      <td>FW: CMA CGM - Cut-off date cha</td>\n",
       "      <td>NaN</td>\n",
       "      <td>5005p00002evXItAAM</td>\n",
       "      <td>0030N00002tXvvIQAS</td>\n",
       "      <td>bookings@delongcompany.com</td>\n",
       "      <td>CMA CGM - Cut-off date change at - NEW YORK, N...</td>\n",
       "      <td>0</td>\n",
       "      <td>cma cgm - cut-off date change at - new york, n...</td>\n",
       "    </tr>\n",
       "  </tbody>\n",
       "</table>\n",
       "</div>"
      ],
      "text/plain": [
       "   CaseNumber  Type Topics                      TeamName  \\\n",
       "0   100124562     0   T039      US-NOR-CMA-BKG-PREFERRED   \n",
       "1   100080371     0   T036  US-BNA-CMA-CS-IMP-DIVERSIONS   \n",
       "2   100095395     0   T035      US-NOR-CMA-BKG-PREFERRED   \n",
       "3   100097054     0   T847      US-NOR-CMA-BKG-SPECIALTY   \n",
       "4   100097055     0   T847      US-NOR-CMA-BKG-SPECIALTY   \n",
       "\n",
       "               RequesterEmail                      EmailObject  \\\n",
       "0                         NaN                     NAM4999926A    \n",
       "1                         NaN  MOGELIJKE COD'S F119086 // RTM    \n",
       "2   tina@generallogistics.net    AMEND NAM5088900  [ ref:_00D    \n",
       "3  bookings@delongcompany.com  FW: CMA CGM - Cut-off date cha    \n",
       "4  bookings@delongcompany.com  FW: CMA CGM - Cut-off date cha    \n",
       "\n",
       "                                  LastEmailCCAddress       AttributesURL  \\\n",
       "0                                 op@easywayintl.com  5005p00002evRjHAAU   \n",
       "1  janneke.van.leeuwen@fclmarine.nl; executivedes...  5005p00002evWsuAAE   \n",
       "2                      bookings@generallogistics.net  5005p00002evX4SAAU   \n",
       "3                usa.cmaexportactive@usa.cma-cgm.com  5005p00002evXIsAAM   \n",
       "4                                                NaN  5005p00002evXItAAM   \n",
       "\n",
       "  ContactAttributesURL                      ContactEmail  \\\n",
       "0   0035p00003aZAdZAAW         usa.wcportops@cma-cgm.com   \n",
       "1   0030N00003N771RQAR  janneke.van.leeuwen@fclmarine.nl   \n",
       "2   0030N00002x1JqPQAU         tina@generallogistics.net   \n",
       "3   0030N00002tXvvIQAS        bookings@delongcompany.com   \n",
       "4   0030N00002tXvvIQAS        bookings@delongcompany.com   \n",
       "\n",
       "                            LastIncomingEmailContent  LastEmailCCAddressCount  \\\n",
       "0   \\nThank you Jessica! Await your further on th...                        1   \n",
       "1  \\nHi Nese,\\n \\nInmiddels de aangepaste bl’s al...                        5   \n",
       "2  \\nHello,\\nPlease SPLIT subject line booking to...                        1   \n",
       "3  CMA CGM - Cut-off date change at - NEW YORK, N...                        1   \n",
       "4  CMA CGM - Cut-off date change at - NEW YORK, N...                        0   \n",
       "\n",
       "                                    LastEmailContent  \n",
       "0  thank you jessica! await your further on the t...  \n",
       "1  hi nese, inmiddels de aangepaste bl’s al besch...  \n",
       "2  hello, please split subject line booking to th...  \n",
       "3  cma cgm - cut-off date change at - new york, n...  \n",
       "4  cma cgm - cut-off date change at - new york, n...  "
      ]
     },
     "execution_count": 7,
     "metadata": {},
     "output_type": "execute_result"
    }
   ],
   "source": [
    "df_clean.head()"
   ]
  },
  {
   "cell_type": "code",
   "execution_count": 10,
   "metadata": {},
   "outputs": [],
   "source": [
    "with open('../data/emails_cleaned.txt', 'w') as f:\n",
    "    for row in df_clean[\"LastEmailContent\"]:\n",
    "        # print the row in a new text file\n",
    "        f.write(row + \"\\n ----------------------------------------------- \\n\")"
   ]
  },
  {
   "cell_type": "markdown",
   "metadata": {},
   "source": [
    "### Last step - Clean the text of the last email:\n",
    "Remove special characters and stuff."
   ]
  },
  {
   "cell_type": "code",
   "execution_count": 273,
   "metadata": {},
   "outputs": [
    {
     "data": {
      "text/plain": [
       "'HelloPlease send us the updated booking confirmations for these 2 bookingsThank you!\\n\\n\\n Candace Williams \\n\\n\\nEnterprise Coordinator\\n\\n\\n\\n Steam Logistics\\n\\n\\n\\n\\n\\n\\n\\n\\n\\n\\n\\n                                                        8332262953\\n                                                    \\n\\n\\n\\n\\n\\n\\n\\n\\n\\ncandacewilliamssteamlogisticscom\\n\\n\\n\\n\\n\\n\\n\\n\\n\\nsteamlogisticscom\\n\\n\\n\\n\\n\\n\\n\\n\\n 325 Market Street Suite 204 Chattanooga TN 37402\\n\\n\\n\\n\\n\\n\\n\\n\\n\\n\\n\\n\\n\\n\\n\\n\\n\\n\\n\\n\\n\\n\\n\\n\\n\\n\\n\\n\\n\\n\\n\\n\\n\\n\\n\\n\\n\\nOn February 28 2022 237 PM EST websitenoreplycmacgmcom wrote\\n\\n\\n\\n\\n\\n\\n\\n\\n\\n\\n\\neBusiness \\n                                        \\xa0\\xa0\\n                                        Notifications\\n\\n\\nCMA CGM  Cutoff date change at LONG BEACH CA US\\n\\n\\nDear customer\\n\\n\\t\\t\\t\\tThe cutoff date of voyage 0TIB8W1MA at LONG BEACH CA US has changed \\nThe previous cutoff was 312022 at 400 PM \\n\\t\\t\\tThe new cutoff is 3112022 at 400 PM\\n\\t\\t\\nYour shipments impacted by this change are the following\\n\\nBooking ref NAM5053343  From LONG BEACH CA to BUSAN KOREA\\nBooking ref NAM4943644  From LONG BEACH CA to BUSAN KOREA\\n\\n\\n\\n\\n\\n\\nPOL  LONG BEACH CA\\n\\n\\n\\nPOD  BUSAN KOREA\\n\\n\\n\\n\\n\\n\\n\\nVoyage  \\n\\t\\t\\t\\t\\t\\t\\t\\t\\t\\t0TIB8W1MA\\n\\t\\t\\t\\t\\t\\t\\t\\t\\t\\n\\n\\n\\n\\n\\nVessel  OOCL UTAH\\n\\n\\n\\n\\nBooking Ref\\n\\n\\n\\t\\t\\t\\t\\t\\t\\t\\t\\t\\t\\tNAM5053343\\n\\t\\t\\t\\t\\t\\t\\t\\t\\t\\t\\nBooking Party\\n\\nSTEAM LOGISTICS  CHATTANOOGA US\\t\\t\\t\\t\\t\\t\\t\\t  5404658597\\t\\t\\t\\t\\t\\t\\t\\nShipper\\n\\nSTEAM LOGISTICS  CHATTANOOGA \\t\\t\\t\\t\\t\\t\\t\\t\\t\\t\\t\\t\\t\\n\\n\\n\\n                You are receiving this email because your account is subscribed To modify your subscriptions please go to Manage subscriptions\\n\\n\\nThis is an automated message please do not reply\\nIf you have any comments or questions please  contact us \\n\\n\\xa0\\n\\nFollow the CMA CGM Group on  \\n\\n \\xa0\\n             \\xa0\\n             \\xa0\\n             \\xa0\\n            \\n\\n\\n© 2022 CMA CGM\\n\\n\\n\\n\\n'"
      ]
     },
     "execution_count": 273,
     "metadata": {},
     "output_type": "execute_result"
    }
   ],
   "source": [
    "import re\n",
    "\n",
    "mystring = df_to_clean[\"LastIncomingEmailContent\"].iloc[3]\n",
    "\n",
    "# re.sub('\\W+','', mystring )\n",
    "\n",
    "re.sub(r\"[-()\\\"#/@;:<>{}=~|.?,]\", \"\", mystring)\n"
   ]
  },
  {
   "cell_type": "code",
   "execution_count": 8,
   "metadata": {},
   "outputs": [],
   "source": [
    "# extract the rows for which the length of LastIncomingEmailContent is empty\n",
    "subset = df_clean[df_clean[\"LastIncomingEmailContent\"].str.len() < 5]"
   ]
  },
  {
   "cell_type": "code",
   "execution_count": 10,
   "metadata": {},
   "outputs": [
    {
     "data": {
      "text/plain": [
       "<AxesSubplot:>"
      ]
     },
     "execution_count": 10,
     "metadata": {},
     "output_type": "execute_result"
    },
    {
     "data": {
      "image/png": "[encoded data removed]",
      "text/plain": [
       "<Figure size 640x480 with 1 Axes>"
      ]
     },
     "metadata": {},
     "output_type": "display_data"
    }
   ],
   "source": [
    "# plot the Type of subset\n",
    "subset[\"Type\"].value_counts().plot(kind='bar')"
   ]
  },
  {
   "cell_type": "code",
   "execution_count": null,
   "metadata": {},
   "outputs": [],
   "source": []
  }
 ],
 "metadata": {
  "kernelspec": {
   "display_name": "Python 3.10.4 ('alab_env')",
   "language": "python",
   "name": "python3"
  },
  "language_info": {
   "codemirror_mode": {
    "name": "ipython",
    "version": 3
   },
   "file_extension": ".py",
   "mimetype": "text/x-python",
   "name": "python",
   "nbconvert_exporter": "python",
   "pygments_lexer": "ipython3",
   "version": "3.10.4"
  },
  "orig_nbformat": 4,
  "vscode": {
   "interpreter": {
    "hash": "bfe6f45ecf374f0b90968f2209cadc71235e6ef8554841b35fd27a05b14fd144"
   }
  }
 },
 "nbformat": 4,
 "nbformat_minor": 2
}
