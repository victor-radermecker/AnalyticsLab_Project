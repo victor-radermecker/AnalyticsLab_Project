{
 "cells": [
  {
   "cell_type": "code",
   "execution_count": 29,
   "metadata": {},
   "outputs": [],
   "source": [
    "import numpy as np\n",
    "import pandas as pd\n",
    "import string\n",
    "import spacy\n",
    "import re\n",
    "from sklearn.decomposition import PCA\n",
    "import plotly.express as px\n",
    "from sklearn.model_selection import train_test_split\n",
    "from sklearn.feature_extraction._stop_words import ENGLISH_STOP_WORDS\n",
    "from tqdm import tqdm\n",
    "from sklearn.preprocessing import LabelEncoder\n",
    "from keras.preprocessing.text import Tokenizer\n",
    "from keras_preprocessing.sequence import pad_sequences\n",
    "from keras.layers import Dense, Input, LSTM, Embedding, Dropout, Activation\n",
    "from keras.layers import Bidirectional\n",
    "from keras.models import Model\n",
    "import tensorflow as tf\n",
    "from  matplotlib import pyplot as plt\n",
    "from sklearn.metrics import confusion_matrix,f1_score, precision_score,recall_score\n",
    "import seaborn as sns\n",
    "import matplotlib.pyplot as plt"
   ]
  },
  {
   "cell_type": "code",
   "execution_count": 2,
   "metadata": {},
   "outputs": [
    {
     "data": {
      "text/html": [
       "<div>\n",
       "<style scoped>\n",
       "    .dataframe tbody tr th:only-of-type {\n",
       "        vertical-align: middle;\n",
       "    }\n",
       "\n",
       "    .dataframe tbody tr th {\n",
       "        vertical-align: top;\n",
       "    }\n",
       "\n",
       "    .dataframe thead th {\n",
       "        text-align: right;\n",
       "    }\n",
       "</style>\n",
       "<table border=\"1\" class=\"dataframe\">\n",
       "  <thead>\n",
       "    <tr style=\"text-align: right;\">\n",
       "      <th></th>\n",
       "      <th>index</th>\n",
       "      <th>CaseNumber</th>\n",
       "      <th>Type</th>\n",
       "      <th>Topics</th>\n",
       "      <th>TeamName</th>\n",
       "      <th>RequesterEmail</th>\n",
       "      <th>EmailObject</th>\n",
       "      <th>LastEmailCCAddress</th>\n",
       "      <th>AttributesURL</th>\n",
       "      <th>ContactAttributesURL</th>\n",
       "      <th>ContactEmail</th>\n",
       "      <th>LastIncomingEmailContent</th>\n",
       "      <th>LastEmailCCAddressCount</th>\n",
       "      <th>CMA_in_cc</th>\n",
       "      <th>CountMailsInConversation</th>\n",
       "    </tr>\n",
       "  </thead>\n",
       "  <tbody>\n",
       "    <tr>\n",
       "      <th>0</th>\n",
       "      <td>0</td>\n",
       "      <td>100124562.0</td>\n",
       "      <td>0.0</td>\n",
       "      <td>T039</td>\n",
       "      <td>US-NOR-CMA-BKG-PREFERRED</td>\n",
       "      <td>NaN</td>\n",
       "      <td>NAM4999926A</td>\n",
       "      <td>op@easywayintl.com</td>\n",
       "      <td>5005p00002evRjHAAU</td>\n",
       "      <td>0035p00003aZAdZAAW</td>\n",
       "      <td>usa.wcportops@cma-cgm.com</td>\n",
       "      <td>\\n\\n\\nThank you Jessica! Await your further on...</td>\n",
       "      <td>1.0</td>\n",
       "      <td>False</td>\n",
       "      <td>3</td>\n",
       "    </tr>\n",
       "    <tr>\n",
       "      <th>1</th>\n",
       "      <td>1</td>\n",
       "      <td>100080371.0</td>\n",
       "      <td>0.0</td>\n",
       "      <td>T036</td>\n",
       "      <td>US-BNA-CMA-CS-IMP-DIVERSIONS</td>\n",
       "      <td>NaN</td>\n",
       "      <td>MOGELIJKE COD'S F119086 // RTM</td>\n",
       "      <td>janneke.van.leeuwen@fclmarine.nl; executivedes...</td>\n",
       "      <td>5005p00002evWsuAAE</td>\n",
       "      <td>0030N00003N771RQAR</td>\n",
       "      <td>janneke.van.leeuwen@fclmarine.nl</td>\n",
       "      <td>\\nHi Nese,\\n \\nInmiddels de aangepaste bl’s al...</td>\n",
       "      <td>5.0</td>\n",
       "      <td>True</td>\n",
       "      <td>3</td>\n",
       "    </tr>\n",
       "    <tr>\n",
       "      <th>2</th>\n",
       "      <td>2</td>\n",
       "      <td>100095395.0</td>\n",
       "      <td>0.0</td>\n",
       "      <td>T035</td>\n",
       "      <td>US-NOR-CMA-BKG-PREFERRED</td>\n",
       "      <td>tina@generallogistics.net</td>\n",
       "      <td>AMEND NAM5088900    [ ref:_00D</td>\n",
       "      <td>bookings@generallogistics.net</td>\n",
       "      <td>5005p00002evX4SAAU</td>\n",
       "      <td>0030N00002x1JqPQAU</td>\n",
       "      <td>tina@generallogistics.net</td>\n",
       "      <td>\\nHello,\\nPlease SPLIT subject line booking to...</td>\n",
       "      <td>1.0</td>\n",
       "      <td>False</td>\n",
       "      <td>1</td>\n",
       "    </tr>\n",
       "    <tr>\n",
       "      <th>3</th>\n",
       "      <td>3</td>\n",
       "      <td>100097054.0</td>\n",
       "      <td>0.0</td>\n",
       "      <td>T847</td>\n",
       "      <td>US-NOR-CMA-BKG-SPECIALTY</td>\n",
       "      <td>bookings@delongcompany.com</td>\n",
       "      <td>FW: CMA CGM - Cut-off date cha</td>\n",
       "      <td>usa.cmaexportactive@usa.cma-cgm.com</td>\n",
       "      <td>5005p00002evXIsAAM</td>\n",
       "      <td>0030N00002tXvvIQAS</td>\n",
       "      <td>bookings@delongcompany.com</td>\n",
       "      <td>CMA CGM - Cut-off date change at - NEW YORK, N...</td>\n",
       "      <td>1.0</td>\n",
       "      <td>True</td>\n",
       "      <td>0</td>\n",
       "    </tr>\n",
       "    <tr>\n",
       "      <th>4</th>\n",
       "      <td>4</td>\n",
       "      <td>100097055.0</td>\n",
       "      <td>0.0</td>\n",
       "      <td>T847</td>\n",
       "      <td>US-NOR-CMA-BKG-SPECIALTY</td>\n",
       "      <td>bookings@delongcompany.com</td>\n",
       "      <td>FW: CMA CGM - Cut-off date cha</td>\n",
       "      <td>NaN</td>\n",
       "      <td>5005p00002evXItAAM</td>\n",
       "      <td>0030N00002tXvvIQAS</td>\n",
       "      <td>bookings@delongcompany.com</td>\n",
       "      <td>CMA CGM - Cut-off date change at - NEW YORK, N...</td>\n",
       "      <td>0.0</td>\n",
       "      <td>False</td>\n",
       "      <td>0</td>\n",
       "    </tr>\n",
       "  </tbody>\n",
       "</table>\n",
       "</div>"
      ],
      "text/plain": [
       "   index   CaseNumber  Type Topics                      TeamName  \\\n",
       "0      0  100124562.0   0.0   T039      US-NOR-CMA-BKG-PREFERRED   \n",
       "1      1  100080371.0   0.0   T036  US-BNA-CMA-CS-IMP-DIVERSIONS   \n",
       "2      2  100095395.0   0.0   T035      US-NOR-CMA-BKG-PREFERRED   \n",
       "3      3  100097054.0   0.0   T847      US-NOR-CMA-BKG-SPECIALTY   \n",
       "4      4  100097055.0   0.0   T847      US-NOR-CMA-BKG-SPECIALTY   \n",
       "\n",
       "               RequesterEmail                      EmailObject  \\\n",
       "0                         NaN                     NAM4999926A    \n",
       "1                         NaN  MOGELIJKE COD'S F119086 // RTM    \n",
       "2   tina@generallogistics.net  AMEND NAM5088900    [ ref:_00D    \n",
       "3  bookings@delongcompany.com  FW: CMA CGM - Cut-off date cha    \n",
       "4  bookings@delongcompany.com  FW: CMA CGM - Cut-off date cha    \n",
       "\n",
       "                                  LastEmailCCAddress       AttributesURL  \\\n",
       "0                                 op@easywayintl.com  5005p00002evRjHAAU   \n",
       "1  janneke.van.leeuwen@fclmarine.nl; executivedes...  5005p00002evWsuAAE   \n",
       "2                      bookings@generallogistics.net  5005p00002evX4SAAU   \n",
       "3                usa.cmaexportactive@usa.cma-cgm.com  5005p00002evXIsAAM   \n",
       "4                                                NaN  5005p00002evXItAAM   \n",
       "\n",
       "  ContactAttributesURL                      ContactEmail  \\\n",
       "0   0035p00003aZAdZAAW         usa.wcportops@cma-cgm.com   \n",
       "1   0030N00003N771RQAR  janneke.van.leeuwen@fclmarine.nl   \n",
       "2   0030N00002x1JqPQAU         tina@generallogistics.net   \n",
       "3   0030N00002tXvvIQAS        bookings@delongcompany.com   \n",
       "4   0030N00002tXvvIQAS        bookings@delongcompany.com   \n",
       "\n",
       "                            LastIncomingEmailContent  LastEmailCCAddressCount  \\\n",
       "0  \\n\\n\\nThank you Jessica! Await your further on...                      1.0   \n",
       "1  \\nHi Nese,\\n \\nInmiddels de aangepaste bl’s al...                      5.0   \n",
       "2  \\nHello,\\nPlease SPLIT subject line booking to...                      1.0   \n",
       "3  CMA CGM - Cut-off date change at - NEW YORK, N...                      1.0   \n",
       "4  CMA CGM - Cut-off date change at - NEW YORK, N...                      0.0   \n",
       "\n",
       "   CMA_in_cc  CountMailsInConversation  \n",
       "0      False                         3  \n",
       "1       True                         3  \n",
       "2      False                         1  \n",
       "3       True                         0  \n",
       "4      False                         0  "
      ]
     },
     "execution_count": 2,
     "metadata": {},
     "output_type": "execute_result"
    }
   ],
   "source": [
    "data = pd.read_csv(\"C:/Users/guill/Documents/ML_NOAC_NOVA_Extraction_Cleaned_2.csv\")\n",
    "data.head()"
   ]
  },
  {
   "cell_type": "code",
   "execution_count": 3,
   "metadata": {},
   "outputs": [],
   "source": [
    "emails_train, emails_test, target_train, target_test = train_test_split(data[\"LastIncomingEmailContent\"],data[\"Type\"],test_size = 0.2) "
   ]
  },
  {
   "cell_type": "code",
   "execution_count": 4,
   "metadata": {},
   "outputs": [],
   "source": [
    "def to_lower(word):\n",
    "    result = word.lower()\n",
    "    return result"
   ]
  },
  {
   "cell_type": "code",
   "execution_count": 5,
   "metadata": {},
   "outputs": [],
   "source": [
    "def remove_punctuation(word):\n",
    "    result= word.translate(str.maketrans(dict.fromkeys(string.punctuation)))\n",
    "    return result"
   ]
  },
  {
   "cell_type": "code",
   "execution_count": 6,
   "metadata": {},
   "outputs": [],
   "source": [
    "def remove_stop_words(words):\n",
    "    result = [i for i in words if i not in ENGLISH_STOP_WORDS]\n",
    "    return result"
   ]
  },
  {
   "cell_type": "code",
   "execution_count": 7,
   "metadata": {},
   "outputs": [],
   "source": [
    "def remove_hyperlink(word):\n",
    "    return re.sub(r\"http\\S+\", \"\", word)"
   ]
  },
  {
   "cell_type": "code",
   "execution_count": 8,
   "metadata": {},
   "outputs": [],
   "source": [
    "def replace_newline(word):\n",
    "    return word.replace('\\n','')"
   ]
  },
  {
   "cell_type": "code",
   "execution_count": 9,
   "metadata": {},
   "outputs": [],
   "source": [
    "def remove_number(word):\n",
    "    result = re.sub(r'\\d+', '', word)\n",
    "    return result"
   ]
  },
  {
   "cell_type": "code",
   "execution_count": 10,
   "metadata": {},
   "outputs": [],
   "source": [
    "def remove_whitespace(word):\n",
    "    result = word.strip()\n",
    "    return result"
   ]
  },
  {
   "cell_type": "code",
   "execution_count": 11,
   "metadata": {},
   "outputs": [],
   "source": [
    "def clean_up_pipeline(sentence):\n",
    "    cleaning_utils = [remove_hyperlink,\n",
    "                      replace_newline,\n",
    "                      to_lower,\n",
    "                      remove_number,\n",
    "                      remove_punctuation,\n",
    "                      remove_whitespace]\n",
    "    for o in cleaning_utils:\n",
    "        sentence = o(sentence)\n",
    "    return sentence"
   ]
  },
  {
   "cell_type": "code",
   "execution_count": 12,
   "metadata": {},
   "outputs": [
    {
     "name": "stderr",
     "output_type": "stream",
     "text": [
      "100%|██████████| 200932/200932 [00:38<00:00, 5217.14it/s]\n"
     ]
    }
   ],
   "source": [
    "x_train = [clean_up_pipeline(o) for o in tqdm(emails_train)]"
   ]
  },
  {
   "cell_type": "code",
   "execution_count": 13,
   "metadata": {},
   "outputs": [
    {
     "name": "stderr",
     "output_type": "stream",
     "text": [
      "100%|██████████| 50234/50234 [00:09<00:00, 5243.20it/s]\n"
     ]
    }
   ],
   "source": [
    "x_test = [clean_up_pipeline(o) for o in tqdm(emails_test)]"
   ]
  },
  {
   "cell_type": "code",
   "execution_count": 14,
   "metadata": {},
   "outputs": [],
   "source": [
    "le = LabelEncoder()\n",
    "train_y = le.fit_transform(target_train.values)\n",
    "test_y = le.transform(target_test.values)"
   ]
  },
  {
   "cell_type": "code",
   "execution_count": 20,
   "metadata": {},
   "outputs": [],
   "source": [
    "## some config values \n",
    "embed_size = 100 # how big is each word vector\n",
    "max_feature = 5000 # how many unique words to use (i.e num rows in embedding vector)\n",
    "max_len = 200 # max number of words in a question to use"
   ]
  },
  {
   "cell_type": "code",
   "execution_count": 21,
   "metadata": {},
   "outputs": [
    {
     "name": "stderr",
     "output_type": "stream",
     "text": [
      "C:\\Users\\guill\\AppData\\Local\\Temp\\ipykernel_36740\\904228051.py:3: VisibleDeprecationWarning: Creating an ndarray from ragged nested sequences (which is a list-or-tuple of lists-or-tuples-or ndarrays with different lengths or shapes) is deprecated. If you meant to do this, you must specify 'dtype=object' when creating the ndarray.\n",
      "  x_train_features = np.array(tokenizer.texts_to_sequences(x_train))\n",
      "C:\\Users\\guill\\AppData\\Local\\Temp\\ipykernel_36740\\904228051.py:4: VisibleDeprecationWarning: Creating an ndarray from ragged nested sequences (which is a list-or-tuple of lists-or-tuples-or ndarrays with different lengths or shapes) is deprecated. If you meant to do this, you must specify 'dtype=object' when creating the ndarray.\n",
      "  x_test_features = np.array(tokenizer.texts_to_sequences(x_test))\n"
     ]
    }
   ],
   "source": [
    "tokenizer = Tokenizer(num_words=max_feature)\n",
    "tokenizer.fit_on_texts(x_train)\n",
    "x_train_features = np.array(tokenizer.texts_to_sequences(x_train))\n",
    "x_test_features = np.array(tokenizer.texts_to_sequences(x_test))"
   ]
  },
  {
   "cell_type": "code",
   "execution_count": 22,
   "metadata": {},
   "outputs": [],
   "source": [
    "x_train_features = pad_sequences(x_train_features,maxlen=max_len)\n",
    "x_test_features = pad_sequences(x_test_features,maxlen=max_len)"
   ]
  },
  {
   "cell_type": "code",
   "execution_count": 47,
   "metadata": {},
   "outputs": [
    {
     "name": "stdout",
     "output_type": "stream",
     "text": [
      "Model: \"sequential_7\"\n",
      "_________________________________________________________________\n",
      " Layer (type)                Output Shape              Param #   \n",
      "=================================================================\n",
      " embedding_7 (Embedding)     (None, 200, 32)           160000    \n",
      "                                                                 \n",
      " bidirectional_7 (Bidirectio  (None, 128)              49664     \n",
      " nal)                                                            \n",
      "                                                                 \n",
      " dense_14 (Dense)            (None, 16)                2064      \n",
      "                                                                 \n",
      " dropout_7 (Dropout)         (None, 16)                0         \n",
      "                                                                 \n",
      " dense_15 (Dense)            (None, 1)                 17        \n",
      "                                                                 \n",
      "=================================================================\n",
      "Total params: 211,745\n",
      "Trainable params: 211,745\n",
      "Non-trainable params: 0\n",
      "_________________________________________________________________\n",
      "None\n"
     ]
    }
   ],
   "source": [
    "#size of the output vector from each layer\n",
    "embedding_vector_length = 32\n",
    "#Creating a sequential model\n",
    "model = tf.keras.Sequential()\n",
    "#Creating an embedding layer to vectorize\n",
    "model.add(Embedding(max_feature, embedding_vector_length, input_length=max_len))\n",
    "#Addding Bi-directional LSTM\n",
    "model.add(Bidirectional(tf.keras.layers.LSTM(64)))\n",
    "#Relu allows converging quickly and allows backpropagation\n",
    "model.add(Dense(16, activation='relu'))\n",
    "#Deep Learninng models can be overfit easily, to avoid this, we add randomization using drop out\n",
    "model.add(Dropout(0.1))\n",
    "#Adding sigmoid activation function to normalize the output\n",
    "model.add(Dense(1, activation='sigmoid'))\n",
    "model.compile(loss='binary_crossentropy', optimizer='adam', metrics=[tf.keras.metrics.Precision()])\n",
    "print(model.summary())"
   ]
  },
  {
   "cell_type": "code",
   "execution_count": 25,
   "metadata": {},
   "outputs": [
    {
     "name": "stdout",
     "output_type": "stream",
     "text": [
      "Num GPUs Available:  1\n"
     ]
    }
   ],
   "source": [
    "print(\"Num GPUs Available: \", len(tf.config.experimental.list_physical_devices('GPU'))) #print no of GPU device"
   ]
  },
  {
   "cell_type": "code",
   "execution_count": 48,
   "metadata": {},
   "outputs": [
    {
     "name": "stdout",
     "output_type": "stream",
     "text": [
      "Epoch 1/20\n",
      "393/393 [==============================] - 21s 49ms/step - loss: 0.4876 - precision_7: 0.6437 - val_loss: 0.4457 - val_precision_7: 0.6714\n",
      "Epoch 2/20\n",
      "393/393 [==============================] - 19s 47ms/step - loss: 0.4335 - precision_7: 0.6802 - val_loss: 0.4310 - val_precision_7: 0.6617\n",
      "Epoch 3/20\n",
      "393/393 [==============================] - 19s 48ms/step - loss: 0.4148 - precision_7: 0.7005 - val_loss: 0.4241 - val_precision_7: 0.6923\n",
      "Epoch 4/20\n",
      "393/393 [==============================] - 19s 47ms/step - loss: 0.4018 - precision_7: 0.7145 - val_loss: 0.4214 - val_precision_7: 0.7116\n",
      "Epoch 5/20\n",
      "393/393 [==============================] - 19s 47ms/step - loss: 0.3912 - precision_7: 0.7280 - val_loss: 0.4177 - val_precision_7: 0.6939\n",
      "Epoch 6/20\n",
      "393/393 [==============================] - 18s 47ms/step - loss: 0.3809 - precision_7: 0.7387 - val_loss: 0.4188 - val_precision_7: 0.6934\n",
      "Epoch 7/20\n",
      "393/393 [==============================] - 19s 47ms/step - loss: 0.3730 - precision_7: 0.7483 - val_loss: 0.4180 - val_precision_7: 0.6932\n",
      "Epoch 8/20\n",
      "393/393 [==============================] - 19s 47ms/step - loss: 0.3643 - precision_7: 0.7591 - val_loss: 0.4200 - val_precision_7: 0.6953\n",
      "Epoch 9/20\n",
      "393/393 [==============================] - 19s 47ms/step - loss: 0.3564 - precision_7: 0.7645 - val_loss: 0.4200 - val_precision_7: 0.7104\n",
      "Epoch 10/20\n",
      "393/393 [==============================] - 19s 49ms/step - loss: 0.3486 - precision_7: 0.7738 - val_loss: 0.4336 - val_precision_7: 0.6804\n",
      "Epoch 11/20\n",
      "393/393 [==============================] - 20s 50ms/step - loss: 0.3442 - precision_7: 0.7780 - val_loss: 0.4284 - val_precision_7: 0.7013\n",
      "Epoch 12/20\n",
      "393/393 [==============================] - 22s 55ms/step - loss: 0.3361 - precision_7: 0.7864 - val_loss: 0.4311 - val_precision_7: 0.7119\n",
      "Epoch 13/20\n",
      "393/393 [==============================] - 21s 53ms/step - loss: 0.3319 - precision_7: 0.7904 - val_loss: 0.4370 - val_precision_7: 0.7027\n",
      "Epoch 14/20\n",
      "393/393 [==============================] - 22s 56ms/step - loss: 0.3238 - precision_7: 0.7994 - val_loss: 0.4402 - val_precision_7: 0.7255\n",
      "Epoch 15/20\n",
      "393/393 [==============================] - 22s 57ms/step - loss: 0.3205 - precision_7: 0.8033 - val_loss: 0.4523 - val_precision_7: 0.6841\n",
      "Epoch 16/20\n",
      "393/393 [==============================] - 23s 58ms/step - loss: 0.3107 - precision_7: 0.8101 - val_loss: 0.4580 - val_precision_7: 0.6892\n",
      "Epoch 17/20\n",
      "393/393 [==============================] - 24s 60ms/step - loss: 0.3088 - precision_7: 0.8126 - val_loss: 0.4571 - val_precision_7: 0.7128\n",
      "Epoch 18/20\n",
      "393/393 [==============================] - 24s 61ms/step - loss: 0.3029 - precision_7: 0.8178 - val_loss: 0.4738 - val_precision_7: 0.6953\n",
      "Epoch 19/20\n",
      "393/393 [==============================] - 21s 54ms/step - loss: 0.3821 - precision_7: 0.7909 - val_loss: 0.4746 - val_precision_7: 0.7086\n",
      "Epoch 20/20\n",
      "393/393 [==============================] - 18s 46ms/step - loss: 0.3304 - precision_7: 0.8109 - val_loss: 0.4683 - val_precision_7: 0.7329\n"
     ]
    }
   ],
   "source": [
    "history = model.fit(x_train_features, train_y, batch_size=512, epochs=20, validation_data=(x_test_features, test_y))"
   ]
  },
  {
   "cell_type": "code",
   "execution_count": 50,
   "metadata": {},
   "outputs": [
    {
     "data": {
      "image/png": "[encoded data removed]",
      "text/plain": [
       "<Figure size 640x480 with 1 Axes>"
      ]
     },
     "metadata": {},
     "output_type": "display_data"
    }
   ],
   "source": [
    "plt.plot(history.history['precision_7'])\n",
    "plt.plot(history.history['val_precision_7'])\n",
    "plt.title('model precision')\n",
    "plt.ylabel('precision')\n",
    "plt.xlabel('epoch')\n",
    "plt.legend(['train', 'test'], loc='upper left')\n",
    "plt.grid()\n",
    "plt.show()"
   ]
  },
  {
   "cell_type": "code",
   "execution_count": 51,
   "metadata": {},
   "outputs": [
    {
     "name": "stdout",
     "output_type": "stream",
     "text": [
      "1570/1570 [==============================] - 21s 13ms/step\n"
     ]
    }
   ],
   "source": [
    "y_predict  = [1 if o>0.5 else 0 for o in model.predict(x_test_features)]"
   ]
  },
  {
   "cell_type": "code",
   "execution_count": 52,
   "metadata": {},
   "outputs": [],
   "source": [
    "cf_matrix =confusion_matrix(test_y,y_predict)"
   ]
  },
  {
   "cell_type": "code",
   "execution_count": 53,
   "metadata": {},
   "outputs": [
    {
     "data": {
      "image/png": "[encoded data removed]",
      "text/plain": [
       "<Figure size 640x480 with 2 Axes>"
      ]
     },
     "metadata": {},
     "output_type": "display_data"
    }
   ],
   "source": [
    "ax= plt.subplot()\n",
    "sns.heatmap(cf_matrix, annot=True, ax = ax,cmap='Blues',fmt=''); #annot=True to annotate cells\n",
    "\n",
    "# labels, title and ticks\n",
    "ax.set_xlabel('Predicted labels');\n",
    "ax.set_ylabel('True labels'); \n",
    "ax.set_title('Confusion Matrix'); \n",
    "ax.xaxis.set_ticklabels(['Action', 'No Action']); ax.yaxis.set_ticklabels(['Action', 'No Action']);"
   ]
  },
  {
   "cell_type": "code",
   "execution_count": 54,
   "metadata": {},
   "outputs": [
    {
     "name": "stdout",
     "output_type": "stream",
     "text": [
      "Precision: 73.29%\n",
      "Recall: 55.97%\n",
      "F1 Score: 63.47%\n"
     ]
    }
   ],
   "source": [
    "print(\"Precision: {:.2f}%\".format(100 * precision_score(test_y, y_predict)))\n",
    "print(\"Recall: {:.2f}%\".format(100 * recall_score(test_y, y_predict)))\n",
    "print(\"F1 Score: {:.2f}%\".format(100 * f1_score(test_y,y_predict)))"
   ]
  },
  {
   "cell_type": "code",
   "execution_count": null,
   "metadata": {},
   "outputs": [],
   "source": []
  }
 ],
 "metadata": {
  "kernelspec": {
   "display_name": "Python 3.10.6 64-bit",
   "language": "python",
   "name": "python3"
  },
  "language_info": {
   "codemirror_mode": {
    "name": "ipython",
    "version": 3
   },
   "file_extension": ".py",
   "mimetype": "text/x-python",
   "name": "python",
   "nbconvert_exporter": "python",
   "pygments_lexer": "ipython3",
   "version": "3.10.6"
  },
  "orig_nbformat": 4,
  "vscode": {
   "interpreter": {
    "hash": "aee8b7b246df8f9039afb4144a1f6fd8d2ca17a180786b69acc140d282b71a49"
   }
  }
 },
 "nbformat": 4,
 "nbformat_minor": 2
}
